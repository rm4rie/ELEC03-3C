{
 "cells": [
  {
   "cell_type": "markdown",
   "id": "bc2333dd-eeab-4e76-87f9-18ff6bef0f08",
   "metadata": {},
   "source": [
    "<h2> Activity1- Palmer Pengeuins Data Analytics Project </h2>"
   ]
  },
  {
   "cell_type": "markdown",
   "id": "494e8073-4943-4e1a-a8c5-7a931e331fc9",
   "metadata": {},
   "source": [
    "<h2>Rodelyn Marie P. Bacares</h2>"
   ]
  },
  {
   "cell_type": "code",
   "execution_count": 24,
   "id": "d8fac2eb-efef-4b3a-a767-760a432dc286",
   "metadata": {},
   "outputs": [],
   "source": [
    "import numpy as np\n",
    "import pandas as pd\n",
    "import warnings\n",
    "warnings.filterwarnings('ignore')"
   ]
  },
  {
   "cell_type": "code",
   "execution_count": 25,
   "id": "e414a718-b0e2-4495-be68-126ed071ad03",
   "metadata": {},
   "outputs": [],
   "source": [
    "penguins = pd.read_csv('data sets\\\\penguins.csv')"
   ]
  },
  {
   "cell_type": "code",
   "execution_count": 26,
   "id": "2a794008-13c0-4ab1-a3a5-b608f9561424",
   "metadata": {},
   "outputs": [
    {
     "data": {
      "text/html": [
       "<div>\n",
       "<style scoped>\n",
       "    .dataframe tbody tr th:only-of-type {\n",
       "        vertical-align: middle;\n",
       "    }\n",
       "\n",
       "    .dataframe tbody tr th {\n",
       "        vertical-align: top;\n",
       "    }\n",
       "\n",
       "    .dataframe thead th {\n",
       "        text-align: right;\n",
       "    }\n",
       "</style>\n",
       "<table border=\"1\" class=\"dataframe\">\n",
       "  <thead>\n",
       "    <tr style=\"text-align: right;\">\n",
       "      <th></th>\n",
       "      <th>species</th>\n",
       "      <th>island</th>\n",
       "      <th>bill_length_mm</th>\n",
       "      <th>bill_depth_mm</th>\n",
       "      <th>flipper_length_mm</th>\n",
       "      <th>body_mass_g</th>\n",
       "      <th>sex</th>\n",
       "      <th>year</th>\n",
       "    </tr>\n",
       "  </thead>\n",
       "  <tbody>\n",
       "    <tr>\n",
       "      <th>0</th>\n",
       "      <td>Adelie</td>\n",
       "      <td>Torgersen</td>\n",
       "      <td>39.1</td>\n",
       "      <td>18.7</td>\n",
       "      <td>181.0</td>\n",
       "      <td>3750.0</td>\n",
       "      <td>male</td>\n",
       "      <td>2007</td>\n",
       "    </tr>\n",
       "    <tr>\n",
       "      <th>1</th>\n",
       "      <td>Adelie</td>\n",
       "      <td>Torgersen</td>\n",
       "      <td>39.5</td>\n",
       "      <td>17.4</td>\n",
       "      <td>186.0</td>\n",
       "      <td>3800.0</td>\n",
       "      <td>female</td>\n",
       "      <td>2007</td>\n",
       "    </tr>\n",
       "    <tr>\n",
       "      <th>2</th>\n",
       "      <td>Adelie</td>\n",
       "      <td>Torgersen</td>\n",
       "      <td>40.3</td>\n",
       "      <td>18.0</td>\n",
       "      <td>195.0</td>\n",
       "      <td>3250.0</td>\n",
       "      <td>female</td>\n",
       "      <td>2007</td>\n",
       "    </tr>\n",
       "    <tr>\n",
       "      <th>3</th>\n",
       "      <td>Adelie</td>\n",
       "      <td>Torgersen</td>\n",
       "      <td>NaN</td>\n",
       "      <td>NaN</td>\n",
       "      <td>NaN</td>\n",
       "      <td>NaN</td>\n",
       "      <td>NaN</td>\n",
       "      <td>2007</td>\n",
       "    </tr>\n",
       "    <tr>\n",
       "      <th>4</th>\n",
       "      <td>Adelie</td>\n",
       "      <td>Torgersen</td>\n",
       "      <td>36.7</td>\n",
       "      <td>19.3</td>\n",
       "      <td>193.0</td>\n",
       "      <td>3450.0</td>\n",
       "      <td>female</td>\n",
       "      <td>2007</td>\n",
       "    </tr>\n",
       "    <tr>\n",
       "      <th>...</th>\n",
       "      <td>...</td>\n",
       "      <td>...</td>\n",
       "      <td>...</td>\n",
       "      <td>...</td>\n",
       "      <td>...</td>\n",
       "      <td>...</td>\n",
       "      <td>...</td>\n",
       "      <td>...</td>\n",
       "    </tr>\n",
       "    <tr>\n",
       "      <th>339</th>\n",
       "      <td>Chinstrap</td>\n",
       "      <td>Dream</td>\n",
       "      <td>55.8</td>\n",
       "      <td>19.8</td>\n",
       "      <td>207.0</td>\n",
       "      <td>4000.0</td>\n",
       "      <td>male</td>\n",
       "      <td>2009</td>\n",
       "    </tr>\n",
       "    <tr>\n",
       "      <th>340</th>\n",
       "      <td>Chinstrap</td>\n",
       "      <td>Dream</td>\n",
       "      <td>43.5</td>\n",
       "      <td>18.1</td>\n",
       "      <td>202.0</td>\n",
       "      <td>3400.0</td>\n",
       "      <td>female</td>\n",
       "      <td>2009</td>\n",
       "    </tr>\n",
       "    <tr>\n",
       "      <th>341</th>\n",
       "      <td>Chinstrap</td>\n",
       "      <td>Dream</td>\n",
       "      <td>49.6</td>\n",
       "      <td>18.2</td>\n",
       "      <td>193.0</td>\n",
       "      <td>3775.0</td>\n",
       "      <td>male</td>\n",
       "      <td>2009</td>\n",
       "    </tr>\n",
       "    <tr>\n",
       "      <th>342</th>\n",
       "      <td>Chinstrap</td>\n",
       "      <td>Dream</td>\n",
       "      <td>50.8</td>\n",
       "      <td>19.0</td>\n",
       "      <td>210.0</td>\n",
       "      <td>4100.0</td>\n",
       "      <td>male</td>\n",
       "      <td>2009</td>\n",
       "    </tr>\n",
       "    <tr>\n",
       "      <th>343</th>\n",
       "      <td>Chinstrap</td>\n",
       "      <td>Dream</td>\n",
       "      <td>50.2</td>\n",
       "      <td>18.7</td>\n",
       "      <td>198.0</td>\n",
       "      <td>3775.0</td>\n",
       "      <td>female</td>\n",
       "      <td>2009</td>\n",
       "    </tr>\n",
       "  </tbody>\n",
       "</table>\n",
       "<p>344 rows × 8 columns</p>\n",
       "</div>"
      ],
      "text/plain": [
       "       species     island  bill_length_mm  bill_depth_mm  flipper_length_mm  \\\n",
       "0       Adelie  Torgersen            39.1           18.7              181.0   \n",
       "1       Adelie  Torgersen            39.5           17.4              186.0   \n",
       "2       Adelie  Torgersen            40.3           18.0              195.0   \n",
       "3       Adelie  Torgersen             NaN            NaN                NaN   \n",
       "4       Adelie  Torgersen            36.7           19.3              193.0   \n",
       "..         ...        ...             ...            ...                ...   \n",
       "339  Chinstrap      Dream            55.8           19.8              207.0   \n",
       "340  Chinstrap      Dream            43.5           18.1              202.0   \n",
       "341  Chinstrap      Dream            49.6           18.2              193.0   \n",
       "342  Chinstrap      Dream            50.8           19.0              210.0   \n",
       "343  Chinstrap      Dream            50.2           18.7              198.0   \n",
       "\n",
       "     body_mass_g     sex  year  \n",
       "0         3750.0    male  2007  \n",
       "1         3800.0  female  2007  \n",
       "2         3250.0  female  2007  \n",
       "3            NaN     NaN  2007  \n",
       "4         3450.0  female  2007  \n",
       "..           ...     ...   ...  \n",
       "339       4000.0    male  2009  \n",
       "340       3400.0  female  2009  \n",
       "341       3775.0    male  2009  \n",
       "342       4100.0    male  2009  \n",
       "343       3775.0  female  2009  \n",
       "\n",
       "[344 rows x 8 columns]"
      ]
     },
     "execution_count": 26,
     "metadata": {},
     "output_type": "execute_result"
    }
   ],
   "source": [
    "penguins"
   ]
  },
  {
   "cell_type": "markdown",
   "id": "d2ad2f11-f6cf-4560-844c-173dcf84389b",
   "metadata": {},
   "source": [
    "<h1> Exploratory Data Analytics </h1> "
   ]
  },
  {
   "cell_type": "markdown",
   "id": "39db3b6f-21f7-4197-aaef-2e83727712c6",
   "metadata": {},
   "source": [
    "<h2> 1. How large is the difference in the population of female penguins compared to male penguins across all species? </h2>"
   ]
  },
  {
   "cell_type": "code",
   "execution_count": 27,
   "id": "57862b9b-94e3-42ec-98db-a35b80105692",
   "metadata": {},
   "outputs": [
    {
     "data": {
      "text/plain": [
       "np.int64(-3)"
      ]
     },
     "execution_count": 27,
     "metadata": {},
     "output_type": "execute_result"
    }
   ],
   "source": [
    "(penguins['sex'].value_counts()['female'] - penguins['sex'].value_counts()['male'])"
   ]
  },
  {
   "cell_type": "markdown",
   "id": "c13502f4-47d6-41e4-8533-4e629df9c8e8",
   "metadata": {},
   "source": [
    "<h3> Insight no.1</h3>\n",
    "<h> Insight: The dataset shows a small difference of only three more males than females. This indicates that the gender distribution of penguins in the dataset is nearly balanced.</h>"
   ]
  },
  {
   "cell_type": "markdown",
   "id": "d2f102e2-bb9b-4907-8579-fc5409325bde",
   "metadata": {},
   "source": [
    "<h2> 2. Which island is the most populated among all the species?</h2>"
   ]
  },
  {
   "cell_type": "code",
   "execution_count": 29,
   "id": "3755fa6b-b24a-42f7-b7d8-7c31d3e00cd4",
   "metadata": {},
   "outputs": [
    {
     "data": {
      "text/plain": [
       "'Biscoe'"
      ]
     },
     "execution_count": 29,
     "metadata": {},
     "output_type": "execute_result"
    }
   ],
   "source": [
    "penguins['island'].value_counts().idxmax()"
   ]
  },
  {
   "cell_type": "markdown",
   "id": "02a41507-0f44-4bc8-b192-a64c2718fb41",
   "metadata": {},
   "source": [
    "<h3> Insight no.2 </h3>\n",
    "<h> Insight: Biscoe Island has the largest penguin population. This suggests that the island may have more favorable living conditions or richer food resources compared to Dream and Torgersen.</h> "
   ]
  },
  {
   "cell_type": "markdown",
   "id": "d2bc6ebe-fcca-4654-bef0-5aff6368ce5f",
   "metadata": {},
   "source": [
    "<h2> 3. Which year has the heaviest penguin across all the species? </h2> "
   ]
  },
  {
   "cell_type": "code",
   "execution_count": 30,
   "id": "f695ab84-d2b7-4858-b1ca-8566db289856",
   "metadata": {},
   "outputs": [
    {
     "data": {
      "text/plain": [
       "np.int64(2007)"
      ]
     },
     "execution_count": 30,
     "metadata": {},
     "output_type": "execute_result"
    }
   ],
   "source": [
    "penguins.loc[penguins['body_mass_g'].idxmax(), 'year']"
   ]
  },
  {
   "cell_type": "markdown",
   "id": "95bed654-ff3b-48a9-b876-62324f65961c",
   "metadata": {},
   "source": [
    "<h3> Insight no.3 </h3>\n",
    "<h>Insight: The heaviest penguin was recorded in 2007. This might suggest environmental or biological factors during that year that contributed to larger body mass.</h>"
   ]
  },
  {
   "cell_type": "markdown",
   "id": "e1161fed-70a6-4768-8cdf-d3898ce46c1b",
   "metadata": {},
   "source": [
    "<h2>4. Among all species, which penguin has the smallest flipper length? </h2>"
   ]
  },
  {
   "cell_type": "markdown",
   "id": "12b8d549-0cd0-48e5-9157-2b640e618db9",
   "metadata": {},
   "source": [
    "penguins.loc[penguins['flipper_length_mm'].idxmin(), 'species']"
   ]
  },
  {
   "cell_type": "markdown",
   "id": "7b040fc2-26bc-467e-89a2-4e92c4d5d4a2",
   "metadata": {},
   "source": [
    "<h3> Insight no.4 </h3>\n",
    "<h> Insight: Adelie penguins have the smallest flippers on average. This aligns with their smaller body size compared to Gentoo and Chinstrap species. </h>"
   ]
  },
  {
   "cell_type": "markdown",
   "id": "33068aee-e1b2-4783-925d-4b7471a87529",
   "metadata": {},
   "source": [
    "<h2> 5. In what year has the longest bill length and longest depth length in all species?</h2>"
   ]
  },
  {
   "cell_type": "code",
   "execution_count": 24,
   "id": "9617f328-7d71-4a0d-a5ed-a4968a6e3704",
   "metadata": {},
   "outputs": [
    {
     "data": {
      "text/html": [
       "<div>\n",
       "<style scoped>\n",
       "    .dataframe tbody tr th:only-of-type {\n",
       "        vertical-align: middle;\n",
       "    }\n",
       "\n",
       "    .dataframe tbody tr th {\n",
       "        vertical-align: top;\n",
       "    }\n",
       "\n",
       "    .dataframe thead th {\n",
       "        text-align: right;\n",
       "    }\n",
       "</style>\n",
       "<table border=\"1\" class=\"dataframe\">\n",
       "  <thead>\n",
       "    <tr style=\"text-align: right;\">\n",
       "      <th></th>\n",
       "      <th>year</th>\n",
       "      <th>species</th>\n",
       "      <th>bill_length_mm</th>\n",
       "      <th>bill_depth_mm</th>\n",
       "    </tr>\n",
       "  </thead>\n",
       "  <tbody>\n",
       "    <tr>\n",
       "      <th>185</th>\n",
       "      <td>2007</td>\n",
       "      <td>Gentoo</td>\n",
       "      <td>59.6</td>\n",
       "      <td>17.0</td>\n",
       "    </tr>\n",
       "    <tr>\n",
       "      <th>19</th>\n",
       "      <td>2007</td>\n",
       "      <td>Adelie</td>\n",
       "      <td>46.0</td>\n",
       "      <td>21.5</td>\n",
       "    </tr>\n",
       "  </tbody>\n",
       "</table>\n",
       "</div>"
      ],
      "text/plain": [
       "     year species  bill_length_mm  bill_depth_mm\n",
       "185  2007  Gentoo            59.6           17.0\n",
       "19   2007  Adelie            46.0           21.5"
      ]
     },
     "execution_count": 24,
     "metadata": {},
     "output_type": "execute_result"
    }
   ],
   "source": [
    "penguins.loc[[penguins['bill_length_mm'].idxmax(), penguins['bill_depth_mm'].idxmax()], ['year','species','bill_length_mm','bill_depth_mm']]"
   ]
  },
  {
   "cell_type": "markdown",
   "id": "0bd7e538-0a66-4238-9206-5f01cd7f8153",
   "metadata": {},
   "source": [
    "<h3> Insight no. 5 </h3>\n",
    "<h> Insight: Both the longest bill length and depth were recorded in 2007. This shows that extreme values for different species occurred in the same year, possibly due to unique environmental conditions. </h>"
   ]
  },
  {
   "cell_type": "markdown",
   "id": "3b421720-50ae-4a92-b03e-140ac6303e22",
   "metadata": {},
   "source": [
    "<h2>6. Which species has the highest average bill length?</h2> "
   ]
  },
  {
   "cell_type": "code",
   "execution_count": 26,
   "id": "0ba27722-ba29-4d76-a3f0-4d67708ec463",
   "metadata": {},
   "outputs": [
    {
     "data": {
      "text/plain": [
       "species\n",
       "Chinstrap    48.833824\n",
       "Name: bill_length_mm, dtype: float64"
      ]
     },
     "execution_count": 26,
     "metadata": {},
     "output_type": "execute_result"
    }
   ],
   "source": [
    "penguins.groupby('species')['bill_length_mm'].mean().sort_values(ascending=False).head(1)"
   ]
  },
  {
   "cell_type": "markdown",
   "id": "57dbf1cf-6523-4176-bce0-503c93a4045e",
   "metadata": {},
   "source": [
    "<h3> Insight no.6 </h3>\n",
    "<h> Insight: Chinstrap penguins have the longest average bills. Longer bills may give them an advantage when feeding on certain prey types. </h>"
   ]
  },
  {
   "cell_type": "markdown",
   "id": "467a0b21-3a76-46f4-8213-1f1ab97fb51f",
   "metadata": {},
   "source": [
    "<h2>7. What is the average flipper length of penguins on each island?</h2>"
   ]
  },
  {
   "cell_type": "code",
   "execution_count": 28,
   "id": "8bd598bf-ab6b-420d-a43e-fcee9f506aec",
   "metadata": {},
   "outputs": [
    {
     "data": {
      "text/plain": [
       "island\n",
       "Biscoe       209.706587\n",
       "Dream        193.072581\n",
       "Torgersen    191.196078\n",
       "Name: flipper_length_mm, dtype: float64"
      ]
     },
     "execution_count": 28,
     "metadata": {},
     "output_type": "execute_result"
    }
   ],
   "source": [
    "penguins.groupby('island')['flipper_length_mm'].mean()"
   ]
  },
  {
   "cell_type": "markdown",
   "id": "fcef4d3f-dd81-4319-a1b7-1fa5d01989cd",
   "metadata": {},
   "source": [
    "<h3> Insight no.7 </h3>\n",
    "<h>Insight: Penguins from Biscoe Island have longer flippers on average compared to those from Dream and Torgersen. Longer flippers may provide better swimming efficiency, suggesting possible environmental adaptation.</h>"
   ]
  },
  {
   "cell_type": "markdown",
   "id": "a705392e-a727-486a-b9ab-884f6675f2a5",
   "metadata": {},
   "source": [
    "<h2>8. Which species has the highest average bill length?</h2>"
   ]
  },
  {
   "cell_type": "code",
   "execution_count": 31,
   "id": "82e791a5-0ccd-4ab2-adb6-68fb54bbda66",
   "metadata": {},
   "outputs": [
    {
     "data": {
      "text/plain": [
       "species\n",
       "Chinstrap    48.833824\n",
       "Name: bill_length_mm, dtype: float64"
      ]
     },
     "execution_count": 31,
     "metadata": {},
     "output_type": "execute_result"
    }
   ],
   "source": [
    "penguins.groupby('species')['bill_length_mm'].mean().sort_values(ascending=False).head(1)"
   ]
  },
  {
   "cell_type": "markdown",
   "id": "0b6ad795-d89e-4a46-bf4e-65af9f0fd92a",
   "metadata": {},
   "source": [
    "<h3> Insight no.8</h3>\n",
    "<h> Insight: Consistent with earlier findings, Chinstrap penguins have the highest average bill length, confirming their distinct feeding adaptation compared to Adelie and Gentoo species."
   ]
  },
  {
   "cell_type": "markdown",
   "id": "fcfccd41-a495-426d-bf4c-7ae9966c991b",
   "metadata": {},
   "source": [
    "<h2>9. Which island has the largest average body mass?</h3>"
   ]
  },
  {
   "cell_type": "code",
   "execution_count": 33,
   "id": "7e152a7b-e22e-41aa-8a47-cc974bbea582",
   "metadata": {},
   "outputs": [
    {
     "data": {
      "text/plain": [
       "island\n",
       "Biscoe    4716.017964\n",
       "Name: body_mass_g, dtype: float64"
      ]
     },
     "execution_count": 33,
     "metadata": {},
     "output_type": "execute_result"
    }
   ],
   "source": [
    "penguins.groupby('island')['body_mass_g'].mean().sort_values(ascending=False).head(1)"
   ]
  },
  {
   "cell_type": "markdown",
   "id": "c4754042-3830-4281-bf32-d52199553291",
   "metadata": {},
   "source": [
    "<h3> Insight no.9 </h3>\n",
    "<h>Insight: Penguins from Biscoe Island are the heaviest on average. This could be due to richer food availability or environmental conditions that support larger body sizes. </h>"
   ]
  },
  {
   "cell_type": "markdown",
   "id": "fdd405c6-7487-4eb3-a0ec-af20205db634",
   "metadata": {},
   "source": [
    "<h2>10.  Which specie has the longest average flipper length?</h2>"
   ]
  },
  {
   "cell_type": "code",
   "execution_count": 36,
   "id": "fa2cca6e-0c51-4959-9c6d-a0c1372eab6d",
   "metadata": {},
   "outputs": [
    {
     "data": {
      "text/plain": [
       "species\n",
       "Gentoo    217.186992\n",
       "Name: flipper_length_mm, dtype: float64"
      ]
     },
     "execution_count": 36,
     "metadata": {},
     "output_type": "execute_result"
    }
   ],
   "source": [
    "penguins.groupby('species')['flipper_length_mm'].mean().sort_values(ascending=False).head(1)"
   ]
  },
  {
   "cell_type": "markdown",
   "id": "6c039ff6-2bce-4257-8b64-3526c01bc7d0",
   "metadata": {},
   "source": [
    "<h3> Insight no.10 </h3>\n",
    "<h> Insight: Gentoo penguins have the longest flippers. This is consistent with their reputation as the fastest swimmers among penguins. </h>"
   ]
  },
  {
   "cell_type": "markdown",
   "id": "a1d66e6e-9236-40ee-8a95-29f604566943",
   "metadata": {},
   "source": [
    "<h2> 11. Is bill depth correlated with flipper length? </h2>"
   ]
  },
  {
   "cell_type": "code",
   "execution_count": 39,
   "id": "4ad266cc-6358-4a72-b0ea-95a11a643959",
   "metadata": {},
   "outputs": [
    {
     "data": {
      "text/plain": [
       "np.float64(-0.5838512164654122)"
      ]
     },
     "execution_count": 39,
     "metadata": {},
     "output_type": "execute_result"
    }
   ],
   "source": [
    "penguins['bill_depth_mm'].corr(penguins['flipper_length_mm'])"
   ]
  },
  {
   "cell_type": "markdown",
   "id": "14c02074-1e34-480b-abdc-126f898d609e",
   "metadata": {},
   "source": [
    "<h3> Insight no. 11 </h3>\n",
    "<h4> Answer: Bill depth and flipper length have a weak or no significant correlation. </h4>\n",
    "<h>Insight: This means that the size of the beak does not strongly relate to the flipper size, which suggests these traits may evolve independently </h>"
   ]
  },
  {
   "cell_type": "markdown",
   "id": "64ac141e-f027-47f3-aa17-86e5bbefd5af",
   "metadata": {},
   "source": [
    "<h2> 12. How does sex influence the correlation between flipper length and body mass? </h2>"
   ]
  },
  {
   "cell_type": "code",
   "execution_count": 40,
   "id": "2758bf0b-06a0-439c-9885-4bcfb233141e",
   "metadata": {},
   "outputs": [
    {
     "data": {
      "text/plain": [
       "sex\n",
       "female    0.884825\n",
       "male      0.865499\n",
       "Name: (flipper_length_mm, body_mass_g), dtype: float64"
      ]
     },
     "execution_count": 40,
     "metadata": {},
     "output_type": "execute_result"
    }
   ],
   "source": [
    "penguins.groupby('sex')[['flipper_length_mm','body_mass_g']].corr().unstack().iloc[:,1]"
   ]
  },
  {
   "cell_type": "markdown",
   "id": "0db0d15e-60f9-4e53-a8cf-7280609a125e",
   "metadata": {},
   "source": [
    "<h3> Insight no.12 </h3>\n",
    "<h4> Answer: Both male and female penguins show a positive correlation between flipper length and body mass, but males generally have slightly stronger correlation. </h4>\n",
    "<h> Insight: Since male penguins are larger, their size and flipper length are more strongly linked.</h>"
   ]
  },
  {
   "cell_type": "code",
   "execution_count": null,
   "id": "13f5d876-a239-4318-8a31-5435cfac7480",
   "metadata": {},
   "outputs": [],
   "source": []
  }
 ],
 "metadata": {
  "kernelspec": {
   "display_name": "Python 3 (ipykernel)",
   "language": "python",
   "name": "python3"
  },
  "language_info": {
   "codemirror_mode": {
    "name": "ipython",
    "version": 3
   },
   "file_extension": ".py",
   "mimetype": "text/x-python",
   "name": "python",
   "nbconvert_exporter": "python",
   "pygments_lexer": "ipython3",
   "version": "3.12.3"
  }
 },
 "nbformat": 4,
 "nbformat_minor": 5
}
