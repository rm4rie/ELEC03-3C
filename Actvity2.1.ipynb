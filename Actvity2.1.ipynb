{
 "cells": [
  {
   "cell_type": "markdown",
   "id": "3b59e38b-627c-439c-a32d-3d4628da7c81",
   "metadata": {},
   "source": [
    "<h1>Activity 2: UK Road Accident</h1>\n",
    "<h>Analyst: Rodelyn Bacares</h>"
   ]
  },
  {
   "cell_type": "code",
   "execution_count": 3,
   "id": "812f0ae7-617c-4ff9-a742-56deb97faf58",
   "metadata": {},
   "outputs": [],
   "source": [
    "import numpy as np\n",
    "import pandas as pd\n",
    "import warnings\n",
    "warnings.filterwarnings('ignore')"
   ]
  },
  {
   "cell_type": "code",
   "execution_count": 13,
   "id": "3c5365af-6ae9-40ec-b84e-51a61cb9f2bd",
   "metadata": {},
   "outputs": [],
   "source": [
    "accident = pd.read_csv('uk_accident_data.csv')"
   ]
  },
  {
   "cell_type": "code",
   "execution_count": 12,
   "id": "b460125c-ebc5-4f06-90ad-37463645acbe",
   "metadata": {},
   "outputs": [
    {
     "data": {
      "text/html": [
       "<div>\n",
       "<style scoped>\n",
       "    .dataframe tbody tr th:only-of-type {\n",
       "        vertical-align: middle;\n",
       "    }\n",
       "\n",
       "    .dataframe tbody tr th {\n",
       "        vertical-align: top;\n",
       "    }\n",
       "\n",
       "    .dataframe thead th {\n",
       "        text-align: right;\n",
       "    }\n",
       "</style>\n",
       "<table border=\"1\" class=\"dataframe\">\n",
       "  <thead>\n",
       "    <tr style=\"text-align: right;\">\n",
       "      <th></th>\n",
       "      <th>Index</th>\n",
       "      <th>Accident_Severity</th>\n",
       "      <th>Accident Date</th>\n",
       "      <th>Latitude</th>\n",
       "      <th>Light_Conditions</th>\n",
       "      <th>District Area</th>\n",
       "      <th>Longitude</th>\n",
       "      <th>Number_of_Casualties</th>\n",
       "      <th>Number_of_Vehicles</th>\n",
       "      <th>Road_Surface_Conditions</th>\n",
       "      <th>Road_Type</th>\n",
       "      <th>Urban_or_Rural_Area</th>\n",
       "      <th>Weather_Conditions</th>\n",
       "      <th>Vehicle_Type</th>\n",
       "    </tr>\n",
       "  </thead>\n",
       "  <tbody>\n",
       "    <tr>\n",
       "      <th>0</th>\n",
       "      <td>200701BS64157</td>\n",
       "      <td>Serious</td>\n",
       "      <td>05/06/2019</td>\n",
       "      <td>51.506187</td>\n",
       "      <td>Darkness - lights lit</td>\n",
       "      <td>Kensington and Chelsea</td>\n",
       "      <td>-0.209082</td>\n",
       "      <td>1</td>\n",
       "      <td>2</td>\n",
       "      <td>Dry</td>\n",
       "      <td>Single carriageway</td>\n",
       "      <td>Urban</td>\n",
       "      <td>Fine no high winds</td>\n",
       "      <td>Car</td>\n",
       "    </tr>\n",
       "    <tr>\n",
       "      <th>1</th>\n",
       "      <td>200701BS65737</td>\n",
       "      <td>Serious</td>\n",
       "      <td>02/07/2019</td>\n",
       "      <td>51.495029</td>\n",
       "      <td>Daylight</td>\n",
       "      <td>Kensington and Chelsea</td>\n",
       "      <td>-0.173647</td>\n",
       "      <td>1</td>\n",
       "      <td>2</td>\n",
       "      <td>Wet or damp</td>\n",
       "      <td>Single carriageway</td>\n",
       "      <td>Urban</td>\n",
       "      <td>Raining no high winds</td>\n",
       "      <td>Car</td>\n",
       "    </tr>\n",
       "    <tr>\n",
       "      <th>2</th>\n",
       "      <td>200701BS66127</td>\n",
       "      <td>Serious</td>\n",
       "      <td>26/08/2019</td>\n",
       "      <td>51.517715</td>\n",
       "      <td>Darkness - lighting unknown</td>\n",
       "      <td>Kensington and Chelsea</td>\n",
       "      <td>-0.210215</td>\n",
       "      <td>1</td>\n",
       "      <td>3</td>\n",
       "      <td>Dry</td>\n",
       "      <td>NaN</td>\n",
       "      <td>Urban</td>\n",
       "      <td>NaN</td>\n",
       "      <td>Taxi/Private hire car</td>\n",
       "    </tr>\n",
       "    <tr>\n",
       "      <th>3</th>\n",
       "      <td>200701BS66128</td>\n",
       "      <td>Serious</td>\n",
       "      <td>16/08/2019</td>\n",
       "      <td>51.495478</td>\n",
       "      <td>Daylight</td>\n",
       "      <td>Kensington and Chelsea</td>\n",
       "      <td>-0.202731</td>\n",
       "      <td>1</td>\n",
       "      <td>4</td>\n",
       "      <td>Dry</td>\n",
       "      <td>Single carriageway</td>\n",
       "      <td>Urban</td>\n",
       "      <td>Fine no high winds</td>\n",
       "      <td>Bus or coach (17 or more pass seats)</td>\n",
       "    </tr>\n",
       "    <tr>\n",
       "      <th>4</th>\n",
       "      <td>200701BS66837</td>\n",
       "      <td>Slight</td>\n",
       "      <td>03/09/2019</td>\n",
       "      <td>51.488576</td>\n",
       "      <td>Darkness - lights lit</td>\n",
       "      <td>Kensington and Chelsea</td>\n",
       "      <td>-0.192487</td>\n",
       "      <td>1</td>\n",
       "      <td>2</td>\n",
       "      <td>Dry</td>\n",
       "      <td>NaN</td>\n",
       "      <td>Urban</td>\n",
       "      <td>NaN</td>\n",
       "      <td>Other vehicle</td>\n",
       "    </tr>\n",
       "    <tr>\n",
       "      <th>...</th>\n",
       "      <td>...</td>\n",
       "      <td>...</td>\n",
       "      <td>...</td>\n",
       "      <td>...</td>\n",
       "      <td>...</td>\n",
       "      <td>...</td>\n",
       "      <td>...</td>\n",
       "      <td>...</td>\n",
       "      <td>...</td>\n",
       "      <td>...</td>\n",
       "      <td>...</td>\n",
       "      <td>...</td>\n",
       "      <td>...</td>\n",
       "      <td>...</td>\n",
       "    </tr>\n",
       "    <tr>\n",
       "      <th>660674</th>\n",
       "      <td>201091NM01760</td>\n",
       "      <td>Slight</td>\n",
       "      <td>18/02/2022</td>\n",
       "      <td>57.374005</td>\n",
       "      <td>Daylight</td>\n",
       "      <td>Highland</td>\n",
       "      <td>-3.467828</td>\n",
       "      <td>2</td>\n",
       "      <td>1</td>\n",
       "      <td>Dry</td>\n",
       "      <td>Single carriageway</td>\n",
       "      <td>Rural</td>\n",
       "      <td>Fine no high winds</td>\n",
       "      <td>Car</td>\n",
       "    </tr>\n",
       "    <tr>\n",
       "      <th>660675</th>\n",
       "      <td>201091NM01881</td>\n",
       "      <td>Slight</td>\n",
       "      <td>21/02/2022</td>\n",
       "      <td>57.232273</td>\n",
       "      <td>Darkness - no lighting</td>\n",
       "      <td>Highland</td>\n",
       "      <td>-3.809281</td>\n",
       "      <td>1</td>\n",
       "      <td>1</td>\n",
       "      <td>Frost or ice</td>\n",
       "      <td>Single carriageway</td>\n",
       "      <td>Rural</td>\n",
       "      <td>Fine no high winds</td>\n",
       "      <td>Car</td>\n",
       "    </tr>\n",
       "    <tr>\n",
       "      <th>660676</th>\n",
       "      <td>201091NM01935</td>\n",
       "      <td>Slight</td>\n",
       "      <td>23/02/2022</td>\n",
       "      <td>57.585044</td>\n",
       "      <td>Daylight</td>\n",
       "      <td>Highland</td>\n",
       "      <td>-3.862727</td>\n",
       "      <td>1</td>\n",
       "      <td>3</td>\n",
       "      <td>Frost or ice</td>\n",
       "      <td>Single carriageway</td>\n",
       "      <td>Rural</td>\n",
       "      <td>Fine no high winds</td>\n",
       "      <td>Car</td>\n",
       "    </tr>\n",
       "    <tr>\n",
       "      <th>660677</th>\n",
       "      <td>201091NM01964</td>\n",
       "      <td>Serious</td>\n",
       "      <td>23/02/2022</td>\n",
       "      <td>57.214898</td>\n",
       "      <td>Darkness - no lighting</td>\n",
       "      <td>Highland</td>\n",
       "      <td>-3.823997</td>\n",
       "      <td>1</td>\n",
       "      <td>2</td>\n",
       "      <td>Wet or damp</td>\n",
       "      <td>Single carriageway</td>\n",
       "      <td>Rural</td>\n",
       "      <td>Fine no high winds</td>\n",
       "      <td>Motorcycle over 500cc</td>\n",
       "    </tr>\n",
       "    <tr>\n",
       "      <th>660678</th>\n",
       "      <td>201091NM02142</td>\n",
       "      <td>Serious</td>\n",
       "      <td>28/02/2022</td>\n",
       "      <td>57.575210</td>\n",
       "      <td>Daylight</td>\n",
       "      <td>Highland</td>\n",
       "      <td>-3.895673</td>\n",
       "      <td>1</td>\n",
       "      <td>1</td>\n",
       "      <td>Wet or damp</td>\n",
       "      <td>Dual carriageway</td>\n",
       "      <td>Rural</td>\n",
       "      <td>Snowing no high winds</td>\n",
       "      <td>Car</td>\n",
       "    </tr>\n",
       "  </tbody>\n",
       "</table>\n",
       "<p>660679 rows × 14 columns</p>\n",
       "</div>"
      ],
      "text/plain": [
       "                Index Accident_Severity Accident Date   Latitude  \\\n",
       "0       200701BS64157           Serious    05/06/2019  51.506187   \n",
       "1       200701BS65737           Serious    02/07/2019  51.495029   \n",
       "2       200701BS66127           Serious    26/08/2019  51.517715   \n",
       "3       200701BS66128           Serious    16/08/2019  51.495478   \n",
       "4       200701BS66837            Slight    03/09/2019  51.488576   \n",
       "...               ...               ...           ...        ...   \n",
       "660674  201091NM01760            Slight    18/02/2022  57.374005   \n",
       "660675  201091NM01881            Slight    21/02/2022  57.232273   \n",
       "660676  201091NM01935            Slight    23/02/2022  57.585044   \n",
       "660677  201091NM01964           Serious    23/02/2022  57.214898   \n",
       "660678  201091NM02142           Serious    28/02/2022  57.575210   \n",
       "\n",
       "                   Light_Conditions           District Area  Longitude  \\\n",
       "0             Darkness - lights lit  Kensington and Chelsea  -0.209082   \n",
       "1                          Daylight  Kensington and Chelsea  -0.173647   \n",
       "2       Darkness - lighting unknown  Kensington and Chelsea  -0.210215   \n",
       "3                          Daylight  Kensington and Chelsea  -0.202731   \n",
       "4             Darkness - lights lit  Kensington and Chelsea  -0.192487   \n",
       "...                             ...                     ...        ...   \n",
       "660674                     Daylight                Highland  -3.467828   \n",
       "660675       Darkness - no lighting                Highland  -3.809281   \n",
       "660676                     Daylight                Highland  -3.862727   \n",
       "660677       Darkness - no lighting                Highland  -3.823997   \n",
       "660678                     Daylight                Highland  -3.895673   \n",
       "\n",
       "        Number_of_Casualties  Number_of_Vehicles Road_Surface_Conditions  \\\n",
       "0                          1                   2                     Dry   \n",
       "1                          1                   2             Wet or damp   \n",
       "2                          1                   3                     Dry   \n",
       "3                          1                   4                     Dry   \n",
       "4                          1                   2                     Dry   \n",
       "...                      ...                 ...                     ...   \n",
       "660674                     2                   1                     Dry   \n",
       "660675                     1                   1            Frost or ice   \n",
       "660676                     1                   3            Frost or ice   \n",
       "660677                     1                   2             Wet or damp   \n",
       "660678                     1                   1             Wet or damp   \n",
       "\n",
       "                 Road_Type Urban_or_Rural_Area     Weather_Conditions  \\\n",
       "0       Single carriageway               Urban     Fine no high winds   \n",
       "1       Single carriageway               Urban  Raining no high winds   \n",
       "2                      NaN               Urban                    NaN   \n",
       "3       Single carriageway               Urban     Fine no high winds   \n",
       "4                      NaN               Urban                    NaN   \n",
       "...                    ...                 ...                    ...   \n",
       "660674  Single carriageway               Rural     Fine no high winds   \n",
       "660675  Single carriageway               Rural     Fine no high winds   \n",
       "660676  Single carriageway               Rural     Fine no high winds   \n",
       "660677  Single carriageway               Rural     Fine no high winds   \n",
       "660678    Dual carriageway               Rural  Snowing no high winds   \n",
       "\n",
       "                                Vehicle_Type  \n",
       "0                                        Car  \n",
       "1                                        Car  \n",
       "2                      Taxi/Private hire car  \n",
       "3       Bus or coach (17 or more pass seats)  \n",
       "4                              Other vehicle  \n",
       "...                                      ...  \n",
       "660674                                   Car  \n",
       "660675                                   Car  \n",
       "660676                                   Car  \n",
       "660677                 Motorcycle over 500cc  \n",
       "660678                                   Car  \n",
       "\n",
       "[660679 rows x 14 columns]"
      ]
     },
     "execution_count": 12,
     "metadata": {},
     "output_type": "execute_result"
    }
   ],
   "source": [
    "accident"
   ]
  },
  {
   "cell_type": "code",
   "execution_count": 14,
   "id": "5c6bdb90-4c2d-4a8f-8724-d37154017406",
   "metadata": {},
   "outputs": [
    {
     "data": {
      "text/html": [
       "<div>\n",
       "<style scoped>\n",
       "    .dataframe tbody tr th:only-of-type {\n",
       "        vertical-align: middle;\n",
       "    }\n",
       "\n",
       "    .dataframe tbody tr th {\n",
       "        vertical-align: top;\n",
       "    }\n",
       "\n",
       "    .dataframe thead th {\n",
       "        text-align: right;\n",
       "    }\n",
       "</style>\n",
       "<table border=\"1\" class=\"dataframe\">\n",
       "  <thead>\n",
       "    <tr style=\"text-align: right;\">\n",
       "      <th></th>\n",
       "      <th>Latitude</th>\n",
       "      <th>Longitude</th>\n",
       "      <th>Number_of_Casualties</th>\n",
       "      <th>Number_of_Vehicles</th>\n",
       "    </tr>\n",
       "  </thead>\n",
       "  <tbody>\n",
       "    <tr>\n",
       "      <th>count</th>\n",
       "      <td>660654.000000</td>\n",
       "      <td>660653.000000</td>\n",
       "      <td>660679.000000</td>\n",
       "      <td>660679.000000</td>\n",
       "    </tr>\n",
       "    <tr>\n",
       "      <th>mean</th>\n",
       "      <td>52.553866</td>\n",
       "      <td>-1.431210</td>\n",
       "      <td>1.357040</td>\n",
       "      <td>1.831255</td>\n",
       "    </tr>\n",
       "    <tr>\n",
       "      <th>std</th>\n",
       "      <td>1.406922</td>\n",
       "      <td>1.383330</td>\n",
       "      <td>0.824847</td>\n",
       "      <td>0.715269</td>\n",
       "    </tr>\n",
       "    <tr>\n",
       "      <th>min</th>\n",
       "      <td>49.914430</td>\n",
       "      <td>-7.516225</td>\n",
       "      <td>1.000000</td>\n",
       "      <td>1.000000</td>\n",
       "    </tr>\n",
       "    <tr>\n",
       "      <th>25%</th>\n",
       "      <td>51.490690</td>\n",
       "      <td>-2.332291</td>\n",
       "      <td>1.000000</td>\n",
       "      <td>1.000000</td>\n",
       "    </tr>\n",
       "    <tr>\n",
       "      <th>50%</th>\n",
       "      <td>52.315641</td>\n",
       "      <td>-1.411667</td>\n",
       "      <td>1.000000</td>\n",
       "      <td>2.000000</td>\n",
       "    </tr>\n",
       "    <tr>\n",
       "      <th>75%</th>\n",
       "      <td>53.453452</td>\n",
       "      <td>-0.232869</td>\n",
       "      <td>1.000000</td>\n",
       "      <td>2.000000</td>\n",
       "    </tr>\n",
       "    <tr>\n",
       "      <th>max</th>\n",
       "      <td>60.757544</td>\n",
       "      <td>1.762010</td>\n",
       "      <td>68.000000</td>\n",
       "      <td>32.000000</td>\n",
       "    </tr>\n",
       "  </tbody>\n",
       "</table>\n",
       "</div>"
      ],
      "text/plain": [
       "            Latitude      Longitude  Number_of_Casualties  Number_of_Vehicles\n",
       "count  660654.000000  660653.000000         660679.000000       660679.000000\n",
       "mean       52.553866      -1.431210              1.357040            1.831255\n",
       "std         1.406922       1.383330              0.824847            0.715269\n",
       "min        49.914430      -7.516225              1.000000            1.000000\n",
       "25%        51.490690      -2.332291              1.000000            1.000000\n",
       "50%        52.315641      -1.411667              1.000000            2.000000\n",
       "75%        53.453452      -0.232869              1.000000            2.000000\n",
       "max        60.757544       1.762010             68.000000           32.000000"
      ]
     },
     "execution_count": 14,
     "metadata": {},
     "output_type": "execute_result"
    }
   ],
   "source": [
    "accident.describe()"
   ]
  },
  {
   "cell_type": "code",
   "execution_count": 15,
   "id": "37a2e4df-d439-48b5-85de-132fbbf078f3",
   "metadata": {},
   "outputs": [
    {
     "data": {
      "text/html": [
       "<div>\n",
       "<style scoped>\n",
       "    .dataframe tbody tr th:only-of-type {\n",
       "        vertical-align: middle;\n",
       "    }\n",
       "\n",
       "    .dataframe tbody tr th {\n",
       "        vertical-align: top;\n",
       "    }\n",
       "\n",
       "    .dataframe thead th {\n",
       "        text-align: right;\n",
       "    }\n",
       "</style>\n",
       "<table border=\"1\" class=\"dataframe\">\n",
       "  <thead>\n",
       "    <tr style=\"text-align: right;\">\n",
       "      <th></th>\n",
       "      <th>count</th>\n",
       "      <th>mean</th>\n",
       "      <th>std</th>\n",
       "      <th>min</th>\n",
       "      <th>25%</th>\n",
       "      <th>50%</th>\n",
       "      <th>75%</th>\n",
       "      <th>max</th>\n",
       "    </tr>\n",
       "  </thead>\n",
       "  <tbody>\n",
       "    <tr>\n",
       "      <th>Latitude</th>\n",
       "      <td>660654.0</td>\n",
       "      <td>52.553866</td>\n",
       "      <td>1.406922</td>\n",
       "      <td>49.914430</td>\n",
       "      <td>51.490690</td>\n",
       "      <td>52.315641</td>\n",
       "      <td>53.453452</td>\n",
       "      <td>60.757544</td>\n",
       "    </tr>\n",
       "    <tr>\n",
       "      <th>Longitude</th>\n",
       "      <td>660653.0</td>\n",
       "      <td>-1.431210</td>\n",
       "      <td>1.383330</td>\n",
       "      <td>-7.516225</td>\n",
       "      <td>-2.332291</td>\n",
       "      <td>-1.411667</td>\n",
       "      <td>-0.232869</td>\n",
       "      <td>1.762010</td>\n",
       "    </tr>\n",
       "    <tr>\n",
       "      <th>Number_of_Casualties</th>\n",
       "      <td>660679.0</td>\n",
       "      <td>1.357040</td>\n",
       "      <td>0.824847</td>\n",
       "      <td>1.000000</td>\n",
       "      <td>1.000000</td>\n",
       "      <td>1.000000</td>\n",
       "      <td>1.000000</td>\n",
       "      <td>68.000000</td>\n",
       "    </tr>\n",
       "    <tr>\n",
       "      <th>Number_of_Vehicles</th>\n",
       "      <td>660679.0</td>\n",
       "      <td>1.831255</td>\n",
       "      <td>0.715269</td>\n",
       "      <td>1.000000</td>\n",
       "      <td>1.000000</td>\n",
       "      <td>2.000000</td>\n",
       "      <td>2.000000</td>\n",
       "      <td>32.000000</td>\n",
       "    </tr>\n",
       "  </tbody>\n",
       "</table>\n",
       "</div>"
      ],
      "text/plain": [
       "                         count       mean       std        min        25%  \\\n",
       "Latitude              660654.0  52.553866  1.406922  49.914430  51.490690   \n",
       "Longitude             660653.0  -1.431210  1.383330  -7.516225  -2.332291   \n",
       "Number_of_Casualties  660679.0   1.357040  0.824847   1.000000   1.000000   \n",
       "Number_of_Vehicles    660679.0   1.831255  0.715269   1.000000   1.000000   \n",
       "\n",
       "                            50%        75%        max  \n",
       "Latitude              52.315641  53.453452  60.757544  \n",
       "Longitude             -1.411667  -0.232869   1.762010  \n",
       "Number_of_Casualties   1.000000   1.000000  68.000000  \n",
       "Number_of_Vehicles     2.000000   2.000000  32.000000  "
      ]
     },
     "execution_count": 15,
     "metadata": {},
     "output_type": "execute_result"
    }
   ],
   "source": [
    "accident.describe().T"
   ]
  },
  {
   "cell_type": "code",
   "execution_count": 16,
   "id": "8d9be21e-fe25-4e22-80be-7ec5e97a87ab",
   "metadata": {},
   "outputs": [
    {
     "name": "stdout",
     "output_type": "stream",
     "text": [
      "<class 'pandas.core.frame.DataFrame'>\n",
      "RangeIndex: 660679 entries, 0 to 660678\n",
      "Data columns (total 14 columns):\n",
      " #   Column                   Non-Null Count   Dtype  \n",
      "---  ------                   --------------   -----  \n",
      " 0   Index                    660679 non-null  object \n",
      " 1   Accident_Severity        660679 non-null  object \n",
      " 2   Accident Date            660679 non-null  object \n",
      " 3   Latitude                 660654 non-null  float64\n",
      " 4   Light_Conditions         660679 non-null  object \n",
      " 5   District Area            660679 non-null  object \n",
      " 6   Longitude                660653 non-null  float64\n",
      " 7   Number_of_Casualties     660679 non-null  int64  \n",
      " 8   Number_of_Vehicles       660679 non-null  int64  \n",
      " 9   Road_Surface_Conditions  659953 non-null  object \n",
      " 10  Road_Type                656159 non-null  object \n",
      " 11  Urban_or_Rural_Area      660664 non-null  object \n",
      " 12  Weather_Conditions       646551 non-null  object \n",
      " 13  Vehicle_Type             660679 non-null  object \n",
      "dtypes: float64(2), int64(2), object(10)\n",
      "memory usage: 70.6+ MB\n"
     ]
    }
   ],
   "source": [
    "accident.info()"
   ]
  },
  {
   "cell_type": "code",
   "execution_count": 17,
   "id": "3285ab47-3cde-45e9-9f62-7ae64e386da7",
   "metadata": {},
   "outputs": [
    {
     "data": {
      "text/html": [
       "<div>\n",
       "<style scoped>\n",
       "    .dataframe tbody tr th:only-of-type {\n",
       "        vertical-align: middle;\n",
       "    }\n",
       "\n",
       "    .dataframe tbody tr th {\n",
       "        vertical-align: top;\n",
       "    }\n",
       "\n",
       "    .dataframe thead th {\n",
       "        text-align: right;\n",
       "    }\n",
       "</style>\n",
       "<table border=\"1\" class=\"dataframe\">\n",
       "  <thead>\n",
       "    <tr style=\"text-align: right;\">\n",
       "      <th></th>\n",
       "      <th>Index</th>\n",
       "      <th>Accident_Severity</th>\n",
       "      <th>Accident Date</th>\n",
       "      <th>Latitude</th>\n",
       "      <th>Light_Conditions</th>\n",
       "      <th>District Area</th>\n",
       "      <th>Longitude</th>\n",
       "      <th>Number_of_Casualties</th>\n",
       "      <th>Number_of_Vehicles</th>\n",
       "      <th>Road_Surface_Conditions</th>\n",
       "      <th>Road_Type</th>\n",
       "      <th>Urban_or_Rural_Area</th>\n",
       "      <th>Weather_Conditions</th>\n",
       "      <th>Vehicle_Type</th>\n",
       "    </tr>\n",
       "  </thead>\n",
       "  <tbody>\n",
       "    <tr>\n",
       "      <th>0</th>\n",
       "      <td>False</td>\n",
       "      <td>False</td>\n",
       "      <td>False</td>\n",
       "      <td>False</td>\n",
       "      <td>False</td>\n",
       "      <td>False</td>\n",
       "      <td>False</td>\n",
       "      <td>False</td>\n",
       "      <td>False</td>\n",
       "      <td>False</td>\n",
       "      <td>False</td>\n",
       "      <td>False</td>\n",
       "      <td>False</td>\n",
       "      <td>False</td>\n",
       "    </tr>\n",
       "    <tr>\n",
       "      <th>1</th>\n",
       "      <td>False</td>\n",
       "      <td>False</td>\n",
       "      <td>False</td>\n",
       "      <td>False</td>\n",
       "      <td>False</td>\n",
       "      <td>False</td>\n",
       "      <td>False</td>\n",
       "      <td>False</td>\n",
       "      <td>False</td>\n",
       "      <td>False</td>\n",
       "      <td>False</td>\n",
       "      <td>False</td>\n",
       "      <td>False</td>\n",
       "      <td>False</td>\n",
       "    </tr>\n",
       "    <tr>\n",
       "      <th>2</th>\n",
       "      <td>False</td>\n",
       "      <td>False</td>\n",
       "      <td>False</td>\n",
       "      <td>False</td>\n",
       "      <td>False</td>\n",
       "      <td>False</td>\n",
       "      <td>False</td>\n",
       "      <td>False</td>\n",
       "      <td>False</td>\n",
       "      <td>False</td>\n",
       "      <td>True</td>\n",
       "      <td>False</td>\n",
       "      <td>True</td>\n",
       "      <td>False</td>\n",
       "    </tr>\n",
       "    <tr>\n",
       "      <th>3</th>\n",
       "      <td>False</td>\n",
       "      <td>False</td>\n",
       "      <td>False</td>\n",
       "      <td>False</td>\n",
       "      <td>False</td>\n",
       "      <td>False</td>\n",
       "      <td>False</td>\n",
       "      <td>False</td>\n",
       "      <td>False</td>\n",
       "      <td>False</td>\n",
       "      <td>False</td>\n",
       "      <td>False</td>\n",
       "      <td>False</td>\n",
       "      <td>False</td>\n",
       "    </tr>\n",
       "    <tr>\n",
       "      <th>4</th>\n",
       "      <td>False</td>\n",
       "      <td>False</td>\n",
       "      <td>False</td>\n",
       "      <td>False</td>\n",
       "      <td>False</td>\n",
       "      <td>False</td>\n",
       "      <td>False</td>\n",
       "      <td>False</td>\n",
       "      <td>False</td>\n",
       "      <td>False</td>\n",
       "      <td>True</td>\n",
       "      <td>False</td>\n",
       "      <td>True</td>\n",
       "      <td>False</td>\n",
       "    </tr>\n",
       "    <tr>\n",
       "      <th>...</th>\n",
       "      <td>...</td>\n",
       "      <td>...</td>\n",
       "      <td>...</td>\n",
       "      <td>...</td>\n",
       "      <td>...</td>\n",
       "      <td>...</td>\n",
       "      <td>...</td>\n",
       "      <td>...</td>\n",
       "      <td>...</td>\n",
       "      <td>...</td>\n",
       "      <td>...</td>\n",
       "      <td>...</td>\n",
       "      <td>...</td>\n",
       "      <td>...</td>\n",
       "    </tr>\n",
       "    <tr>\n",
       "      <th>660674</th>\n",
       "      <td>False</td>\n",
       "      <td>False</td>\n",
       "      <td>False</td>\n",
       "      <td>False</td>\n",
       "      <td>False</td>\n",
       "      <td>False</td>\n",
       "      <td>False</td>\n",
       "      <td>False</td>\n",
       "      <td>False</td>\n",
       "      <td>False</td>\n",
       "      <td>False</td>\n",
       "      <td>False</td>\n",
       "      <td>False</td>\n",
       "      <td>False</td>\n",
       "    </tr>\n",
       "    <tr>\n",
       "      <th>660675</th>\n",
       "      <td>False</td>\n",
       "      <td>False</td>\n",
       "      <td>False</td>\n",
       "      <td>False</td>\n",
       "      <td>False</td>\n",
       "      <td>False</td>\n",
       "      <td>False</td>\n",
       "      <td>False</td>\n",
       "      <td>False</td>\n",
       "      <td>False</td>\n",
       "      <td>False</td>\n",
       "      <td>False</td>\n",
       "      <td>False</td>\n",
       "      <td>False</td>\n",
       "    </tr>\n",
       "    <tr>\n",
       "      <th>660676</th>\n",
       "      <td>False</td>\n",
       "      <td>False</td>\n",
       "      <td>False</td>\n",
       "      <td>False</td>\n",
       "      <td>False</td>\n",
       "      <td>False</td>\n",
       "      <td>False</td>\n",
       "      <td>False</td>\n",
       "      <td>False</td>\n",
       "      <td>False</td>\n",
       "      <td>False</td>\n",
       "      <td>False</td>\n",
       "      <td>False</td>\n",
       "      <td>False</td>\n",
       "    </tr>\n",
       "    <tr>\n",
       "      <th>660677</th>\n",
       "      <td>False</td>\n",
       "      <td>False</td>\n",
       "      <td>False</td>\n",
       "      <td>False</td>\n",
       "      <td>False</td>\n",
       "      <td>False</td>\n",
       "      <td>False</td>\n",
       "      <td>False</td>\n",
       "      <td>False</td>\n",
       "      <td>False</td>\n",
       "      <td>False</td>\n",
       "      <td>False</td>\n",
       "      <td>False</td>\n",
       "      <td>False</td>\n",
       "    </tr>\n",
       "    <tr>\n",
       "      <th>660678</th>\n",
       "      <td>False</td>\n",
       "      <td>False</td>\n",
       "      <td>False</td>\n",
       "      <td>False</td>\n",
       "      <td>False</td>\n",
       "      <td>False</td>\n",
       "      <td>False</td>\n",
       "      <td>False</td>\n",
       "      <td>False</td>\n",
       "      <td>False</td>\n",
       "      <td>False</td>\n",
       "      <td>False</td>\n",
       "      <td>False</td>\n",
       "      <td>False</td>\n",
       "    </tr>\n",
       "  </tbody>\n",
       "</table>\n",
       "<p>660679 rows × 14 columns</p>\n",
       "</div>"
      ],
      "text/plain": [
       "        Index  Accident_Severity  Accident Date  Latitude  Light_Conditions  \\\n",
       "0       False              False          False     False             False   \n",
       "1       False              False          False     False             False   \n",
       "2       False              False          False     False             False   \n",
       "3       False              False          False     False             False   \n",
       "4       False              False          False     False             False   \n",
       "...       ...                ...            ...       ...               ...   \n",
       "660674  False              False          False     False             False   \n",
       "660675  False              False          False     False             False   \n",
       "660676  False              False          False     False             False   \n",
       "660677  False              False          False     False             False   \n",
       "660678  False              False          False     False             False   \n",
       "\n",
       "        District Area  Longitude  Number_of_Casualties  Number_of_Vehicles  \\\n",
       "0               False      False                 False               False   \n",
       "1               False      False                 False               False   \n",
       "2               False      False                 False               False   \n",
       "3               False      False                 False               False   \n",
       "4               False      False                 False               False   \n",
       "...               ...        ...                   ...                 ...   \n",
       "660674          False      False                 False               False   \n",
       "660675          False      False                 False               False   \n",
       "660676          False      False                 False               False   \n",
       "660677          False      False                 False               False   \n",
       "660678          False      False                 False               False   \n",
       "\n",
       "        Road_Surface_Conditions  Road_Type  Urban_or_Rural_Area  \\\n",
       "0                         False      False                False   \n",
       "1                         False      False                False   \n",
       "2                         False       True                False   \n",
       "3                         False      False                False   \n",
       "4                         False       True                False   \n",
       "...                         ...        ...                  ...   \n",
       "660674                    False      False                False   \n",
       "660675                    False      False                False   \n",
       "660676                    False      False                False   \n",
       "660677                    False      False                False   \n",
       "660678                    False      False                False   \n",
       "\n",
       "        Weather_Conditions  Vehicle_Type  \n",
       "0                    False         False  \n",
       "1                    False         False  \n",
       "2                     True         False  \n",
       "3                    False         False  \n",
       "4                     True         False  \n",
       "...                    ...           ...  \n",
       "660674               False         False  \n",
       "660675               False         False  \n",
       "660676               False         False  \n",
       "660677               False         False  \n",
       "660678               False         False  \n",
       "\n",
       "[660679 rows x 14 columns]"
      ]
     },
     "execution_count": 17,
     "metadata": {},
     "output_type": "execute_result"
    }
   ],
   "source": [
    "accident.isnull()"
   ]
  },
  {
   "cell_type": "code",
   "execution_count": 18,
   "id": "72d8a123-4731-42f8-9dc9-db01e38437cc",
   "metadata": {},
   "outputs": [
    {
     "data": {
      "text/plain": [
       "Index                          0\n",
       "Accident_Severity              0\n",
       "Accident Date                  0\n",
       "Latitude                      25\n",
       "Light_Conditions               0\n",
       "District Area                  0\n",
       "Longitude                     26\n",
       "Number_of_Casualties           0\n",
       "Number_of_Vehicles             0\n",
       "Road_Surface_Conditions      726\n",
       "Road_Type                   4520\n",
       "Urban_or_Rural_Area           15\n",
       "Weather_Conditions         14128\n",
       "Vehicle_Type                   0\n",
       "dtype: int64"
      ]
     },
     "execution_count": 18,
     "metadata": {},
     "output_type": "execute_result"
    }
   ],
   "source": [
    "accident.isnull().sum()"
   ]
  },
  {
   "cell_type": "code",
   "execution_count": 19,
   "id": "f5d90341-3cf7-4dc9-8678-f6e5bcb30732",
   "metadata": {},
   "outputs": [
    {
     "data": {
      "text/plain": [
       "Index          Accident_Severity  Accident Date  Latitude   Light_Conditions        District Area       Longitude  Number_of_Casualties  Number_of_Vehicles  Road_Surface_Conditions  Road_Type           Urban_or_Rural_Area  Weather_Conditions     Vehicle_Type                       \n",
       "2.01E+12       Slight             12/02/2021     51.067126  Darkness - no lighting  Sedgemoor           -3.023829  1                     1                   Dry                      Dual carriageway    Rural                Fine no high winds     Car                                    2\n",
       "                                  22/11/2020     52.624184  Darkness - no lighting  Broadland            1.372570  1                     2                   Snow                     Dual carriageway    Rural                Snowing no high winds  Car                                    2\n",
       "                                  31/10/2020     55.003273  Darkness - no lighting  North Tyneside      -1.490457  1                     2                   Wet or damp              Dual carriageway    Rural                Snowing + high winds   Car                                    2\n",
       "                                  21/12/2021     52.917577  Daylight                East Staffordshire  -1.899281  1                     2                   Wet or damp              Single carriageway  Rural                Fine no high winds     Car                                    2\n",
       "                                  05/04/2020     55.988302  Daylight                East Lothian        -2.527800  1                     1                   Snow                     Dual carriageway    Rural                Other                  Car                                    2\n",
       "                                                                                                                                                                                                                                                                                            ..\n",
       "201091NM00102  Slight             03/01/2022     57.003355  Daylight                Highland            -4.169644  1                     2                   Snow                     Dual carriageway    Rural                Other                  Car                                    1\n",
       "201091NM00140  Slight             05/01/2022     57.248688  Daylight                Highland            -3.798648  1                     2                   Snow                     Single carriageway  Rural                Snowing no high winds  Car                                    1\n",
       "201091NM00296  Slight             08/01/2022     57.293658  Daylight                Highland            -3.630574  1                     2                   Frost or ice             Single carriageway  Rural                Fine no high winds     Van / Goods 3.5 tonnes mgw or under    1\n",
       "201091NM00442  Slight             13/01/2022     57.194499  Daylight                Highland            -3.836563  1                     1                   Frost or ice             Single carriageway  Rural                Fine no high winds     Car                                    1\n",
       "2.01E+100      Slight             05/01/2019     50.965754  Daylight                North Dorset        -2.156472  1                     2                   Wet or damp              Single carriageway  Rural                Fog or mist            Taxi/Private hire car                  1\n",
       "Name: count, Length: 642778, dtype: int64"
      ]
     },
     "execution_count": 19,
     "metadata": {},
     "output_type": "execute_result"
    }
   ],
   "source": [
    "accident.value_counts()"
   ]
  },
  {
   "cell_type": "code",
   "execution_count": 20,
   "id": "3769257d-0392-401a-886f-e3235f411b98",
   "metadata": {},
   "outputs": [],
   "source": [
    "import pandas as pd"
   ]
  },
  {
   "cell_type": "code",
   "execution_count": 21,
   "id": "efa9e221-04c6-49e5-a80a-732515320883",
   "metadata": {},
   "outputs": [],
   "source": [
    "df = pd.read_csv(\"uk_accident_data.csv\")"
   ]
  },
  {
   "cell_type": "code",
   "execution_count": 22,
   "id": "3d8b39ef-5ae5-4ee8-8285-d818aa05f248",
   "metadata": {},
   "outputs": [
    {
     "data": {
      "text/plain": [
       "Index(['Index', 'Accident_Severity', 'Accident Date', 'Latitude',\n",
       "       'Light_Conditions', 'District Area', 'Longitude',\n",
       "       'Number_of_Casualties', 'Number_of_Vehicles', 'Road_Surface_Conditions',\n",
       "       'Road_Type', 'Urban_or_Rural_Area', 'Weather_Conditions',\n",
       "       'Vehicle_Type'],\n",
       "      dtype='object')"
      ]
     },
     "execution_count": 22,
     "metadata": {},
     "output_type": "execute_result"
    }
   ],
   "source": [
    "df.columns"
   ]
  },
  {
   "cell_type": "code",
   "execution_count": 23,
   "id": "cc6bd806-3e5e-48cf-8326-996b27a40f95",
   "metadata": {},
   "outputs": [
    {
     "data": {
      "text/html": [
       "<div>\n",
       "<style scoped>\n",
       "    .dataframe tbody tr th:only-of-type {\n",
       "        vertical-align: middle;\n",
       "    }\n",
       "\n",
       "    .dataframe tbody tr th {\n",
       "        vertical-align: top;\n",
       "    }\n",
       "\n",
       "    .dataframe thead th {\n",
       "        text-align: right;\n",
       "    }\n",
       "</style>\n",
       "<table border=\"1\" class=\"dataframe\">\n",
       "  <thead>\n",
       "    <tr style=\"text-align: right;\">\n",
       "      <th></th>\n",
       "      <th>Index</th>\n",
       "      <th>Accident_Severity</th>\n",
       "      <th>Accident Date</th>\n",
       "      <th>Latitude</th>\n",
       "      <th>Light_Conditions</th>\n",
       "      <th>District Area</th>\n",
       "      <th>Longitude</th>\n",
       "      <th>Number_of_Casualties</th>\n",
       "      <th>Number_of_Vehicles</th>\n",
       "      <th>Road_Surface_Conditions</th>\n",
       "      <th>Road_Type</th>\n",
       "      <th>Urban_or_Rural_Area</th>\n",
       "      <th>Weather_Conditions</th>\n",
       "      <th>Vehicle_Type</th>\n",
       "    </tr>\n",
       "  </thead>\n",
       "  <tbody>\n",
       "    <tr>\n",
       "      <th>0</th>\n",
       "      <td>200701BS64157</td>\n",
       "      <td>Serious</td>\n",
       "      <td>05/06/2019</td>\n",
       "      <td>51.506187</td>\n",
       "      <td>Darkness - lights lit</td>\n",
       "      <td>Kensington and Chelsea</td>\n",
       "      <td>-0.209082</td>\n",
       "      <td>1</td>\n",
       "      <td>2</td>\n",
       "      <td>Dry</td>\n",
       "      <td>Single carriageway</td>\n",
       "      <td>Urban</td>\n",
       "      <td>Fine no high winds</td>\n",
       "      <td>Car</td>\n",
       "    </tr>\n",
       "    <tr>\n",
       "      <th>1</th>\n",
       "      <td>200701BS65737</td>\n",
       "      <td>Serious</td>\n",
       "      <td>02/07/2019</td>\n",
       "      <td>51.495029</td>\n",
       "      <td>Daylight</td>\n",
       "      <td>Kensington and Chelsea</td>\n",
       "      <td>-0.173647</td>\n",
       "      <td>1</td>\n",
       "      <td>2</td>\n",
       "      <td>Wet or damp</td>\n",
       "      <td>Single carriageway</td>\n",
       "      <td>Urban</td>\n",
       "      <td>Raining no high winds</td>\n",
       "      <td>Car</td>\n",
       "    </tr>\n",
       "    <tr>\n",
       "      <th>2</th>\n",
       "      <td>200701BS66127</td>\n",
       "      <td>Serious</td>\n",
       "      <td>26/08/2019</td>\n",
       "      <td>51.517715</td>\n",
       "      <td>Darkness - lighting unknown</td>\n",
       "      <td>Kensington and Chelsea</td>\n",
       "      <td>-0.210215</td>\n",
       "      <td>1</td>\n",
       "      <td>3</td>\n",
       "      <td>Dry</td>\n",
       "      <td>NaN</td>\n",
       "      <td>Urban</td>\n",
       "      <td>NaN</td>\n",
       "      <td>Taxi/Private hire car</td>\n",
       "    </tr>\n",
       "    <tr>\n",
       "      <th>3</th>\n",
       "      <td>200701BS66128</td>\n",
       "      <td>Serious</td>\n",
       "      <td>16/08/2019</td>\n",
       "      <td>51.495478</td>\n",
       "      <td>Daylight</td>\n",
       "      <td>Kensington and Chelsea</td>\n",
       "      <td>-0.202731</td>\n",
       "      <td>1</td>\n",
       "      <td>4</td>\n",
       "      <td>Dry</td>\n",
       "      <td>Single carriageway</td>\n",
       "      <td>Urban</td>\n",
       "      <td>Fine no high winds</td>\n",
       "      <td>Bus or coach (17 or more pass seats)</td>\n",
       "    </tr>\n",
       "    <tr>\n",
       "      <th>4</th>\n",
       "      <td>200701BS66837</td>\n",
       "      <td>Slight</td>\n",
       "      <td>03/09/2019</td>\n",
       "      <td>51.488576</td>\n",
       "      <td>Darkness - lights lit</td>\n",
       "      <td>Kensington and Chelsea</td>\n",
       "      <td>-0.192487</td>\n",
       "      <td>1</td>\n",
       "      <td>2</td>\n",
       "      <td>Dry</td>\n",
       "      <td>NaN</td>\n",
       "      <td>Urban</td>\n",
       "      <td>NaN</td>\n",
       "      <td>Other vehicle</td>\n",
       "    </tr>\n",
       "  </tbody>\n",
       "</table>\n",
       "</div>"
      ],
      "text/plain": [
       "           Index Accident_Severity Accident Date   Latitude  \\\n",
       "0  200701BS64157           Serious    05/06/2019  51.506187   \n",
       "1  200701BS65737           Serious    02/07/2019  51.495029   \n",
       "2  200701BS66127           Serious    26/08/2019  51.517715   \n",
       "3  200701BS66128           Serious    16/08/2019  51.495478   \n",
       "4  200701BS66837            Slight    03/09/2019  51.488576   \n",
       "\n",
       "              Light_Conditions           District Area  Longitude  \\\n",
       "0        Darkness - lights lit  Kensington and Chelsea  -0.209082   \n",
       "1                     Daylight  Kensington and Chelsea  -0.173647   \n",
       "2  Darkness - lighting unknown  Kensington and Chelsea  -0.210215   \n",
       "3                     Daylight  Kensington and Chelsea  -0.202731   \n",
       "4        Darkness - lights lit  Kensington and Chelsea  -0.192487   \n",
       "\n",
       "   Number_of_Casualties  Number_of_Vehicles Road_Surface_Conditions  \\\n",
       "0                     1                   2                     Dry   \n",
       "1                     1                   2             Wet or damp   \n",
       "2                     1                   3                     Dry   \n",
       "3                     1                   4                     Dry   \n",
       "4                     1                   2                     Dry   \n",
       "\n",
       "            Road_Type Urban_or_Rural_Area     Weather_Conditions  \\\n",
       "0  Single carriageway               Urban     Fine no high winds   \n",
       "1  Single carriageway               Urban  Raining no high winds   \n",
       "2                 NaN               Urban                    NaN   \n",
       "3  Single carriageway               Urban     Fine no high winds   \n",
       "4                 NaN               Urban                    NaN   \n",
       "\n",
       "                           Vehicle_Type  \n",
       "0                                   Car  \n",
       "1                                   Car  \n",
       "2                 Taxi/Private hire car  \n",
       "3  Bus or coach (17 or more pass seats)  \n",
       "4                         Other vehicle  "
      ]
     },
     "execution_count": 23,
     "metadata": {},
     "output_type": "execute_result"
    }
   ],
   "source": [
    "df.head()"
   ]
  },
  {
   "cell_type": "code",
   "execution_count": 24,
   "id": "07ff7058-6526-499f-838c-3745d51c2f22",
   "metadata": {},
   "outputs": [
    {
     "data": {
      "text/plain": [
       "Index                       object\n",
       "Accident_Severity           object\n",
       "Accident Date               object\n",
       "Latitude                   float64\n",
       "Light_Conditions            object\n",
       "District Area               object\n",
       "Longitude                  float64\n",
       "Number_of_Casualties         int64\n",
       "Number_of_Vehicles           int64\n",
       "Road_Surface_Conditions     object\n",
       "Road_Type                   object\n",
       "Urban_or_Rural_Area         object\n",
       "Weather_Conditions          object\n",
       "Vehicle_Type                object\n",
       "dtype: object"
      ]
     },
     "execution_count": 24,
     "metadata": {},
     "output_type": "execute_result"
    }
   ],
   "source": [
    "accident.dtypes"
   ]
  },
  {
   "cell_type": "code",
   "execution_count": 25,
   "id": "db660cc2-5001-43d5-9991-e61cc07520ad",
   "metadata": {},
   "outputs": [],
   "source": [
    "accident['Accident Date'] = pd.to_datetime(accident['Accident Date'], errors='coerce')"
   ]
  },
  {
   "cell_type": "markdown",
   "id": "0aad40a6-42d0-4459-9015-a844fb7fa74f",
   "metadata": {},
   "source": [
    "<H1> Extracting date information using pandas date time </H1>"
   ]
  },
  {
   "cell_type": "code",
   "execution_count": 26,
   "id": "19f8d56b-2bd6-4e68-9de1-db263f9a46da",
   "metadata": {},
   "outputs": [],
   "source": [
    "accident['Year'] = accident['Accident Date'].dt.year\n",
    "accident['Month'] = accident['Accident Date'].dt.month\n",
    "accident['Day'] = accident['Accident Date'].dt.day\n",
    "accident['DayOfWeek'] = accident['Accident Date'].dt.dayofweek # Monday = 0, Sunday = 6"
   ]
  },
  {
   "cell_type": "code",
   "execution_count": 27,
   "id": "8c861002-ccbf-4c31-bae3-9c3d5f4e025e",
   "metadata": {},
   "outputs": [],
   "source": [
    "df_2019 = accident[accident['Year'] == 2019]"
   ]
  },
  {
   "cell_type": "code",
   "execution_count": 28,
   "id": "57328e80-8277-46c6-98e0-3723ede7dbf5",
   "metadata": {},
   "outputs": [
    {
     "name": "stdout",
     "output_type": "stream",
     "text": [
      "total number of accident in 2019 is 71867\n"
     ]
    },
    {
     "data": {
      "text/plain": [
       "Light_Conditions\n",
       "Daylight                       52518\n",
       "Darkness - lights lit          14124\n",
       "Darkness - no lighting          4242\n",
       "Darkness - lighting unknown      719\n",
       "Darkness - lights unlit          264\n",
       "Name: count, dtype: int64"
      ]
     },
     "execution_count": 28,
     "metadata": {},
     "output_type": "execute_result"
    }
   ],
   "source": [
    "print(f\"total number of accident in 2019 is {df_2019['Light_Conditions'].value_counts().sum()}\")\n",
    "df_2019['Light_Conditions'].value_counts()"
   ]
  },
  {
   "cell_type": "code",
   "execution_count": 29,
   "id": "8df18a0e-b63e-4113-88e5-760372a7f564",
   "metadata": {},
   "outputs": [
    {
     "data": {
      "text/plain": [
       "Index(['Index', 'Accident_Severity', 'Accident Date', 'Latitude',\n",
       "       'Light_Conditions', 'District Area', 'Longitude',\n",
       "       'Number_of_Casualties', 'Number_of_Vehicles', 'Road_Surface_Conditions',\n",
       "       'Road_Type', 'Urban_or_Rural_Area', 'Weather_Conditions',\n",
       "       'Vehicle_Type', 'Year', 'Month', 'Day', 'DayOfWeek'],\n",
       "      dtype='object')"
      ]
     },
     "execution_count": 29,
     "metadata": {},
     "output_type": "execute_result"
    }
   ],
   "source": [
    "accident.columns"
   ]
  },
  {
   "cell_type": "code",
   "execution_count": 30,
   "id": "ff37d0be-31d0-4141-a8c4-9a17c35fc16f",
   "metadata": {},
   "outputs": [],
   "source": [
    "# Convert Accident Date column into datetime\n",
    "df['Accident Date'] = pd.to_datetime(df['Accident Date'], dayfirst=True, errors='coerce')\n",
    "\n",
    "# Extract Year, Month, Day, DayOfWeek\n",
    "df['Year'] = df['Accident Date'].dt.year\n",
    "df['Month'] = df['Accident Date'].dt.month\n",
    "df['Day'] = df['Accident Date'].dt.day\n",
    "df['DayOfWeek'] = df['Accident Date'].dt.day_name()"
   ]
  },
  {
   "cell_type": "code",
   "execution_count": 31,
   "id": "ddb42bdf-61d1-4cb3-8d2b-662733e25eeb",
   "metadata": {},
   "outputs": [],
   "source": [
    "import calendar\n",
    "df['Month_Name'] = df['Month'].apply(lambda x: calendar.month_abbr[int(x)])"
   ]
  },
  {
   "cell_type": "markdown",
   "id": "31dc9ad6-4b35-42b8-b608-755deae2b85c",
   "metadata": {},
   "source": [
    "<h1>Insights</h1>"
   ]
  },
  {
   "cell_type": "markdown",
   "id": "bc5b8d43-55cb-437f-9f45-33634f4404c1",
   "metadata": {},
   "source": [
    "<h4>1. Which accident severity appears most often?</h4>"
   ]
  },
  {
   "cell_type": "code",
   "execution_count": 32,
   "id": "11776689-2a9b-4e00-a03d-76345e314562",
   "metadata": {},
   "outputs": [
    {
     "data": {
      "text/plain": [
       "Accident_Severity\n",
       "Slight     563801\n",
       "Serious     88217\n",
       "Fatal        8661\n",
       "Name: count, dtype: int64"
      ]
     },
     "execution_count": 32,
     "metadata": {},
     "output_type": "execute_result"
    }
   ],
   "source": [
    "df['Accident_Severity'].value_counts()"
   ]
  },
  {
   "cell_type": "markdown",
   "id": "845d8ddb-682e-467b-b1d5-626c69774bde",
   "metadata": {},
   "source": [
    "<h> Insight 1: Slight accidents are the most common. </h>"
   ]
  },
  {
   "cell_type": "markdown",
   "id": "0efbba39-ca48-4b2d-b060-563c839b9610",
   "metadata": {},
   "source": [
    "<h4>2. Which light condition (daylight vs darkness) has more accidents?</h4>"
   ]
  },
  {
   "cell_type": "code",
   "execution_count": 33,
   "id": "3bde9ba7-d881-4abf-83b2-b2ee4523f9e3",
   "metadata": {},
   "outputs": [
    {
     "data": {
      "text/plain": [
       "Light_Conditions\n",
       "Daylight                       484880\n",
       "Darkness - lights lit          129335\n",
       "Darkness - no lighting          37437\n",
       "Darkness - lighting unknown      6484\n",
       "Darkness - lights unlit          2543\n",
       "Name: count, dtype: int64"
      ]
     },
     "execution_count": 33,
     "metadata": {},
     "output_type": "execute_result"
    }
   ],
   "source": [
    "df['Light_Conditions'].value_counts()"
   ]
  },
  {
   "cell_type": "markdown",
   "id": "73e4ed9b-b845-4ee4-bd38-3a92be14b179",
   "metadata": {},
   "source": [
    "<h>Insight 2: Most accidents happen in daylight</h>"
   ]
  },
  {
   "cell_type": "markdown",
   "id": "81cc55d3-cb04-4608-b407-27d96b27f8a5",
   "metadata": {},
   "source": [
    "<h4>3. Which road surface condition is linked with the highest number of accidents?</h4>"
   ]
  },
  {
   "cell_type": "code",
   "execution_count": 34,
   "id": "5ab9a953-2554-4dc4-b339-0b0d60d38cfb",
   "metadata": {},
   "outputs": [
    {
     "data": {
      "text/plain": [
       "Road_Surface_Conditions\n",
       "Dry                     447821\n",
       "Wet or damp             186708\n",
       "Frost or ice             18517\n",
       "Snow                      5890\n",
       "Flood over 3cm. deep      1017\n",
       "Name: count, dtype: int64"
      ]
     },
     "execution_count": 34,
     "metadata": {},
     "output_type": "execute_result"
    }
   ],
   "source": [
    "df['Road_Surface_Conditions'].value_counts()"
   ]
  },
  {
   "cell_type": "markdown",
   "id": "4ce77bc7-4e74-44b5-972c-abbaba12c3d6",
   "metadata": {},
   "source": [
    "<h>Insight 3: Dry roads have the most accidents compared to wet or icy surfaces."
   ]
  },
  {
   "cell_type": "markdown",
   "id": "9e8ba450-5e14-4a02-9567-f4230a312f33",
   "metadata": {},
   "source": [
    "<h4>4. Do urban or rural areas have more casualties per accident?</h4>"
   ]
  },
  {
   "cell_type": "code",
   "execution_count": 35,
   "id": "22395bd2-3ebe-4432-87bd-5b557245b60b",
   "metadata": {},
   "outputs": [
    {
     "data": {
      "text/plain": [
       "Urban_or_Rural_Area\n",
       "Rural          1.479204\n",
       "Unallocated    1.181818\n",
       "Urban          1.287815\n",
       "Name: Number_of_Casualties, dtype: float64"
      ]
     },
     "execution_count": 35,
     "metadata": {},
     "output_type": "execute_result"
    }
   ],
   "source": [
    "df.groupby('Urban_or_Rural_Area')['Number_of_Casualties'].mean()"
   ]
  },
  {
   "cell_type": "markdown",
   "id": "50195095-a728-4f64-8575-2f570581f8a0",
   "metadata": {},
   "source": [
    "<h> Insight: Rural accidents often result in more casualties per crash.</h>"
   ]
  },
  {
   "cell_type": "markdown",
   "id": "393f1458-169f-45fb-895f-7f7a7dafe921",
   "metadata": {},
   "source": [
    "<h4>5. Is there a correlation between number of vehicles and number of casualties?</h4>"
   ]
  },
  {
   "cell_type": "code",
   "execution_count": 36,
   "id": "18dbb5a8-4cf4-42f6-90d7-a8ee9bdc86bc",
   "metadata": {},
   "outputs": [
    {
     "data": {
      "text/html": [
       "<div>\n",
       "<style scoped>\n",
       "    .dataframe tbody tr th:only-of-type {\n",
       "        vertical-align: middle;\n",
       "    }\n",
       "\n",
       "    .dataframe tbody tr th {\n",
       "        vertical-align: top;\n",
       "    }\n",
       "\n",
       "    .dataframe thead th {\n",
       "        text-align: right;\n",
       "    }\n",
       "</style>\n",
       "<table border=\"1\" class=\"dataframe\">\n",
       "  <thead>\n",
       "    <tr style=\"text-align: right;\">\n",
       "      <th></th>\n",
       "      <th>Number_of_Vehicles</th>\n",
       "      <th>Number_of_Casualties</th>\n",
       "    </tr>\n",
       "  </thead>\n",
       "  <tbody>\n",
       "    <tr>\n",
       "      <th>Number_of_Vehicles</th>\n",
       "      <td>1.000000</td>\n",
       "      <td>0.228889</td>\n",
       "    </tr>\n",
       "    <tr>\n",
       "      <th>Number_of_Casualties</th>\n",
       "      <td>0.228889</td>\n",
       "      <td>1.000000</td>\n",
       "    </tr>\n",
       "  </tbody>\n",
       "</table>\n",
       "</div>"
      ],
      "text/plain": [
       "                      Number_of_Vehicles  Number_of_Casualties\n",
       "Number_of_Vehicles              1.000000              0.228889\n",
       "Number_of_Casualties            0.228889              1.000000"
      ]
     },
     "execution_count": 36,
     "metadata": {},
     "output_type": "execute_result"
    }
   ],
   "source": [
    "df[['Number_of_Vehicles','Number_of_Casualties']].corr()"
   ]
  },
  {
   "cell_type": "markdown",
   "id": "62eac454-c9a2-4751-8ef1-6b2ec70a4c70",
   "metadata": {},
   "source": [
    "<h>Insight 5: More vehicles involved usually means more casualties.</h>"
   ]
  },
  {
   "cell_type": "markdown",
   "id": "a8887369-7b83-4667-a6f0-8c75288f9897",
   "metadata": {},
   "source": [
    "<h4>6. Which road type is most associated with accidents?</h4>"
   ]
  },
  {
   "cell_type": "code",
   "execution_count": 37,
   "id": "420d2580-b32e-45b4-b580-4143ab6ddf96",
   "metadata": {},
   "outputs": [
    {
     "data": {
      "text/plain": [
       "Road_Type\n",
       "Single carriageway    492143\n",
       "Dual carriageway       99424\n",
       "Roundabout             43992\n",
       "One way street         13559\n",
       "Slip road               7041\n",
       "Name: count, dtype: int64"
      ]
     },
     "execution_count": 37,
     "metadata": {},
     "output_type": "execute_result"
    }
   ],
   "source": [
    "df['Road_Type'].value_counts()"
   ]
  },
  {
   "cell_type": "markdown",
   "id": "34a35e21-b380-4580-a748-2885b7c0d4a2",
   "metadata": {},
   "source": [
    "<h>Insight 6: Single carriageways account for most crashes.</h>"
   ]
  },
  {
   "cell_type": "markdown",
   "id": "2550e129-0dac-46be-b1d1-284b95a88d9c",
   "metadata": {},
   "source": [
    "<h4>7. Which weather condition shows the highest accident count?</h4>"
   ]
  },
  {
   "cell_type": "code",
   "execution_count": 38,
   "id": "6d6394c8-5bd3-4d60-aa24-964f071f25ce",
   "metadata": {},
   "outputs": [
    {
     "data": {
      "text/plain": [
       "Weather_Conditions\n",
       "Fine no high winds       520885\n",
       "Raining no high winds     79696\n",
       "Other                     17150\n",
       "Raining + high winds       9615\n",
       "Fine + high winds          8554\n",
       "Snowing no high winds      6238\n",
       "Fog or mist                3528\n",
       "Snowing + high winds        885\n",
       "Name: count, dtype: int64"
      ]
     },
     "execution_count": 38,
     "metadata": {},
     "output_type": "execute_result"
    }
   ],
   "source": [
    "df['Weather_Conditions'].value_counts()"
   ]
  },
  {
   "cell_type": "markdown",
   "id": "96d68275-de66-4961-8be5-534a445bc432",
   "metadata": {},
   "source": [
    "<h> Insight 7: Clear weather has more accidents than rain or fog. </h>"
   ]
  },
  {
   "cell_type": "markdown",
   "id": "2c6c8f57-1d45-47ef-8247-5af5e6458add",
   "metadata": {},
   "source": [
    "<h4>8. Do accidents with severe outcomes involve more vehicles? </h4>"
   ]
  },
  {
   "cell_type": "code",
   "execution_count": 39,
   "id": "d8d3da65-d665-4a94-8759-ecfd4e7cc98a",
   "metadata": {},
   "outputs": [
    {
     "data": {
      "text/plain": [
       "Accident_Severity\n",
       "Fatal      1.786976\n",
       "Serious    1.678327\n",
       "Slight     1.855864\n",
       "Name: Number_of_Vehicles, dtype: float64"
      ]
     },
     "execution_count": 39,
     "metadata": {},
     "output_type": "execute_result"
    }
   ],
   "source": [
    "df.groupby('Accident_Severity')['Number_of_Vehicles'].mean()"
   ]
  },
  {
   "cell_type": "markdown",
   "id": "a4786ee3-9ce1-4214-bd81-3d96fecc9b85",
   "metadata": {},
   "source": [
    "<h> Insight 8: Severe accidents generally involve more vehicles.</h>"
   ]
  },
  {
   "cell_type": "markdown",
   "id": "9057e522-05d2-4a54-a858-d20586e01067",
   "metadata": {},
   "source": [
    "<h4> 9. Which vehicle type is most frequently involved in accidents? </h4>"
   ]
  },
  {
   "cell_type": "code",
   "execution_count": 40,
   "id": "3ea79045-d970-454a-ba94-8afb0e5179b9",
   "metadata": {},
   "outputs": [
    {
     "data": {
      "text/plain": [
       "Vehicle_Type\n",
       "Car                                      497992\n",
       "Van / Goods 3.5 tonnes mgw or under       34160\n",
       "Bus or coach (17 or more pass seats)      25878\n",
       "Motorcycle over 500cc                     25657\n",
       "Goods 7.5 tonnes mgw and over             17307\n",
       "Motorcycle 125cc and under                15269\n",
       "Taxi/Private hire car                     13294\n",
       "Motorcycle over 125cc and up to 500cc      7656\n",
       "Motorcycle 50cc and under                  7603\n",
       "Goods over 3.5t. and under 7.5t            6096\n",
       "Other vehicle                              5637\n",
       "Minibus (8 - 16 passenger seats)           1976\n",
       "Agricultural vehicle                       1947\n",
       "Pedal cycle                                 197\n",
       "Data missing or out of range                  6\n",
       "Ridden horse                                  4\n",
       "Name: count, dtype: int64"
      ]
     },
     "execution_count": 40,
     "metadata": {},
     "output_type": "execute_result"
    }
   ],
   "source": [
    "df['Vehicle_Type'].value_counts()"
   ]
  },
  {
   "cell_type": "markdown",
   "id": "be3f7a2e-6df0-46f6-abec-eee4d9092ed0",
   "metadata": {},
   "source": [
    "<h> Insight 9: Cars are the most common vehicle type in crashes.</h>"
   ]
  },
  {
   "cell_type": "markdown",
   "id": "50e90fd8-129a-428c-92d7-1ded26483cd9",
   "metadata": {},
   "source": [
    "<h4>10. Do Fridays in winter months (Dec–Feb) have more accidents in urban or rural areas?</h4>"
   ]
  },
  {
   "cell_type": "code",
   "execution_count": 41,
   "id": "29d136bb-42bd-4c8b-9c3b-57621e0d6ee2",
   "metadata": {},
   "outputs": [
    {
     "data": {
      "text/plain": [
       "Urban_or_Rural_Area\n",
       "Rural           8282\n",
       "Unallocated        1\n",
       "Urban          14335\n",
       "dtype: int64"
      ]
     },
     "execution_count": 41,
     "metadata": {},
     "output_type": "execute_result"
    }
   ],
   "source": [
    "df[(df['DayOfWeek']=='Friday') & (df['Month'].isin([12,1,2]))].groupby('Urban_or_Rural_Area').size()"
   ]
  },
  {
   "cell_type": "markdown",
   "id": "dbcc24fa-83a8-4fd9-a65d-78e0e7ab5ac2",
   "metadata": {},
   "source": [
    "<h> Insight: Fridays in winter are riskier in cities than in rural areas. <h>"
   ]
  },
  {
   "cell_type": "markdown",
   "id": "092d8707-c598-49bf-8831-c8a797755a20",
   "metadata": {},
   "source": [
    "<h4>11. Which months show the highest average casualties per accident involving buses in rural areas?</h4>"
   ]
  },
  {
   "cell_type": "code",
   "execution_count": 42,
   "id": "fb08ea1a-acba-48a9-b96f-298f2a382c58",
   "metadata": {},
   "outputs": [
    {
     "ename": "NameError",
     "evalue": "name 'plt' is not defined",
     "output_type": "error",
     "traceback": [
      "\u001b[31m---------------------------------------------------------------------------\u001b[39m",
      "\u001b[31mNameError\u001b[39m                                 Traceback (most recent call last)",
      "\u001b[36mCell\u001b[39m\u001b[36m \u001b[39m\u001b[32mIn[42]\u001b[39m\u001b[32m, line 6\u001b[39m\n\u001b[32m      1\u001b[39m data_q2 = df[(df[\u001b[33m'\u001b[39m\u001b[33mVehicle_Type\u001b[39m\u001b[33m'\u001b[39m].str.contains(\u001b[33m'\u001b[39m\u001b[33mBus\u001b[39m\u001b[33m'\u001b[39m, case=\u001b[38;5;28;01mFalse\u001b[39;00m, na=\u001b[38;5;28;01mFalse\u001b[39;00m)) & \n\u001b[32m      2\u001b[39m              (df[\u001b[33m'\u001b[39m\u001b[33mUrban_or_Rural_Area\u001b[39m\u001b[33m'\u001b[39m]==\u001b[33m'\u001b[39m\u001b[33mRural\u001b[39m\u001b[33m'\u001b[39m)]\\\n\u001b[32m      3\u001b[39m             .groupby(\u001b[33m'\u001b[39m\u001b[33mMonth\u001b[39m\u001b[33m'\u001b[39m)[\u001b[33m'\u001b[39m\u001b[33mNumber_of_Casualties\u001b[39m\u001b[33m'\u001b[39m].mean()\n\u001b[32m      5\u001b[39m data_q2.plot(kind=\u001b[33m'\u001b[39m\u001b[33mline\u001b[39m\u001b[33m'\u001b[39m, marker=\u001b[33m'\u001b[39m\u001b[33mo\u001b[39m\u001b[33m'\u001b[39m)\n\u001b[32m----> \u001b[39m\u001b[32m6\u001b[39m \u001b[43mplt\u001b[49m.title(\u001b[33m'\u001b[39m\u001b[33mAverage Casualties per Bus Accident (Rural)\u001b[39m\u001b[33m'\u001b[39m)\n\u001b[32m      7\u001b[39m plt.ylabel(\u001b[33m'\u001b[39m\u001b[33mAvg Casualties\u001b[39m\u001b[33m'\u001b[39m)\n\u001b[32m      8\u001b[39m plt.xlabel(\u001b[33m'\u001b[39m\u001b[33mMonth\u001b[39m\u001b[33m'\u001b[39m)\n",
      "\u001b[31mNameError\u001b[39m: name 'plt' is not defined"
     ]
    },
    {
     "data": {
      "image/png": "[encoded data removed]",
      "text/plain": [
       "<Figure size 640x480 with 1 Axes>"
      ]
     },
     "metadata": {},
     "output_type": "display_data"
    }
   ],
   "source": [
    "data_q2 = df[(df['Vehicle_Type'].str.contains('Bus', case=False, na=False)) & \n",
    "             (df['Urban_or_Rural_Area']=='Rural')]\\\n",
    "            .groupby('Month')['Number_of_Casualties'].mean()\n",
    "\n",
    "data_q2.plot(kind='line', marker='o')\n",
    "plt.title('Average Casualties per Bus Accident (Rural)')\n",
    "plt.ylabel('Avg Casualties')\n",
    "plt.xlabel('Month')\n",
    "plt.show()\n"
   ]
  },
  {
   "cell_type": "markdown",
   "id": "abd69d01-eb7f-44fa-81a1-04f8e21ebc0a",
   "metadata": {},
   "source": [
    "<h> Months with higher peaks in the line graph (ex. July or December, depende sa dataset) show when rural bus accidents tend to involve more casualties. This may be linked to holiday or peak travel seasons.<h>"
   ]
  },
  {
   "cell_type": "markdown",
   "id": "023999c9-813f-465d-87ac-fcc2103b39fd",
   "metadata": {},
   "source": [
    "<h4>12. Which year and month had the most fatal accidents at night in rural areas?</h4>"
   ]
  },
  {
   "cell_type": "code",
   "execution_count": null,
   "id": "76f98668-5405-40c6-b787-69fdabfd76f4",
   "metadata": {},
   "outputs": [],
   "source": [
    "df[(df['Accident_Severity']=='Fatal') & \n",
    "   (df['Light_Conditions'].str.contains('Dark',case=False,na=False)) & \n",
    "   (df['Urban_or_Rural_Area']=='Rural')].groupby(['Year','Month']).size()"
   ]
  },
  {
   "cell_type": "markdown",
   "id": "5ccc440f-1ed9-49e6-a6dd-5ed03d99b349",
   "metadata": {},
   "source": [
    "<h> Insight: Fatal night accidents in rural areas were highest in Jan 2019.<h> "
   ]
  },
  {
   "cell_type": "markdown",
   "id": "b38b3b49-13e1-430f-9fa9-0f328b2fde84",
   "metadata": {},
   "source": [
    "<h4> 13. On weekends, do wet road conditions cause more serious accidents compared to dry roads? </h4>"
   ]
  },
  {
   "cell_type": "markdown",
   "id": "042d5da3-cc4f-4b79-be2f-14345dd78982",
   "metadata": {},
   "source": [
    "df[df['DayOfWeek'].isin(['Saturday','Sunday'])].groupby(['Road_Surface_Conditions','Accident_Severity']).size()"
   ]
  },
  {
   "cell_type": "markdown",
   "id": "8b4f437b-f63a-4890-a763-dff435684e2d",
   "metadata": {},
   "source": [
    "<h> Result: Dry Serious = 19,029 | Wet Serious = 6,998 </h>\n",
    "\n",
    "<h>Insight: Serious weekend accidents happen more on dry roads, but wet roads are still a major risk. </h>"
   ]
  },
  {
   "cell_type": "markdown",
   "id": "5e5223d9-32a9-4674-9aae-ef680dba4b0d",
   "metadata": {},
   "source": [
    "<h4>14. Do Mondays or Fridays show more multi-vehicle accidents in foggy weather?</h4>"
   ]
  },
  {
   "cell_type": "code",
   "execution_count": null,
   "id": "5ab45e54-6037-450e-8414-932f49f67ee2",
   "metadata": {},
   "outputs": [],
   "source": [
    "df[df['Weather_Conditions'].str.contains('Fog',case=False,na=False)].groupby('DayOfWeek')['Number_of_Vehicles'].mean()"
   ]
  },
  {
   "cell_type": "markdown",
   "id": "14238b39-3aee-4017-86ee-e07fe2122a8c",
   "metadata": {},
   "source": [
    "<h>Result: Sat = 1.91, Tue = 1.91, Wed =  1.85, Mon = 1.61, Fri = 1.85</h>\n",
    "\n",
    "<h>Insight: Saturdays and Tuesdays had more vehicles per fog accident than Mondays.</h>"
   ]
  },
  {
   "cell_type": "markdown",
   "id": "5013e11b-3071-44b3-9618-f3f830e337d6",
   "metadata": {},
   "source": [
    "<h4>15. Do rural areas in summer months have higher casualties per accident compared to urban areas?</h4>"
   ]
  },
  {
   "cell_type": "code",
   "execution_count": null,
   "id": "623b78e0-f393-483e-a1df-0731809b08df",
   "metadata": {},
   "outputs": [],
   "source": [
    "df[df['Month'].isin([6,7,8])].groupby('Urban_or_Rural_Area')['Number_of_Casualties'].mean()"
   ]
  },
  {
   "cell_type": "markdown",
   "id": "692ca049-1bda-49b8-a9f4-99b1ad525a8d",
   "metadata": {},
   "source": [
    "<h>Insight: Summer rural accidents are deadlier per crash than city accidents.</h>"
   ]
  },
  {
   "cell_type": "markdown",
   "id": "ee800b21-6345-4108-b37f-18d5ae6a9bc1",
   "metadata": {},
   "source": [
    "<h4> 16. For weekends (Sat/Sun), which month + road condition had the most accidents?</h4>"
   ]
  },
  {
   "cell_type": "code",
   "execution_count": null,
   "id": "5c899fcb-58c6-4210-853b-891b5298de86",
   "metadata": {},
   "outputs": [],
   "source": [
    "accident = df[df['DayOfWeek'].isin(['Saturday','Sunday'])].groupby(['Month','Road_Surface_Conditions']).size().unstack(fill_value=0)\n",
    "# Show top month+condition pairs\n",
    "accident_sum = q2.sum(axis=1).sort_values(ascending=False)\n",
    "print(\"Accident counts by month and road condition (weekends) - totals per month:\\n\", q2_sum)\n",
    "# Plot the top 6 months total weekend accidents\n",
    "top_months = q2_sum.head(6).index\n",
    "accident.loc[top_months].sum(axis=1).plot(kind='bar')\n",
    "plt.title(\"Weekend Accidents — Top Months (total across road conditions)\")\n",
    "plt.xlabel(\"Month\")\n",
    "plt.ylabel(\"Number of Accidents\")\n",
    "plt.show()\n"
   ]
  },
  {
   "cell_type": "markdown",
   "id": "606380f8-903b-459f-aa6a-7395a227d154",
   "metadata": {},
   "source": [
    "<h> Insight 16: 1October had the most weekend accidents (18,380), followed closely by November and May. This shows that late autumn and spring months are more risky for weekend driving, possibly because of more travel activities during these times.</h>"
   ]
  },
  {
   "cell_type": "markdown",
   "id": "0180cae5-64e1-494a-ba77-d9a2c20505c9",
   "metadata": {},
   "source": [
    "<h4>17. Which year and month had the most accidents involving more than 4 casualties </h4>"
   ]
  },
  {
   "cell_type": "code",
   "execution_count": null,
   "id": "8be86237-96c2-41dd-8d24-20f934343d80",
   "metadata": {},
   "outputs": [],
   "source": [
    "accident = df[df['Number_of_Casualties']>4].groupby(['Year','Month']).size().nlargest(5)\n",
    "print(q1)"
   ]
  },
  {
   "cell_type": "markdown",
   "id": "a4364334-8500-4878-995f-531ce29c0477",
   "metadata": {},
   "source": [
    "<h> Insight 17: The highest number of serious accidents (4+ casualties) happened in August 2019 (207 cases).</h>"
   ]
  },
  {
   "cell_type": "markdown",
   "id": "7c91d7a1-d4ee-49df-a3e7-929c53caf542",
   "metadata": {},
   "source": [
    "<h4> 18. Do weekends (Saturday–Sunday) have more accidents than weekdays?</h4>"
   ]
  },
  {
   "cell_type": "code",
   "execution_count": null,
   "id": "4d5eb200-15d5-4e7f-bd99-0b356df838ba",
   "metadata": {},
   "outputs": [],
   "source": [
    "weekend = df[df['DayOfWeek'].isin(['Saturday','Sunday'])].shape[0]\n",
    "weekday = df[~df['DayOfWeek'].isin(['Saturday','Sunday'])].shape[0]\n",
    "print(\"Weekend Accidents:\", weekend)\n",
    "print(\"Weekday Accidents:\", weekday)\n"
   ]
  },
  {
   "cell_type": "markdown",
   "id": "a31b3768-60f0-4d94-99c6-4de59346011c",
   "metadata": {},
   "source": [
    "<h> Insight 18: Weekend accidents, daily commuting and rush hours are the bigger risks. </H>"
   ]
  },
  {
   "cell_type": "markdown",
   "id": "640a0b86-af27-4bec-a370-5119b2767ccd",
   "metadata": {},
   "source": [
    "<h4>19. On Mondays, are more accidents recorded in daylight or darkness? </h4>"
   ]
  },
  {
   "cell_type": "code",
   "execution_count": null,
   "id": "68278602-7786-4331-aa94-29cbd8f7d8c2",
   "metadata": {},
   "outputs": [],
   "source": [
    "accident = df[df['DayOfWeek']=='Monday']\n",
    "q9.groupby('Light_Conditions').size().plot(kind='pie', autopct='%1.1f%%')\n",
    "plt.title(\"Accidents on Mondays: Daylight vs Darkness\")\n",
    "plt.ylabel(\"\")\n",
    "plt.show()"
   ]
  },
  {
   "cell_type": "markdown",
   "id": "08737569-d8db-4093-b991-bc04fe6ed8f6",
   "metadata": {},
   "source": [
    "<h> Insight 19: If the daylight slice is bigger, accidents mostly happen during rush hours (morning/evening).</h>"
   ]
  },
  {
   "cell_type": "markdown",
   "id": "8acecd62-5b9b-47ee-ae50-5be94f9cf743",
   "metadata": {},
   "source": [
    "<h4> 20. Which district area reports the most accidents in December? </h4>"
   ]
  },
  {
   "cell_type": "code",
   "execution_count": null,
   "id": "d2f4cf06-be31-4e68-92a5-98eeb55fe58e",
   "metadata": {},
   "outputs": [],
   "source": [
    "accident = df[df['Month']==12].groupby('District Area').size().nlargest(10)\n",
    "q5.plot(kind='bar', color='green')\n",
    "plt.title(\"Top Districts with Accidents in December\")\n",
    "plt.xlabel(\"District Area\")\n",
    "plt.ylabel(\"Number of Accidents\")\n",
    "plt.show()\n"
   ]
  },
  {
   "cell_type": "markdown",
   "id": "8d2397d7-1192-4084-9070-4e44ce616234",
   "metadata": {},
   "source": [
    "<h> Insight 20: Districts with the highest bars are the ones most affected in December is Birmingham. This could be due to holiday travel, crowded markets, and higher vehicle movement at year-end. </h>"
   ]
  },
  {
   "cell_type": "markdown",
   "id": "3587ad09-8bd4-450a-b373-d87da1736110",
   "metadata": {},
   "source": [
    "<h4> 21. Which months show the highest average casualties per accident involving buses in rural areas?</h4>"
   ]
  },
  {
   "cell_type": "code",
   "execution_count": null,
   "id": "295c63a7-22a4-48eb-860e-a393650f547d",
   "metadata": {},
   "outputs": [],
   "source": [
    "import calendar\n",
    "\n",
    "acci_bus = df[\n",
    "    df['Vehicle_Type'].str.contains('Bus', case=False, na=False) &\n",
    "    (df['Urban_or_Rural_Area']=='Rural')\n",
    "].groupby('Month')['Number_of_Casualties'].mean().reset_index()\n",
    "\n",
    "\n",
    "acci_bus['Month'] = acci_bus['Month'].apply(lambda x: calendar.month_abbr[int(x)])\n",
    "\n",
    "acci_bus.set_index('Month', inplace=True)\n",
    "\n",
    "print(acci_bus)\n"
   ]
  },
  {
   "cell_type": "markdown",
   "id": "de66a92c-d55f-4632-b0d4-7e09d7722c81",
   "metadata": {},
   "source": [
    "<h> Insight 21: Rural bus accidents usually have 1–1.5 casualties; April is slightly higher. </h>"
   ]
  },
  {
   "cell_type": "markdown",
   "id": "7bd23c40-4e50-4847-95b8-07307f1847e2",
   "metadata": {},
   "source": [
    "<h4> 22. Do weekdays in winter have more vehicle crashes involving cars or motorcycles?</h4>"
   ]
  },
  {
   "cell_type": "code",
   "execution_count": null,
   "id": "5a3cfb99-5506-403d-b646-b3f2c171fbaa",
   "metadata": {},
   "outputs": [],
   "source": [
    "df[df['Month'].isin([12,1,2])].groupby(['DayOfWeek','Vehicle_Type']).size()"
   ]
  },
  {
   "cell_type": "markdown",
   "id": "69c5470b-c28e-4898-9c87-06aae0c4bc7d",
   "metadata": {},
   "source": [
    "<h> Insight 22: It shows more weekday commuter accidents during winter months. <h>"
   ]
  },
  {
   "cell_type": "markdown",
   "id": "eba42e9d-7809-49cb-aa98-641b215613d2",
   "metadata": {},
   "source": [
    "<H4> 23. Do rural areas have more multi-casualty accidents (3+ casualties) compared to urban areas? </H4>"
   ]
  },
  {
   "cell_type": "code",
   "execution_count": null,
   "id": "72ce2802-aad5-4f64-8fea-b8b75d853314",
   "metadata": {},
   "outputs": [],
   "source": [
    "accident = df[df['Number_of_Casualties']>=3].groupby('Urban_or_Rural_Area').size() \n",
    "print(accident)"
   ]
  },
  {
   "cell_type": "markdown",
   "id": "9fc4d022-09bb-4001-b026-11d2b033ddbc",
   "metadata": {},
   "source": [
    "<h> Insight 23: Crashes in rural areas often involve higher casualties, likely because of higher speeds and fewer nearby hospitals."
   ]
  },
  {
   "cell_type": "markdown",
   "id": "eabf76fb-d00a-4d90-b8ee-b8d84c25b515",
   "metadata": {},
   "source": [
    "<h4> 24. Do wet/damp roads in rural areas produce more casualties in winter months (Dec/Jan/Feb) vs other months? </h4>"
   ]
  },
  {
   "cell_type": "code",
   "execution_count": null,
   "id": "2e338a10-10d9-4433-aa6a-471c47a34e55",
   "metadata": {},
   "outputs": [],
   "source": [
    "import matplotlib.pyplot as plt\n",
    "\n",
    "acci_winter_months = ['Dec', 'Jan', 'Feb']\n",
    "\n",
    "# Create a color list: red for winter, blue for other months\n",
    "colors = ['purple' if month in winter_months else 'pink' for month in acci_result['Month']]\n",
    "\n",
    "acci_result.set_index('Month')['Number_of_Casualties'].plot(\n",
    "    kind='bar', color=colors\n",
    ")\n",
    "plt.title(\"Avg casualties per wet accident in rural areas (by month)\")\n",
    "plt.xlabel(\"Month\")\n",
    "plt.ylabel(\"Avg casualties\")\n",
    "\n",
    "import matplotlib.patches as mpatches\n",
    "red_patch = mpatches.Patch(color='red', label='Winter months')\n",
    "blue_patch = mpatches.Patch(color='blue', label='Other months')\n",
    "plt.legend(handles=[red_patch, blue_patch])\n",
    "plt.show()"
   ]
  },
  {
   "cell_type": "markdown",
   "id": "a874067f-ab66-4bc4-9fb9-e1dc51c19268",
   "metadata": {},
   "source": [
    "<h> Insight 24: Winter months (Dec, Jan, Feb) on wet/damp rural roads show slightly higher average casualties than other months. This indicates that accidents in winter are generally more severe, likely due to slippery conditions and poorer visibility. </h>"
   ]
  },
  {
   "cell_type": "markdown",
   "id": "a6a8b7c2-90fc-40d2-94b0-3783481a6134",
   "metadata": {},
   "source": [
    "<h4>25. Do rural areas in summer months have higher casualties per accident compared to urban areas? </h4>"
   ]
  },
  {
   "cell_type": "code",
   "execution_count": null,
   "id": "09f78dd7-e8dc-4970-b48c-55a72bfb31ed",
   "metadata": {},
   "outputs": [],
   "source": [
    "df[df['Month'].isin([6,7,8])].groupby('Urban_or_Rural_Area')['Number_of_Casualties'].mean()"
   ]
  },
  {
   "cell_type": "markdown",
   "id": "6da2c093-c39d-49ff-9fa9-84b651528d12",
   "metadata": {},
   "source": [
    "<h> Insight 25: Summer rural accidents are deadlier per crash than city accidents.</h>"
   ]
  },
  {
   "cell_type": "code",
   "execution_count": null,
   "id": "aa8003ff-10e1-4252-a655-7e881845f854",
   "metadata": {},
   "outputs": [],
   "source": []
  },
  {
   "cell_type": "markdown",
   "id": "99ec4411-c9df-491f-8f22-fbc2ad7abe8c",
   "metadata": {},
   "source": [
    "<H1>Using District Area to make a comparison to a general result</H1>"
   ]
  },
  {
   "cell_type": "code",
   "execution_count": 46,
   "id": "aae6df77-f095-4905-92a6-3432a42766dd",
   "metadata": {},
   "outputs": [],
   "source": [
    "london_df = df[df['District Area'] == 'City of London']"
   ]
  },
  {
   "cell_type": "code",
   "execution_count": 49,
   "id": "03e788bc-823a-4e93-a411-c2c03806ec8d",
   "metadata": {},
   "outputs": [
    {
     "data": {
      "image/png": "[encoded data removed]",
      "text/plain": [
       "<Figure size 1000x500 with 1 Axes>"
      ]
     },
     "metadata": {},
     "output_type": "display_data"
    }
   ],
   "source": [
    "import matplotlib.pyplot as plt\n",
    "\n",
    "monthly_londondata = london_df.groupby(['Year', 'Month']).size()\n",
    "\n",
    "monthly_londondata = monthly_londondata.unstack(level=0)\n",
    "\n",
    "monthly_londondata.plot(\n",
    "    marker='o', \n",
    "    figsize=(10, 5),\n",
    "    title='Monthly Road Accidents in London by Year (2019-2022)'\n",
    ")\n",
    "plt.xticks(range(1, 13), ['Jan','Feb','Mar','Apr','May','Jun','Jul','Aug','Sep','Oct','Nov','Dec'])\n",
    "plt.legend(title='Yearly Accident Comparison', bbox_to_anchor = (1.05,1), loc='upper left')\n",
    "plt.grid(alpha=0.3)\n",
    "plt.show()"
   ]
  },
  {
   "cell_type": "markdown",
   "id": "6968db46-67a6-4d5d-a3d4-2823607a1528",
   "metadata": {},
   "source": [
    "<H2>District 1: City of London - Total Accidents and Casualties</H2>"
   ]
  },
  {
   "cell_type": "markdown",
   "id": "9abad625-1c62-4580-ae66-be990d6141c6",
   "metadata": {},
   "source": [
    "<h3> Insight 26: In the City of London, there are many accidents even though the area is small. This is because the district is very busy with traffic and pedestrians.</h3>"
   ]
  },
  {
   "cell_type": "code",
   "execution_count": 91,
   "id": "e14a3055-a4f3-4dde-b77f-69550dadf743",
   "metadata": {},
   "outputs": [
    {
     "name": "stdout",
     "output_type": "stream",
     "text": [
      "Total Accidents in City of London: 1317\n",
      "Total Casualties in City of London: 1483\n"
     ]
    },
    {
     "data": {
      "text/html": [
       "<div style=\"width:100%;\"><div style=\"position:relative;width:100%;height:0;padding-bottom:60%;\"><span style=\"color:#565656\">Make this Notebook Trusted to load map: File -> Trust Notebook</span><iframe srcdoc=\"&lt;!DOCTYPE html&gt;\n",
       "&lt;html&gt;\n",
       "&lt;head&gt;\n",
       "    \n",
       "    &lt;meta http-equiv=&quot;content-type&quot; content=&quot;text/html; charset=UTF-8&quot; /&gt;\n",
       "    &lt;script src=&quot;https://cdn.jsdelivr.net/npm/leaflet@1.9.3/dist/leaflet.js&quot;&gt;&lt;/script&gt;\n",
       "    &lt;script src=&quot;https://code.jquery.com/jquery-3.7.1.min.js&quot;&gt;&lt;/script&gt;\n",
       "    &lt;script src=&quot;https://cdn.jsdelivr.net/npm/bootstrap@5.2.2/dist/js/bootstrap.bundle.min.js&quot;&gt;&lt;/script&gt;\n",
       "    &lt;script src=&quot;https://cdnjs.cloudflare.com/ajax/libs/Leaflet.awesome-markers/2.0.2/leaflet.awesome-markers.js&quot;&gt;&lt;/script&gt;\n",
       "    &lt;link rel=&quot;stylesheet&quot; href=&quot;https://cdn.jsdelivr.net/npm/leaflet@1.9.3/dist/leaflet.css&quot;/&gt;\n",
       "    &lt;link rel=&quot;stylesheet&quot; href=&quot;https://cdn.jsdelivr.net/npm/bootstrap@5.2.2/dist/css/bootstrap.min.css&quot;/&gt;\n",
       "    &lt;link rel=&quot;stylesheet&quot; href=&quot;https://netdna.bootstrapcdn.com/bootstrap/3.0.0/css/bootstrap-glyphicons.css&quot;/&gt;\n",
       "    &lt;link rel=&quot;stylesheet&quot; href=&quot;https://cdn.jsdelivr.net/npm/@fortawesome/fontawesome-free@6.2.0/css/all.min.css&quot;/&gt;\n",
       "    &lt;link rel=&quot;stylesheet&quot; href=&quot;https://cdnjs.cloudflare.com/ajax/libs/Leaflet.awesome-markers/2.0.2/leaflet.awesome-markers.css&quot;/&gt;\n",
       "    &lt;link rel=&quot;stylesheet&quot; href=&quot;https://cdn.jsdelivr.net/gh/python-visualization/folium/folium/templates/leaflet.awesome.rotate.min.css&quot;/&gt;\n",
       "    \n",
       "            &lt;meta name=&quot;viewport&quot; content=&quot;width=device-width,\n",
       "                initial-scale=1.0, maximum-scale=1.0, user-scalable=no&quot; /&gt;\n",
       "            &lt;style&gt;\n",
       "                #map_5b6cfe6c527b0a79a5717d292c673570 {\n",
       "                    position: relative;\n",
       "                    width: 100.0%;\n",
       "                    height: 100.0%;\n",
       "                    left: 0.0%;\n",
       "                    top: 0.0%;\n",
       "                }\n",
       "                .leaflet-container { font-size: 1rem; }\n",
       "            &lt;/style&gt;\n",
       "\n",
       "            &lt;style&gt;html, body {\n",
       "                width: 100%;\n",
       "                height: 100%;\n",
       "                margin: 0;\n",
       "                padding: 0;\n",
       "            }\n",
       "            &lt;/style&gt;\n",
       "\n",
       "            &lt;style&gt;#map {\n",
       "                position:absolute;\n",
       "                top:0;\n",
       "                bottom:0;\n",
       "                right:0;\n",
       "                left:0;\n",
       "                }\n",
       "            &lt;/style&gt;\n",
       "\n",
       "            &lt;script&gt;\n",
       "                L_NO_TOUCH = false;\n",
       "                L_DISABLE_3D = false;\n",
       "            &lt;/script&gt;\n",
       "\n",
       "        \n",
       "    &lt;script src=&quot;https://cdn.jsdelivr.net/gh/python-visualization/folium@main/folium/templates/leaflet_heat.min.js&quot;&gt;&lt;/script&gt;\n",
       "&lt;/head&gt;\n",
       "&lt;body&gt;\n",
       "    \n",
       "    \n",
       "            &lt;div class=&quot;folium-map&quot; id=&quot;map_5b6cfe6c527b0a79a5717d292c673570&quot; &gt;&lt;/div&gt;\n",
       "        \n",
       "&lt;/body&gt;\n",
       "&lt;script&gt;\n",
       "    \n",
       "    \n",
       "            var map_5b6cfe6c527b0a79a5717d292c673570 = L.map(\n",
       "                &quot;map_5b6cfe6c527b0a79a5717d292c673570&quot;,\n",
       "                {\n",
       "                    center: [51.51396175018983, -0.0911258238420653],\n",
       "                    crs: L.CRS.EPSG3857,\n",
       "                    ...{\n",
       "  &quot;zoom&quot;: 12,\n",
       "  &quot;zoomControl&quot;: true,\n",
       "  &quot;preferCanvas&quot;: false,\n",
       "}\n",
       "\n",
       "                }\n",
       "            );\n",
       "\n",
       "            \n",
       "\n",
       "        \n",
       "    \n",
       "            var tile_layer_db47c327e66714cf6caa986bf011a932 = L.tileLayer(\n",
       "                &quot;https://tile.openstreetmap.org/{z}/{x}/{y}.png&quot;,\n",
       "                {\n",
       "  &quot;minZoom&quot;: 0,\n",
       "  &quot;maxZoom&quot;: 19,\n",
       "  &quot;maxNativeZoom&quot;: 19,\n",
       "  &quot;noWrap&quot;: false,\n",
       "  &quot;attribution&quot;: &quot;\\u0026copy; \\u003ca href=\\&quot;https://www.openstreetmap.org/copyright\\&quot;\\u003eOpenStreetMap\\u003c/a\\u003e contributors&quot;,\n",
       "  &quot;subdomains&quot;: &quot;abc&quot;,\n",
       "  &quot;detectRetina&quot;: false,\n",
       "  &quot;tms&quot;: false,\n",
       "  &quot;opacity&quot;: 1,\n",
       "}\n",
       "\n",
       "            );\n",
       "        \n",
       "    \n",
       "            tile_layer_db47c327e66714cf6caa986bf011a932.addTo(map_5b6cfe6c527b0a79a5717d292c673570);\n",
       "        \n",
       "    \n",
       "            var heat_map_96a7a4ea6dcb29188bcbbc078c7373d1 = L.heatLayer(\n",
       "                [[51.510898, -0.102684], [51.515721, -0.10061], [51.509123, -0.087482], [51.518599, -0.100634], [51.508932, -0.081293], [51.513119, -0.089909], [51.517443, -0.084827], [51.514074, -0.104426], [51.51613, -0.081567], [51.51693, -0.080957], [51.510601, -0.084394], [51.513299, -0.089901], [51.513804, -0.104437], [51.514254, -0.104418], [51.514095, -0.094624], [51.520812, -0.092902], [51.515181, -0.089534], [51.513736, -0.111358], [51.516345, -0.08372], [51.511786, -0.085353], [51.511557, -0.082336], [51.513955, -0.075029], [51.517593, -0.105144], [51.514121, -0.107306], [51.517275, -0.096653], [51.510978, -0.107581], [51.513211, -0.090049], [51.51248, -0.094836], [51.513219, -0.079528], [51.510818, -0.08669], [51.51065, -0.092894], [51.511583, -0.08392], [51.510821, -0.086834], [51.518616, -0.079589], [51.514856, -0.075135], [51.509858, -0.08846], [51.512494, -0.0957], [51.51219, -0.088074], [51.508929, -0.081149], [51.513493, -0.090758], [51.518441, -0.085362], [51.511511, -0.090553], [51.50953, -0.079395], [51.511794, -0.096882], [51.517595, -0.105288], [51.513978, -0.109618], [51.515367, -0.078861], [51.510102, -0.086865], [51.512554, -0.088347], [51.517994, -0.080048], [51.513368, -0.083125], [51.512067, -0.102635], [51.509151, -0.083734], [51.513294, -0.089613], [51.515624, -0.100182], [51.508958, -0.082877], [51.513292, -0.083992], [51.511552, -0.082048], [51.51902, -0.087788], [51.512203, -0.094415], [51.51902, -0.087788], [51.508673, -0.087501], [51.514164, -0.104422], [51.509858, -0.08846], [51.511894, -0.091978], [51.513872, -0.075465], [51.509123, -0.087482], [51.515909, -0.095557], [51.513372, -0.088889], [51.513377, -0.089177], [51.510729, -0.086694], [51.516253, -0.089057], [51.513311, -0.085145], [51.511167, -0.075002], [51.511166, -0.102529], [51.51055, -0.092322], [51.513207, -0.084284], [51.51409, -0.105434], [51.512316, -0.079277], [51.517953, -0.110751], [51.517596, -0.083235], [51.520607, -0.08037], [51.514662, -0.074278], [51.51449, -0.09677], [51.521513, -0.097342], [51.520404, -0.078937], [51.51064, -0.092318], [51.511783, -0.085209], [51.511818, -0.103943], [51.510712, -0.085686], [51.517632, -0.107593], [51.519985, -0.097405], [51.510618, -0.085402], [51.512867, -0.096549], [51.508763, -0.087497], [51.520226, -0.079089], [51.51693, -0.080957], [51.516228, -0.093094], [51.51147, -0.104678], [51.513956, -0.102701], [51.513755, -0.101412], [51.516149, -0.08272], [51.511016, -0.104409], [51.512454, -0.104349], [51.51754, -0.096354], [51.511131, -0.072842], [51.51684, -0.080961], [51.513289, -0.089325], [51.510947, -0.105708], [51.51728, -0.096942], [51.517948, -0.088265], [51.511164, -0.074858], [51.516014, -0.102039], [51.514107, -0.106442], [51.514186, -0.083667], [51.513269, -0.099127], [51.509019, -0.081145], [51.510371, -0.086853], [51.510638, -0.092174], [51.515248, -0.077136], [51.509835, -0.08702], [51.508763, -0.087497], [51.517234, -0.088584], [51.506929, -0.074316], [51.515878, -0.104783], [51.517593, -0.105144], [51.518438, -0.085218], [51.515199, -0.079589], [51.509832, -0.086876], [51.515768, -0.109112], [51.513891, -0.076617], [51.509457, -0.080406], [51.509924, -0.087016], [51.514579, -0.096766], [51.516022, -0.096994], [51.509463, -0.086315], [51.517552, -0.080499], [51.518001, -0.097056], [51.519289, -0.087777], [51.515556, -0.079429], [51.51337, -0.088745], [51.51695, -0.087731], [51.511483, -0.083348], [51.517325, -0.083103], [51.516579, -0.103601], [51.517374, -0.08065], [51.511826, -0.087801], [51.51737, -0.080362], [51.510908, -0.10326], [51.510821, -0.086834], [51.516343, -0.083576], [51.512544, -0.104345], [51.509456, -0.085883], [51.513285, -0.089037], [51.519394, -0.099736], [51.517149, -0.088875], [51.517045, -0.088015], [51.51693, -0.080957], [51.51951, -0.079263], [51.511993, -0.09255], [51.513158, -0.097834], [51.514208, -0.074009], [51.514444, -0.077458], [51.515881, -0.104927], [51.51379, -0.092475], [51.51915, -0.101332], [51.511728, -0.092849], [51.510839, -0.10456], [51.513557, -0.100268], [51.515669, -0.080866], [51.520319, -0.079229], [51.520226, -0.079089], [51.515247, -0.104665], [51.515721, -0.10061], [51.512762, -0.090068], [51.512872, -0.096837], [51.516011, -0.101895], [51.513292, -0.083992], [51.516133, -0.081711], [51.509535, -0.079683], [51.516343, -0.083576], [51.515896, -0.078262], [51.5137, -0.092479], [51.516842, -0.086582], [51.514517, -0.109596], [51.50945, -0.079974], [51.513257, -0.087309], [51.51337, -0.099843], [51.50945, -0.079974], [51.513956, -0.102701], [51.513874, -0.075609], [51.513612, -0.076052], [51.516101, -0.101891], [51.514734, -0.089697], [51.515158, -0.082617], [51.513497, -0.091046], [51.513173, -0.104319], [51.511583, -0.08392], [51.513762, -0.101844], [51.510749, -0.104564], [51.511703, -0.080312], [51.513788, -0.092331], [51.508676, -0.087645], [51.510972, -0.101672], [51.510933, -0.104844], [51.516969, -0.088883], [51.520165, -0.097398], [51.519107, -0.08764], [51.515296, -0.080017], [51.511017, -0.087835], [51.517504, -0.083095], [51.513162, -0.087025], [51.510915, -0.087119], [51.509459, -0.086027], [51.517625, -0.107161], [51.517149, -0.088875], [51.509151, -0.083734], [51.513832, -0.08397], [51.514069, -0.104138], [51.513961, -0.102989], [51.51091, -0.103404], [51.509858, -0.08846], [51.513192, -0.088897], [51.512924, -0.094529], [51.509463, -0.086315], [51.515703, -0.105079], [51.513434, -0.081681], [51.511145, -0.073706], [51.515524, -0.093988], [51.510587, -0.08353], [51.512318, -0.079421], [51.512378, -0.094119], [51.517552, -0.080499], [51.513301, -0.090045], [51.511005, -0.087115], [51.518081, -0.0799], [51.515519, -0.104798], [51.517507, -0.083239], [51.512182, -0.104216], [51.514716, -0.083068], [51.516345, -0.08372], [51.511644, -0.087665], [51.509241, -0.08373], [51.512901, -0.104186], [51.51626, -0.084012], [51.511474, -0.082772], [51.509262, -0.085026], [51.511735, -0.104379], [51.513892, -0.104289], [51.515721, -0.10061], [51.510652, -0.093038], [51.513249, -0.086877], [51.517239, -0.088872], [51.514745, -0.079319], [51.513083, -0.104323], [51.513474, -0.084129], [51.513954, -0.102557], [51.513195, -0.089041], [51.516293, -0.102604], [51.518169, -0.079752], [51.511722, -0.081464], [51.5143, -0.074149], [51.512991, -0.104182], [51.512955, -0.096401], [51.510918, -0.087263], [51.512993, -0.104326], [51.515681, -0.109259], [51.510549, -0.086702], [51.514804, -0.08292], [51.509572, -0.087463], [51.509556, -0.086455], [51.514125, -0.107594], [51.516386, -0.080692], [51.515699, -0.104791], [51.513892, -0.093191], [51.508958, -0.082877], [51.514037, -0.085547], [51.51569, -0.082162], [51.519105, -0.087496], [51.513292, -0.083992], [51.51064, -0.092318], [51.514076, -0.10457], [51.514371, -0.083947], [51.514079, -0.104714], [51.51744, -0.09016], [51.508676, -0.087645], [51.511587, -0.084208], [51.516011, -0.101895], [51.509556, -0.086455], [51.515878, -0.104783], [51.516045, -0.081859], [51.512544, -0.104345], [51.513292, -0.089469], [51.509542, -0.080115], [51.508676, -0.087645], [51.510549, -0.086702], [51.513303, -0.090189], [51.510839, -0.10456], [51.513208, -0.073331], [51.514631, -0.08336], [51.51485, -0.091278], [51.511459, -0.087384], [51.517137, -0.088155], [51.513287, -0.089181], [51.514718, -0.083212], [51.514101, -0.083959], [51.517372, -0.080506], [51.513984, -0.104429], [51.514254, -0.104418], [51.513252, -0.087021], [51.520805, -0.09247], [51.512057, -0.102059], [51.513204, -0.089617], [51.516499, -0.098704], [51.513619, -0.076484], [51.510862, -0.072853], [51.512071, -0.102923], [51.51181, -0.09789], [51.51642, -0.104905], [51.519022, -0.087932], [51.511104, -0.104261], [51.510894, -0.102396], [51.516337, -0.094242], [51.510282, -0.086857], [51.510549, -0.086702], [51.513301, -0.090045], [51.510872, -0.112197], [51.518043, -0.110747], [51.522147, -0.097604], [51.517545, -0.107741], [51.518186, -0.114056], [51.518186, -0.114056], [51.504886, -0.075843], [51.511765, -0.073103], [51.513118, -0.073335], [51.51116, -0.07457], [51.514305, -0.074438], [51.508677, -0.104361], [51.504351, -0.076154], [51.519668, -0.088914], [51.519878, -0.101878], [51.514854, -0.074991], [51.517057, -0.083258], [51.512284, -0.093835], [51.51248, -0.094836], [51.51624, -0.104912], [51.511606, -0.08536], [51.511921, -0.099183], [51.514086, -0.105146], [51.514403, -0.102538], [51.510926, -0.104412], [51.517817, -0.080199], [51.512574, -0.09512], [51.51775, -0.109318], [51.514644, -0.089701], [51.509447, -0.07983], [51.513282, -0.088893], [51.516479, -0.103029], [51.509033, -0.087486], [51.512867, -0.096549], [51.517147, -0.088731], [51.517147, -0.088731], [51.51416, -0.087559], [51.511536, -0.075563], [51.512184, -0.10436], [51.517807, -0.107298], [51.518526, -0.079593], [51.517239, -0.088872], [51.510984, -0.102392], [51.51337, -0.083269], [51.516456, -0.085013], [51.513444, -0.07678], [51.513746, -0.100836], [51.513859, -0.102273], [51.514076, -0.10457], [51.512498, -0.084891], [51.514844, -0.085369], [51.516872, -0.10503], [51.51321, -0.073475], [51.517188, -0.096801], [51.511735, -0.104379], [51.514529, -0.08812], [51.514101, -0.083959], [51.51853, -0.101934], [51.513982, -0.104285], [51.514716, -0.088545], [51.520316, -0.079085], [51.514106, -0.100821], [51.514739, -0.089985], [51.513696, -0.092191], [51.513299, -0.089901], [51.517221, -0.082242], [51.517729, -0.080347], [51.5161, -0.09627], [51.512039, -0.100907], [51.514095, -0.105722], [51.517374, -0.08065], [51.516202, -0.096987], [51.511074, -0.074862], [51.513474, -0.084129], [51.51328, -0.088749], [51.516048, -0.082003], [51.515788, -0.104787], [51.514766, -0.075139], [51.506883, -0.088008], [51.512777, -0.096553], [51.513205, -0.078664], [51.517727, -0.080203], [51.516844, -0.086726], [51.508811, -0.073949], [51.510862, -0.072853], [51.511975, -0.080445], [51.516223, -0.081707], [51.511829, -0.099042], [51.509452, -0.080118], [51.509761, -0.088032], [51.510848, -0.094039], [51.514433, -0.104411], [51.516512, -0.105045], [51.511826, -0.098898], [51.517459, -0.080358], [51.515628, -0.089371], [51.51045, -0.075177], [51.515858, -0.109108], [51.510639, -0.086698], [51.508932, -0.081293], [51.513106, -0.078091], [51.509676, -0.088324], [51.511001, -0.109021], [51.510564, -0.093186], [51.517647, -0.097359], [51.511702, -0.091265], [51.510924, -0.104268], [51.513881, -0.086994], [51.51569, -0.082162], [51.517775, -0.105281], [51.514613, -0.104403], [51.517637, -0.080207], [51.511277, -0.087248], [51.51055, -0.092322], [51.517149, -0.088875], [51.509927, -0.081684], [51.513285, -0.089037], [51.517045, -0.088015], [51.50948, -0.087323], [51.509535, -0.079683], [51.516014, -0.102039], [51.516628, -0.095527], [51.515747, -0.102194], [51.516011, -0.101895], [51.514278, -0.083807], [51.510906, -0.108737], [51.508671, -0.087357], [51.514217, -0.074585], [51.518081, -0.0799], [51.516576, -0.103457], [51.512782, -0.096841], [51.517683, -0.105141], [51.516256, -0.083724], [51.513085, -0.076795], [51.511894, -0.091978], [51.510821, -0.086834], [51.518128, -0.088258], [51.51633, -0.104909], [51.510902, -0.108449], [51.512203, -0.094415], [51.511783, -0.085209], [51.510749, -0.104564], [51.515701, -0.104935], [51.517319, -0.093769], [51.51317, -0.098554], [51.512155, -0.108108], [51.513751, -0.101124], [51.510534, -0.091314], [51.51197, -0.102207], [51.513222, -0.079672], [51.513294, -0.089613], [51.513961, -0.102989], [51.510724, -0.086406], [51.513299, -0.089901], [51.520984, -0.092463], [51.510804, -0.085826], [51.513748, -0.10098], [51.516166, -0.083728], [51.513699, -0.075904], [51.515369, -0.084482], [51.51902, -0.087788], [51.517162, -0.106315], [51.513257, -0.087309], [51.514981, -0.082769], [51.518043, -0.110747], [51.510749, -0.104564], [51.517637, -0.080207], [51.517533, -0.107021], [51.513301, -0.090045], [51.513335, -0.081108], [51.512544, -0.104345], [51.511511, -0.090553], [51.517317, -0.08267], [51.51045, -0.075177], [51.513518, -0.092342], [51.511963, -0.085201], [51.510582, -0.083242], [51.508929, -0.081149], [51.515817, -0.08994], [51.51379, -0.092475], [51.517722, -0.107589], [51.516433, -0.083572], [51.514283, -0.084095], [51.513296, -0.089757], [51.5137, -0.092479], [51.513698, -0.092335], [51.518218, -0.088254], [51.512055, -0.101915], [51.513103, -0.088901], [51.517509, -0.077906], [51.5196, -0.079259], [51.519022, -0.087932], [51.514344, -0.104414], [51.517147, -0.088731], [51.514132, -0.108026], [51.517147, -0.088731], [51.517239, -0.088872], [51.517147, -0.088731], [51.510019, -0.081824], [51.513296, -0.089757], [51.514278, -0.083807], [51.507288, -0.074301], [51.510347, -0.090889], [51.516253, -0.089057], [51.515542, -0.106238], [51.510354, -0.091322], [51.51409, -0.094336], [51.51763, -0.107449], [51.509371, -0.086175], [51.512047, -0.095863], [51.511818, -0.103943], [51.51754, -0.085256], [51.512372, -0.088211], [51.513309, -0.085001], [51.516574, -0.103313], [51.517197, -0.080802], [51.509036, -0.082154], [51.516934, -0.086722], [51.510749, -0.104564], [51.510836, -0.104416], [51.511896, -0.092122], [51.512777, -0.096553], [51.515208, -0.080165], [51.510912, -0.103548], [51.510836, -0.093319], [51.513746, -0.100836], [51.513211, -0.090049], [51.516076, -0.083732], [51.51343, -0.081392], [51.515276, -0.084342], [51.510279, -0.086713], [51.515593, -0.109407], [51.51055, -0.092322], [51.510804, -0.085826], [51.516799, -0.083989], [51.510979, -0.102104], [51.514049, -0.108462], [51.511824, -0.098754], [51.513874, -0.075609], [51.51167, -0.083772], [51.514296, -0.095913], [51.51328, -0.088749], [51.507917, -0.074275], [51.511819, -0.098466], [51.510974, -0.101816], [51.518974, -0.090529], [51.510246, -0.090173], [51.517904, -0.080051], [51.510017, -0.087156], [51.516743, -0.08601], [51.51091, -0.103404], [51.508454, -0.074108], [51.517147, -0.088731], [51.516106, -0.102179], [51.519898, -0.097553], [51.517705, -0.084384], [51.516932, -0.081101], [51.517509, -0.083383], [51.510107, -0.087153], [51.510915, -0.087119], [51.517031, -0.081673], [51.517195, -0.080658], [51.513864, -0.102561], [51.516845, -0.081249], [51.510821, -0.086834], [51.50912, -0.087338], [51.517197, -0.080802], [51.517236, -0.088728], [51.515519, -0.104798], [51.515271, -0.089531], [51.52074, -0.094058], [51.512494, -0.0957], [51.517031, -0.081673], [51.512256, -0.08663], [51.509118, -0.087194], [51.51988, -0.090923], [51.509454, -0.080262], [51.516932, -0.081101], [51.51285, -0.084443], [51.517531, -0.106877], [51.517144, -0.088587], [51.51605, -0.082147], [51.510652, -0.093038], [51.511975, -0.080445], [51.514313, -0.102542], [51.509922, -0.086872], [51.517814, -0.080055], [51.516256, -0.083724], [51.517038, -0.087583], [51.509033, -0.087486], [51.514076, -0.10457], [51.5133, -0.073471], [51.511967, -0.102063], [51.51055, -0.092322], [51.511908, -0.103939], [51.510828, -0.10946], [51.518081, -0.0799], [51.517727, -0.107877], [51.515906, -0.095413], [51.515047, -0.097899], [51.513282, -0.088893], [51.512616, -0.075662], [51.512574, -0.09512], [51.517994, -0.080048], [51.511872, -0.096158], [51.516256, -0.083724], [51.515953, -0.081719], [51.515721, -0.10061], [51.517059, -0.088879], [51.510901, -0.102828], [51.519983, -0.097261], [51.510475, -0.104287], [51.513359, -0.082548], [51.514397, -0.096629], [51.510818, -0.08669], [51.508097, -0.074267], [51.510492, -0.083245], [51.510714, -0.08583], [51.509856, -0.088316], [51.513083, -0.104323], [51.517504, -0.083095], [51.511536, -0.075563], [51.510929, -0.104556], [51.51684, -0.080961], [51.516095, -0.095982], [51.51219, -0.088074], [51.51055, -0.092322], [51.511501, -0.089976], [51.517462, -0.080502], [51.510926, -0.104412], [51.519896, -0.097409], [51.517549, -0.080354], [51.512284, -0.093835], [51.515688, -0.082018], [51.51693, -0.080957], [51.513986, -0.104573], [51.511735, -0.104379], [51.517812, -0.107586], [51.517814, -0.10773], [51.518161, -0.112472], [51.517725, -0.107733], [51.517727, -0.107877], [51.519289, -0.087777], [51.519289, -0.087777], [51.519287, -0.087633], [51.511401, -0.072831], [51.507825, -0.074134], [51.5105, -0.072725], [51.512486, -0.073217], [51.510143, -0.072884], [51.514473, -0.07371], [51.51006, -0.07332], [51.513612, -0.076052], [51.504351, -0.076154], [51.507892, -0.094739], [51.504174, -0.076306], [51.517745, -0.10903], [51.516133, -0.081711], [51.517683, -0.105141], [51.517043, -0.087871], [51.519199, -0.087781], [51.514047, -0.075169], [51.513587, -0.091042], [51.517239, -0.088872], [51.518786, -0.101059], [51.511476, -0.077439], [51.517268, -0.10732], [51.517011, -0.096953], [51.51578, -0.082158], [51.518796, -0.079581], [51.510112, -0.081964], [51.515699, -0.104791], [51.517552, -0.080499], [51.512406, -0.095848], [51.513347, -0.081828], [51.510749, -0.104564], [51.517126, -0.081958], [51.513328, -0.086153], [51.51704, -0.087727], [51.517327, -0.083247], [51.515128, -0.09732], [51.513529, -0.076488], [51.518279, -0.103098], [51.514125, -0.107594], [51.511501, -0.089976], [51.518703, -0.079441], [51.515191, -0.084633], [51.510897, -0.085967], [51.518532, -0.102078], [51.513257, -0.098406], [51.516293, -0.102604], [51.515968, -0.104779], [51.509771, -0.088608], [51.517213, -0.08181], [51.51754, -0.107453], [51.509631, -0.085587], [51.511079, -0.07515], [51.516343, -0.083576], [51.514166, -0.104566], [51.513167, -0.087313], [51.514893, -0.082916], [51.520075, -0.097402], [51.511963, -0.101775], [51.509059, -0.083594], [51.518081, -0.0799], [51.510991, -0.108445], [51.511167, -0.075002], [51.510726, -0.08655], [51.512537, -0.092816], [51.517955, -0.105274], [51.511513, -0.090697], [51.515648, -0.07957], [51.510933, -0.104844], [51.508871, -0.094122], [51.51719, -0.096945], [51.518883, -0.079434], [51.513897, -0.104577], [51.517453, -0.096502], [51.51065, -0.092894], [51.517239, -0.088872], [51.512537, -0.092816], [51.517412, -0.082955], [51.517296, -0.086851], [51.514076, -0.10457], [51.514072, -0.104282], [51.510354, -0.091322], [51.517196, -0.102855], [51.516007, -0.101607], [51.509187, -0.080418], [51.517017, -0.080809], [51.513988, -0.077045], [51.509733, -0.086304], [51.511648, -0.104526], [51.514574, -0.074426], [51.51817, -0.113048], [51.51781, -0.107442], [51.511916, -0.087797], [51.511605, -0.090837], [51.511783, -0.085209], [51.51055, -0.092322], [51.514076, -0.10457], [51.51737, -0.108036], [51.511152, -0.074138], [51.516348, -0.083864], [51.515333, -0.082321], [51.519905, -0.097985], [51.513502, -0.091334], [51.511957, -0.095866], [51.514123, -0.10745], [51.517142, -0.088443], [51.512042, -0.095575], [51.511998, -0.103935], [51.511975, -0.080445], [51.516137, -0.081999], [51.51343, -0.081392], [51.51209, -0.104076], [51.516263, -0.084156], [51.513698, -0.092335], [51.518796, -0.079581], [51.513372, -0.088889], [51.514107, -0.106442], [51.520073, -0.097258], [51.511557, -0.082336], [51.512624, -0.092668], [51.517637, -0.096783], [51.518171, -0.079896], [51.511322, -0.089984], [51.520255, -0.097394], [51.511131, -0.072842], [51.513464, -0.08903], [51.510968, -0.079334], [51.510652, -0.093038], [51.511708, -0.097174], [51.513208, -0.073331], [51.513522, -0.076056], [51.511986, -0.103215], [51.515429, -0.104802], [51.517188, -0.096801], [51.517327, -0.083247], [51.510984, -0.102392], [51.51049, -0.083101], [51.517239, -0.088872], [51.512288, -0.094123], [51.517387, -0.103567], [51.509759, -0.087888], [51.511439, -0.097185], [51.517545, -0.107741], [51.519988, -0.097549], [51.517538, -0.107309], [51.517812, -0.079911], [51.512454, -0.104349], [51.512993, -0.104326], [51.511605, -0.090837], [51.514107, -0.106442], [51.518452, -0.102658], [51.51613, -0.081567], [51.511474, -0.082772], [51.511073, -0.102388], [51.513656, -0.10084], [51.514557, -0.089849], [51.517635, -0.096639], [51.520075, -0.097402], [51.517057, -0.088735], [51.517149, -0.088875], [51.517462, -0.080502], [51.512824, -0.088336], [51.51578, -0.082158], [51.514163, -0.07675], [51.514191, -0.083955], [51.515247, -0.104665], [51.509373, -0.086319], [51.509348, -0.084734], [51.517462, -0.080502], [51.51338, -0.083845], [51.512464, -0.088351], [51.51704, -0.087727], [51.517043, -0.087871], [51.512466, -0.105069], [51.517535, -0.107165], [51.517241, -0.089016], [51.512901, -0.104186], [51.515721, -0.10061], [51.509858, -0.08846], [51.517552, -0.080499], [51.510836, -0.093319], [51.515648, -0.07957], [51.510818, -0.08669], [51.51719, -0.108044], [51.513083, -0.104323], [51.510984, -0.108013], [51.513652, -0.083977], [51.509535, -0.079683], [51.517414, -0.088576], [51.510896, -0.10254], [51.50953, -0.079395], [51.509059, -0.083594], [51.513278, -0.088605], [51.509925, -0.08154], [51.513275, -0.088461], [51.510652, -0.093038], [51.513207, -0.084284], [51.510211, -0.082537], [51.509118, -0.087194], [51.518873, -0.100911], [51.518706, -0.079585], [51.511967, -0.102063], [51.511145, -0.073706], [51.515721, -0.10061], [51.51131, -0.089264], [51.517147, -0.088731], [51.515361, -0.089527], [51.511632, -0.081468], [51.510149, -0.089745], [51.510742, -0.093035], [51.514893, -0.082916], [51.512005, -0.104367], [51.511819, -0.098466], [51.518171, -0.079896], [51.513467, -0.100271], [51.510592, -0.083818], [51.509644, -0.080831], [51.51025, -0.090461], [51.513179, -0.09913], [51.515249, -0.104809], [51.509556, -0.086455], [51.515716, -0.100322], [51.513656, -0.10084], [51.511005, -0.087115], [51.511476, -0.077439], [51.511911, -0.098607], [51.513656, -0.111938], [51.520314, -0.078941], [51.510456, -0.092038], [51.517408, -0.093765], [51.515334, -0.093419], [51.509024, -0.081433], [51.511551, -0.087524], [51.511469, -0.082484], [51.514101, -0.083959], [51.51173, -0.104091], [51.516422, -0.105049], [51.510282, -0.086857], [51.510703, -0.08511], [51.50912, -0.087338], [51.519175, -0.102917], [51.510625, -0.085834], [51.509641, -0.080687], [51.517683, -0.105141], [51.51387, -0.075321], [51.510594, -0.083962], [51.513312, -0.079668], [51.510918, -0.087263], [51.516572, -0.103169], [51.509454, -0.080262], [51.513836, -0.100832], [51.511635, -0.081612], [51.514467, -0.089852], [51.51376, -0.1017], [51.518189, -0.103102], [51.51614, -0.082143], [51.510031, -0.08802], [51.513444, -0.082257], [51.513257, -0.081832], [51.51604, -0.081571], [51.517593, -0.105144], [51.511803, -0.080884], [51.510279, -0.086713], [51.51512, -0.102364], [51.517595, -0.105288], [51.513864, -0.102561], [51.5135, -0.09119], [51.51605, -0.082147], [51.515723, -0.084179], [51.518452, -0.102658], [51.510984, -0.102392], [51.513014, -0.077951], [51.519985, -0.097405], [51.514069, -0.104138], [51.51693, -0.080957], [51.510564, -0.093186], [51.516628, -0.106626], [51.519896, -0.097409], [51.51142, -0.079459], [51.51604, -0.081571], [51.515271, -0.089531], [51.514664, -0.074422], [51.512962, -0.096833], [51.516343, -0.083576], [51.515157, -0.104669], [51.513892, -0.093191], [51.513385, -0.084133], [51.508229, -0.087808], [51.508899, -0.073801], [51.513176, -0.087889], [51.518169, -0.079752], [51.517732, -0.108166], [51.518154, -0.11204], [51.517547, -0.107885], [51.513651, -0.11165], [51.518172, -0.113192], [51.510872, -0.112197], [51.519788, -0.101882], [51.519287, -0.087633], [51.519287, -0.087633], [51.51918, -0.103205], [51.520032, -0.100286], [51.518814, -0.086211], [51.519022, -0.087932], [51.519604, -0.101601], [51.522147, -0.097604], [51.514475, -0.073854], [51.513115, -0.073191], [51.511309, -0.07269], [51.517812, -0.107586], [51.512307, -0.073225], [51.507512, -0.087982], [51.517593, -0.105144], [51.513746, -0.100836], [51.512576, -0.07869], [51.513546, -0.105168], [51.509766, -0.08832], [51.517948, -0.088265], [51.504261, -0.076158], [51.516551, -0.085297], [51.513464, -0.08903], [51.512362, -0.104209], [51.517239, -0.088872], [51.511885, -0.080449], [51.512436, -0.108817], [51.514125, -0.107594], [51.512085, -0.09269], [51.514076, -0.10457], [51.519197, -0.087636], [51.511783, -0.085209], [51.514118, -0.107162], [51.510636, -0.086554], [51.513208, -0.095382], [51.51693, -0.080957], [51.513186, -0.077511], [51.516112, -0.09699], [51.51191, -0.104083], [51.509381, -0.086751], [51.509081, -0.073937], [51.513617, -0.07634], [51.511552, -0.082048], [51.512824, -0.088336], [51.510279, -0.086713], [51.512406, -0.095848], [51.513589, -0.091186], [51.516512, -0.105045], [51.514338, -0.076454], [51.511816, -0.103799], [51.518169, -0.079752], [51.514416, -0.081207], [51.510918, -0.087263], [51.518171, -0.079896], [51.515811, -0.084031], [51.511961, -0.085057], [51.511635, -0.081612], [51.517405, -0.082523], [51.514581, -0.085812], [51.511249, -0.085519], [51.518259, -0.079748], [51.51737, -0.080362], [51.514303, -0.074294], [51.511191, -0.093016], [51.517149, -0.088875], [51.511516, -0.090841], [51.515157, -0.104669], [51.510836, -0.093319], [51.514079, -0.104714], [51.515958, -0.082007], [51.513866, -0.102705], [51.51055, -0.092322], [51.511111, -0.104693], [51.516176, -0.1065], [51.513179, -0.09913], [51.51303, -0.084436], [51.516343, -0.083576], [51.521516, -0.097486], [51.511551, -0.087524], [51.511044, -0.07299], [51.510194, -0.087005], [51.512993, -0.104326], [51.517284, -0.080654], [51.515878, -0.104783], [51.5132, -0.089329], [51.519803, -0.097269], [51.51328, -0.088749], [51.518171, -0.079896], [51.50986, -0.088604], [51.510846, -0.093895], [51.51191, -0.104083], [51.510814, -0.108596], [51.51379, -0.092475], [51.512282, -0.088214], [51.510984, -0.102392], [51.512452, -0.104205], [51.517429, -0.10616], [51.50875, -0.081157], [51.513106, -0.078091], [51.517236, -0.088728], [51.517017, -0.080809], [51.512765, -0.101309], [51.510889, -0.102108], [51.51398, -0.109762], [51.51206, -0.102203], [51.517727, -0.080203], [51.512578, -0.078834], [51.517107, -0.080805], [51.519615, -0.091223], [51.511583, -0.08392], [51.510989, -0.108301], [51.515834, -0.102046], [51.516577, -0.081404], [51.513335, -0.081108], [51.514076, -0.10457], [51.514054, -0.086555], [51.513323, -0.080388], [51.511928, -0.099615], [51.510286, -0.087145], [51.517727, -0.096779], [51.515247, -0.093567], [51.513205, -0.08414], [51.51635, -0.084008], [51.516432, -0.111246], [51.513204, -0.089617], [51.513046, -0.090921], [51.514129, -0.085687], [51.51994, -0.100146], [51.512351, -0.086914], [51.510536, -0.091458], [51.514192, -0.095053], [51.511896, -0.092122], [51.517326, -0.088724], [51.509466, -0.086459], [51.514375, -0.089712], [51.513287, -0.089181], [51.51172, -0.08132], [51.518398, -0.088247], [51.511131, -0.072842], [51.514127, -0.085543], [51.514675, -0.091573], [51.514068, -0.109614], [51.513612, -0.076052], [51.518169, -0.079752], [51.513184, -0.077367], [51.513748, -0.10098], [51.517683, -0.105141], [51.510114, -0.082108], [51.515527, -0.099753], [51.513296, -0.089757], [51.51702, -0.080953], [51.515071, -0.082765], [51.513866, -0.102705], [51.514123, -0.10745], [51.517453, -0.107601], [51.517149, -0.088875], [51.509674, -0.088179], [51.514132, -0.108026], [51.513174, -0.098842], [51.513303, -0.090189], [51.514072, -0.104282], [51.513652, -0.100552], [51.517526, -0.106589], [51.510953, -0.111617], [51.517685, -0.105285], [51.511797, -0.091549], [51.514044, -0.102553], [51.513192, -0.088897], [51.510639, -0.086698], [51.508185, -0.074119], [51.517557, -0.097362], [51.509352, -0.085022], [51.513209, -0.089905], [51.517408, -0.093765], [51.510744, -0.093179], [51.515628, -0.089371], [51.512955, -0.096401], [51.513268, -0.088029], [51.515248, -0.082613], [51.51055, -0.092322], [51.518883, -0.079434], [51.512872, -0.096837], [51.517725, -0.107733], [51.519061, -0.079282], [51.510652, -0.093038], [51.507602, -0.087978], [51.515203, -0.079877], [51.50994, -0.104597], [51.517683, -0.105141], [51.51753, -0.084679], [51.517549, -0.080354], [51.512554, -0.088347], [51.508673, -0.087501], [51.510899, -0.108305], [51.517635, -0.096639], [51.516345, -0.089197], [51.51902, -0.087788], [51.515203, -0.079877], [51.517625, -0.107161], [51.51131, -0.089264], [51.51702, -0.080953], [51.511876, -0.096446], [51.517628, -0.107305], [51.51911, -0.087784], [51.514144, -0.108747], [51.513734, -0.111214], [51.512348, -0.08677], [51.517732, -0.097067], [51.51902, -0.087788], [51.508454, -0.074108], [51.513089, -0.099134], [51.516258, -0.083868], [51.517218, -0.098674], [51.515047, -0.097899], [51.5199, -0.097697], [51.518091, -0.097052], [51.513589, -0.091186], [51.511187, -0.087251], [51.513732, -0.11107], [51.512554, -0.088347], [51.510301, -0.082533], [51.517313, -0.082382], [51.513829, -0.089303], [51.520404, -0.078937], [51.51131, -0.089264], [51.517635, -0.107737], [51.509017, -0.081001], [51.511351, -0.075283], [51.516574, -0.103313], [51.512078, -0.103356], [51.514364, -0.083515], [51.513377, -0.083701], [51.511476, -0.082916], [51.511551, -0.104098], [51.517374, -0.08065], [51.516288, -0.102316], [51.510641, -0.086842], [51.517414, -0.083099], [51.510641, -0.086842], [51.518181, -0.097048], [51.511005, -0.087115], [51.509047, -0.082874], [51.513659, -0.100984], [51.509858, -0.08846], [51.510019, -0.081824], [51.517316, -0.093625], [51.518441, -0.085362], [51.51635, -0.084008], [51.518723, -0.09717], [51.514074, -0.104426], [51.517412, -0.082955], [51.516479, -0.103029], [51.517595, -0.105288], [51.513462, -0.088886], [51.517644, -0.097215], [51.512, -0.104079], [51.51173, -0.104091], [51.509144, -0.083302], [51.513647, -0.089166], [51.510988, -0.10268], [51.510102, -0.086865], [51.514721, -0.077879], [51.520035, -0.10043], [51.510717, -0.085974], [51.514101, -0.083959], [51.513802, -0.093195], [51.504351, -0.076154], [51.510652, -0.093038], [51.514734, -0.089697], [51.514344, -0.104414], [51.514074, -0.104426], [51.51754, -0.107453], [51.508544, -0.074104], [51.511995, -0.092694], [51.516717, -0.106622], [51.515721, -0.10061], [51.514072, -0.104282], [51.516223, -0.081707], [51.520404, -0.078937], [51.517683, -0.105141], [51.511783, -0.085209], [51.511283, -0.104253], [51.519287, -0.087633], [51.513765, -0.101988], [51.518168, -0.112904], [51.514074, -0.104426], [51.514147, -0.092316], [51.514074, -0.104426], [51.513263, -0.104315], [51.511389, -0.077587], [51.515247, -0.104665], [51.512498, -0.079414], [51.516045, -0.081859], [51.513101, -0.077803], [51.511558, -0.10453], [51.512088, -0.092834], [51.508371, -0.08002], [51.514107, -0.106442], [51.517545, -0.107741], [51.51339, -0.073467], [51.517595, -0.105288], [51.514051, -0.086411], [51.513654, -0.100696], [51.509867, -0.089036], [51.50945, -0.079974], [51.514293, -0.095769], [51.513714, -0.093343], [51.513299, -0.084425], [51.512678, -0.09598], [51.512067, -0.102635], [51.511705, -0.091409], [51.516479, -0.103029], [51.512577, -0.095264], [51.511694, -0.085213], [51.512182, -0.104216], [51.510654, -0.093182], [51.509208, -0.08719], [51.515808, -0.089364], [51.51604, -0.081571], [51.517149, -0.088875], [51.516165, -0.089205], [51.513532, -0.076632], [51.513713, -0.087722], [51.51349, -0.090614], [51.512088, -0.092834], [51.50987, -0.08918], [51.515271, -0.089531], [51.515721, -0.10061], [51.520409, -0.079225], [51.512969, -0.097265], [51.515951, -0.081575], [51.517729, -0.108021], [51.513896, -0.076905], [51.50935, -0.084878], [51.511965, -0.101919], [51.516939, -0.08701], [51.514102, -0.106154], [51.518099, -0.114204], [51.511106, -0.104405], [51.521338, -0.097637], [51.508274, -0.074115], [51.508274, -0.074115], [51.508632, -0.073956], [51.511309, -0.07269], [51.514113, -0.073725], [51.511039, -0.072702], [51.504618, -0.075999], [51.510053, -0.072887], [51.510153, -0.090033]],\n",
       "                {\n",
       "  &quot;minOpacity&quot;: 0.5,\n",
       "  &quot;maxZoom&quot;: 18,\n",
       "  &quot;radius&quot;: 8,\n",
       "  &quot;blur&quot;: 15,\n",
       "}\n",
       "            );\n",
       "        \n",
       "    \n",
       "            heat_map_96a7a4ea6dcb29188bcbbc078c7373d1.addTo(map_5b6cfe6c527b0a79a5717d292c673570);\n",
       "        \n",
       "&lt;/script&gt;\n",
       "&lt;/html&gt;\" style=\"position:absolute;width:100%;height:100%;left:0;top:0;border:none !important;\" allowfullscreen webkitallowfullscreen mozallowfullscreen></iframe></div></div>"
      ],
      "text/plain": [
       "<folium.folium.Map at 0x21ab11b5430>"
      ]
     },
     "execution_count": 91,
     "metadata": {},
     "output_type": "execute_result"
    }
   ],
   "source": [
    "import folium\n",
    "from folium.plugins import HeatMap\n",
    "\n",
    "city_df = df[df[\"District Area\"] == \"City of London\"]\n",
    "\n",
    "print(\"Total Accidents in City of London:\", city_df.shape[0])\n",
    "print(\"Total Casualties in City of London:\", city_df[\"Number_of_Casualties\"].sum())\n",
    "\n",
    "coords = city_df[[\"Latitude\", \"Longitude\"]].dropna().values.tolist()\n",
    "m = folium.Map(location=[city_df[\"Latitude\"].mean(), city_df[\"Longitude\"].mean()], zoom_start=12)\n",
    "HeatMap(coords, radius=8).add_to(m)\n",
    "m"
   ]
  },
  {
   "cell_type": "markdown",
   "id": "c45ed7c6-568c-40c0-9e51-c85b9dfd623d",
   "metadata": {},
   "source": [
    "<h2>District 2: Brent - Accidents per Day of the Week</h2>"
   ]
  },
  {
   "cell_type": "markdown",
   "id": "1b4d3149-37be-42b2-88dc-139f169e12d5",
   "metadata": {},
   "source": [
    "<h3>Insight 27: In Brent, more accidents happen on weekdays than on weekends. This is linked to work and school travel.</h3>"
   ]
  },
  {
   "cell_type": "code",
   "execution_count": 79,
   "id": "8efe5156-4450-4e81-a4f3-72edc59c24a8",
   "metadata": {},
   "outputs": [
    {
     "name": "stdout",
     "output_type": "stream",
     "text": [
      "Accidents per Day of the Week in Brent:\n",
      " DayOfWeek\n",
      "Thursday     488\n",
      "Saturday     449\n",
      "Friday       416\n",
      "Sunday       414\n",
      "Wednesday    397\n",
      "Tuesday      377\n",
      "Monday       316\n",
      "Name: count, dtype: int64\n"
     ]
    },
    {
     "data": {
      "text/html": [
       "<div style=\"width:100%;\"><div style=\"position:relative;width:100%;height:0;padding-bottom:60%;\"><span style=\"color:#565656\">Make this Notebook Trusted to load map: File -> Trust Notebook</span><iframe srcdoc=\"&lt;!DOCTYPE html&gt;\n",
       "&lt;html&gt;\n",
       "&lt;head&gt;\n",
       "    \n",
       "    &lt;meta http-equiv=&quot;content-type&quot; content=&quot;text/html; charset=UTF-8&quot; /&gt;\n",
       "    &lt;script src=&quot;https://cdn.jsdelivr.net/npm/leaflet@1.9.3/dist/leaflet.js&quot;&gt;&lt;/script&gt;\n",
       "    &lt;script src=&quot;https://code.jquery.com/jquery-3.7.1.min.js&quot;&gt;&lt;/script&gt;\n",
       "    &lt;script src=&quot;https://cdn.jsdelivr.net/npm/bootstrap@5.2.2/dist/js/bootstrap.bundle.min.js&quot;&gt;&lt;/script&gt;\n",
       "    &lt;script src=&quot;https://cdnjs.cloudflare.com/ajax/libs/Leaflet.awesome-markers/2.0.2/leaflet.awesome-markers.js&quot;&gt;&lt;/script&gt;\n",
       "    &lt;link rel=&quot;stylesheet&quot; href=&quot;https://cdn.jsdelivr.net/npm/leaflet@1.9.3/dist/leaflet.css&quot;/&gt;\n",
       "    &lt;link rel=&quot;stylesheet&quot; href=&quot;https://cdn.jsdelivr.net/npm/bootstrap@5.2.2/dist/css/bootstrap.min.css&quot;/&gt;\n",
       "    &lt;link rel=&quot;stylesheet&quot; href=&quot;https://netdna.bootstrapcdn.com/bootstrap/3.0.0/css/bootstrap-glyphicons.css&quot;/&gt;\n",
       "    &lt;link rel=&quot;stylesheet&quot; href=&quot;https://cdn.jsdelivr.net/npm/@fortawesome/fontawesome-free@6.2.0/css/all.min.css&quot;/&gt;\n",
       "    &lt;link rel=&quot;stylesheet&quot; href=&quot;https://cdnjs.cloudflare.com/ajax/libs/Leaflet.awesome-markers/2.0.2/leaflet.awesome-markers.css&quot;/&gt;\n",
       "    &lt;link rel=&quot;stylesheet&quot; href=&quot;https://cdn.jsdelivr.net/gh/python-visualization/folium/folium/templates/leaflet.awesome.rotate.min.css&quot;/&gt;\n",
       "    \n",
       "            &lt;meta name=&quot;viewport&quot; content=&quot;width=device-width,\n",
       "                initial-scale=1.0, maximum-scale=1.0, user-scalable=no&quot; /&gt;\n",
       "            &lt;style&gt;\n",
       "                #map_379b0fd227c7ddb7229365a321f02b52 {\n",
       "                    position: relative;\n",
       "                    width: 100.0%;\n",
       "                    height: 100.0%;\n",
       "                    left: 0.0%;\n",
       "                    top: 0.0%;\n",
       "                }\n",
       "                .leaflet-container { font-size: 1rem; }\n",
       "            &lt;/style&gt;\n",
       "\n",
       "            &lt;style&gt;html, body {\n",
       "                width: 100%;\n",
       "                height: 100%;\n",
       "                margin: 0;\n",
       "                padding: 0;\n",
       "            }\n",
       "            &lt;/style&gt;\n",
       "\n",
       "            &lt;style&gt;#map {\n",
       "                position:absolute;\n",
       "                top:0;\n",
       "                bottom:0;\n",
       "                right:0;\n",
       "                left:0;\n",
       "                }\n",
       "            &lt;/style&gt;\n",
       "\n",
       "            &lt;script&gt;\n",
       "                L_NO_TOUCH = false;\n",
       "                L_DISABLE_3D = false;\n",
       "            &lt;/script&gt;\n",
       "\n",
       "        \n",
       "    &lt;script src=&quot;https://cdn.jsdelivr.net/gh/python-visualization/folium@main/folium/templates/leaflet_heat.min.js&quot;&gt;&lt;/script&gt;\n",
       "&lt;/head&gt;\n",
       "&lt;body&gt;\n",
       "    \n",
       "    \n",
       "            &lt;div class=&quot;folium-map&quot; id=&quot;map_379b0fd227c7ddb7229365a321f02b52&quot; &gt;&lt;/div&gt;\n",
       "        \n",
       "&lt;/body&gt;\n",
       "&lt;script&gt;\n",
       "    \n",
       "    \n",
       "            var map_379b0fd227c7ddb7229365a321f02b52 = L.map(\n",
       "                &quot;map_379b0fd227c7ddb7229365a321f02b52&quot;,\n",
       "                {\n",
       "                    center: [51.55491795939796, -0.2596497192859643],\n",
       "                    crs: L.CRS.EPSG3857,\n",
       "                    ...{\n",
       "  &quot;zoom&quot;: 12,\n",
       "  &quot;zoomControl&quot;: true,\n",
       "  &quot;preferCanvas&quot;: false,\n",
       "}\n",
       "\n",
       "                }\n",
       "            );\n",
       "\n",
       "            \n",
       "\n",
       "        \n",
       "    \n",
       "            var tile_layer_d3bb65cb0ffe9ff64ea5f9eba41d8486 = L.tileLayer(\n",
       "                &quot;https://tile.openstreetmap.org/{z}/{x}/{y}.png&quot;,\n",
       "                {\n",
       "  &quot;minZoom&quot;: 0,\n",
       "  &quot;maxZoom&quot;: 19,\n",
       "  &quot;maxNativeZoom&quot;: 19,\n",
       "  &quot;noWrap&quot;: false,\n",
       "  &quot;attribution&quot;: &quot;\\u0026copy; \\u003ca href=\\&quot;https://www.openstreetmap.org/copyright\\&quot;\\u003eOpenStreetMap\\u003c/a\\u003e contributors&quot;,\n",
       "  &quot;subdomains&quot;: &quot;abc&quot;,\n",
       "  &quot;detectRetina&quot;: false,\n",
       "  &quot;tms&quot;: false,\n",
       "  &quot;opacity&quot;: 1,\n",
       "}\n",
       "\n",
       "            );\n",
       "        \n",
       "    \n",
       "            tile_layer_d3bb65cb0ffe9ff64ea5f9eba41d8486.addTo(map_379b0fd227c7ddb7229365a321f02b52);\n",
       "        \n",
       "    \n",
       "            var heat_map_8cf9f00a58e0dab2cf37da93f0f96b09 = L.heatLayer(\n",
       "                [[51.532841, -0.205585], [51.532844, -0.205729], [51.532107, -0.192926], [51.550132, -0.207212], [51.552335, -0.210155], [51.550132, -0.207212], [51.545379, -0.202207], [51.561156, -0.276751], [51.554898, -0.213084], [51.553714, -0.21212], [51.544923, -0.201792], [51.552247, -0.210303], [51.554536, -0.212953], [51.544739, -0.201511], [51.545743, -0.202481], [51.55289, -0.211143], [51.545653, -0.202485], [51.532393, -0.235304], [51.532152, -0.237188], [51.532228, -0.23632], [51.585388, -0.285794], [51.587149, -0.301752], [51.579193, -0.323842], [51.586588, -0.306536], [51.583639, -0.314007], [51.579279, -0.32355], [51.585156, -0.282194], [51.585117, -0.310488], [51.586848, -0.299597], [51.591211, -0.284276], [51.582853, -0.290797], [51.586415, -0.306976], [51.58722, -0.30045], [51.541378, -0.258895], [51.586578, -0.2934], [51.546037, -0.25165], [51.547252, -0.224777], [51.578928, -0.32414], [51.561486, -0.330697], [51.586331, -0.307412], [51.577425, -0.325927], [51.578056, -0.326049], [51.584984, -0.282778], [51.565417, -0.272983], [51.59211, -0.265907], [51.545765, -0.251517], [51.570053, -0.294885], [51.565301, -0.277316], [51.584059, -0.274874], [51.563601, -0.229623], [51.552181, -0.302622], [51.586499, -0.306539], [51.548656, -0.282849], [51.538541, -0.207812], [51.545284, -0.237401], [51.550215, -0.272693], [51.575366, -0.307819], [51.550068, -0.244573], [51.577084, -0.308477], [51.531698, -0.219039], [51.546893, -0.266906], [51.544004, -0.296869], [51.583908, -0.282963], [51.551588, -0.317645], [51.543056, -0.226815], [51.584616, -0.282215], [51.534174, -0.204523], [51.541378, -0.258895], [51.571491, -0.294831], [51.56194, -0.318417], [51.557947, -0.248308], [51.558566, -0.253622], [51.53394, -0.303589], [51.55283, -0.285432], [51.538731, -0.2502], [51.538198, -0.281079], [51.558656, -0.253619], [51.584105, -0.265779], [51.561019, -0.231311], [51.545538, -0.297244], [51.561033, -0.220345], [51.567499, -0.243613], [51.532564, -0.234721], [51.554734, -0.286515], [51.585531, -0.277128], [51.546588, -0.210669], [51.565415, -0.272839], [51.570696, -0.271195], [51.554734, -0.286515], [51.548588, -0.296698], [51.559404, -0.219687], [51.54581, -0.297378], [51.551783, -0.306242], [51.542084, -0.198443], [51.540878, -0.237427], [51.566274, -0.294738], [51.53116, -0.231026], [51.547445, -0.26775], [51.541482, -0.20611], [51.536173, -0.205886], [51.547886, -0.237012], [51.561878, -0.283072], [51.537338, -0.247225], [51.538962, -0.235627], [51.561618, -0.296066], [51.53965, -0.300492], [51.533545, -0.192869], [51.556822, -0.215461], [51.568977, -0.240237], [51.535863, -0.244831], [51.534039, -0.219236], [51.55525, -0.315923], [51.560931, -0.231458], [51.543682, -0.274816], [51.552097, -0.303057], [51.5491, -0.246052], [51.54122, -0.24823], [51.547076, -0.249015], [51.565432, -0.273992], [51.56595, -0.248289], [51.538267, -0.207534], [51.544161, -0.210764], [51.539583, -0.253052], [51.551167, -0.216115], [51.576928, -0.260856], [51.556173, -0.249963], [51.544904, -0.272318], [51.561949, -0.257388], [51.535807, -0.205468], [51.544542, -0.272187], [51.544635, -0.296989], [51.570014, -0.267614], [51.597966, -0.272759], [51.587865, -0.264625], [51.557449, -0.221206], [51.584837, -0.278887], [51.571853, -0.307372], [51.5621, -0.292153], [51.544004, -0.296869], [51.552581, -0.256304], [51.545653, -0.202485], [51.583587, -0.267242], [51.565415, -0.272839], [51.553871, -0.288999], [51.534485, -0.242865], [51.573197, -0.294623], [51.556558, -0.319337], [51.595484, -0.269099], [51.535542, -0.247439], [51.562608, -0.28997], [51.553888, -0.253513], [51.535493, -0.244124], [51.575336, -0.262649], [51.543365, -0.199835], [51.562614, -0.315218], [51.55763, -0.30011], [51.559229, -0.292549], [51.541755, -0.296808], [51.54705, -0.223343], [51.566042, -0.24843], [51.536362, -0.248128], [51.541832, -0.259166], [51.551571, -0.260958], [51.548817, -0.23914], [51.560635, -0.253687], [51.544184, -0.236002], [51.551224, -0.261837], [51.544831, -0.201652], [51.53728, -0.201805], [51.551915, -0.259935], [51.557776, -0.248892], [51.584107, -0.265923], [51.586754, -0.299312], [51.552703, -0.240432], [51.584762, -0.2799], [51.53251, -0.201561], [51.574716, -0.325161], [51.56537, -0.25769], [51.530103, -0.226598], [51.541742, -0.25917], [51.533662, -0.194594], [51.584839, -0.279031], [51.584195, -0.265775], [51.554157, -0.314953], [51.534323, -0.226146], [51.543733, -0.200397], [51.568551, -0.321636], [51.547892, -0.279849], [51.543099, -0.259695], [51.556108, -0.215777], [51.561646, -0.285678], [51.533637, -0.193009], [51.560543, -0.253547], [51.562728, -0.304393], [51.553898, -0.212401], [51.543047, -0.305269], [51.532519, -0.225783], [51.563147, -0.289949], [51.565795, -0.311349], [51.551262, -0.313762], [51.5549, -0.26112], [51.548261, -0.238007], [51.54174, -0.265083], [51.548697, -0.27953], [51.54886, -0.242023], [51.547408, -0.235156], [51.538004, -0.249651], [51.55401, -0.249614], [51.562668, -0.251301], [51.550925, -0.241799], [51.560338, -0.276205], [51.557864, -0.218882], [51.581737, -0.313067], [51.535284, -0.29705], [51.547603, -0.236158], [51.552427, -0.313431], [51.551943, -0.298592], [51.550631, -0.28263], [51.550465, -0.241095], [51.552616, -0.216779], [51.540464, -0.245807], [51.565265, -0.274864], [51.553541, -0.291031], [51.551666, -0.249271], [51.562759, -0.306556], [51.566248, -0.226202], [51.552177, -0.302333], [51.543021, -0.224509], [51.572366, -0.262474], [51.544003, -0.206299], [51.555166, -0.230816], [51.568779, -0.269248], [51.534025, -0.242162], [51.547888, -0.219272], [51.532835, -0.205153], [51.55123, -0.292849], [51.563864, -0.289778], [51.541928, -0.265652], [51.547047, -0.229112], [51.55156, -0.309424], [51.536391, -0.214241], [51.587865, -0.264625], [51.570125, -0.262992], [51.537882, -0.302577], [51.54103, -0.200071], [51.544821, -0.272753], [51.562312, -0.245544], [51.54789, -0.219416], [51.536157, -0.252462], [51.565936, -0.229388], [51.532152, -0.237188], [51.582308, -0.296591], [51.54192, -0.295793], [51.532154, -0.237332], [51.588466, -0.281059], [51.552199, -0.24276], [51.536583, -0.256915], [51.53301, -0.240471], [51.55958, -0.219392], [51.562878, -0.259373], [51.541452, -0.276054], [51.549564, -0.229014], [51.537865, -0.198898], [51.585621, -0.277125], [51.562289, -0.280459], [51.584437, -0.282222], [51.585871, -0.275816], [51.546127, -0.251647], [51.549351, -0.262918], [51.562677, -0.300932], [51.586413, -0.306831], [51.555816, -0.250121], [51.560913, -0.254254], [51.554429, -0.315088], [51.559443, -0.234113], [51.5583, -0.253921], [51.546934, -0.203877], [51.566348, -0.244811], [51.546925, -0.250895], [51.557867, -0.285531], [51.584526, -0.282218], [51.537855, -0.300703], [51.544016, -0.273072], [51.571785, -0.284142], [51.5344, -0.219366], [51.560762, -0.244161], [51.568691, -0.269396], [51.559663, -0.218956], [51.5331, -0.240467], [51.536482, -0.250142], [51.539392, -0.252338], [51.540572, -0.302044], [51.565091, -0.287568], [51.545456, -0.273162], [51.559377, -0.253736], [51.546999, -0.231854], [51.59447, -0.261341], [51.584053, -0.268379], [51.587946, -0.264045], [51.560849, -0.255988], [51.541451, -0.263796], [51.54455, -0.23642], [51.533178, -0.233688], [51.536537, -0.20616], [51.546862, -0.222773], [51.548877, -0.237118], [51.548134, -0.277964], [51.547721, -0.238028], [51.547356, -0.311022], [51.55998, -0.251981], [51.552912, -0.254416], [51.534538, -0.204797], [51.555552, -0.244506], [51.55858, -0.285072], [51.57123, -0.289213], [51.550633, -0.23431], [51.542465, -0.259431], [51.53764, -0.249377], [51.558041, -0.248593], [51.564316, -0.321071], [51.545143, -0.228032], [51.550762, -0.260989], [51.565183, -0.287709], [51.541502, -0.297972], [51.554354, -0.212816], [51.537616, -0.247791], [51.561779, -0.319721], [51.53172, -0.232446], [51.578488, -0.262962], [51.544829, -0.201508], [51.5298, -0.194891], [51.552832, -0.285576], [51.53318, -0.233832], [51.548995, -0.221104], [51.561992, -0.297062], [51.582183, -0.25748], [51.569414, -0.306597], [51.558457, -0.276709], [51.563775, -0.229184], [51.547335, -0.224341], [51.571698, -0.290494], [51.563147, -0.289949], [51.536052, -0.2454], [51.557009, -0.215886], [51.541782, -0.292481], [51.532497, -0.200696], [51.593659, -0.267292], [51.537878, -0.229324], [51.53213, -0.194367], [51.561902, -0.297066], [51.551925, -0.218681], [51.584105, -0.265779], [51.578507, -0.326176], [51.536651, -0.298297], [51.539011, -0.25091], [51.532841, -0.205585], [51.586758, -0.305808], [51.548858, -0.241879], [51.583182, -0.252101], [51.575626, -0.294677], [51.534538, -0.204797], [51.545641, -0.267386], [51.592474, -0.266182], [51.579302, -0.306374], [51.5513, -0.285345], [51.535777, -0.191771], [51.557008, -0.227715], [51.532371, -0.233863], [51.5491, -0.246052], [51.55862, -0.306421], [51.546738, -0.2747], [51.55217, -0.301901], [51.552499, -0.256884], [51.532714, -0.203139], [51.542752, -0.254516], [51.570893, -0.272342], [51.546978, -0.309738], [51.547808, -0.225909], [51.545653, -0.202485], [51.55365, -0.249628], [51.563434, -0.260506], [51.541359, -0.263655], [51.559909, -0.253282], [51.531781, -0.218603], [51.586484, -0.299322], [51.557798, -0.317993], [51.531914, -0.287948], [51.535667, -0.249741], [51.544465, -0.201234], [51.544545, -0.296993], [51.552057, -0.300318], [51.588117, -0.281794], [51.593579, -0.27408], [51.54396, -0.215243], [51.562691, -0.314349], [51.5324, -0.200267], [51.551571, -0.260958], [51.568018, -0.230317], [51.562493, -0.306854], [51.547948, -0.277539], [51.55741, -0.322335], [51.563928, -0.251397], [51.569408, -0.263164], [51.577698, -0.326206], [51.570685, -0.295006], [51.585381, -0.279155], [51.552322, -0.257035], [51.559545, -0.246949], [51.550866, -0.261995], [51.549394, -0.217771], [51.57797, -0.32634], [51.536327, -0.239766], [51.585069, -0.270217], [51.540702, -0.255749], [51.570666, -0.232956], [51.569762, -0.287248], [51.579708, -0.322091], [51.589934, -0.258627], [51.552078, -0.258775], [51.560485, -0.21979], [51.55713, -0.321624], [51.565301, -0.277316], [51.551393, -0.261109], [51.557508, -0.322908], [51.554794, -0.315507], [51.545546, -0.273159], [51.550367, -0.216723], [51.55713, -0.321624], [51.53771, -0.248076], [51.55326, -0.217764], [51.542084, -0.198443], [51.553478, -0.286706], [51.535514, -0.215717], [51.561221, -0.330995], [51.536588, -0.221299], [51.582344, -0.262237], [51.553579, -0.293626], [51.554729, -0.255645], [51.586645, -0.298017], [51.539487, -0.252623], [51.543319, -0.262427], [51.551842, -0.248976], [51.544628, -0.271895], [51.531907, -0.232872], [51.532231, -0.236464], [51.548329, -0.260649], [51.549264, -0.221093], [51.560635, -0.253687], [51.532158, -0.23762], [51.541768, -0.254843], [51.541549, -0.198753], [51.551487, -0.261394], [51.547547, -0.250439], [51.540945, -0.200363], [51.562901, -0.279282], [51.545379, -0.202207], [51.539955, -0.253902], [51.534538, -0.204797], [51.529756, -0.269575], [51.545677, -0.269836], [51.544421, -0.251857], [51.55463, -0.255072], [51.545672, -0.215464], [51.546588, -0.210669], [51.532923, -0.246674], [51.556832, -0.264076], [51.593933, -0.26757], [51.537318, -0.210167], [51.546529, -0.218604], [51.545414, -0.252107], [51.540612, -0.213932], [51.55516, -0.315926], [51.569907, -0.236305], [51.552611, -0.295105], [51.561779, -0.319721], [51.544234, -0.287919], [51.540651, -0.25229], [51.581711, -0.317543], [51.553793, -0.21731], [51.568457, -0.229579], [51.583525, -0.250933], [51.541811, -0.27604], [51.532371, -0.233863], [51.543205, -0.224791], [51.547638, -0.311877], [51.544274, -0.235998], [51.56268, -0.301076], [51.565509, -0.273124], [51.551125, -0.21929], [51.567076, -0.227468], [51.542645, -0.259424], [51.535296, -0.225098], [51.550997, -0.283049], [51.546546, -0.237641], [51.55193, -0.260945], [51.536689, -0.245953], [51.549501, -0.260893], [51.532853, -0.218128], [51.561754, -0.256386], [51.553652, -0.243713], [51.544446, -0.271758], [51.547534, -0.225632], [51.564947, -0.277762], [51.56515, -0.236922], [51.557708, -0.317996], [51.536139, -0.245253], [51.562514, -0.308296], [51.555472, -0.239171], [51.569002, -0.321764], [51.562618, -0.315506], [51.552486, -0.256019], [51.544446, -0.271758], [51.585706, -0.276833], [51.565559, -0.26432], [51.533354, -0.203834], [51.534112, -0.242014], [51.540397, -0.302339], [51.538108, -0.29954], [51.544729, -0.272613], [51.569839, -0.280175], [51.570858, -0.288361], [51.566984, -0.227327], [51.553541, -0.291031], [51.55055, -0.264892], [51.552335, -0.210155], [51.558296, -0.253633], [51.54066, -0.301897], [51.551552, -0.302645], [51.557539, -0.287707], [51.537972, -0.302573], [51.532859, -0.206738], [51.561795, -0.295915], [51.539197, -0.300221], [51.555571, -0.215942], [51.54236, -0.198865], [51.532923, -0.246674], [51.584421, -0.305895], [51.580295, -0.294213], [51.594118, -0.280124], [51.562577, -0.300215], [51.534383, -0.236092], [51.536433, -0.252884], [51.565361, -0.293762], [51.562289, -0.280459], [51.585015, -0.278735], [51.539896, -0.237898], [51.553631, -0.291028], [51.537266, -0.254438], [51.552147, -0.300315], [51.537708, -0.247932], [51.546835, -0.221044], [51.532428, -0.196229], [51.593659, -0.267292], [51.590845, -0.271585], [51.586689, -0.29484], [51.5673, -0.266563], [51.552742, -0.28558], [51.54912, -0.247349], [51.552013, -0.303493], [51.553568, -0.286703], [51.556034, -0.25271], [51.569323, -0.239358], [51.541417, -0.279804], [51.549711, -0.281222], [51.576079, -0.294948], [51.576079, -0.294948], [51.593757, -0.273929], [51.565201, -0.264478], [51.530401, -0.228461], [51.565559, -0.26432], [51.55004, -0.207072], [51.535949, -0.244539], [51.557904, -0.269661], [51.564851, -0.277333], [51.593362, -0.265426], [51.535972, -0.246124], [51.554914, -0.286508], [51.547342, -0.297609], [51.565559, -0.26432], [51.566025, -0.265457], [51.546564, -0.238794], [51.569827, -0.230969], [51.532457, -0.233571], [51.559826, -0.253718], [51.541496, -0.27908], [51.56684, -0.265859], [51.546334, -0.217602], [51.544869, -0.221841], [51.552195, -0.297428], [51.535794, -0.192924], [51.540888, -0.256174], [51.569325, -0.239502], [51.53636, -0.247984], [51.544815, -0.296983], [51.562867, -0.258652], [51.54034, -0.243505], [51.584588, -0.26807], [51.55608, -0.28632], [51.550864, -0.298632], [51.537911, -0.249511], [51.557805, -0.287409], [51.551842, -0.261092], [51.578492, -0.26325], [51.55202, -0.297723], [51.560878, -0.31961], [51.547502, -0.265585], [51.54173, -0.204658], [51.55901, -0.22331], [51.559376, -0.327744], [51.541189, -0.276496], [51.589093, -0.256494], [51.584105, -0.265779], [51.585092, -0.277866], [51.542206, -0.266219], [51.557855, -0.248168], [51.550003, -0.240248], [51.549079, -0.244611], [51.546248, -0.265921], [51.55362, -0.21775], [51.583187, -0.31388], [51.534241, -0.274884], [51.580402, -0.320333], [51.562367, -0.231258], [51.550501, -0.219602], [51.53325, -0.274777], [51.573988, -0.256639], [51.561135, -0.306183], [51.535899, -0.205609], [51.569152, -0.239941], [51.555901, -0.24983], [51.533372, -0.240601], [51.555814, -0.249977], [51.57633, -0.299846], [51.536542, -0.248121], [51.579708, -0.322091], [51.569236, -0.239505], [51.538014, -0.244315], [51.541766, -0.30373], [51.580011, -0.262615], [51.582827, -0.252404], [51.543731, -0.200253], [51.545656, -0.202629], [51.537909, -0.249366], [51.562588, -0.300936], [51.594258, -0.265248], [51.543637, -0.22362], [51.566153, -0.225917], [51.538585, -0.246456], [51.540384, -0.276815], [51.561857, -0.28163], [51.549453, -0.221663], [51.528822, -0.195651], [51.55292, -0.285429], [51.567075, -0.24536], [51.562049, -0.319711], [51.554735, -0.250019], [51.548448, -0.226606], [51.541611, -0.232352], [51.563028, -0.325302], [51.553063, -0.295232], [51.558754, -0.254192], [51.546426, -0.217742], [51.587458, -0.261465], [51.568097, -0.321364], [51.585452, -0.27179], [51.532797, -0.202703], [51.533554, -0.211036], [51.550445, -0.313216], [51.539378, -0.257385], [51.565385, -0.26476], [51.565605, -0.225361], [51.570668, -0.233101], [51.557375, -0.216304], [51.554354, -0.212816], [51.559025, -0.218404], [51.570317, -0.233691], [51.56836, -0.22915], [51.561853, -0.221035], [51.553238, -0.210408], [51.566153, -0.225917], [51.562765, -0.221865], [51.56827, -0.229153], [51.567942, -0.267404], [51.556643, -0.215468], [51.582647, -0.252411], [51.55609, -0.214624], [51.56595, -0.248289], [51.554354, -0.212816], [51.555573, -0.216086], [51.535667, -0.249741], [51.531974, -0.237339], [51.551051, -0.208474], [51.533779, -0.304892], [51.565388, -0.277168], [51.5658, -0.268495], [51.541032, -0.302748], [51.552973, -0.295235], [51.570895, -0.272487], [51.552088, -0.259496], [51.539563, -0.30064], [51.54113, -0.260347], [51.547634, -0.311589], [51.528979, -0.284022], [51.552409, -0.256887], [51.542998, -0.199417], [51.550226, -0.207497], [51.545653, -0.202485], [51.544921, -0.201648], [51.544739, -0.201511], [51.528642, -0.195658], [51.53271, -0.202851], [51.544101, -0.200959], [51.532819, -0.204144], [51.544283, -0.201097], [51.54721, -0.204298], [51.542174, -0.19844], [51.542266, -0.19858], [51.543733, -0.200397], [51.551228, -0.208323], [51.550958, -0.208334], [51.551051, -0.208474], [51.532147, -0.2369], [51.532064, -0.237335], [51.532371, -0.233863], [51.531442, -0.231881], [51.532231, -0.236464], [51.562197, -0.330094], [51.578785, -0.326743], [51.556891, -0.317449], [51.586938, -0.299594], [51.582413, -0.316362], [51.584167, -0.313266], [51.587101, -0.30464], [51.586929, -0.305224], [51.585687, -0.287804], [51.584251, -0.31283], [51.598315, -0.272024], [51.583731, -0.314148], [51.585119, -0.310632], [51.582505, -0.316503], [51.581539, -0.318126], [51.582413, -0.316362], [51.587145, -0.301463], [51.585277, -0.284355], [51.586154, -0.307563], [51.584261, -0.282517], [51.583724, -0.313715], [51.585725, -0.309022], [51.585115, -0.310344], [51.585117, -0.310488], [51.58694, -0.299738], [51.599004, -0.269976], [51.58598, -0.308002], [51.585901, -0.290106], [51.585376, -0.309757], [51.578762, -0.325157], [51.587011, -0.304644], [51.585117, -0.310488], [51.573274, -0.324925], [51.585207, -0.310485], [51.562512, -0.308152], [51.545566, -0.202632], [51.537022, -0.256178], [51.566095, -0.307153], [51.537228, -0.221995], [51.553322, -0.294501], [51.598653, -0.270567], [51.541785, -0.226], [51.5469, -0.231281], [51.59447, -0.261341], [51.594192, -0.285174], [51.561305, -0.220479], [51.539808, -0.238046], [51.537892, -0.248213], [51.544635, -0.296989], [51.541617, -0.232784], [51.556561, -0.263942], [51.559312, -0.219547], [51.570497, -0.233684], [51.5331, -0.240467], [51.553541, -0.291031], [51.535677, -0.244405], [51.538815, -0.20809], [51.559461, -0.321105], [51.567563, -0.27218], [51.538077, -0.195141], [51.533928, -0.241733], [51.556286, -0.245487], [51.559939, -0.219378], [51.583884, -0.306059], [51.561765, -0.257107], [51.557879, -0.249754], [51.553927, -0.286689], [51.581514, -0.279156], [51.542376, -0.259434], [51.562281, -0.329658], [51.565153, -0.28569], [51.557651, -0.216726], [51.553871, -0.25236], [51.546922, -0.274981], [51.562483, -0.306133], [51.55309, -0.254265], [51.547605, -0.236302], [51.537403, -0.215788], [51.536492, -0.305945], [51.545092, -0.272887], [51.580137, -0.320632], [51.552318, -0.214916], [51.5576, -0.323049], [51.553202, -0.243731], [51.543544, -0.289964], [51.536144, -0.245541], [51.544725, -0.296986], [51.585896, -0.289817], [51.56964, -0.322317], [51.562736, -0.30497], [51.538018, -0.299544], [51.5491, -0.246052], [51.555573, -0.276241], [51.55495, -0.216544], [51.565412, -0.272694], [51.534218, -0.219229], [51.544904, -0.272318], [51.562875, -0.259228], [51.546844, -0.20388], [51.548329, -0.260649], [51.553307, -0.287289], [51.566569, -0.32142], [51.553407, -0.288007], [51.549913, -0.240251], [51.552326, -0.312713], [51.551994, -0.259211], [51.556643, -0.215468], [51.55689, -0.249792], [51.557024, -0.246757], [51.563062, -0.259654], [51.58127, -0.318136], [51.549623, -0.28137], [51.560211, -0.219512], [51.562875, -0.259228], [51.546841, -0.203736], [51.529878, -0.223579], [51.544003, -0.218125], [51.551305, -0.261257], [51.562411, -0.252177], [51.557526, -0.317858], [51.56251, -0.308008], [51.547097, -0.232427], [51.547697, -0.236443], [51.561848, -0.256671], [51.549497, -0.236517], [51.549687, -0.298099], [51.545812, -0.297522], [51.547637, -0.250435], [51.562409, -0.258092], [51.560008, -0.253856], [51.562594, -0.307572], [51.535545, -0.247583], [51.546887, -0.230416], [51.549639, -0.239973], [51.535371, -0.248022], [51.564084, -0.249804], [51.557414, -0.291463], [51.537547, -0.285718], [51.554519, -0.315084], [51.535468, -0.297332], [51.55185, -0.310856], [51.543281, -0.253775], [51.535968, -0.245836], [51.551871, -0.306095], [51.538888, -0.279035], [51.544099, -0.200815], [51.533785, -0.305325], [51.538472, -0.299815], [51.550413, -0.298504], [51.544184, -0.236002], [51.533356, -0.203979], [51.590845, -0.271585], [51.584927, -0.278883], [51.562377, -0.280312], [51.559557, -0.290373], [51.569023, -0.292038], [51.543367, -0.199979], [51.562108, -0.317545], [51.552931, -0.243597], [51.579834, -0.262766], [51.552931, -0.243597], [51.551943, -0.298592], [51.545061, -0.252553], [51.539999, -0.299758], [51.53522, -0.220055], [51.553568, -0.286703], [51.547415, -0.265732], [51.553409, -0.288151], [51.594917, -0.267244], [51.592185, -0.25883], [51.532389, -0.199547], [51.550647, -0.241233], [51.566741, -0.241045], [51.552289, -0.248814], [51.541169, -0.262941], [51.590942, -0.265951], [51.543371, -0.253772], [51.553564, -0.292617], [51.553535, -0.253959], [51.542307, -0.266936], [51.577517, -0.326068], [51.563216, -0.263977], [51.54906, -0.243313], [51.554967, -0.229526], [51.546892, -0.230705], [51.564087, -0.262068], [51.550659, -0.278446], [51.534538, -0.204797], [51.552924, -0.31673], [51.536488, -0.244518], [51.531536, -0.232165], [51.536659, -0.243935], [51.563248, -0.26008], [51.56206, -0.246708], [51.547337, -0.224486], [51.550864, -0.298632], [51.555818, -0.262383], [51.547327, -0.26588], [51.551575, -0.261247], [51.537184, -0.248962], [51.5543, -0.293743], [51.551663, -0.261099], [51.585363, -0.265731], [51.538731, -0.2502], [51.553007, -0.230756], [51.532855, -0.218273], [51.562558, -0.305121], [51.55646, -0.318763], [51.531678, -0.223653], [51.565681, -0.26648], [51.54705, -0.229256], [51.551224, -0.249721], [51.545243, -0.289323], [51.575822, -0.295824], [51.553541, -0.291031], [51.565275, -0.275585], [51.564645, -0.263345], [51.555886, -0.218959], [51.539112, -0.251628], [51.578755, -0.262807], [51.578757, -0.262951], [51.585869, -0.275672], [51.543371, -0.253772], [51.583172, -0.263505], [51.560941, -0.220205], [51.53758, -0.257454], [51.547756, -0.240335], [51.560249, -0.319633], [51.553008, -0.224842], [51.553705, -0.217458], [51.537456, -0.249095], [51.562626, -0.230527], [51.540137, -0.25404], [51.559979, -0.239863], [51.549057, -0.243169], [51.557038, -0.321483], [51.595071, -0.271569], [51.53802, -0.305888], [51.534102, -0.194], [51.551781, -0.306098], [51.580211, -0.313268], [51.550272, -0.276586], [51.562471, -0.280597], [51.547588, -0.265293], [51.541056, -0.237276], [51.563888, -0.230766], [51.563772, -0.327006], [51.58157, -0.289114], [51.561521, -0.252788], [51.585821, -0.260228], [51.585821, -0.260228], [51.545376, -0.237542], [51.535493, -0.244124], [51.552324, -0.257179], [51.549437, -0.280944], [51.536362, -0.248128], [51.562167, -0.28436], [51.540969, -0.298424], [51.54748, -0.276258], [51.546835, -0.221044], [51.552571, -0.231638], [51.562562, -0.305409], [51.542608, -0.275145], [51.559755, -0.219097], [51.558488, -0.224484], [51.581514, -0.279156], [51.567203, -0.321686], [51.562309, -0.22145], [51.553445, -0.253963], [51.580157, -0.27863], [51.533385, -0.241466], [51.58476, -0.279756], [51.585667, -0.261966], [51.568801, -0.240532], [51.563915, -0.232497], [51.565168, -0.286699], [51.538144, -0.229025], [51.541515, -0.22601], [51.552796, -0.314138], [51.54382, -0.235727], [51.555724, -0.249981], [51.584691, -0.281202], [51.555166, -0.316359], [51.569368, -0.322183], [51.581078, -0.286245], [51.547151, -0.266175], [51.562397, -0.306425], [51.570523, -0.271635], [51.545613, -0.235369], [51.585337, -0.264], [51.545189, -0.273316], [51.566847, -0.266291], [51.577497, -0.262855], [51.556265, -0.250104], [51.547908, -0.311867], [51.554732, -0.28637], [51.568106, -0.242146], [51.586292, -0.292256], [51.56188, -0.283216], [51.533473, -0.241318], [51.570051, -0.294741], [51.548416, -0.260502], [51.561878, -0.283072], [51.556376, -0.245484], [51.542781, -0.274705], [51.581002, -0.262722], [51.564858, -0.321195], [51.548872, -0.248801], [51.533102, -0.240611], [51.551914, -0.284313], [51.568975, -0.240093], [51.595486, -0.269244], [51.542033, -0.20681], [51.594373, -0.285312], [51.551867, -0.305807], [51.535376, -0.297191], [51.583902, -0.313564], [51.560451, -0.253406], [51.547795, -0.248987], [51.556746, -0.319907], [51.554904, -0.304395], [51.55141, -0.299044], [51.53301, -0.240471], [51.564463, -0.251088], [51.567804, -0.294825], [51.534628, -0.204794], [51.535809, -0.205612], [51.585572, -0.273807], [51.535586, -0.220473], [51.538817, -0.249908], [51.55867, -0.285068], [51.585708, -0.276977], [51.53409, -0.264653], [51.533377, -0.211187], [51.547429, -0.224626], [51.533013, -0.246671], [51.559559, -0.253873], [51.563816, -0.243899], [51.53732, -0.222136], [51.532714, -0.203139], [51.552168, -0.301757], [51.557974, -0.324045], [51.541455, -0.264084], [51.568891, -0.240529], [51.553305, -0.287145], [51.562562, -0.305409], [51.565123, -0.277467], [51.593781, -0.263389], [51.550332, -0.262304], [51.569874, -0.294892], [51.554526, -0.254066], [51.540027, -0.295431], [51.540089, -0.299755], [51.562409, -0.258092], [51.560628, -0.253255], [51.546723, -0.267633], [51.559038, -0.273369], [51.547849, -0.264706], [51.552585, -0.238562], [51.551947, -0.29888], [51.565804, -0.268784], [51.5549, -0.213228], [51.541381, -0.259039], [51.571399, -0.29469], [51.58508, -0.283208], [51.550171, -0.281926], [51.54803, -0.222728], [51.539491, -0.252911], [51.54696, -0.22926], [51.557741, -0.216723], [51.537207, -0.19705], [51.584107, -0.265923], [51.542307, -0.266936], [51.553361, -0.291038], [51.562202, -0.280607], [51.566448, -0.233553], [51.548697, -0.27953], [51.543908, -0.259664], [51.565755, -0.265467], [51.544539, -0.259784], [51.544955, -0.30664], [51.551938, -0.298303], [51.535376, -0.297191], [51.53699, -0.235991], [51.554249, -0.315094], [51.547124, -0.228244], [51.558429, -0.250454], [51.552172, -0.302045], [51.565237, -0.224798], [51.552172, -0.25906], [51.556822, -0.215461], [51.56442, -0.236228], [51.568108, -0.24229], [51.536079, -0.205602], [51.578264, -0.296743], [51.552107, -0.242619], [51.557038, -0.321483], [51.562088, -0.297492], [51.553575, -0.293338], [51.553196, -0.285851], [51.545003, -0.297553], [51.58983, -0.275955], [51.54791, -0.312011], [51.552552, -0.218513], [51.561992, -0.297062], [51.556654, -0.319766], [51.537086, -0.195036], [51.553408, -0.29421], [51.55351, -0.288869], [51.537107, -0.298712], [51.58505, -0.250731], [51.53743, -0.247366], [51.578578, -0.262958], [51.594599, -0.282271], [51.560628, -0.253255], [51.533102, -0.240611], [51.537084, -0.254301], [51.543194, -0.22407], [51.541583, -0.248504], [51.541832, -0.259166], [51.585517, -0.263993], [51.539834, -0.300774], [51.547664, -0.240194], [51.556263, -0.24996], [51.548541, -0.238718], [51.543137, -0.262289], [51.551641, -0.284034], [51.543021, -0.224509], [51.536452, -0.248125], [51.549762, -0.236219], [51.545667, -0.227002], [51.532981, -0.244509], [51.538729, -0.250056], [51.54186, -0.254983], [51.544036, -0.214374], [51.548631, -0.238714], [51.550633, -0.282774], [51.536781, -0.246093], [51.555832, -0.30638], [51.562201, -0.226215], [51.534538, -0.204797], [51.546924, -0.275126], [51.55197, -0.300466], [51.565286, -0.276306], [51.555796, -0.273059], [51.552181, -0.302622], [51.5621, -0.292153], [51.54287, -0.208651], [51.535485, -0.20202], [51.569361, -0.272112], [51.542307, -0.266936], [51.542388, -0.248185], [51.584927, -0.278883], [51.547224, -0.246845], [51.585151, -0.281906], [51.585871, -0.275816], [51.543774, -0.305819], [51.564586, -0.321061], [51.535799, -0.246564], [51.540482, -0.302047], [51.559931, -0.254724], [51.541785, -0.226], [51.553382, -0.243724], [51.535585, -0.244265], [51.54483, -0.213334], [51.532035, -0.217584], [51.534446, -0.204657], [51.565506, -0.27904], [51.568478, -0.304035], [51.565177, -0.287276], [51.549363, -0.239551], [51.552017, -0.242622], [51.540002, -0.299902], [51.544547, -0.272475], [51.549527, -0.22065], [51.551483, -0.261106], [51.57308, -0.262158], [51.546841, -0.203736], [51.551457, -0.253318], [51.558656, -0.253619], [51.579022, -0.324425], [51.534674, -0.219643], [51.535222, -0.220199], [51.561754, -0.256386], [51.530316, -0.228752], [51.548947, -0.247789], [51.577985, -0.28997], [51.555783, -0.272194], [51.582039, -0.315365], [51.557303, -0.247323], [51.549952, -0.207219], [51.554026, -0.293465], [51.592564, -0.266178], [51.589086, -0.262124], [51.551575, -0.261247], [51.529942, -0.270001], [51.58667, -0.305956], [51.562878, -0.302367], [51.56288, -0.302512], [51.5491, -0.276341], [51.568279, -0.22973], [51.53215, -0.195663], [51.566063, -0.22592], [51.565591, -0.266483], [51.555724, -0.262098], [51.535868, -0.257231], [51.532837, -0.205297], [51.54995, -0.207075], [51.540663, -0.283582], [51.551136, -0.298766], [51.536769, -0.257341], [51.529878, -0.223579], [51.558446, -0.325615], [51.561935, -0.293169], [51.54849, -0.241316], [51.536233, -0.245537], [51.542319, -0.304719], [51.552552, -0.218513], [51.563969, -0.27852], [51.543001, -0.199561], [51.552075, -0.314021], [51.553738, -0.304583], [51.583544, -0.264357], [51.535084, -0.205208], [51.532918, -0.24033], [51.553294, -0.286424], [51.538288, -0.299534], [51.55194, -0.298447], [51.544614, -0.252715], [51.564478, -0.326114], [51.537023, -0.244209], [51.561856, -0.293893], [51.584334, -0.281359], [51.546931, -0.203732], [51.54705, -0.229256], [51.559289, -0.253883], [51.533431, -0.202966], [51.559829, -0.241888], [51.533172, -0.203697], [51.543774, -0.305819], [51.549352, -0.209118], [51.559833, -0.296999], [51.561403, -0.256976], [51.556017, -0.263674], [51.556686, -0.28471], [51.550736, -0.235171], [51.563341, -0.23021], [51.561767, -0.257251], [51.565149, -0.224946], [51.545299, -0.214613], [51.55175, -0.218977], [51.553577, -0.293482], [51.55273, -0.218361], [51.539945, -0.277553], [51.541635, -0.25802], [51.548555, -0.263814], [51.532518, -0.286195], [51.556742, -0.264079], [51.539581, -0.252907], [51.552289, -0.248814], [51.546748, -0.221191], [51.541898, -0.233494], [51.584297, -0.266638], [51.554815, -0.261412], [51.535924, -0.297747], [51.552155, -0.210162], [51.547339, -0.22463], [51.537079, -0.247956], [51.547894, -0.225618], [51.556643, -0.215468], [51.540225, -0.278263], [51.548205, -0.222432], [51.560695, -0.282107], [51.531396, -0.264899], [51.5658, -0.244255], [51.543607, -0.209776], [51.568822, -0.32177], [51.546608, -0.309031], [51.560393, -0.219649], [51.545971, -0.229298], [51.550316, -0.225235], [51.534626, -0.20465], [51.542557, -0.259571], [51.552078, -0.30176], [51.541314, -0.254572], [51.560892, -0.252812], [51.541461, -0.210582], [51.553602, -0.289009], [51.565335, -0.285827], [51.551571, -0.260958], [51.544713, -0.302323], [51.556934, -0.320477], [51.546495, -0.228268], [51.565924, -0.234583], [51.549756, -0.265932], [51.534459, -0.205521], [51.576167, -0.294801], [51.535463, -0.248163], [51.551949, -0.299024], [51.534446, -0.204657], [51.540058, -0.303794], [51.545045, -0.306637], [51.569908, -0.230388], [51.549197, -0.246481], [51.553158, -0.314269], [51.559371, -0.321108], [51.546216, -0.251644], [51.535646, -0.297181], [51.552527, -0.234669], [51.532015, -0.192785], [51.568775, -0.26896], [51.55371, -0.253664], [51.530084, -0.225301], [51.535847, -0.249734], [51.551575, -0.261247], [51.550463, -0.240951], [51.585258, -0.270787], [51.537861, -0.276478], [51.56845, -0.229146], [51.569739, -0.231116], [51.561859, -0.221467], [51.556092, -0.214768], [51.558657, -0.217841], [51.560485, -0.21979], [51.568908, -0.229706], [51.563407, -0.222705], [51.559299, -0.218682], [51.557375, -0.216304], [51.567076, -0.227468], [51.566063, -0.22592], [51.557101, -0.216027], [51.55682, -0.215316], [51.562217, -0.221309], [51.583608, -0.250497], [51.557741, -0.216723], [51.539511, -0.278578], [51.547998, -0.311864], [51.535194, -0.297053], [51.527667, -0.196562], [51.553714, -0.21212], [51.546931, -0.203732], [51.53283, -0.204864], [51.551143, -0.208615], [51.550958, -0.208334], [51.546841, -0.203736], [51.548578, -0.205543], [51.532804, -0.203135], [51.532526, -0.208481], [51.546017, -0.202759], [51.554444, -0.212813], [51.544739, -0.201511], [51.554262, -0.212676], [51.532503, -0.201128], [51.553624, -0.212124], [51.548578, -0.205543], [51.532195, -0.192778], [51.542084, -0.198443], [51.53271, -0.202851], [51.532411, -0.200988], [51.532848, -0.206017], [51.544739, -0.201511], [51.545745, -0.202625], [51.530597, -0.194139], [51.551053, -0.208619], [51.546738, -0.2747], [51.547023, -0.203873], [51.550961, -0.208478], [51.532369, -0.233719], [51.532231, -0.236464], [51.531536, -0.232165], [51.532279, -0.233722], [51.585377, -0.285073], [51.585377, -0.285073], [51.585283, -0.284788], [51.586154, -0.307563], [51.577878, -0.326199], [51.583553, -0.314299], [51.578248, -0.326907], [51.578693, -0.326602], [51.584984, -0.282778], [51.587132, -0.300597], [51.586158, -0.307851], [51.585377, -0.285073], [51.58694, -0.299738], [51.58538, -0.285217], [51.586641, -0.297729], [51.586325, -0.306979], [51.579193, -0.323842], [51.583641, -0.314152], [51.585277, -0.284355], [51.586938, -0.299594], [51.579193, -0.323842], [51.585725, -0.309022], [51.58538, -0.285217], [51.585209, -0.310629], [51.58529, -0.285221], [51.578691, -0.326458], [51.564318, -0.321215], [51.583093, -0.252105], [51.545766, -0.221662], [51.554613, -0.315369], [51.578174, -0.296746], [51.559755, -0.219097], [51.541127, -0.284574], [51.560719, -0.277633], [51.561119, -0.255977], [51.577983, -0.289826], [51.534485, -0.242865], [51.553654, -0.243857], [51.547039, -0.204882], [51.535955, -0.244971], [51.556274, -0.214905], [51.546394, -0.251493], [51.555779, -0.217809], [51.551743, -0.242344], [51.557789, -0.249757], [51.566221, -0.278724], [51.536345, -0.253031], [51.565149, -0.224946], [51.551743, -0.248403], [51.554402, -0.257821], [51.586308, -0.29341], [51.546261, -0.297506], [51.568312, -0.268111], [51.544009, -0.200819], [51.553654, -0.243857], [51.547043, -0.228824], [51.5331, -0.240467], [51.535286, -0.248314], [51.562379, -0.280456], [51.533946, -0.20136], [51.538731, -0.2502], [51.557467, -0.216445], [51.5621, -0.292153], [51.536419, -0.192611], [51.550762, -0.260989], [51.547634, -0.311589], [51.561062, -0.319892], [51.533401, -0.218684], [51.532187, -0.233582], [51.533363, -0.192732], [51.553234, -0.294649], [51.551857, -0.298883], [51.553344, -0.283682], [51.583698, -0.250494], [51.548261, -0.238007], [51.533102, -0.240611], [51.569652, -0.298219], [51.555268, -0.21379], [51.547965, -0.260375], [51.595169, -0.272143], [51.546127, -0.251647], [51.554768, -0.228235], [51.554354, -0.212816], [51.547108, -0.275407], [51.545368, -0.27331], [51.552166, -0.301612], [51.550141, -0.29837], [51.549073, -0.280669], [51.560053, -0.23885], [51.544961, -0.221982], [51.549704, -0.244298], [51.551733, -0.284175], [51.547434, -0.224914], [51.569911, -0.322452], [51.546713, -0.297633], [51.542215, -0.254681], [51.543993, -0.271487], [51.532855, -0.218273], [51.558589, -0.249149], [51.549546, -0.227861], [51.576782, -0.293767], [51.564915, -0.263335], [51.536047, -0.245112], [51.555395, -0.216238], [51.546311, -0.251928], [51.544348, -0.253013], [51.552416, -0.25732], [51.533707, -0.263081], [51.535353, -0.205198], [51.552181, -0.302622], [51.536141, -0.245397], [51.534207, -0.242299], [51.551568, -0.260814], [51.562152, -0.258968], [51.549501, -0.260893], [51.551752, -0.261096], [51.559592, -0.28662], [51.529692, -0.223154], [51.540064, -0.225201], [51.54391, -0.235724], [51.533819, -0.193146], [51.577972, -0.326485], [51.552841, -0.2436], [51.532714, -0.203139], [51.551459, -0.308707], [51.568369, -0.229727], [51.533401, -0.218684], [51.550647, -0.241233], [51.550633, -0.282774], [51.565149, -0.224946], [51.530676, -0.270982], [51.54707, -0.309879], [51.565578, -0.235462], [51.536993, -0.206575], [51.569094, -0.321905], [51.552492, -0.299292], [51.5619, -0.296921], [51.547761, -0.264854], [51.529788, -0.223583], [51.541225, -0.230636], [51.538185, -0.249788], [51.564553, -0.251085], [51.565323, -0.272698], [51.548721, -0.275058], [51.562223, -0.257666], [51.564147, -0.278369], [51.550631, -0.28263], [51.548983, -0.244182], [51.558656, -0.253619], [51.533966, -0.26235], [51.562778, -0.30165], [51.535652, -0.248732], [51.565508, -0.279184], [51.548513, -0.29771], [51.585378, -0.309901], [51.577555, -0.309903], [51.547164, -0.29776], [51.534025, -0.242162], [51.551481, -0.260962], [51.54699, -0.231278], [51.54006, -0.303938], [51.533746, -0.241596], [51.534718, -0.270685], [51.552554, -0.28501], [51.594166, -0.283443], [51.551925, -0.242482], [51.551568, -0.260814], [51.548995, -0.221104], [51.5621, -0.292153], [51.535717, -0.205472], [51.548466, -0.221845], [51.544635, -0.296989], [51.54168, -0.297821], [51.562464, -0.311039], [51.541381, -0.277354], [51.53844, -0.248769], [51.547442, -0.249433], [51.546019, -0.202903], [51.578859, -0.325586], [51.547037, -0.204738], [51.55366, -0.293046], [51.551926, -0.260656], [51.547759, -0.264709], [51.550136, -0.231156], [51.556458, -0.215186], [51.586614, -0.295853], [51.546386, -0.203321], [51.536574, -0.244227], [51.564526, -0.231319], [51.562786, -0.302227], [51.566008, -0.282628], [51.54906, -0.243313], [51.533004, -0.246094], [51.552181, -0.302622], [51.539303, -0.252341], [51.545125, -0.268992], [51.583171, -0.312725], [51.539974, -0.304229], [51.547431, -0.22477], [51.528024, -0.196403], [51.552931, -0.243597], [51.548989, -0.244614], [51.56228, -0.292146], [51.552183, -0.302766], [51.552091, -0.302625], [51.551535, -0.240477], [51.54767, -0.276972], [51.53421, -0.218652], [51.56199, -0.296918], [51.546288, -0.214575], [51.546887, -0.230416], [51.547537, -0.225776], [51.53595, -0.220747], [51.544438, -0.265124], [51.547449, -0.225923], [51.554457, -0.304556], [51.552603, -0.239715], [51.557565, -0.217018], [51.547207, -0.233721], [51.535038, -0.219918], [51.541692, -0.292485], [51.541263, -0.281541], [51.554354, -0.212816], [51.533838, -0.241737], [51.535217, -0.243702], [51.554547, -0.304553], [51.550537, -0.257969], [51.560718, -0.253251], [51.539298, -0.252053], [51.534538, -0.204797], [51.55474, -0.256366], [51.551573, -0.261102], [51.552933, -0.274033], [51.564496, -0.321064], [51.530948, -0.271116], [51.556829, -0.332021], [51.539951, -0.253614], [51.532986, -0.203272], [51.565887, -0.244108], [51.55653, -0.249805], [51.544549, -0.272619], [51.56539, -0.277312], [51.563792, -0.278671], [51.54042, -0.254894], [51.565201, -0.264478], [51.549064, -0.243602], [51.56088, -0.319754], [51.587865, -0.264625], [51.529858, -0.222282], [51.585209, -0.310629], [51.548983, -0.244182], [51.562904, -0.279426], [51.547198, -0.233145], [51.544832, -0.213478], [51.552896, -0.27764], [51.542322, -0.255831], [51.557009, -0.215886], [51.574267, -0.325178], [51.547796, -0.237016], [51.544163, -0.210908], [51.533562, -0.241315], [51.548543, -0.312276], [51.578234, -0.288517], [51.561795, -0.295915], [51.55599, -0.317338], [51.548258, -0.237863], [51.562689, -0.258803], [51.53771, -0.248076], [51.559668, -0.219244], [51.551217, -0.261405], [51.583264, -0.263646], [51.55193, -0.303929], [51.549959, -0.298233], [51.547522, -0.254767], [51.553023, -0.243738], [51.583428, -0.31185], [51.543701, -0.210061], [51.536861, -0.197929], [51.542909, -0.19942], [51.584689, -0.281057], [51.548045, -0.277968], [51.552372, -0.284872], [51.540405, -0.278256], [51.549691, -0.249491], [51.538978, -0.279031], [51.547507, -0.235729], [51.54722, -0.234586], [51.536963, -0.24623], [51.584334, -0.281359], [51.559359, -0.27076], [51.541544, -0.276194], [51.564149, -0.278514], [51.532369, -0.233719], [51.585873, -0.27596], [51.563256, -0.322408], [51.54995, -0.207075], [51.544092, -0.235861], [51.541325, -0.249235], [51.556082, -0.286464], [51.541401, -0.248367], [51.564735, -0.263342], [51.561579, -0.220757], [51.553533, -0.290454], [51.554147, -0.252782], [51.539325, -0.278153], [51.548844, -0.283418], [51.571491, -0.294831], [51.591586, -0.260874], [51.565153, -0.28569], [51.564087, -0.262068], [51.595392, -0.268958], [51.546428, -0.259856], [51.541619, -0.238841], [51.546841, -0.203736], [51.535577, -0.292425], [51.549042, -0.24216], [51.563683, -0.223127], [51.538198, -0.299537], [51.565913, -0.294607], [51.565695, -0.323184], [51.555142, -0.259235], [51.565167, -0.250051], [51.553365, -0.285123], [51.542981, -0.269939], [51.533401, -0.218684], [51.586415, -0.306976], [51.568457, -0.229579], [51.541363, -0.263943], [51.580572, -0.257975], [51.536329, -0.192614], [51.589685, -0.266144], [51.562322, -0.31999], [51.584927, -0.278883], [51.584978, -0.282346], [51.552891, -0.295816], [51.55024, -0.311492], [51.543773, -0.214817], [51.533597, -0.267843], [51.536493, -0.256919], [51.582881, -0.262073], [51.545499, -0.269987], [51.557968, -0.24975], [51.53925, -0.279165], [51.547888, -0.237156], [51.56201, -0.292156], [51.551303, -0.297894], [51.55217, -0.301901], [51.551938, -0.304506], [51.554354, -0.212816], [51.545731, -0.267383], [51.545059, -0.252409], [51.565598, -0.27918], [51.565663, -0.23517], [51.533367, -0.264392], [51.553355, -0.253966], [51.534667, -0.243002], [51.567075, -0.24536], [51.569004, -0.236051], [51.586584, -0.306248], [51.559469, -0.253876], [51.550148, -0.220049], [51.552168, -0.301757], [51.541381, -0.277354], [51.559778, -0.274783], [51.559826, -0.253718], [51.577985, -0.28997], [51.553543, -0.291175], [51.567291, -0.241745], [51.566288, -0.265014], [51.544365, -0.272338], [51.553658, -0.286699], [51.544524, -0.252718], [51.552078, -0.30176], [51.533919, -0.235101], [51.547702, -0.236731], [51.57082, -0.32314], [51.557237, -0.291614], [51.551733, -0.284175], [51.532309, -0.217861], [51.542497, -0.225539], [51.544739, -0.201511], [51.587775, -0.264629], [51.550171, -0.281926], [51.547622, -0.207744], [51.531117, -0.222233], [51.549103, -0.246196], [51.550901, -0.240213], [51.552164, -0.301468], [51.579352, -0.266681], [51.579787, -0.290191], [51.544723, -0.296842], [51.536488, -0.244518], [51.556376, -0.245484], [51.567468, -0.277955], [51.532277, -0.233578], [51.558566, -0.253622], [51.546176, -0.236934], [51.533942, -0.212895], [51.548212, -0.24075], [51.536663, -0.244223], [51.552349, -0.314299], [51.552424, -0.313287], [51.543371, -0.253772], [51.565354, -0.274861], [51.538459, -0.250066], [51.532037, -0.217728], [51.559381, -0.290668], [51.596667, -0.270065], [51.573642, -0.294318], [51.536846, -0.256473], [51.553566, -0.292761], [51.559379, -0.290524], [51.54963, -0.209684], [51.536233, -0.245537], [51.547026, -0.204017], [51.548032, -0.205131], [51.56456, -0.325534], [51.558566, -0.253622], [51.5543, -0.293743], [51.564367, -0.262779], [51.546955, -0.228971], [51.540662, -0.302041], [51.561007, -0.254539], [51.570323, -0.294875], [51.58598, -0.308002], [51.550672, -0.260993], [51.564242, -0.242295], [51.538922, -0.250914], [51.550672, -0.260993], [51.551905, -0.229212], [51.553541, -0.291031], [51.555192, -0.244519], [51.584032, -0.248749], [51.535374, -0.297047], [51.541637, -0.258164], [51.546331, -0.217458], [51.564223, -0.283561], [51.552716, -0.296111], [51.551925, -0.242482], [51.555086, -0.304533], [51.542906, -0.199276], [51.537362, -0.254867], [51.538641, -0.250204], [51.540758, -0.27781], [51.536527, -0.235144], [51.5543, -0.293743], [51.549913, -0.240251], [51.541064, -0.225883], [51.554335, -0.253352], [51.534538, -0.204797], [51.541381, -0.259039], [51.600051, -0.26777], [51.536828, -0.243207], [51.548515, -0.297854], [51.539487, -0.252623], [51.559329, -0.2748], [51.554628, -0.213094], [51.571132, -0.294845], [51.560359, -0.28991], [51.537431, -0.229485], [51.566363, -0.233845], [51.546973, -0.230125], [51.581272, -0.318281], [51.56544, -0.274569], [51.581514, -0.279156], [51.585151, -0.281906], [51.533887, -0.221116], [51.586402, -0.293696], [51.562235, -0.252472], [51.546748, -0.239075], [51.564505, -0.223961], [51.550415, -0.219894], [51.544245, -0.246095], [51.554523, -0.315373], [51.535797, -0.246419], [51.55469, -0.25305], [51.550465, -0.241095], [51.544738, -0.213193], [51.549031, -0.229468], [51.589828, -0.275811], [51.552973, -0.295235], [51.532385, -0.199259], [51.537081, -0.2481], [51.566659, -0.321417], [51.54753, -0.225343], [51.564222, -0.289621], [51.555666, -0.270323], [51.543324, -0.220748], [51.560761, -0.330291], [51.533127, -0.218406], [51.541134, -0.260635], [51.545366, -0.273165], [51.567445, -0.294838], [51.565415, -0.272839], [51.547796, -0.237016], [51.556182, -0.214764], [51.584681, -0.28048], [51.55086, -0.219588], [51.55689, -0.249792], [51.549088, -0.263361], [51.546441, -0.297499], [51.537078, -0.2419], [51.542958, -0.208504], [51.561779, -0.319721], [51.558446, -0.325615], [51.533037, -0.21841], [51.582303, -0.259496], [51.557845, -0.253506], [51.553148, -0.29494], [51.535234, -0.275135], [51.535684, -0.250894], [51.553021, -0.225707], [51.552085, -0.302192], [51.560697, -0.282251], [51.585821, -0.260228], [51.5612, -0.292042], [51.594573, -0.268268], [51.563969, -0.27852], [51.557879, -0.249754], [51.530314, -0.228608], [51.57326, -0.262151], [51.54112, -0.200068], [51.53695, -0.275647], [51.56051, -0.306495], [51.571324, -0.289498], [51.553018, -0.243449], [51.565301, -0.277316], [51.550463, -0.240951], [51.548398, -0.241175], [51.54168, -0.297821], [51.54789, -0.219416], [51.568457, -0.229579], [51.539849, -0.228815], [51.5484, -0.241319], [51.544977, -0.246932], [51.56022, -0.220088], [51.546844, -0.20388], [51.540418, -0.25475], [51.561039, -0.256702], [51.58536, -0.271649], [51.548995, -0.221104], [51.561292, -0.255538], [51.585486, -0.286368], [51.548944, -0.247645], [51.552716, -0.296111], [51.538288, -0.299534], [51.539112, -0.251628], [51.549096, -0.245764], [51.547852, -0.27711], [51.531162, -0.231171], [51.567193, -0.31476], [51.585533, -0.277272], [51.540936, -0.277659], [51.537057, -0.240459], [51.565807, -0.281192], [51.542318, -0.255543], [51.553545, -0.291319], [51.554604, -0.314793], [51.544161, -0.210764], [51.569569, -0.237761], [51.539951, -0.253614], [51.543229, -0.305406], [51.535709, -0.246567], [51.551955, -0.299457], [51.582701, -0.262079], [51.54809, -0.312005], [51.552199, -0.24276], [51.55273, -0.218361], [51.570275, -0.322727], [51.560029, -0.219375], [51.570275, -0.322727], [51.539635, -0.208779], [51.533363, -0.240025], [51.548122, -0.240753], [51.539951, -0.253614], [51.553703, -0.217314], [51.564463, -0.251088], [51.551871, -0.306095], [51.557577, -0.25366], [51.552093, -0.253726], [51.550547, -0.283066], [51.593696, -0.263681], [51.537144, -0.240311], [51.537493, -0.215784], [51.570619, -0.272064], [51.565265, -0.274864], [51.570862, -0.294855], [51.535493, -0.244124], [51.582181, -0.257336], [51.566843, -0.321699], [51.584424, -0.281356], [51.555571, -0.215942], [51.557789, -0.249757], [51.564898, -0.238086], [51.536227, -0.245105], [51.583608, -0.250497], [51.545668, -0.299979], [51.540377, -0.258068], [51.543001, -0.199561], [51.533054, -0.267576], [51.550927, -0.241943], [51.570323, -0.294875], [51.536237, -0.23977], [51.562677, -0.300932], [51.551481, -0.260962], [51.560266, -0.283565], [51.551786, -0.306387], [51.570593, -0.294865], [51.551393, -0.261109], [51.547442, -0.249433], [51.543023, -0.224653], [51.547045, -0.228968], [51.566025, -0.265457], [51.534227, -0.219805], [51.550341, -0.299805], [51.564507, -0.224105], [51.565301, -0.277316], [51.539581, -0.252907], [51.556197, -0.263667], [51.56079, -0.319758], [51.576368, -0.302442], [51.553491, -0.293774], [51.532638, -0.23962], [51.564047, -0.223402], [51.56219, -0.29215], [51.554078, -0.212394], [51.559297, -0.218538], [51.559023, -0.21826], [51.583606, -0.250353], [51.568457, -0.229579], [51.556184, -0.214908], [51.555906, -0.214342], [51.561305, -0.220479], [51.562217, -0.221309], [51.567078, -0.227612], [51.557559, -0.216586], [51.558657, -0.217841], [51.558659, -0.217985], [51.55545, -0.213927], [51.570756, -0.232953], [51.555542, -0.214068], [51.566984, -0.227327], [51.566063, -0.22592], [51.556735, -0.215608], [51.557741, -0.216723], [51.568455, -0.229435], [51.567262, -0.227894], [51.552004, -0.284309], [51.532833, -0.205008], [51.556735, -0.215608], [51.546809, -0.267342], [51.557789, -0.249757], [51.544614, -0.252715], [51.558629, -0.270066], [51.579027, -0.262941], [51.551226, -0.298763], [51.551783, -0.306242], [51.598156, -0.273474], [51.543408, -0.274537], [51.561519, -0.252644], [51.532156, -0.196096], [51.559736, -0.290366], [51.565436, -0.274281], [51.535108, -0.242409], [51.586754, -0.299312], [51.543716, -0.222896], [51.539397, -0.252626], [51.556175, -0.250108], [51.582892, -0.262794], [51.547275, -0.299198], [51.555493, -0.252586], [51.577041, -0.293036], [51.576434, -0.32582], [51.582274, -0.294283], [51.57052, -0.271491], [51.533473, -0.241318], [51.559041, -0.304386], [51.560485, -0.21979], [51.565395, -0.277601], [51.535286, -0.297194], [51.54791, -0.312011], [51.547818, -0.31187], [51.542632, -0.198998], [51.532246, -0.196092], [51.542084, -0.198443], [51.5528, -0.211146], [51.529797, -0.194747], [51.545105, -0.201929], [51.544739, -0.201511], [51.55481, -0.213231], [51.549582, -0.206513], [51.548578, -0.205543], [51.548486, -0.205402], [51.548578, -0.205543], [51.532896, -0.203276], [51.544099, -0.200815], [51.551053, -0.208619], [51.546386, -0.203321], [51.548578, -0.205543], [51.551053, -0.208619], [51.544737, -0.201367], [51.551143, -0.208615], [51.551051, -0.208474], [51.546752, -0.203739], [51.544739, -0.201511], [51.535417, -0.191785], [51.531536, -0.232165], [51.531631, -0.23245], [51.532231, -0.236464], [51.531813, -0.232587], [51.531536, -0.232165], [51.585085, -0.283496], [51.585585, -0.286942], [51.585637, -0.30917], [51.585288, -0.285076], [51.584984, -0.282778], [51.581362, -0.318277], [51.578605, -0.32675], [51.579108, -0.324134], [51.587044, -0.300745], [51.585377, -0.285073], [51.585376, -0.309757], [51.587013, -0.304788], [51.585375, -0.284929], [51.586415, -0.306976], [51.573184, -0.324929], [51.585725, -0.309022], [51.583816, -0.313856], [51.585185, -0.284214], [51.582936, -0.315188], [51.578787, -0.326888], [51.585591, -0.287375], [51.586197, -0.291971], [51.579363, -0.323114], [51.586595, -0.306969], [51.548642, -0.300446], [51.547376, -0.22708], [51.559289, -0.290527], [51.569373, -0.230698], [51.5622, -0.23213], [51.560628, -0.253255], [51.594734, -0.279234], [51.56372, -0.292236], [51.5472, -0.233289], [51.560119, -0.219371], [51.561857, -0.257248], [51.540045, -0.253899], [51.538692, -0.223668], [51.551313, -0.249717], [51.580563, -0.257398], [51.560181, -0.290061], [51.584103, -0.265635], [51.56362, -0.260931], [51.544094, -0.296865], [51.545278, -0.273313], [51.546922, -0.274981], [51.569905, -0.23616], [51.547532, -0.225488], [51.552091, -0.302625], [51.534323, -0.226146], [51.550647, -0.241233], [51.5378, -0.248073], [51.54898, -0.244037], [51.565672, -0.265903], [51.562323, -0.252324], [51.560744, -0.279364], [51.546199, -0.268663], [51.534538, -0.204797], [51.564558, -0.239397], [51.55183, -0.242197], [51.556369, -0.21519], [51.545399, -0.23307], [51.551384, -0.297314], [51.560181, -0.290061], [51.54177, -0.304018], [51.554017, -0.286686], [51.561853, -0.221035], [51.539673, -0.253048], [51.547384, -0.275829], [51.543791, -0.210058], [51.535755, -0.237625], [51.552282, -0.284876], [51.542135, -0.304438], [51.559802, -0.252132], [51.556376, -0.245484], [51.542174, -0.19844], [51.558934, -0.290829], [51.536993, -0.206575], [51.564588, -0.321205], [51.56237, -0.292143], [51.550173, -0.28207], [51.534391, -0.24258], [51.533528, -0.306199], [51.582789, -0.261932], [51.541515, -0.22601], [51.546127, -0.251647], [51.560758, -0.231898], [51.560941, -0.220205], [51.583544, -0.264357], [51.551943, -0.298592], [51.579794, -0.321799], [51.550463, -0.240951], [51.577788, -0.326203], [51.547413, -0.265588], [51.552285, -0.218667], [51.544096, -0.297009], [51.543826, -0.29702], [51.533273, -0.222149], [51.552832, -0.285576], [51.562554, -0.304832], [51.540505, -0.254602], [51.55439, -0.29374], [51.590225, -0.266123], [51.554868, -0.252899], [51.547294, -0.275833], [51.550592, -0.298498], [51.557608, -0.243705], [51.542784, -0.268793], [51.558039, -0.248449], [51.565589, -0.266339], [51.541381, -0.259039], [51.552832, -0.285576], [51.55311, -0.286143], [51.535996, -0.24771], [51.543864, -0.305815], [51.541269, -0.251545], [51.541617, -0.232784], [51.569886, -0.295757], [51.564273, -0.262494], [51.565265, -0.274864], [51.561101, -0.266943], [51.554735, -0.250019], [51.559595, -0.250265], [51.542587, -0.267646], [51.546632, -0.255378], [51.551551, -0.247545], [51.558566, -0.253622], [51.547064, -0.266322], [51.54111, -0.20526], [51.555389, -0.275959], [51.551172, -0.313766], [51.538327, -0.253244], [51.553539, -0.290887], [51.536819, -0.201102], [51.565882, -0.267915], [51.535194, -0.297053], [51.549715, -0.281511], [51.544922, -0.213474], [51.55224, -0.257615], [51.561328, -0.24587], [51.562102, -0.292297], [51.551679, -0.299034], [51.568455, -0.241411], [51.551571, -0.260958], [51.541635, -0.25802], [51.553148, -0.29494], [51.549094, -0.24562], [51.540108, -0.301052], [51.556911, -0.30634], [51.577587, -0.262852], [51.553307, -0.287289], [51.594642, -0.279093], [51.539235, -0.278156], [51.53554, -0.247294], [51.533127, -0.218406], [51.533838, -0.241737], [51.545742, -0.23796], [51.546019, -0.202903], [51.584244, -0.281363], [51.552804, -0.295963], [51.541381, -0.259039], [51.542129, -0.254973], [51.533102, -0.240611], [51.559081, -0.252016], [51.566203, -0.314652], [51.55854, -0.3259], [51.547384, -0.275829], [51.543597, -0.26905], [51.546841, -0.203736], [51.552242, -0.257759], [51.549391, -0.217626], [51.573554, -0.294465], [51.542127, -0.254829], [51.563144, -0.320825], [51.56179, -0.28322], [51.553211, -0.28686], [51.539208, -0.252056], [51.571941, -0.294815], [51.534904, -0.24083], [51.534165, -0.251529], [51.537847, -0.300127], [51.560194, -0.236248], [51.536486, -0.244374], [51.561936, -0.318128], [51.54061, -0.237582], [51.562684, -0.301365], [51.553604, -0.289153], [51.564558, -0.239397], [51.540572, -0.302044], [51.533947, -0.219095], [51.536141, -0.245397], [51.533562, -0.241315], [51.555981, -0.316761], [51.553629, -0.290884], [51.585151, -0.281906], [51.548952, -0.242163], [51.541584, -0.297392], [51.561708, -0.296063], [51.549623, -0.28137], [51.559573, -0.21896], [51.549913, -0.240251], [51.551861, -0.299172], [51.558426, -0.25031], [51.55668, -0.223833], [51.543773, -0.214817], [51.552183, -0.302766], [51.565513, -0.22522], [51.541551, -0.210578], [51.554874, -0.217412], [51.5331, -0.240467], [51.547453, -0.226212], [51.54305, -0.208644], [51.536859, -0.257337], [51.537364, -0.255011], [51.565504, -0.278895], [51.546278, -0.273996], [51.532853, -0.218128], [51.561039, -0.330857], [51.58598, -0.308002], [51.547208, -0.204154], [51.595201, -0.274308], [51.549494, -0.309645], [51.564323, -0.223824], [51.554431, -0.253781], [51.562483, -0.299929], [51.547539, -0.22592], [51.552482, -0.261789], [51.538303, -0.19816], [51.553624, -0.212124], [51.562583, -0.221727], [51.558015, -0.217001], [51.557237, -0.291614], [51.537336, -0.247081], [51.542677, -0.225532], [51.5618, -0.296204], [51.561779, -0.319721], [51.554732, -0.28637], [51.558809, -0.270059], [51.562289, -0.280459], [51.557579, -0.253805], [51.546862, -0.222773], [51.540876, -0.237283], [51.564558, -0.239397], [51.540353, -0.299312], [51.542174, -0.19844], [51.557667, -0.253657], [51.55228, -0.284732], [51.53972, -0.238193], [51.549547, -0.239833], [51.552345, -0.314011], [51.560644, -0.278646], [51.530548, -0.226292], [51.565444, -0.274858], [51.558035, -0.248161], [51.585363, -0.265731], [51.564531, -0.29235], [51.546082, -0.297512], [51.535847, -0.249734], [51.534383, -0.218213], [51.551925, -0.218681], [51.548872, -0.248801], [51.551766, -0.311291], [51.546583, -0.210381], [51.540702, -0.255749], [51.551489, -0.261538], [51.539235, -0.278156], [51.544351, -0.253157], [51.54664, -0.220042], [51.575521, -0.275198], [51.550995, -0.228526], [51.560947, -0.330717], [51.558587, -0.249005], [51.540708, -0.202535], [51.585273, -0.265734], [51.554528, -0.25421], [51.565269, -0.293621], [51.535899, -0.205609], [51.554827, -0.256218], [51.543723, -0.271497], [51.554796, -0.315651], [51.557708, -0.317996], [51.561313, -0.25698], [51.547697, -0.236443], [51.533539, -0.23973], [51.546293, -0.203181], [51.541453, -0.26394], [51.536391, -0.214241], [51.537134, -0.275928], [51.539235, -0.278156], [51.557784, -0.249469], [51.56256, -0.305265], [51.544833, -0.231361], [51.534128, -0.219232], [51.58475, -0.279034], [51.565506, -0.27904], [51.541379, -0.27721], [51.566893, -0.245223], [51.553665, -0.293334], [51.564708, -0.231456], [51.559061, -0.244659], [51.547089, -0.231851], [51.547818, -0.31187], [51.559845, -0.219093], [51.541547, -0.264225], [51.536139, -0.245253], [51.538177, -0.207538], [51.559083, -0.25216], [51.5543, -0.293743], [51.565478, -0.277165], [51.532127, -0.217724], [51.569498, -0.26316], [51.554444, -0.224642], [51.584871, -0.281195], [51.538857, -0.252647], [51.555269, -0.286206], [51.582319, -0.316077], [51.55316, -0.314413], [51.5375, -0.240009], [51.562768, -0.252019], [51.531532, -0.231877], [51.536132, -0.220884], [51.54483, -0.213334], [51.543878, -0.20991], [51.548993, -0.244902], [51.561801, -0.265618], [51.536856, -0.275362], [51.552076, -0.258631], [51.544184, -0.236002], [51.532369, -0.233719], [51.537244, -0.246941], [51.554354, -0.212816], [51.552741, -0.255], [51.542591, -0.225824], [51.536141, -0.245397], [51.535286, -0.297194], [51.548881, -0.279811], [51.563395, -0.25185], [51.53596, -0.24526], [51.538378, -0.281073], [51.555657, -0.269746], [51.557771, -0.248604], [51.551136, -0.298766], [51.551589, -0.299038], [51.568777, -0.263043], [51.560303, -0.219652], [51.545653, -0.202485], [51.593218, -0.261822], [51.586304, -0.293122], [51.573622, -0.262281], [51.548398, -0.241175], [51.555526, -0.316345], [51.549116, -0.247061], [51.590852, -0.265955], [51.553541, -0.291031], [51.553397, -0.287286], [51.552057, -0.300318], [51.551771, -0.299175], [51.536689, -0.245953], [51.531771, -0.27815], [51.554354, -0.212816], [51.540917, -0.276362], [51.564463, -0.251088], [51.569411, -0.23921], [51.543995, -0.271631], [51.547947, -0.223164], [51.582188, -0.257769], [51.565605, -0.225361], [51.56221, -0.318407], [51.541453, -0.26394], [51.543993, -0.253315], [51.59211, -0.265907], [51.551926, -0.260656], [51.538411, -0.277178], [51.560393, -0.219649], [51.544731, -0.272757], [51.562771, -0.313625], [51.591317, -0.279219], [51.564735, -0.263342], [51.568499, -0.268537], [51.564735, -0.263342], [51.541834, -0.259311], [51.53215, -0.273377], [51.585704, -0.276688], [51.535955, -0.244971], [51.576158, -0.325397], [51.536229, -0.245249], [51.547168, -0.249155], [51.539673, -0.253048], [51.551744, -0.260519], [51.547886, -0.237012], [51.548511, -0.279104], [51.535899, -0.205609], [51.5331, -0.240467], [51.554463, -0.249885], [51.584929, -0.279027], [51.57885, -0.325009], [51.553395, -0.287142], [51.535667, -0.249741], [51.543774, -0.305819], [51.553528, -0.217609], [51.529788, -0.223583], [51.585064, -0.282054], [51.552628, -0.296258], [51.587155, -0.302184], [51.553164, -0.314702], [51.554933, -0.294008], [51.53563, -0.247291], [51.538963, -0.278022], [51.534905, -0.193536], [51.537977, -0.200336], [51.544922, -0.213474], [51.568595, -0.262906], [51.55194, -0.298447], [51.570053, -0.294885], [51.577983, -0.289826], [51.555857, -0.252861], [51.570954, -0.294996], [51.567939, -0.243018], [51.57805, -0.325616], [51.577878, -0.326199], [51.570056, -0.295029], [51.543021, -0.224509], [51.575987, -0.294807], [51.542311, -0.267224], [51.551671, -0.298458], [51.560631, -0.253399], [51.551237, -0.2089], [51.557651, -0.216726], [51.533677, -0.219106], [51.543523, -0.210212], [51.560194, -0.236248], [51.541381, -0.259039], [51.564558, -0.239397], [51.546082, -0.297512], [51.555068, -0.315785], [51.569096, -0.322049], [51.552168, -0.301757], [51.548927, -0.270723], [51.541945, -0.206957], [51.562505, -0.258521], [51.542084, -0.198443], [51.548074, -0.237582], [51.567452, -0.234524], [51.538641, -0.250204], [51.576779, -0.293623], [51.562133, -0.25767], [51.562564, -0.305553], [51.586844, -0.299309], [51.545485, -0.215039], [51.538982, -0.279319], [51.562438, -0.328065], [51.559552, -0.25344], [51.53398, -0.245192], [51.563683, -0.223127], [51.566374, -0.283047], [51.546932, -0.239357], [51.541451, -0.263796], [51.546039, -0.251795], [51.558589, -0.249149], [51.532341, -0.274091], [51.53683, -0.243352], [51.558152, -0.250032], [51.557069, -0.286283], [51.557003, -0.306481], [51.552057, -0.300318], [51.565685, -0.266768], [51.565389, -0.271108], [51.567965, -0.324688], [51.543806, -0.222892], [51.54639, -0.221349], [51.560091, -0.25342], [51.554702, -0.315366], [51.559915, -0.241596], [51.536529, -0.235288], [51.547404, -0.252896], [51.551985, -0.314024], [51.537286, -0.298706], [51.578667, -0.262955], [51.562711, -0.230235], [51.551612, -0.306826], [51.542307, -0.266936], [51.529788, -0.223583], [51.562646, -0.304973], [51.578755, -0.262807], [51.5378, -0.248073], [51.548464, -0.221701], [51.570621, -0.272208], [51.582701, -0.262079], [51.538198, -0.281079], [51.535717, -0.205472], [51.584659, -0.260706], [51.54142, -0.231638], [51.543001, -0.199561], [51.541404, -0.254568], [51.539808, -0.238046], [51.564415, -0.278215], [51.562218, -0.257378], [51.547168, -0.273386], [51.594949, -0.275472], [51.554855, -0.313485], [51.542677, -0.225532], [51.585374, -0.309613], [51.536171, -0.205742], [51.536417, -0.192467], [51.567753, -0.272894], [51.56381, -0.292233], [51.564645, -0.263345], [51.578846, -0.312164], [51.559695, -0.299889], [51.540758, -0.27781], [51.553568, -0.286703], [51.562462, -0.310895], [51.560303, -0.219652], [51.552832, -0.285576], [51.563681, -0.222983], [51.560823, -0.254257], [51.54515, -0.210725], [51.540702, -0.255749], [51.534455, -0.205233], [51.535566, -0.213264], [51.534628, -0.204794], [51.590762, -0.265958], [51.565415, -0.272839], [51.556938, -0.320765], [51.547135, -0.228964], [51.533056, -0.26772], [51.584334, -0.281359], [51.553587, -0.288], [51.555092, -0.286357], [51.544327, -0.251572], [51.589683, -0.265999], [51.538108, -0.29954], [51.536051, -0.239344], [51.532457, -0.233571], [51.558582, -0.285216], [51.544696, -0.288767], [51.561781, -0.246141], [51.545179, -0.297258], [51.551844, -0.24912], [51.56534, -0.243551], [51.582192, -0.258057], [51.553384, -0.243868], [51.539947, -0.277697], [51.559857, -0.231788], [51.548736, -0.23972], [51.562098, -0.292009], [51.54192, -0.295793], [51.586641, -0.297729], [51.554536, -0.212953], [51.594089, -0.284312], [51.54684, -0.239216], [51.570161, -0.235285], [51.54057, -0.3019], [51.548258, -0.237863], [51.548072, -0.237438], [51.54699, -0.231278], [51.577962, -0.325763], [51.565393, -0.277457], [51.545143, -0.228032], [51.54599, -0.297371], [51.541293, -0.259187], [51.539859, -0.247417], [51.545506, -0.252248], [51.533199, -0.247096], [51.558777, -0.249719], [51.565385, -0.26476], [51.555068, -0.315785], [51.581701, -0.285789], [51.560787, -0.282247], [51.541009, -0.276503], [51.548398, -0.241175], [51.5491, -0.246052], [51.549628, -0.20954], [51.5549, -0.26112], [51.581721, -0.262694], [51.546883, -0.230128], [51.55647, -0.245769], [51.555359, -0.286203], [51.538584, -0.252369], [51.545002, -0.272891], [51.564237, -0.278366], [51.553541, -0.291031], [51.548964, -0.248942], [51.573489, -0.2594], [51.535628, -0.247147], [51.584689, -0.281057], [51.565408, -0.272406], [51.583068, -0.287037], [51.55086, -0.219588], [51.566105, -0.240636], [51.561591, -0.281929], [51.560483, -0.219645], [51.542632, -0.198998], [51.528112, -0.196256], [51.553543, -0.291175], [51.559291, -0.290671], [51.546646, -0.274559], [51.556461, -0.21533], [51.535404, -0.220336], [51.540794, -0.202244], [51.573734, -0.294459], [51.5832, -0.314745], [51.547948, -0.277539], [51.535132, -0.220202], [51.565354, -0.274861], [51.550916, -0.259252], [51.556376, -0.245484], [51.578762, -0.325157], [51.561992, -0.297062], [51.561855, -0.281486], [51.541578, -0.2785], [51.542985, -0.270227], [51.535799, -0.246564], [51.537127, -0.203542], [51.539237, -0.2783], [51.546668, -0.204175], [51.55266, -0.261638], [51.547011, -0.274978], [51.552973, -0.295235], [51.563524, -0.278826], [51.545366, -0.273165], [51.548554, -0.221698], [51.565153, -0.28569], [51.566247, -0.311476], [51.55826, -0.325189], [51.540103, -0.25779], [51.585288, -0.285076], [51.549044, -0.242304], [51.551867, -0.299604], [51.56595, -0.248289], [51.555254, -0.316211], [51.54195, -0.25498], [51.589775, -0.26614], [51.551031, -0.260979], [51.534272, -0.301702], [51.530854, -0.216765], [51.594481, -0.268127], [51.56735, -0.227746], [51.582778, -0.26121], [51.586402, -0.293696], [51.555068, -0.315785], [51.599405, -0.26664], [51.570621, -0.272208], [51.54288, -0.293738], [51.547206, -0.239635], [51.547208, -0.227808], [51.533401, -0.218684], [51.559802, -0.252132], [51.566111, -0.229093], [51.579277, -0.323406], [51.539049, -0.277731], [51.531536, -0.232165], [51.567134, -0.2797], [51.586168, -0.265412], [51.571184, -0.323415], [51.537403, -0.215788], [51.57768, -0.306146], [51.558777, -0.249719], [51.563675, -0.27074], [51.546997, -0.23171], [51.545594, -0.307338], [51.54933, -0.249361], [51.574672, -0.309577], [51.567425, -0.262806], [51.572331, -0.266227], [51.552504, -0.215341], [51.552457, -0.296841], [51.5331, -0.240467], [51.556461, -0.21533], [51.558991, -0.252019], [51.541406, -0.254712], [51.565177, -0.287276], [51.576263, -0.301436], [51.56219, -0.29215], [51.544052, -0.20947], [51.568777, -0.263043], [51.547045, -0.228968], [51.536691, -0.246097], [51.54337, -0.223775], [51.555753, -0.216079], [51.559665, -0.2191], [51.573532, -0.262285], [51.551748, -0.218833], [51.542316, -0.255398], [51.549587, -0.291179], [51.54506, -0.210729], [51.541045, -0.260639], [51.535493, -0.244124], [51.563591, -0.222987], [51.558587, -0.225057], [51.562202, -0.280607], [51.570751, -0.232664], [51.55682, -0.215316], [51.569407, -0.238921], [51.566248, -0.226202], [51.557741, -0.216723], [51.566063, -0.22592], [51.568906, -0.229561], [51.558659, -0.217985], [51.556274, -0.214905], [51.556825, -0.215605], [51.562017, -0.225934], [51.568996, -0.229558], [51.565882, -0.225783], [51.556822, -0.215461], [51.556732, -0.215464], [51.556829, -0.215893], [51.549805, -0.281507], [51.546924, -0.275126], [51.542397, -0.266932], [51.538303, -0.251659], [51.537926, -0.299403], [51.560667, -0.26191], [51.562636, -0.279581], [51.566239, -0.225625], [51.556463, -0.215475], [51.553663, -0.29319], [51.541416, -0.23135], [51.55202, -0.248825], [51.543021, -0.224509], [51.551953, -0.299312], [51.564237, -0.242007], [51.586574, -0.299319], [51.551577, -0.261391], [51.569988, -0.271944], [51.553871, -0.288999], [51.568549, -0.241696], [51.557244, -0.243431], [51.568957, -0.263037], [51.564309, -0.289473], [51.600051, -0.26777], [51.581053, -0.266184], [51.533378, -0.241033], [51.534218, -0.219229], [51.570328, -0.234412], [51.565755, -0.265467], [51.557949, -0.248453], [51.56106, -0.319748], [51.556108, -0.215777], [51.534722, -0.240693], [51.581901, -0.262687], [51.541381, -0.259039], [51.547415, -0.265732], [51.551222, -0.261693], [51.545286, -0.219662], [51.595146, -0.282828], [51.553458, -0.212996], [51.550225, -0.261154], [51.548212, -0.24075], [51.544818, -0.272609]],\n",
       "                {\n",
       "  &quot;minOpacity&quot;: 0.5,\n",
       "  &quot;maxZoom&quot;: 18,\n",
       "  &quot;radius&quot;: 8,\n",
       "  &quot;blur&quot;: 15,\n",
       "}\n",
       "            );\n",
       "        \n",
       "    \n",
       "            heat_map_8cf9f00a58e0dab2cf37da93f0f96b09.addTo(map_379b0fd227c7ddb7229365a321f02b52);\n",
       "        \n",
       "&lt;/script&gt;\n",
       "&lt;/html&gt;\" style=\"position:absolute;width:100%;height:100%;left:0;top:0;border:none !important;\" allowfullscreen webkitallowfullscreen mozallowfullscreen></iframe></div></div>"
      ],
      "text/plain": [
       "<folium.folium.Map at 0x21abf993500>"
      ]
     },
     "execution_count": 79,
     "metadata": {},
     "output_type": "execute_result"
    }
   ],
   "source": [
    "brent_df = df[df[\"District Area\"] == \"Brent\"]\n",
    "\n",
    "accidents_per_day = brent_df[\"DayOfWeek\"].value_counts()\n",
    "print(\"Accidents per Day of the Week in Brent:\\n\", accidents_per_day)\n",
    "\n",
    "coords = brent_df[[\"Latitude\", \"Longitude\"]].dropna().values.tolist()\n",
    "m = folium.Map(location=[brent_df[\"Latitude\"].mean(), brent_df[\"Longitude\"].mean()], zoom_start=12)\n",
    "HeatMap(coords, radius=8).add_to(m)\n",
    "m"
   ]
  },
  {
   "cell_type": "code",
   "execution_count": null,
   "id": "ffc8c87a-2f0b-45f7-8805-c6144051cccd",
   "metadata": {},
   "outputs": [],
   "source": []
  },
  {
   "cell_type": "markdown",
   "id": "0d24faef-4b4e-4e21-8cb4-b3b870e7839e",
   "metadata": {},
   "source": [
    "<h2>District 3: Southwack - Accidents in Southwark by Light Conditions</h2>"
   ]
  },
  {
   "cell_type": "markdown",
   "id": "8fba25f7-d59a-413c-ab69-7ceae73f5cc9",
   "metadata": {},
   "source": [
    "<h3>Insight 28: In Southwark, most accidents happen in daylight. This means traffic volume is a bigger factor than visibility.</h3>"
   ]
  },
  {
   "cell_type": "code",
   "execution_count": 86,
   "id": "3a91eaaf-3069-426a-9706-5b57d60e172c",
   "metadata": {},
   "outputs": [
    {
     "name": "stdout",
     "output_type": "stream",
     "text": [
      "Accidents in Southwark by Light Conditions:\n",
      " Light_Conditions\n",
      "Daylight                       2775\n",
      "Darkness - lights lit          1107\n",
      "Darkness - lighting unknown       8\n",
      "Darkness - lights unlit           3\n",
      "Darkness - no lighting            1\n",
      "Name: count, dtype: int64\n"
     ]
    },
    {
     "data": {
      "text/html": [
       "<div style=\"width:100%;\"><div style=\"position:relative;width:100%;height:0;padding-bottom:60%;\"><span style=\"color:#565656\">Make this Notebook Trusted to load map: File -> Trust Notebook</span><iframe srcdoc=\"&lt;!DOCTYPE html&gt;\n",
       "&lt;html&gt;\n",
       "&lt;head&gt;\n",
       "    \n",
       "    &lt;meta http-equiv=&quot;content-type&quot; content=&quot;text/html; charset=UTF-8&quot; /&gt;\n",
       "    &lt;script src=&quot;https://cdn.jsdelivr.net/npm/leaflet@1.9.3/dist/leaflet.js&quot;&gt;&lt;/script&gt;\n",
       "    &lt;script src=&quot;https://code.jquery.com/jquery-3.7.1.min.js&quot;&gt;&lt;/script&gt;\n",
       "    &lt;script src=&quot;https://cdn.jsdelivr.net/npm/bootstrap@5.2.2/dist/js/bootstrap.bundle.min.js&quot;&gt;&lt;/script&gt;\n",
       "    &lt;script src=&quot;https://cdnjs.cloudflare.com/ajax/libs/Leaflet.awesome-markers/2.0.2/leaflet.awesome-markers.js&quot;&gt;&lt;/script&gt;\n",
       "    &lt;link rel=&quot;stylesheet&quot; href=&quot;https://cdn.jsdelivr.net/npm/leaflet@1.9.3/dist/leaflet.css&quot;/&gt;\n",
       "    &lt;link rel=&quot;stylesheet&quot; href=&quot;https://cdn.jsdelivr.net/npm/bootstrap@5.2.2/dist/css/bootstrap.min.css&quot;/&gt;\n",
       "    &lt;link rel=&quot;stylesheet&quot; href=&quot;https://netdna.bootstrapcdn.com/bootstrap/3.0.0/css/bootstrap-glyphicons.css&quot;/&gt;\n",
       "    &lt;link rel=&quot;stylesheet&quot; href=&quot;https://cdn.jsdelivr.net/npm/@fortawesome/fontawesome-free@6.2.0/css/all.min.css&quot;/&gt;\n",
       "    &lt;link rel=&quot;stylesheet&quot; href=&quot;https://cdnjs.cloudflare.com/ajax/libs/Leaflet.awesome-markers/2.0.2/leaflet.awesome-markers.css&quot;/&gt;\n",
       "    &lt;link rel=&quot;stylesheet&quot; href=&quot;https://cdn.jsdelivr.net/gh/python-visualization/folium/folium/templates/leaflet.awesome.rotate.min.css&quot;/&gt;\n",
       "    \n",
       "            &lt;meta name=&quot;viewport&quot; content=&quot;width=device-width,\n",
       "                initial-scale=1.0, maximum-scale=1.0, user-scalable=no&quot; /&gt;\n",
       "            &lt;style&gt;\n",
       "                #map_dd0e00b674a9395c6804daeafd4135b2 {\n",
       "                    position: relative;\n",
       "                    width: 100.0%;\n",
       "                    height: 100.0%;\n",
       "                    left: 0.0%;\n",
       "                    top: 0.0%;\n",
       "                }\n",
       "                .leaflet-container { font-size: 1rem; }\n",
       "            &lt;/style&gt;\n",
       "\n",
       "            &lt;style&gt;html, body {\n",
       "                width: 100%;\n",
       "                height: 100%;\n",
       "                margin: 0;\n",
       "                padding: 0;\n",
       "            }\n",
       "            &lt;/style&gt;\n",
       "\n",
       "            &lt;style&gt;#map {\n",
       "                position:absolute;\n",
       "                top:0;\n",
       "                bottom:0;\n",
       "                right:0;\n",
       "                left:0;\n",
       "                }\n",
       "            &lt;/style&gt;\n",
       "\n",
       "            &lt;script&gt;\n",
       "                L_NO_TOUCH = false;\n",
       "                L_DISABLE_3D = false;\n",
       "            &lt;/script&gt;\n",
       "\n",
       "        \n",
       "    &lt;script src=&quot;https://cdn.jsdelivr.net/gh/python-visualization/folium@main/folium/templates/leaflet_heat.min.js&quot;&gt;&lt;/script&gt;\n",
       "&lt;/head&gt;\n",
       "&lt;body&gt;\n",
       "    \n",
       "    \n",
       "            &lt;div class=&quot;folium-map&quot; id=&quot;map_dd0e00b674a9395c6804daeafd4135b2&quot; &gt;&lt;/div&gt;\n",
       "        \n",
       "&lt;/body&gt;\n",
       "&lt;script&gt;\n",
       "    \n",
       "    \n",
       "            var map_dd0e00b674a9395c6804daeafd4135b2 = L.map(\n",
       "                &quot;map_dd0e00b674a9395c6804daeafd4135b2&quot;,\n",
       "                {\n",
       "                    center: [51.48128878068824, -0.0800259227015922],\n",
       "                    crs: L.CRS.EPSG3857,\n",
       "                    ...{\n",
       "  &quot;zoom&quot;: 12,\n",
       "  &quot;zoomControl&quot;: true,\n",
       "  &quot;preferCanvas&quot;: false,\n",
       "}\n",
       "\n",
       "                }\n",
       "            );\n",
       "\n",
       "            \n",
       "\n",
       "        \n",
       "    \n",
       "            var tile_layer_f16a09f7f0bc383186c78248193dc334 = L.tileLayer(\n",
       "                &quot;https://tile.openstreetmap.org/{z}/{x}/{y}.png&quot;,\n",
       "                {\n",
       "  &quot;minZoom&quot;: 0,\n",
       "  &quot;maxZoom&quot;: 19,\n",
       "  &quot;maxNativeZoom&quot;: 19,\n",
       "  &quot;noWrap&quot;: false,\n",
       "  &quot;attribution&quot;: &quot;\\u0026copy; \\u003ca href=\\&quot;https://www.openstreetmap.org/copyright\\&quot;\\u003eOpenStreetMap\\u003c/a\\u003e contributors&quot;,\n",
       "  &quot;subdomains&quot;: &quot;abc&quot;,\n",
       "  &quot;detectRetina&quot;: false,\n",
       "  &quot;tms&quot;: false,\n",
       "  &quot;opacity&quot;: 1,\n",
       "}\n",
       "\n",
       "            );\n",
       "        \n",
       "    \n",
       "            tile_layer_f16a09f7f0bc383186c78248193dc334.addTo(map_dd0e00b674a9395c6804daeafd4135b2);\n",
       "        \n",
       "    \n",
       "            var heat_map_a643a9fe1a223d204bdd9d45095fe738 = L.heatLayer(\n",
       "                [[51.506351, -0.088463], [51.490413, -0.103823], [51.501161, -0.106691], [51.435971, -0.090539], [51.506853, -0.108328], [51.43263, -0.089672], [51.473965, -0.093273], [51.497573, -0.107272], [51.461324, -0.079116], [51.491215, -0.103357], [51.470898, -0.092681], [51.489178, -0.105315], [51.421289, -0.078063], [51.436061, -0.090536], [51.472073, -0.093064], [51.491215, -0.103357], [51.469094, -0.092324], [51.473933, -0.063898], [51.475682, -0.071745], [51.47649, -0.077183], [51.489418, -0.086866], [51.486957, -0.073862], [51.494103, -0.092865], [51.482833, -0.063665], [51.488047, -0.058115], [51.468819, -0.092048], [51.492699, -0.040486], [51.483112, -0.06423], [51.492763, -0.098971], [51.479179, -0.071165], [51.442417, -0.077751], [51.50525, -0.098163], [51.49333, -0.100676], [51.486033, -0.094354], [51.501234, -0.078014], [51.462194, -0.066411], [51.494051, -0.089698], [51.501758, -0.104649], [51.492394, -0.09841], [51.486854, -0.09504], [51.476982, -0.074282], [51.490675, -0.081196], [51.482274, -0.062537], [51.495581, -0.100871], [51.503569, -0.105438], [51.462916, -0.066524], [51.474338, -0.077561], [51.487672, -0.095582], [51.480819, -0.094427], [51.504838, -0.083915], [51.441868, -0.066262], [51.479543, -0.071438], [51.498285, -0.062722], [51.434368, -0.086002], [51.470728, -0.093264], [51.494957, -0.101185], [51.480706, -0.060155], [51.467363, -0.090957], [51.462109, -0.066702], [51.47408, -0.078292], [51.454567, -0.089332], [51.467477, -0.065035], [51.488942, -0.096249], [51.479466, -0.094196], [51.488826, -0.07263], [51.500509, -0.094182], [51.474125, -0.06461], [51.502015, -0.092823], [51.491708, -0.100456], [51.46525, -0.066282], [51.481672, -0.080565], [51.504892, -0.087227], [51.490413, -0.103823], [51.469171, -0.0641], [51.502368, -0.092376], [51.47117, -0.092814], [51.50323, -0.079083], [51.45236, -0.059054], [51.501236, -0.078158], [51.499023, -0.096838], [51.497879, -0.054527], [51.474802, -0.094966], [51.50165, -0.098025], [51.457491, -0.075678], [51.492843, -0.065402], [51.50051, -0.088707], [51.474036, -0.092118], [51.482259, -0.094511], [51.495005, -0.09859], [51.495948, -0.101288], [51.48094, -0.101911], [51.474072, -0.094277], [51.488952, -0.091351], [51.465378, -0.052311], [51.457178, -0.06763], [51.484316, -0.093849], [51.460272, -0.075273], [51.482274, -0.062537], [51.500774, -0.093883], [51.490926, -0.052806], [51.490032, -0.096924], [51.471984, -0.093068], [51.460629, -0.075114], [51.489836, -0.095924], [51.492386, -0.059515], [51.494851, -0.100181], [51.494103, -0.092865], [51.454151, -0.085894], [51.470898, -0.092681], [51.501214, -0.093288], [51.478046, -0.084318], [51.424406, -0.076206], [51.466066, -0.066679], [51.498058, -0.065325], [51.474222, -0.075982], [51.500851, -0.098635], [51.502964, -0.101429], [51.495857, -0.051876], [51.492793, -0.100843], [51.501211, -0.093144], [51.495335, -0.102322], [51.473384, -0.057874], [51.485555, -0.070608], [51.473823, -0.073551], [51.500336, -0.094622], [51.48555, -0.07032], [51.493886, -0.085095], [51.478146, -0.068472], [51.467363, -0.090957], [51.487662, -0.067494], [51.474959, -0.09352], [51.478633, -0.065283], [51.501599, -0.094857], [51.453265, -0.092265], [51.467865, -0.061276], [51.493614, -0.074013], [51.494103, -0.092865], [51.494004, -0.064921], [51.489194, -0.078665], [51.488668, -0.057656], [51.497665, -0.079749], [51.488952, -0.091351], [51.466344, -0.056301], [51.467033, -0.065342], [51.485836, -0.071316], [51.461409, -0.078825], [51.467653, -0.053942], [51.473328, -0.070836], [51.478818, -0.054762], [51.484223, -0.066199], [51.503236, -0.035999], [51.450636, -0.05812], [51.472344, -0.065694], [51.48901, -0.078385], [51.473872, -0.060157], [51.478818, -0.054762], [51.42957, -0.078578], [51.459461, -0.075164], [51.459817, -0.058594], [51.484041, -0.066063], [51.474036, -0.092118], [51.473659, -0.069094], [51.460482, -0.066195], [51.497717, -0.066492], [51.473691, -0.092996], [51.492162, -0.062262], [51.479909, -0.088272], [51.474319, -0.07641], [51.484674, -0.093691], [51.47635, -0.090581], [51.46973, -0.09273], [51.494086, -0.091857], [51.470978, -0.0538], [51.440796, -0.088611], [51.466088, -0.051705], [51.483655, -0.086387], [51.487205, -0.061608], [51.487605, -0.074987], [51.483494, -0.09302], [51.491875, -0.044987], [51.493436, -0.101681], [51.507005, -0.106592], [51.503645, -0.10457], [51.443072, -0.06837], [51.505774, -0.086181], [51.473158, -0.071419], [51.498543, -0.072941], [51.467605, -0.061863], [51.493056, -0.1004], [51.505015, -0.083763], [51.488909, -0.105326], [51.462989, -0.081925], [51.506281, -0.095238], [51.495574, -0.100439], [51.480512, -0.059299], [51.490306, -0.080635], [51.469509, -0.068261], [51.500163, -0.095061], [51.462873, -0.063935], [51.494124, -0.094161], [51.495574, -0.100439], [51.474303, -0.075403], [51.473933, -0.063898], [51.456445, -0.083207], [51.470122, -0.072699], [51.490789, -0.055405], [51.482259, -0.094511], [51.49697, -0.081219], [51.486215, -0.072452], [51.505054, -0.097163], [51.494103, -0.092865], [51.466853, -0.06535], [51.486964, -0.074293], [51.479014, -0.094071], [51.485938, -0.072032], [51.433085, -0.079006], [51.499541, -0.07895], [51.506308, -0.102442], [51.430856, -0.085717], [51.467273, -0.09096], [51.502761, -0.099996], [51.483303, -0.064942], [51.4755, -0.093641], [51.480819, -0.094427], [51.473716, -0.072547], [51.497971, -0.054667], [51.501124, -0.093292], [51.505102, -0.089091], [51.497353, -0.049939], [51.493505, -0.100381], [51.468558, -0.070605], [51.489935, -0.07993], [51.494114, -0.093585], [51.497985, -0.066337], [51.44979, -0.083198], [51.483951, -0.066066], [51.487986, -0.076267], [51.478034, -0.089071], [51.48687, -0.074009], [51.485723, -0.069881], [51.492271, -0.096399], [51.474339, -0.094121], [51.456922, -0.090385], [51.494196, -0.049354], [51.47976, -0.057315], [51.503792, -0.085976], [51.478924, -0.094074], [51.495653, -0.083148], [51.498693, -0.1042], [51.494124, -0.094161], [51.474213, -0.064462], [51.432172, -0.072714], [51.463222, -0.090698], [51.47373, -0.073411], [51.494821, -0.076267], [51.439174, -0.082923], [51.482611, -0.072028], [51.455261, -0.07678], [51.504848, -0.095586], [51.473706, -0.082916], [51.493167, -0.046948], [51.483954, -0.06621], [51.42591, -0.074704], [51.504847, -0.089967], [51.480607, -0.059583], [51.476226, -0.094043], [51.478818, -0.054762], [51.491123, -0.103217], [51.476488, -0.099072], [51.505732, -0.100161], [51.495003, -0.076404], [51.467376, -0.080734], [51.502305, -0.077537], [51.473156, -0.071275], [51.461409, -0.078825], [51.502338, -0.101599], [51.503251, -0.04767], [51.474339, -0.094121], [51.484046, -0.066351], [51.464928, -0.068599], [51.500763, -0.098782], [51.477053, -0.073127], [51.477878, -0.068628], [51.444342, -0.069036], [51.485115, -0.082149], [51.501674, -0.050187], [51.474376, -0.06892], [51.483515, -0.094315], [51.504733, -0.044869], [51.494683, -0.100908], [51.497086, -0.099368], [51.48966, -0.079654], [51.473727, -0.089683], [51.454527, -0.070477], [51.47555, -0.091191], [51.495357, -0.08705], [51.485397, -0.093948], [51.478927, -0.094218], [51.489939, -0.080218], [51.47289, -0.055159], [51.47967, -0.057318], [51.455848, -0.090718], [51.469887, -0.063926], [51.473626, -0.083495], [51.487672, -0.095582], [51.484046, -0.066351], [51.497578, -0.079897], [51.462287, -0.066551], [51.487988, -0.076411], [51.479386, -0.056466], [51.487196, -0.077453], [51.467869, -0.08892], [51.472982, -0.055299], [51.505549, -0.088929], [51.498792, -0.104772], [51.489261, -0.104879], [51.47829, -0.099285], [51.487672, -0.095582], [51.429507, -0.080163], [51.473401, -0.086241], [51.46973, -0.09273], [51.459099, -0.075035], [51.473877, -0.065917], [51.495494, -0.101019], [51.493053, -0.100256], [51.494031, -0.09402], [51.453011, -0.087669], [51.488549, -0.077684], [51.50097, -0.105978], [51.485397, -0.093948], [51.493813, -0.086106], [51.495481, -0.105774], [51.487984, -0.076123], [51.490425, -0.055133], [51.42677, -0.077832], [51.505781, -0.086613], [51.445917, -0.071848], [51.473956, -0.092697], [51.49415, -0.09027], [51.497086, -0.099368], [51.484586, -0.093838], [51.491528, -0.045722], [51.497879, -0.103945], [51.502628, -0.091789], [51.443609, -0.068203], [51.500075, -0.07864], [51.493507, -0.100525], [51.462289, -0.066695], [51.487582, -0.095586], [51.472627, -0.088433], [51.426089, -0.080163], [51.49548, -0.100155], [51.498792, -0.104772], [51.487095, -0.054986], [51.494683, -0.100908], [51.504619, -0.09257], [51.495437, -0.103038], [51.44235, -0.084661], [51.504629, -0.093146], [51.490503, -0.092727], [51.490942, -0.097607], [51.494848, -0.100037], [51.483958, -0.066498], [51.505043, -0.090967], [51.462994, -0.082213], [51.473514, -0.093148], [51.496566, -0.106161], [51.466503, -0.065941], [51.495208, -0.100022], [51.467701, -0.089647], [51.495929, -0.100136], [51.497515, -0.103672], [51.473404, -0.069969], [51.467701, -0.089647], [51.483782, -0.09416], [51.479661, -0.067688], [51.497899, -0.066629], [51.487862, -0.057834], [51.493411, -0.100097], [51.498697, -0.055069], [51.487714, -0.076134], [51.478927, -0.094218], [51.473244, -0.093159], [51.459007, -0.074895], [51.485853, -0.094361], [51.473244, -0.093159], [51.490668, -0.09733], [51.474622, -0.094974], [51.476027, -0.098371], [51.460364, -0.075413], [51.456675, -0.064341], [51.473872, -0.060157], [51.495361, -0.059965], [51.506171, -0.08847], [51.474118, -0.075123], [51.498772, -0.070482], [51.49351, -0.100669], [51.47224, -0.097809], [51.484044, -0.066207], [51.495151, -0.102041], [51.49073, -0.095599], [51.497578, -0.079897], [51.494775, -0.101049], [51.480614, -0.060015], [51.499025, -0.096982], [51.452855, -0.100198], [51.487207, -0.061751], [51.476539, -0.058316], [51.441437, -0.089304], [51.471758, -0.06831], [51.453008, -0.087526], [51.483956, -0.066354], [51.49093, -0.074847], [51.497236, -0.103107], [51.485465, -0.070612], [51.474738, -0.069048], [51.491506, -0.044426], [51.477976, -0.052782], [51.487598, -0.096593], [51.483994, -0.07413], [51.495574, -0.100439], [51.445181, -0.070871], [51.473319, -0.075732], [51.474036, -0.092118], [51.427435, -0.074496], [51.440893, -0.089039], [51.485943, -0.094358], [51.4858, -0.05821], [51.501036, -0.09344], [51.452859, -0.100486], [51.487457, -0.055115], [51.483115, -0.102973], [51.504754, -0.095302], [51.492869, -0.066986], [51.481394, -0.085618], [51.479348, -0.092472], [51.483389, -0.053848], [51.494271, -0.086663], [51.468684, -0.07276], [51.458412, -0.055198], [51.469671, -0.056303], [51.479135, -0.095938], [51.454331, -0.069478], [51.472025, -0.068155], [51.472149, -0.092197], [51.480233, -0.058735], [51.496369, -0.088448], [51.48749, -0.095446], [51.497086, -0.099368], [51.505549, -0.088929], [51.457666, -0.075383], [51.462074, -0.080956], [51.486406, -0.073165], [51.49898, -0.099721], [51.475183, -0.096246], [51.500949, -0.093588], [51.495298, -0.061552], [51.495361, -0.092812], [51.473963, -0.093129], [51.44425, -0.068896], [51.473945, -0.064618], [51.481475, -0.085038], [51.477884, -0.052642], [51.489281, -0.056622], [51.446733, -0.072245], [51.466004, -0.068409], [51.492751, -0.065262], [51.498894, -0.056069], [51.458555, -0.08024], [51.496622, -0.081954], [51.491506, -0.09355], [51.499152, -0.055337], [51.500555, -0.108157], [51.464859, -0.058955], [51.483236, -0.088277], [51.477495, -0.061731], [51.440895, -0.089183], [51.480819, -0.094427], [51.492212, -0.065285], [51.495676, -0.101155], [51.505287, -0.089372], [51.473732, -0.089971], [51.498238, -0.070793], [51.474504, -0.093251], [51.495049, -0.101325], [51.459171, -0.057613], [51.500611, -0.089423], [51.477462, -0.070661], [51.482374, -0.063109], [51.468915, -0.064975], [51.502119, -0.104778], [51.450443, -0.068203], [51.506972, -0.104576], [51.496533, -0.081958], [51.482569, -0.091474], [51.50464, -0.093866], [51.494081, -0.091569], [51.498282, -0.062578], [51.490863, -0.04359], [51.465966, -0.066107], [51.505056, -0.097307], [51.493332, -0.10082], [51.489847, -0.080078], [51.454108, -0.088775], [51.477263, -0.058573], [51.4985, -0.070349], [51.458952, -0.066116], [51.500357, -0.073873], [51.481447, -0.06142], [51.478927, -0.094218], [51.476116, -0.098368], [51.482079, -0.094519], [51.481447, -0.06142], [51.452351, -0.063948], [51.473231, -0.070408], [51.49033, -0.054849], [51.485271, -0.086176], [51.498036, -0.064029], [51.493056, -0.1004], [51.468273, -0.053339], [51.465966, -0.066107], [51.478698, -0.102293], [51.5043, -0.045896], [51.494959, -0.101329], [51.478641, -0.054914], [51.493153, -0.100828], [51.476707, -0.08495], [51.501236, -0.078158], [51.441589, -0.065698], [51.478446, -0.097839], [51.484319, -0.093993], [51.474121, -0.075266], [51.473331, -0.07098], [51.502584, -0.078102], [51.48985, -0.096788], [51.50356, -0.104862], [51.462915, -0.055583], [51.49059, -0.081487], [51.473844, -0.063902], [51.490337, -0.093598], [51.480819, -0.094427], [51.482254, -0.094224], [51.494036, -0.094308], [51.481676, -0.080853], [51.474701, -0.055946], [51.496622, -0.081954], [51.440449, -0.083877], [51.475743, -0.097519], [51.475837, -0.097803], [51.490585, -0.081199], [51.494775, -0.101049], [51.478931, -0.094506], [51.465884, -0.066543], [51.467963, -0.072646], [51.485579, -0.094085], [51.467743, -0.053938], [51.505107, -0.089379], [51.478859, -0.062682], [51.49548, -0.100155], [51.474286, -0.068923], [51.501597, -0.094713], [51.50484, -0.084059], [51.501236, -0.078158], [51.46625, -0.061488], [51.488306, -0.095844], [51.48749, -0.095446], [51.503645, -0.10457], [51.46205, -0.068576], [51.495434, -0.102894], [51.489289, -0.078949], [51.49876, -0.058812], [51.49636, -0.082398], [51.505779, -0.086469], [51.473676, -0.081045], [51.494938, -0.100033], [51.466773, -0.065929], [51.492212, -0.065285], [51.501969, -0.101038], [51.456684, -0.075856], [51.497356, -0.033947], [51.440796, -0.088611], [51.494167, -0.091278], [51.494146, -0.089982], [51.495768, -0.101295], [51.494086, -0.091857], [51.504844, -0.089823], [51.480141, -0.058595], [51.452918, -0.087529], [51.454314, -0.063001], [51.493406, -0.077768], [51.494678, -0.10062], [51.473626, -0.083495], [51.474158, -0.077569], [51.501214, -0.093288], [51.473783, -0.093137], [51.474161, -0.077713], [51.498831, -0.1016], [51.495437, -0.103038], [51.500168, -0.073305], [51.494799, -0.085921], [51.501214, -0.093288], [51.479017, -0.094214], [51.490942, -0.097607], [51.466773, -0.065929], [51.473513, -0.065644], [51.472073, -0.093064], [51.441804, -0.084252], [51.497578, -0.079897], [51.470786, -0.069359], [51.492692, -0.08356], [51.504372, -0.082926], [51.494138, -0.095024], [51.479929, -0.067533], [51.495665, -0.072918], [51.447491, -0.085597], [51.447314, -0.085749], [51.444157, -0.068756], [51.485038, -0.093963], [51.506169, -0.088326], [51.505262, -0.104503], [51.484406, -0.093846], [51.50239, -0.082721], [51.490857, -0.081332], [51.485884, -0.074195], [51.494041, -0.094596], [51.496287, -0.105596], [51.505991, -0.088478], [51.480908, -0.094424], [51.477601, -0.101186], [51.473539, -0.072699], [51.487962, -0.074828], [51.480481, -0.101354], [51.494733, -0.065466], [51.505833, -0.100877], [51.493051, -0.100112], [51.493242, -0.100824], [51.492396, -0.098554], [51.464457, -0.056381], [51.487248, -0.075146], [51.493994, -0.091717], [51.494029, -0.093876], [51.473945, -0.064618], [51.505587, -0.085757], [51.491918, -0.10232], [51.468055, -0.067315], [51.499572, -0.053591], [51.492985, -0.046812], [51.474055, -0.093269], [51.433803, -0.08991], [51.474147, -0.076849], [51.501291, -0.075995], [51.500075, -0.07864], [51.502216, -0.077541], [51.470512, -0.069083], [51.449286, -0.085378], [51.499072, -0.099861], [51.496369, -0.088448], [51.484429, -0.084195], [51.491209, -0.075411], [51.498246, -0.104362], [51.473905, -0.067643], [51.498039, -0.064173], [51.469147, -0.068133], [51.475837, -0.097803], [51.500859, -0.104686], [51.498343, -0.055372], [51.491689, -0.082738], [51.505462, -0.089076], [51.491778, -0.093682], [51.47829, -0.099285], [51.498195, -0.062726], [51.473234, -0.070552], [51.474594, -0.093247], [51.483956, -0.066354], [51.474083, -0.078436], [51.489423, -0.087154], [51.482169, -0.094515], [51.498204, -0.090677], [51.494917, -0.098738], [51.470723, -0.092976], [51.487251, -0.07529], [51.424134, -0.076073], [51.505689, -0.086473], [51.49218, -0.101877], [51.495342, -0.102754], [51.473787, -0.060448], [51.479386, -0.056466], [51.484048, -0.066494], [51.493153, -0.100828], [51.483515, -0.094315], [51.498982, -0.099865], [51.500999, -0.091136], [51.50485, -0.09573], [51.477547, -0.07037], [51.473638, -0.073271], [51.494775, -0.101049], [51.497086, -0.099368], [51.497605, -0.103668], [51.479536, -0.098513], [51.481655, -0.074085], [51.471872, -0.069745], [51.473496, -0.059165], [51.460969, -0.073948], [51.492433, -0.046115], [51.473945, -0.064618], [51.50299, -0.091917], [51.469152, -0.062949], [51.452202, -0.060356], [51.470602, -0.069079], [51.42739, -0.082698], [51.47549, -0.081977], [51.459853, -0.066222], [51.453855, -0.062445], [51.481088, -0.094416], [51.496656, -0.067546], [51.441036, -0.092343], [51.505984, -0.088046], [51.490235, -0.076316], [51.489225, -0.075062], [51.467232, -0.066486], [51.491211, -0.048329], [51.471984, -0.093068], [51.473087, -0.078046], [51.473844, -0.063902], [51.494936, -0.099889], [51.479386, -0.056466], [51.46796, -0.072502], [51.449015, -0.074308], [51.480908, -0.094424], [51.491027, -0.097315], [51.466004, -0.068409], [51.503555, -0.104574], [51.496535, -0.082102], [51.498356, -0.077991], [51.500404, -0.076753], [51.467479, -0.054237], [51.500458, -0.069114], [51.499988, -0.095357], [51.449799, -0.056428], [51.50442, -0.096901], [51.474014, -0.068791], [51.479017, -0.094214], [51.473241, -0.070984], [51.491294, -0.047893], [51.502566, -0.104615], [51.497438, -0.098921], [51.469152, -0.062949], [51.430587, -0.085729], [51.490214, -0.097061], [51.500853, -0.098779], [51.487207, -0.061751], [51.506025, -0.10159], [51.473317, -0.070116], [51.475589, -0.071604], [51.477058, -0.073415], [51.505989, -0.088334], [51.476587, -0.099644], [51.441719, -0.084544], [51.497083, -0.099224], [51.492907, -0.063815], [51.428662, -0.078041], [51.494105, -0.093009], [51.447918, -0.073203], [51.473956, -0.092697], [51.483126, -0.065093], [51.498785, -0.054921], [51.466606, -0.055858], [51.481799, -0.071919], [51.48827, -0.077119], [51.475952, -0.093766], [51.485397, -0.093948], [51.498543, -0.106079], [51.449015, -0.074308], [51.48108, -0.061003], [51.484023, -0.092421], [51.473544, -0.072987], [51.461185, -0.076099], [51.482653, -0.063673], [51.479857, -0.057743], [51.479697, -0.069847], [51.475551, -0.069302], [51.493242, -0.100824], [51.495676, -0.101155], [51.503167, -0.091766], [51.47396, -0.065481], [51.483416, -0.08827], [51.470309, -0.095153], [51.49033, -0.054849], [51.478731, -0.05491], [51.501597, -0.094713], [51.483515, -0.094315], [51.493242, -0.100824], [51.450107, -0.086064], [51.501057, -0.078166], [51.501326, -0.078155], [51.494525, -0.096737], [51.48307, -0.094622], [51.445917, -0.071848], [51.474058, -0.093413], [51.473825, -0.068223], [51.486872, -0.074153], [51.498608, -0.060547], [51.470973, -0.064312], [51.49557, -0.100151], [51.505409, -0.091384], [51.499726, -0.0958], [51.453008, -0.087526], [51.490034, -0.097068], [51.494067, -0.090705], [51.500047, -0.033543], [51.473733, -0.073555], [51.497353, -0.049939], [51.503372, -0.076772], [51.498143, -0.098027], [51.493463, -0.04852], [51.467049, -0.066349], [51.450297, -0.075693], [51.498143, -0.098027], [51.505197, -0.089376], [51.465791, -0.066403], [51.467568, -0.054233], [51.489306, -0.096522], [51.47341, -0.086816], [51.473621, -0.088679], [51.493961, -0.100794], [51.494867, -0.101189], [51.469419, -0.068265], [51.485943, -0.094358], [51.495151, -0.102041], [51.468918, -0.065119], [51.436402, -0.08937], [51.473154, -0.093163], [51.475408, -0.093501], [51.488182, -0.099306], [51.473832, -0.079599], [51.494034, -0.094164], [51.491556, -0.091099], [51.490839, -0.052954], [51.489486, -0.096515], [51.494594, -0.095438], [51.505015, -0.089239], [51.47355, -0.084362], [51.490423, -0.087833], [51.463402, -0.09069], [51.452931, -0.077309], [51.479012, -0.055618], [51.489054, -0.086593], [51.476149, -0.100382], [51.480321, -0.09704], [51.457474, -0.069201], [51.469714, -0.086251], [51.483234, -0.088133], [51.462289, -0.066695], [51.462055, -0.068864], [51.502545, -0.092224], [51.469996, -0.076016], [51.463819, -0.083186], [51.4874, -0.095449], [51.48503, -0.082441], [51.49504, -0.084182], [51.457708, -0.067032], [51.489236, -0.08673], [51.497054, -0.053554], [51.44555, -0.071431], [51.473935, -0.091402], [51.466084, -0.056888], [51.436238, -0.090384], [51.441806, -0.084396], [51.484404, -0.093702], [51.473617, -0.08292], [51.462289, -0.066695], [51.491848, -0.098001], [51.473825, -0.068223], [51.491556, -0.091099], [51.48985, -0.096788], [51.507009, -0.106881], [51.49727, -0.099648], [51.495743, -0.083144], [51.449013, -0.074164], [51.463729, -0.08319], [51.478444, -0.053914], [51.477978, -0.052926], [51.478165, -0.05335], [51.478823, -0.05505], [51.427799, -0.074768], [51.449799, -0.056428], [51.480868, -0.053667], [51.478078, -0.053498], [51.420489, -0.078671], [51.423065, -0.076693], [51.489194, -0.078665], [51.47826, -0.053634], [51.473282, -0.057158], [51.496275, -0.077215], [51.473963, -0.093129], [51.497603, -0.103524], [51.502466, -0.076378], [51.475837, -0.097803], [51.475409, -0.06614], [51.501124, -0.093292], [51.498678, -0.070198], [51.462904, -0.082217], [51.499551, -0.096095], [51.468943, -0.06123], [51.49139, -0.103062], [51.500465, -0.10816], [51.490678, -0.103524], [51.430459, -0.088899], [51.500558, -0.108301], [51.471534, -0.093086], [51.500555, -0.108157], [51.471898, -0.093359], [51.464568, -0.090497], [51.468186, -0.091786], [51.427716, -0.086136], [51.507016, -0.107313], [51.506929, -0.10746], [51.497126, -0.107434], [51.491655, -0.102763], [51.4376, -0.091191], [51.491565, -0.102767], [51.436243, -0.090672], [51.461621, -0.091772], [51.500465, -0.10816], [51.469094, -0.092324], [51.463579, -0.090539], [51.473263, -0.056007], [51.500851, -0.098635], [51.497873, -0.08147], [51.504626, -0.093002], [51.473519, -0.087964], [51.482274, -0.062537], [51.490666, -0.097186], [51.474161, -0.077713], [51.4542, -0.088915], [51.457396, -0.075394], [51.474464, -0.068772], [51.463987, -0.082459], [51.488044, -0.057971], [51.497228, -0.10815], [51.459099, -0.075035], [51.462554, -0.066396], [51.489439, -0.104728], [51.502988, -0.091773], [51.505211, -0.084764], [51.483335, -0.094322], [51.469005, -0.064971], [51.499808, -0.078795], [51.469599, -0.068257], [51.473246, -0.071271], [51.475972, -0.078501], [51.494717, -0.097449], [51.47344, -0.072127], [51.494922, -0.099026], [51.473958, -0.092841], [51.442944, -0.066073], [51.498982, -0.099865], [51.465421, -0.0549], [51.497226, -0.080344], [51.500928, -0.092292], [51.489426, -0.065403], [51.502207, -0.10463], [51.497268, -0.099504], [51.470349, -0.075569], [51.484233, -0.066775], [51.491758, -0.098005], [51.443971, -0.068332], [51.497578, -0.079897], [51.480704, -0.060011], [51.478028, -0.094256], [51.485287, -0.08171], [51.487721, -0.076566], [51.482169, -0.094515], [51.474237, -0.076846], [51.475556, -0.097095], [51.462289, -0.066695], [51.473979, -0.066632], [51.462291, -0.066839], [51.494224, -0.089258], [51.482558, -0.063389], [51.494678, -0.10062], [51.427484, -0.082981], [51.473905, -0.067643], [51.491689, -0.060841], [51.491168, -0.089386], [51.500638, -0.074581], [51.489012, -0.078529], [51.488551, -0.077828], [51.468538, -0.05304], [51.485643, -0.054184], [51.494678, -0.10062], [51.474143, -0.093122], [51.493509, -0.045925], [51.493321, -0.100101], [51.4965, -0.052713], [51.445917, -0.071848], [51.472503, -0.069863], [51.5037, -0.085836], [51.490685, -0.092864], [51.500859, -0.104686], [51.494593, -0.100912], [51.466688, -0.066221], [51.491565, -0.102767], [51.433623, -0.089918], [51.4815, -0.053784], [51.488864, -0.091499], [51.467365, -0.091101], [51.473442, -0.072271], [51.483515, -0.094315], [51.499115, -0.085884], [51.494683, -0.100908], [51.473614, -0.082776], [51.504311, -0.095753], [51.500553, -0.108013], [51.49059, -0.081487], [51.452167, -0.085546], [51.425822, -0.074851], [51.470786, -0.069359], [51.429476, -0.078294], [51.486993, -0.081494], [51.459009, -0.075039], [51.475977, -0.078788], [51.452938, -0.061332], [51.49316, -0.073744], [51.505365, -0.039654], [51.482259, -0.094511], [51.429244, -0.075139], [51.487986, -0.076267], [51.49453, -0.097025], [51.446551, -0.072109], [51.498697, -0.055069], [51.474158, -0.077569], [51.501758, -0.104649], [51.466604, -0.055714], [51.447095, -0.072374], [51.473905, -0.067643], [51.498979, -0.055777], [51.487207, -0.061751], [51.484309, -0.093418], [51.487986, -0.076267], [51.487899, -0.076415], [51.473893, -0.061452], [51.495812, -0.104031], [51.488051, -0.058403], [51.481953, -0.075801], [51.498527, -0.055652], [51.496622, -0.081954], [51.470606, -0.069367], [51.506216, -0.102302], [51.473444, -0.072415], [51.471257, -0.065164], [51.461185, -0.076099], [51.493996, -0.091861], [51.506929, -0.10746], [51.441806, -0.084396], [51.494127, -0.08883], [51.475318, -0.093505], [51.468186, -0.091786], [51.506349, -0.088319], [51.443147, -0.067503], [51.478146, -0.068472], [51.494242, -0.095884], [51.49185, -0.098145], [51.425822, -0.074851], [51.482837, -0.063953], [51.426078, -0.073978], [51.504221, -0.095757], [51.494624, -0.097309], [51.473948, -0.064762], [51.50525, -0.098163], [51.483743, -0.08624], [51.473844, -0.063902], [51.504651, -0.08349], [51.441404, -0.065418], [51.473693, -0.09314], [51.504887, -0.086939], [51.491785, -0.044991], [51.492895, -0.046816], [51.500859, -0.104686], [51.470058, -0.068814], [51.506908, -0.095068], [51.473636, -0.073127], [51.50709, -0.106301], [51.498443, -0.061419], [51.505109, -0.089523], [51.484766, -0.093831], [51.495116, -0.099882], [51.478053, -0.08475], [51.473496, -0.059165], [51.443883, -0.06848], [51.478908, -0.054759], [51.486688, -0.073873], [51.490236, -0.103974], [51.476994, -0.080474], [51.481354, -0.06128], [51.453008, -0.087526], [51.485579, -0.094085], [51.48976, -0.096791], [51.469237, -0.068129], [51.48153, -0.066457], [51.488047, -0.058115], [51.491622, -0.046006], [51.48901, -0.078385], [51.481813, -0.061836], [51.488761, -0.057796], [51.49402, -0.093301], [51.480893, -0.060579], [51.50559, -0.085901], [51.500612, -0.100518], [51.493687, -0.100518], [51.50485, -0.09573], [51.486946, -0.09518], [51.496464, -0.099826], [51.500517, -0.089139], [51.489322, -0.086438], [51.46644, -0.072998], [51.49557, -0.100151], [51.497802, -0.066201], [51.473939, -0.07513], [51.498462, -0.084471], [51.493242, -0.100824], [51.489878, -0.065528], [51.462074, -0.080956], [51.496242, -0.080674], [51.494627, -0.097453], [51.490585, -0.081199], [51.505119, -0.084624], [51.488864, -0.091499], [51.473479, -0.085517], [51.499577, -0.092204], [51.498697, -0.055069], [51.486862, -0.084525], [51.45847, -0.080531], [51.493153, -0.100828], [51.473886, -0.06102], [51.495489, -0.100731], [51.479558, -0.094336], [51.473638, -0.073271], [51.494156, -0.085083], [51.44788, -0.065433], [51.473948, -0.064762], [51.473905, -0.067643], [51.478927, -0.094218], [51.50352, -0.085843], [51.485399, -0.094092], [51.501236, -0.078158], [51.479289, -0.094347], [51.473779, -0.060017], [51.493242, -0.100824], [51.490859, -0.081476], [51.494867, -0.101189], [51.479271, -0.071305], [51.484496, -0.093842], [51.500902, -0.090708], [51.48196, -0.076233], [51.48892, -0.078388], [51.489473, -0.079229], [51.48108, -0.061003], [51.488736, -0.072634], [51.478922, -0.09393], [51.492183, -0.102021], [51.48603, -0.072172], [51.486036, -0.094498], [51.492642, -0.069588], [51.466604, -0.055714], [51.486307, -0.094631], [51.427484, -0.082981], [51.454459, -0.077245], [51.47509, -0.096106], [51.448284, -0.073619], [51.476732, -0.075445], [51.473387, -0.058017], [51.507062, -0.104573], [51.49172, -0.041104], [51.475088, -0.095962], [51.487207, -0.061751], [51.491552, -0.047162], [51.487901, -0.076559], [51.499792, -0.072312], [51.478711, -0.06456], [51.500761, -0.098638], [51.491576, -0.097868], [51.483404, -0.054711], [51.473963, -0.093129], [51.500761, -0.098638], [51.442045, -0.066111], [51.494031, -0.09402], [51.49094, -0.097463], [51.496136, -0.05244], [51.47414, -0.092978], [51.471894, -0.093071], [51.464682, -0.059107], [51.460969, -0.073948], [51.454291, -0.083442], [51.473865, -0.065197], [51.498251, -0.060707], [51.479386, -0.056466], [51.496313, -0.052289], [51.438268, -0.08253], [51.494818, -0.098166], [51.492602, -0.083564], [51.504932, -0.089675], [51.494411, -0.100776], [51.496447, -0.08225], [51.501036, -0.09344], [51.490032, -0.080358], [51.443147, -0.067503], [51.494532, -0.097169], [51.467543, -0.090949], [51.485604, -0.062684], [51.474032, -0.09183], [51.499718, -0.078799], [51.469152, -0.062949], [51.493996, -0.091861], [51.474996, -0.095822], [51.476716, -0.058164], [51.49188, -0.100016], [51.449355, -0.073142], [51.497086, -0.099368], [51.493801, -0.085386], [51.487899, -0.076415], [51.461379, -0.071484], [51.497286, -0.089562], [51.473404, -0.069969], [51.494851, -0.100181], [51.475336, -0.078095], [51.473387, -0.058017], [51.501597, -0.094713], [51.464476, -0.063003], [51.507078, -0.105581], [51.494231, -0.100783], [51.473273, -0.056582], [51.467971, -0.062279], [51.488692, -0.086465], [51.485307, -0.093952], [51.498755, -0.058524], [51.460719, -0.075111], [51.473958, -0.092841], [51.473871, -0.092989], [51.480612, -0.059871], [51.482745, -0.063813], [51.496539, -0.087865], [51.484897, -0.068907], [51.484947, -0.082876], [51.500859, -0.104686], [51.478635, -0.065427], [51.492124, -0.098422], [51.473154, -0.093163], [51.494093, -0.092289], [51.491966, -0.099725], [51.473408, -0.086672], [51.49373, -0.048365], [51.485038, -0.093963], [51.473844, -0.063902], [51.501326, -0.078155], [51.49264, -0.069444], [51.476027, -0.098371], [51.493153, -0.100828], [51.474039, -0.092262], [51.494678, -0.10062], [51.450549, -0.085613], [51.460969, -0.073948], [51.474039, -0.092262], [51.48565, -0.070892], [51.473824, -0.090111], [51.496593, -0.10227], [51.502208, -0.082584], [51.474053, -0.093125], [51.462133, -0.068141], [51.491614, -0.050904], [51.50706, -0.104429], [51.476854, -0.077455], [51.490968, -0.049924], [51.473444, -0.072415], [51.474339, -0.094121], [51.454331, -0.069478], [51.475837, -0.097803], [51.503552, -0.076764], [51.487899, -0.076415], [51.492433, -0.046115], [51.456594, -0.07586], [51.490942, -0.097607], [51.480647, -0.100483], [51.503647, -0.104714], [51.487248, -0.075146], [51.503244, -0.085423], [51.479575, -0.057034], [51.487582, -0.095586], [51.498426, -0.060411], [51.477164, -0.079891], [51.472979, -0.055155], [51.480622, -0.093427], [51.496535, -0.082102], [51.458409, -0.055055], [51.428433, -0.075029], [51.494922, -0.099026], [51.494733, -0.065466], [51.478146, -0.068472], [51.444429, -0.085294], [51.471205, -0.072941], [51.483389, -0.053848], [51.49975, -0.053439], [51.491552, -0.047162], [51.489236, -0.08673], [51.44425, -0.068896], [51.500761, -0.098638], [51.47373, -0.073411], [51.50456, -0.045308], [51.49828, -0.062434], [51.477796, -0.05279], [51.497657, -0.090267], [51.486375, -0.098805], [51.473901, -0.0783], [51.48631, -0.094775], [51.475409, -0.06614], [51.500075, -0.07864], [51.494408, -0.100632], [51.494136, -0.089406], [51.47509, -0.096106], [51.504756, -0.106542], [51.483774, -0.066218], [51.473727, -0.089683], [51.482245, -0.093648], [51.475246, -0.078099], [51.474286, -0.068923], [51.485553, -0.054188], [51.441041, -0.09263], [51.468558, -0.087019], [51.494229, -0.100639], [51.491618, -0.045718], [51.501566, -0.092841], [51.469996, -0.081488], [51.462199, -0.066698], [51.457691, -0.082435], [51.486821, -0.05471], [51.503735, -0.104567], [51.444292, -0.066016], [51.495215, -0.083886], [51.505306, -0.085048], [51.48845, -0.077112], [51.468186, -0.091786], [51.477976, -0.052782], [51.50295, -0.100565], [51.453008, -0.087526], [51.497405, -0.107999], [51.486203, -0.071733], [51.472615, -0.093185], [51.497513, -0.103528], [51.493794, -0.084954], [51.490124, -0.042469], [51.495577, -0.100583], [51.503645, -0.10457], [51.48858, -0.09612], [51.475449, -0.090475], [51.480704, -0.060011], [51.484947, -0.082876], [51.496285, -0.105452], [51.469977, -0.063922], [51.491046, -0.0492], [51.449975, -0.07254], [51.502308, -0.077681], [51.464256, -0.060565], [51.47363, -0.089255], [51.493056, -0.1004], [51.478146, -0.068472], [51.487007, -0.065937], [51.50485, -0.09573], [51.465914, -0.068413], [51.49033, -0.054849], [51.478987, -0.059508], [51.494086, -0.091857], [51.499954, -0.087722], [51.476398, -0.099076], [51.473382, -0.05773], [51.478048, -0.084462], [51.490308, -0.080779], [51.473729, -0.089827], [51.433803, -0.08991], [51.489306, -0.096522], [51.501597, -0.094713], [51.462379, -0.066691], [51.473268, -0.056295], [51.498585, -0.070058], [51.49862, -0.055792], [51.488265, -0.076831], [51.489668, -0.096651], [51.473873, -0.093133], [51.493058, -0.100544], [51.479672, -0.057462], [51.460304, -0.060876], [51.501844, -0.076836], [51.501414, -0.078007], [51.464565, -0.090354], [51.473333, -0.071124], [51.504274, -0.104544], [51.489847, -0.080078], [51.477863, -0.089654], [51.471063, -0.064308], [51.494017, -0.093157], [51.494775, -0.101049], [51.494938, -0.100033], [51.493886, -0.085095], [51.467411, -0.082892], [51.46463, -0.077825], [51.473244, -0.093159], [51.467365, -0.091101], [51.473945, -0.064618], [51.494036, -0.094308], [51.472979, -0.055155], [51.495019, -0.099454], [51.490032, -0.096924], [51.462294, -0.066982], [51.488668, -0.057656], [51.466714, -0.051534], [51.498794, -0.104916], [51.475837, -0.097803], [51.470727, -0.082177], [51.456922, -0.090385], [51.497774, -0.10856], [51.503345, -0.091614], [51.442833, -0.075719], [51.487251, -0.07529], [51.482745, -0.063813], [51.464821, -0.084008], [51.449015, -0.074308], [51.480819, -0.094427], [51.495243, -0.102182], [51.473577, -0.069529], [51.452723, -0.097613], [51.499237, -0.04424], [51.498697, -0.055069], [51.47182, -0.094082], [51.498869, -0.07091], [51.496097, -0.082841], [51.498367, -0.084186], [51.473856, -0.064622], [51.480819, -0.094427], [51.489371, -0.089461], [51.493037, -0.099248], [51.468101, -0.086606], [51.458414, -0.055342], [51.480639, -0.094435], [51.497146, -0.053694], [51.470512, -0.069083], [51.494036, -0.094308], [51.494128, -0.094449], [51.458867, -0.050141], [51.478358, -0.086897], [51.488357, -0.076972], [51.49206, -0.061546], [51.485463, -0.070468], [51.484897, -0.068907], [51.503772, -0.095775], [51.505887, -0.087617], [51.451616, -0.062972], [51.474436, -0.094549], [51.489135, -0.075066], [51.484046, -0.066351], [51.47297, -0.054579], [51.500969, -0.078314], [51.472434, -0.06569], [51.473881, -0.060732], [51.495584, -0.101015], [51.506878, -0.104292], [51.494031, -0.09402], [51.47405, -0.092981], [51.505687, -0.086329], [51.460952, -0.062], [51.500895, -0.090276], [51.496042, -0.101572], [51.466853, -0.06535], [51.505987, -0.08819], [51.505027, -0.084483], [51.473659, -0.069094], [51.473933, -0.063898], [51.469237, -0.068129], [51.497353, -0.049939], [51.485671, -0.094225], [51.469152, -0.062949], [51.472858, -0.053288], [51.451959, -0.072888], [51.497576, -0.079753], [51.484945, -0.093823], [51.473268, -0.056295], [51.502216, -0.077541], [51.464417, -0.059406], [51.505056, -0.097307], [51.428527, -0.086246], [51.478927, -0.094218], [51.477455, -0.07023], [51.449102, -0.07416], [51.449353, -0.072998], [51.505197, -0.089376], [51.494041, -0.094596], [51.494029, -0.093876], [51.429566, -0.078291], [51.480985, -0.060719], [51.474648, -0.096557], [51.485803, -0.080248], [51.499059, -0.055197], [51.449017, -0.074452], [51.441626, -0.084404], [51.441721, -0.084687], [51.490235, -0.076316], [51.485082, -0.069187], [51.455133, -0.063542], [51.469572, -0.061203], [51.450065, -0.072536], [51.501611, -0.035637], [51.501124, -0.093292], [51.495146, -0.101754], [51.483487, -0.103678], [51.489693, -0.087143], [51.485529, -0.069025], [51.457644, -0.074088], [51.498516, -0.060407], [51.507092, -0.106445], [51.476991, -0.08033], [51.494931, -0.099601], [51.488915, -0.0781], [51.474143, -0.093122], [51.497055, -0.080928], [51.462131, -0.067997], [51.477127, -0.094149], [51.504471, -0.083498], [51.498463, -0.106658], [51.478927, -0.094218], [51.470512, -0.069083], [51.442994, -0.069093], [51.447461, -0.07279], [51.494825, -0.098597], [51.505017, -0.089383], [51.474039, -0.092262], [51.49482, -0.098309], [51.44659, -0.085491], [51.504855, -0.096018], [51.473638, -0.073271], [51.490593, -0.092723], [51.497697, -0.103809], [51.503613, -0.085984], [51.49185, -0.098145], [51.482198, -0.101859], [51.473387, -0.058017], [51.467656, -0.054085], [51.505208, -0.095571], [51.489656, -0.095932], [51.482259, -0.094511], [51.455081, -0.076787], [51.458952, -0.066116], [51.473853, -0.064478], [51.48565, -0.070892], [51.473917, -0.068363], [51.466775, -0.066073], [51.467093, -0.090968], [51.484897, -0.068907], [51.477471, -0.060292], [51.486228, -0.089737], [51.494036, -0.094308], [51.476347, -0.090438], [51.472885, -0.093174], [51.473783, -0.093137], [51.465001, -0.084001], [51.463176, -0.08235], [51.482092, -0.0624], [51.473336, -0.071268], [51.446099, -0.071984], [51.480852, -0.102059], [51.490968, -0.049924], [51.486494, -0.095055], [51.473824, -0.090111], [51.476507, -0.07819], [51.47763, -0.069934], [51.447288, -0.062291], [51.471961, -0.069742], [51.495388, -0.100015], [51.480704, -0.060011], [51.496218, -0.068285], [51.487064, -0.074865], [51.488668, -0.057656], [51.489214, -0.096382], [51.487582, -0.095586], [51.463849, -0.090528], [51.490413, -0.103823], [51.471091, -0.08245], [51.498034, -0.063886], [51.440796, -0.088611], [51.488733, -0.077964], [51.487525, -0.075566], [51.497578, -0.079897], [51.490839, -0.052954], [51.483325, -0.104837], [51.505197, -0.089376], [51.485647, -0.070748], [51.503048, -0.078947], [51.450546, -0.058123], [51.486582, -0.094907], [51.474158, -0.077569], [51.461443, -0.091924], [51.465722, -0.089585], [51.487852, -0.095575], [51.480219, -0.090708], [51.49402, -0.093301], [51.493163, -0.073888], [51.497571, -0.079465], [51.485557, -0.070752], [51.491214, -0.097739], [51.488636, -0.077536], [51.495574, -0.100439], [51.493989, -0.091429], [51.479106, -0.094211], [51.506346, -0.088175], [51.483782, -0.09416], [51.502308, -0.077681], [51.48499, -0.069047], [51.479862, -0.05803], [51.498606, -0.060403], [51.496961, -0.053414], [51.453203, -0.077442], [51.488852, -0.096253], [51.476765, -0.09402], [51.466543, -0.079329], [51.49662, -0.08181], [51.501214, -0.093288], [51.491783, -0.044847], [51.481262, -0.061139], [51.500249, -0.09477], [51.461518, -0.079972], [51.462019, -0.066706], [51.440793, -0.088468], [51.47341, -0.086816], [51.492943, -0.098964], [51.454331, -0.069478], [51.48511, -0.065441], [51.472873, -0.054151], [51.500669, -0.081929], [51.494763, -0.100329], [51.479672, -0.057462], [51.496502, -0.052857], [51.481262, -0.061139], [51.494034, -0.094164], [51.495584, -0.101015], [51.464796, -0.066013], [51.427784, -0.084839], [51.490677, -0.08134], [51.489937, -0.080074], [51.462289, -0.066695], [51.505054, -0.097163], [51.472255, -0.0932], [51.486715, -0.103112], [51.47434, -0.061289], [51.479895, -0.060045], [51.49194, -0.098141], [51.487959, -0.058263], [51.467419, -0.072381], [51.489291, -0.079093], [51.503167, -0.091766], [51.479546, -0.066109], [51.494103, -0.092865], [51.465607, -0.066122], [51.485133, -0.055934], [51.484339, -0.067778], [51.503075, -0.091626], [51.481262, -0.061139], [51.48565, -0.070892], [51.494624, -0.097309], [51.443699, -0.0682], [51.49185, -0.098145], [51.495357, -0.08705], [51.482931, -0.102693], [51.490672, -0.081052], [51.488671, -0.0578], [51.462901, -0.082073], [51.498831, -0.1016], [51.498034, -0.063886], [51.473387, -0.058017], [51.49185, -0.098145], [51.506968, -0.104288], [51.490124, -0.080499], [51.457651, -0.047313], [51.485557, -0.070752], [51.474036, -0.092118], [51.505592, -0.086045], [51.444342, -0.069036], [51.466503, -0.065941], [51.484048, -0.066494], [51.487672, -0.095582], [51.504579, -0.090122], [51.489105, -0.078669], [51.458952, -0.066116], [51.49861, -0.055216], [51.473068, -0.071423], [51.47529, -0.058945], [51.497729, -0.100205], [51.483692, -0.094164], [51.474039, -0.092262], [51.47374, -0.068514], [51.490572, -0.091428], [51.466606, -0.055858], [51.473833, -0.090687], [51.494867, -0.101189], [51.443147, -0.067503], [51.491618, -0.045718], [51.495434, -0.102894], [51.492503, -0.072043], [51.496228, -0.05258], [51.472614, -0.065682], [51.474014, -0.068791], [51.500213, -0.09261], [51.499811, -0.095508], [51.473935, -0.091402], [51.47363, -0.089255], [51.477465, -0.070805], [51.502216, -0.077541], [51.495212, -0.045564], [51.478711, -0.06456], [51.488551, -0.077828], [51.493061, -0.084121], [51.490671, -0.053682], [51.474325, -0.093258], [51.498321, -0.097876], [51.465285, -0.079382], [51.503334, -0.085419], [51.473489, -0.069677], [51.494869, -0.101333], [51.469258, -0.085838], [51.5043, -0.045896], [51.50559, -0.085901], [51.459791, -0.057011], [51.467977, -0.073509], [51.494683, -0.100908], [51.494867, -0.101189], [51.49868, -0.070342], [51.469813, -0.092294], [51.45838, -0.075065], [51.474143, -0.093122], [51.501216, -0.093432], [51.504932, -0.084199], [51.483324, -0.08813], [51.496899, -0.082375], [51.473783, -0.093137], [51.469191, -0.059923], [51.504004, -0.104555], [51.465171, -0.088889], [51.476275, -0.069559], [51.4739, -0.061884], [51.484429, -0.067775], [51.484897, -0.068907], [51.473333, -0.071124], [51.467911, -0.09151], [51.505549, -0.088929], [51.475772, -0.093774], [51.465337, -0.066134], [51.462168, -0.08124], [51.501124, -0.093292], [51.502545, -0.092224], [51.491304, -0.097736], [51.444067, -0.085165], [51.50266, -0.077234], [51.499135, -0.05433], [51.459406, -0.077325], [51.464947, -0.064279], [51.491942, -0.098285], [51.496227, -0.101853], [51.494959, -0.101329], [51.494939, -0.050762], [51.501236, -0.078158], [51.469978, -0.091423], [51.467729, -0.091373], [51.49618, -0.065981], [51.505149, -0.037502], [51.459241, -0.078196], [51.488265, -0.076831], [51.462153, -0.091318], [51.456834, -0.090532], [51.474014, -0.068791], [51.490942, -0.097607], [51.487899, -0.076415], [51.503645, -0.10457], [51.474233, -0.093118], [51.482169, -0.094515], [51.449015, -0.074308], [51.504229, -0.090713], [51.500075, -0.07864], [51.492389, -0.059659], [51.433085, -0.079006], [51.479364, -0.071445], [51.473628, -0.089111], [51.47509, -0.096106], [51.499059, -0.055197], [51.506169, -0.088326], [51.45318, -0.092556], [51.452513, -0.051995], [51.49112, -0.075415], [51.484136, -0.066347], [51.490595, -0.092867], [51.473317, -0.070116], [51.467477, -0.065035], [51.50239, -0.082721], [51.473958, -0.092841], [51.498792, -0.104772], [51.496625, -0.049394], [51.493961, -0.100794], [51.493777, -0.100514], [51.473844, -0.063902], [51.500425, -0.061623], [51.473945, -0.064618], [51.491961, -0.060974], [51.460544, -0.075406], [51.485038, -0.093963], [51.492302, -0.065281], [51.491871, -0.060977], [51.480049, -0.058455], [51.473427, -0.087824], [51.483575, -0.086967], [51.46796, -0.072502], [51.49834, -0.104646], [51.474118, -0.075123], [51.480729, -0.094431], [51.500511, -0.094326], [51.465171, -0.088889], [51.467983, -0.084884], [51.496539, -0.087865], [51.466604, -0.055714], [51.462291, -0.066839], [51.497899, -0.066629], [51.480819, -0.094427], [51.485237, -0.100725], [51.501236, -0.078158], [51.494848, -0.100037], [51.440796, -0.088611], [51.427482, -0.082838], [51.490675, -0.081196], [51.494626, -0.08636], [51.504558, -0.045164], [51.441013, -0.090905], [51.482745, -0.063813], [51.458988, -0.079214], [51.453855, -0.062445], [51.454312, -0.062858], [51.487988, -0.076411], [51.475837, -0.097803], [51.494848, -0.100037], [51.488668, -0.057656], [51.479959, -0.063931], [51.486217, -0.072596], [51.48009, -0.093882], [51.4287, -0.085808], [51.465881, -0.066399], [51.471894, -0.093071], [51.500076, -0.095209], [51.478226, -0.067893], [51.467924, -0.064873], [51.483701, -0.094739], [51.491488, -0.098016], [51.473628, -0.089111], [51.473477, -0.085373], [51.503647, -0.104714], [51.490412, -0.076165], [51.490859, -0.081476], [51.454726, -0.07709], [51.482019, -0.074358], [51.452477, -0.060632], [51.497897, -0.066485], [51.462289, -0.066695], [51.437904, -0.082257], [51.492171, -0.062837], [51.505109, -0.089523], [51.446007, -0.071844], [51.488688, -0.075229], [51.491871, -0.082874], [51.489381, -0.079089], [51.49731, -0.085527], [51.487248, -0.075146], [51.468057, -0.067459], [51.49306, -0.100688], [51.486534, -0.080937], [51.48669, -0.074017], [51.479879, -0.064511], [51.426846, -0.076966], [51.49007, -0.071714], [51.479017, -0.094214], [51.482526, -0.07232], [51.48499, -0.069047], [51.474041, -0.092406], [51.455703, -0.076329], [51.491184, -0.052075], [51.505906, -0.08877], [51.441806, -0.084396], [51.469355, -0.058909], [51.498962, -0.054769], [51.478915, -0.05519], [51.493996, -0.091861], [51.493411, -0.100097], [51.5024, -0.077821], [51.480097, -0.094313], [51.462618, -0.064809], [51.506259, -0.088322], [51.486946, -0.09518], [51.503555, -0.104574], [51.492445, -0.101578], [51.478927, -0.094218], [51.456495, -0.064348], [51.493687, -0.100518], [51.426078, -0.073978], [51.426075, -0.073834], [51.432404, -0.070403], [51.426168, -0.073974], [51.426168, -0.073974], [51.478352, -0.053774], [51.478258, -0.05349], [51.426075, -0.073834], [51.483389, -0.053848], [51.426617, -0.073955], [51.421464, -0.077768], [51.423332, -0.076538], [51.421374, -0.077771], [51.420482, -0.07824], [51.506526, -0.088167], [51.469278, -0.092605], [51.506848, -0.10804], [51.429004, -0.087953], [51.420307, -0.078535], [51.463492, -0.090686], [51.440684, -0.092789], [51.436423, -0.090664], [51.468914, -0.092332], [51.489176, -0.105171], [51.488911, -0.10547], [51.467365, -0.091101], [51.435973, -0.090683], [51.426089, -0.080163], [51.464568, -0.090497], [51.435971, -0.090539], [51.469186, -0.092464], [51.436151, -0.090532], [51.498792, -0.104772], [51.469186, -0.092464], [51.468186, -0.091786], [51.500555, -0.108157], [51.468822, -0.092192], [51.495024, -0.099742], [51.49601, -0.082989], [51.495024, -0.099742], [51.492532, -0.041213], [51.500303, -0.092606], [51.480081, -0.093306], [51.481078, -0.060859], [51.49583, -0.082996], [51.473234, -0.070552], [51.484555, -0.053654], [51.455525, -0.076481], [51.499028, -0.097126], [51.480908, -0.094424], [51.473825, -0.073695], [51.473268, -0.056295], [51.469094, -0.092324], [51.485557, -0.070752], [51.490308, -0.080779], [51.456597, -0.076004], [51.494356, -0.086371], [51.47829, -0.099285], [51.462618, -0.064809], [51.456629, -0.045342], [51.485557, -0.070752], [51.47414, -0.092978], [51.490836, -0.05281], [51.505549, -0.088929], [51.481078, -0.060859], [51.460724, -0.075398], [51.50485, -0.09573], [51.48503, -0.082441], [51.491845, -0.097857], [51.496836, -0.051258], [51.492381, -0.059227], [51.458134, -0.065575], [51.465998, -0.051708], [51.481394, -0.085618], [51.50706, -0.104429], [51.485564, -0.06571], [51.500452, -0.0524], [51.507067, -0.104861], [51.507689, -0.104403], [51.461886, -0.091473], [51.420484, -0.078384], [51.460581, -0.061296], [51.463526, -0.065347], [51.46271, -0.064949], [51.477003, -0.070105], [51.487899, -0.076415], [51.486217, -0.072596], [51.500522, -0.078477], [51.498367, -0.084186], [51.492183, -0.102021], [51.473893, -0.061452], [51.47408, -0.078292], [51.458952, -0.066116], [51.498246, -0.104362], [51.449013, -0.074164], [51.473747, -0.068946], [51.484044, -0.066207], [51.486946, -0.09518], [51.494234, -0.095453], [51.459874, -0.078457], [51.49482, -0.098309], [51.473958, -0.092841], [51.502026, -0.082448], [51.455613, -0.076333], [51.493455, -0.091739], [51.473246, -0.071271], [51.490767, -0.075862], [51.467506, -0.066762], [51.505112, -0.089667], [51.480049, -0.058455], [51.491878, -0.045131], [51.452582, -0.088983], [51.424846, -0.075612], [51.45833, -0.066574], [51.474286, -0.068923], [51.454331, -0.069478], [51.474341, -0.094265], [51.505162, -0.098311], [51.468538, -0.05304], [51.494869, -0.101333], [51.45886, -0.065976], [51.49316, -0.073744], [51.500789, -0.078321], [51.476134, -0.093903], [51.49742, -0.05397], [51.495494, -0.101019], [51.442348, -0.079049], [51.455405, -0.063675], [51.484414, -0.088804], [51.441719, -0.084544], [51.494105, -0.093009], [51.497263, -0.049943], [51.489306, -0.096522], [51.488047, -0.058115], [51.497698, -0.081765], [51.494683, -0.100908], [51.489338, -0.06555], [51.479286, -0.094203], [51.496226, -0.052436], [51.49088, -0.088246], [51.483864, -0.066214], [51.487248, -0.075146], [51.474147, -0.076849], [51.473903, -0.0675], [51.486307, -0.094631], [51.480819, -0.094427], [51.458988, -0.079214], [51.471984, -0.093068], [51.471984, -0.093068], [51.488398, -0.095984], [51.495337, -0.102466], [51.470353, -0.070385], [51.500052, -0.033831], [51.444434, -0.069176], [51.47355, -0.084362], [51.476403, -0.093891], [51.473404, -0.069969], [51.475885, -0.078648], [51.456819, -0.067646], [51.458174, -0.046284], [51.48565, -0.070892], [51.466606, -0.055858], [51.493463, -0.04852], [51.479859, -0.057887], [51.468055, -0.067315], [51.492032, -0.065292], [51.490675, -0.081196], [51.477465, -0.070805], [51.458229, -0.076799], [51.492467, -0.058935], [51.487899, -0.076415], [51.505308, -0.085192], [51.50075, -0.103538], [51.502248, -0.090508], [51.449355, -0.073142], [51.495676, -0.101155], [51.461289, -0.071488], [51.481804, -0.077679], [51.474161, -0.077713], [51.443312, -0.088506], [51.501234, -0.050782], [51.473636, -0.073127], [51.473496, -0.059165], [51.490503, -0.092727], [51.501847, -0.104645], [51.503555, -0.104574], [51.48858, -0.09612], [51.494936, -0.099889], [51.496989, -0.049667], [51.451925, -0.059936], [51.504379, -0.083358], [51.470597, -0.074263], [51.475565, -0.064693], [51.490394, -0.097053], [51.488869, -0.091787], [51.49549, -0.051459], [51.497807, -0.066488], [51.494041, -0.094596], [51.499312, -0.054178], [51.499813, -0.095652], [51.475495, -0.093353], [51.473236, -0.070696], [51.485128, -0.09396], [51.469965, -0.068674], [51.497802, -0.066201], [51.499813, -0.095652], [51.4941, -0.092721], [51.494329, -0.095737], [51.490586, -0.043169], [51.498527, -0.055652], [51.494015, -0.093013], [51.49492, -0.098882], [51.506079, -0.08833], [51.48734, -0.075286], [51.494593, -0.100912], [51.477003, -0.070105], [51.465004, -0.084145], [51.4465, -0.085495], [51.494869, -0.101333], [51.504761, -0.095734], [51.487766, -0.095866], [51.498343, -0.055372], [51.494036, -0.094308], [51.498233, -0.098023], [51.474053, -0.093125], [51.463083, -0.082209], [51.473585, -0.059161], [51.467151, -0.072536], [51.495128, -0.084034], [51.503334, -0.085419], [51.469152, -0.062949], [51.483954, -0.06621], [51.50485, -0.09573], [51.489937, -0.080074], [51.486311, -0.083828], [51.484321, -0.105228], [51.462074, -0.080956], [51.494605, -0.085064], [51.499886, -0.072596], [51.475428, -0.078235], [51.491942, -0.098285], [51.500999, -0.091136], [51.448833, -0.074171], [51.500528, -0.035395], [51.474055, -0.093269], [51.494731, -0.098313], [51.497576, -0.079753], [51.469348, -0.085834], [51.499025, -0.096982], [51.476119, -0.098511], [51.489488, -0.096659], [51.471714, -0.093079], [51.500449, -0.052256], [51.490253, -0.088416], [51.425113, -0.075457], [51.468873, -0.067856], [51.491928, -0.097421], [51.47363, -0.089255], [51.495676, -0.101155], [51.504395, -0.089841], [51.467835, -0.064876], [51.498246, -0.104362], [51.494924, -0.09917], [51.493492, -0.094043], [51.498408, -0.097728], [51.473662, -0.069238], [51.500859, -0.104686], [51.474083, -0.078436], [51.493158, -0.084549], [51.484933, -0.065593], [51.48749, -0.095446], [51.484406, -0.093846], [51.500378, -0.097214], [51.501558, -0.097885], [51.50473, -0.044725], [51.451008, -0.058823], [51.493434, -0.084969], [51.476403, -0.093891], [51.485038, -0.093963], [51.502398, -0.077677], [51.472503, -0.069863], [51.492514, -0.083711], [51.448651, -0.074035], [51.487111, -0.077744], [51.498488, -0.069629], [51.435791, -0.090547], [51.50525, -0.098163], [51.495767, -0.05188], [51.500277, -0.052696], [51.502487, -0.083149], [51.473496, -0.059165], [51.502151, -0.101174], [51.493411, -0.100097], [51.50239, -0.082721], [51.466445, -0.051545], [51.494095, -0.092433], [51.492446, -0.041505], [51.506341, -0.104458], [51.49958, -0.086873], [51.491211, -0.048329], [51.462707, -0.064805], [51.494334, -0.096025], [51.474338, -0.077561], [51.473318, -0.086676], [51.454632, -0.071336], [51.45847, -0.075061], [51.471063, -0.064308], [51.5024, -0.077821], [51.492306, -0.098558], [51.505376, -0.089368], [51.493049, -0.099968], [51.493063, -0.100832], [51.474083, -0.078436], [51.45733, -0.071367], [51.492155, -0.06183], [51.464589, -0.058967], [51.472763, -0.074748], [51.483956, -0.066354], [51.493056, -0.1004], [51.478081, -0.059114], [51.471602, -0.069757], [51.500861, -0.10483], [51.485562, -0.076513], [51.489197, -0.078809], [51.503479, -0.105442], [51.468464, -0.06485], [51.461137, -0.073222], [51.469055, -0.067992], [51.471152, -0.064304], [51.451299, -0.076514], [51.454509, -0.069326], [51.472344, -0.065694], [51.483211, -0.064802], [51.482279, -0.062825], [51.494641, -0.098317], [51.473922, -0.068651], [51.493801, -0.074437], [51.474104, -0.068787], [51.500599, -0.094179], [51.497603, -0.103524], [51.473778, -0.065345], [51.473844, -0.063902], [51.461266, -0.092075], [51.49557, -0.100151], [51.498936, -0.096986], [51.482351, -0.094652], [51.47355, -0.084362], [51.48674, -0.093604], [51.494869, -0.101333], [51.494153, -0.090414], [51.473603, -0.093144], [51.494775, -0.101049], [51.49192, -0.102464], [51.497578, -0.079897], [51.476109, -0.064958], [51.46011, -0.060021], [51.475651, -0.097379], [51.465971, -0.066395], [51.495764, -0.078965], [51.477807, -0.058838], [51.496094, -0.10474], [51.490595, -0.092867], [51.47341, -0.086816], [51.498321, -0.097876], [51.499915, -0.107463], [51.476116, -0.098368], [51.496373, -0.105304], [51.502218, -0.077685], [51.46489, -0.066297], [51.494331, -0.095881], [51.441808, -0.08454], [51.482274, -0.062537], [51.500511, -0.094326], [51.484044, -0.066207], [51.500357, -0.052116], [51.494013, -0.092869], [51.49194, -0.098141], [51.461189, -0.065445], [51.502216, -0.077541], [51.484555, -0.053654], [51.491462, -0.047165], [51.482256, -0.094367], [51.494153, -0.090414], [51.476085, -0.058047], [51.481539, -0.06156], [51.486676, -0.095191], [51.48858, -0.09612], [51.499487, -0.053882], [51.505027, -0.084483], [51.473961, -0.092985], [51.460846, -0.066468], [51.501124, -0.093292], [51.464098, -0.072809], [51.470986, -0.054232], [51.478823, -0.05505], [51.479106, -0.094211], [51.462996, -0.082357], [51.499726, -0.0958], [51.490333, -0.054992], [51.503699, -0.091311], [51.50486, -0.096306], [51.503645, -0.10457], [51.50832, -0.10452], [51.487492, -0.09559], [51.446643, -0.072249], [51.473889, -0.066636], [51.491464, -0.090958], [51.427884, -0.08541], [51.479401, -0.062803], [51.498678, -0.070198], [51.502308, -0.077681], [51.505989, -0.088334], [51.482079, -0.094519], [51.442963, -0.067223], [51.495574, -0.100439], [51.498749, -0.096561], [51.490777, -0.093004], [51.480639, -0.094435], [51.47355, -0.084362], [51.490503, -0.092727], [51.478747, -0.094226], [51.473526, -0.088395], [51.474248, -0.077565], [51.473844, -0.063902], [51.505984, -0.088046], [51.503797, -0.086264], [51.478165, -0.05335], [51.489105, -0.078669], [51.483116, -0.064518], [51.471065, -0.064452], [51.49764, -0.072691], [51.483692, -0.094164], [51.461925, -0.077363], [51.467704, -0.089791], [51.460724, -0.075398], [51.47369, -0.081909], [51.479541, -0.065821], [51.497378, -0.089703], [51.492551, -0.042365], [51.499537, -0.095232], [51.467185, -0.091108], [51.498894, -0.056069], [51.427747, -0.077072], [51.485655, -0.104308], [51.486125, -0.072456], [51.461324, -0.079116], [51.483114, -0.064374], [51.457069, -0.082893], [51.473244, -0.093159], [51.497613, -0.098625], [51.474229, -0.076414], [51.47605, -0.066833], [51.486125, -0.072456], [51.454331, -0.069478], [51.488549, -0.077684], [51.483234, -0.088133], [51.495953, -0.079533], [51.475837, -0.097803], [51.495531, -0.103322], [51.466773, -0.065929], [51.471453, -0.082578], [51.471714, -0.093079], [51.476679, -0.099784], [51.498056, -0.098175], [51.498432, -0.104787], [51.496566, -0.106161], [51.505208, -0.095571], [51.484324, -0.088808], [51.494656, -0.04458], [51.458988, -0.079214], [51.48209, -0.062257], [51.491262, -0.051352], [51.483114, -0.064374], [51.491883, -0.10016], [51.491935, -0.097853], [51.498757, -0.102612], [51.426257, -0.07397], [51.49557, -0.100151], [51.481078, -0.060859], [51.504558, -0.045164], [51.493602, -0.100809], [51.473268, -0.056295], [51.483119, -0.064661], [51.483956, -0.066354], [51.478823, -0.05505], [51.494098, -0.092577], [51.473413, -0.08696], [51.497696, -0.081621], [51.475056, -0.088475], [51.497051, -0.05341], [51.458952, -0.066116], [51.507669, -0.108727], [51.454331, -0.069478], [51.502715, -0.097116], [51.471984, -0.093068], [51.501654, -0.092694], [51.473822, -0.089967], [51.505891, -0.104477], [51.497086, -0.099368], [51.476185, -0.069563], [51.473243, -0.071127], [51.474955, -0.08776], [51.473791, -0.060736], [51.481447, -0.06142], [51.473785, -0.065777], [51.473676, -0.081045], [51.49877, -0.070338], [51.500937, -0.092868], [51.502696, -0.095964], [51.489036, -0.079968], [51.457843, -0.075232], [51.441719, -0.084544], [51.494867, -0.101189], [51.474735, -0.05796], [51.474284, -0.068779], [51.468684, -0.07276], [51.468055, -0.067315], [51.488852, -0.096253], [51.473676, -0.081045], [51.498277, -0.06229], [51.487986, -0.076267], [51.493247, -0.046369], [51.495487, -0.100587], [51.485761, -0.094221], [51.420929, -0.078078], [51.498084, -0.072384], [51.490942, -0.097607], [51.461457, -0.070761], [51.473886, -0.06102], [51.480706, -0.060155], [51.473427, -0.087824], [51.477001, -0.069961], [51.47288, -0.054583], [51.473425, -0.08768], [51.487772, -0.057838], [51.498755, -0.058524], [51.453385, -0.077578], [51.473521, -0.088108], [51.494024, -0.093589], [51.496228, -0.05258], [51.491743, -0.102615], [51.479012, -0.055618], [51.443514, -0.06792], [51.4833, -0.053851], [51.458988, -0.079214], [51.478731, -0.05491], [51.498277, -0.06229], [51.498588, -0.070201], [51.473831, -0.090543], [51.497933, -0.079594], [51.473784, -0.060305], [51.485128, -0.09396], [51.439778, -0.092395], [51.49548, -0.100155], [51.480614, -0.060015], [51.499025, -0.096982], [51.484173, -0.085069], [51.480639, -0.094435], [51.483956, -0.066354], [51.493337, -0.046365], [51.500451, -0.074157], [51.48651, -0.074024], [51.473858, -0.064765], [51.481878, -0.076668], [51.50563, -0.088349], [51.494242, -0.095884], [51.473664, -0.080326], [51.505906, -0.08877], [51.473671, -0.080757], [51.493242, -0.100824], [51.474166, -0.078001], [51.483416, -0.08827], [51.495135, -0.073517], [51.492514, -0.083711], [51.498714, -0.056076], [51.497104, -0.062052], [51.473831, -0.090543], [51.473626, -0.083495], [51.490503, -0.092727], [51.456834, -0.090532], [51.485555, -0.070608], [51.49539, -0.083591], [51.467614, -0.089794], [51.494962, -0.101473], [51.50709, -0.106301], [51.492583, -0.071464], [51.449566, -0.075004], [51.485764, -0.094365], [51.466532, -0.073138], [51.474338, -0.077561], [51.474062, -0.093701], [51.473853, -0.064478], [51.473783, -0.093137], [51.464176, -0.066615], [51.49885, -0.097277], [51.497054, -0.053554], [51.492055, -0.061258], [51.473387, -0.058017], [51.48499, -0.069047], [51.456677, -0.064485], [51.476565, -0.059899], [51.503645, -0.10457], [51.486153, -0.074184], [51.489568, -0.084987], [51.49876, -0.058812], [51.494922, -0.099026], [51.490235, -0.076316], [51.459645, -0.075444], [51.476044, -0.093906], [51.448833, -0.074171], [51.479828, -0.094325], [51.473628, -0.089111], [51.466326, -0.066092], [51.459077, -0.07921], [51.478116, -0.094108], [51.490095, -0.067823], [51.474055, -0.093269], [51.492183, -0.102021], [51.473681, -0.081333], [51.425735, -0.074999], [51.505109, -0.089523], [51.474053, -0.093125], [51.474945, -0.087184], [51.459482, -0.076458], [51.498394, -0.069345], [51.493996, -0.091861], [51.476226, -0.094043], [51.448833, -0.074171], [51.494962, -0.101473], [51.496622, -0.081954], [51.462019, -0.066706], [51.495492, -0.100875], [51.460719, -0.075111], [51.473404, -0.069969], [51.473287, -0.057446], [51.468376, -0.064997], [51.473833, -0.090687], [51.50589, -0.087761], [51.497876, -0.081614], [51.479388, -0.05661], [51.500859, -0.104686], [51.478908, -0.054759], [51.479005, -0.093495], [51.475793, -0.078508], [51.506259, -0.088322], [51.501234, -0.050782], [51.47288, -0.054583], [51.46274, -0.055878], [51.495208, -0.100022], [51.487099, -0.066077], [51.430549, -0.088895], [51.458865, -0.066264], [51.47729, -0.076573], [51.497538, -0.07745], [51.476855, -0.094017], [51.499816, -0.095796], [51.479631, -0.065817], [51.472979, -0.055155], [51.487899, -0.076415], [51.497876, -0.081614], [51.501236, -0.078158], [51.466865, -0.066069], [51.494869, -0.101333], [51.473884, -0.066348], [51.49453, -0.097025], [51.496533, -0.081958], [51.463741, -0.062026], [51.492103, -0.064137], [51.498523, -0.060839], [51.487118, -0.061755], [51.492212, -0.065285], [51.481733, -0.078835], [51.491377, -0.047457], [51.462206, -0.06713], [51.47044, -0.086653], [51.503786, -0.096639], [51.462133, -0.068141], [51.473619, -0.083064], [51.463542, -0.077295], [51.476224, -0.093899], [51.483515, -0.094315], [51.468915, -0.064975], [51.438899, -0.088115], [51.471984, -0.093068], [51.506616, -0.088163], [51.502216, -0.077541], [51.471152, -0.064304], [51.482105, -0.074066], [51.491032, -0.097603], [51.497083, -0.099224], [51.487207, -0.061751], [51.500761, -0.098638], [51.495487, -0.100587], [51.499348, -0.094663], [51.453023, -0.077449], [51.505982, -0.087902], [51.453008, -0.087526], [51.506081, -0.088474], [51.497086, -0.099368], [51.492668, -0.098687], [51.493548, -0.048229], [51.472948, -0.075028], [51.487757, -0.09529], [51.493917, -0.065068], [51.471632, -0.082571], [51.496098, -0.105028], [51.494169, -0.091422], [51.465004, -0.084145], [51.505493, -0.085473], [51.462828, -0.066672], [51.502393, -0.082865], [51.495118, -0.100026], [51.499121, -0.091791], [51.492005, -0.09108], [51.496284, -0.099833], [51.499898, -0.078791], [51.505308, -0.085192], [51.467087, -0.06318], [51.506259, -0.088322], [51.495208, -0.100022], [51.492943, -0.098964], [51.459222, -0.0936], [51.476237, -0.078201], [51.503257, -0.091762], [51.442138, -0.066251], [51.503526, -0.080656], [51.442322, -0.066531], [51.501163, -0.106835], [51.468093, -0.091646], [51.490968, -0.049924], [51.477905, -0.053937], [51.485675, -0.061528], [51.487681, -0.096158], [51.474083, -0.078436], [51.465716, -0.051], [51.473403, -0.086385], [51.480167, -0.098631], [51.493068, -0.073604], [51.495662, -0.100291], [51.499813, -0.095652], [51.496007, -0.082845], [51.442833, -0.075719], [51.476134, -0.093903], [51.47414, -0.092978], [51.467639, -0.091377], [51.491622, -0.046006], [51.480704, -0.060011], [51.492339, -0.045831], [51.478355, -0.053918], [51.462289, -0.066695], [51.472186, -0.066996], [51.480549, -0.094439], [51.481989, -0.094523], [51.47378, -0.065489], [51.495245, -0.102326], [51.456625, -0.0832], [51.492171, -0.062837], [51.466606, -0.055858], [51.449013, -0.074164], [51.49742, -0.05397], [51.473408, -0.086672], [51.480283, -0.061757], [51.484558, -0.053798], [51.499025, -0.096982], [51.490486, -0.097193], [51.491032, -0.097603], [51.504629, -0.093146], [51.482249, -0.093936], [51.425822, -0.074851], [51.425822, -0.074851], [51.475975, -0.078645], [51.47363, -0.089255], [51.49958, -0.086873], [51.474036, -0.092118], [51.496463, -0.088732], [51.496461, -0.088588], [51.494724, -0.097881], [51.496369, -0.088448], [51.488265, -0.076831], [51.491845, -0.097857], [51.504596, -0.036661], [51.496085, -0.060222], [51.478918, -0.055334], [51.506079, -0.08833], [51.488549, -0.077684], [51.478306, -0.067313], [51.471898, -0.093359], [51.494067, -0.090705], [51.473924, -0.074267], [51.489893, -0.055587], [51.473747, -0.068946], [51.441877, -0.083242], [51.503334, -0.085419], [51.497641, -0.083785], [51.506592, -0.103295], [51.477125, -0.094005], [51.503334, -0.085419], [51.484431, -0.084338], [51.459772, -0.088682], [51.443055, -0.067363], [51.473603, -0.06564], [51.50485, -0.09573], [51.492486, -0.098551], [51.495054, -0.101613], [51.472028, -0.068299], [51.489883, -0.071289], [51.480704, -0.060011], [51.486593, -0.073589], [51.505989, -0.088334], [51.471867, -0.069458], [51.474161, -0.077713], [51.475927, -0.064822], [51.503984, -0.086689], [51.495577, -0.100583], [51.501921, -0.092538], [51.474466, -0.068916], [51.468004, -0.09165], [51.503863, -0.046635], [51.465998, -0.090006], [51.495767, -0.05188], [51.483306, -0.065086], [51.491459, -0.047021], [51.493053, -0.100256], [51.494867, -0.101189], [51.476677, -0.066662], [51.454331, -0.069478], [51.499976, -0.072592], [51.461478, -0.066585], [51.49162, -0.045862], [51.497576, -0.079753], [51.499988, -0.078787], [51.468288, -0.087031], [51.486821, -0.05471], [51.474062, -0.093701], [51.424001, -0.078956], [51.49316, -0.073744], [51.479751, -0.067684], [51.496227, -0.101853], [51.501012, -0.07543], [51.480998, -0.09442], [51.479621, -0.070714], [51.488821, -0.077816], [51.474126, -0.092114], [51.4981, -0.046161], [51.498982, -0.099865], [51.504582, -0.090266], [51.501844, -0.033465], [51.448588, -0.053889], [51.504822, -0.094002], [51.473905, -0.067643], [51.503334, -0.085419], [51.490304, -0.097057], [51.496566, -0.106161], [51.498391, -0.069201], [51.490032, -0.096924], [51.493343, -0.073881], [51.505287, -0.089372], [51.497929, -0.0904], [51.483324, -0.08813], [51.487582, -0.095586], [51.476095, -0.069567], [51.470235, -0.074134], [51.485686, -0.056775], [51.460952, -0.062], [51.459489, -0.07689], [51.490503, -0.092727], [51.468605, -0.06254], [51.487582, -0.095586], [51.498979, -0.055777], [51.492943, -0.098964], [51.503649, -0.104858], [51.481394, -0.085618], [51.489381, -0.079089], [51.488915, -0.0781], [51.47288, -0.054583], [51.494336, -0.096169], [51.464256, -0.060565], [51.458134, -0.065575], [51.496535, -0.082102], [51.48108, -0.061003], [51.492666, -0.071028], [51.488933, -0.057357], [51.496042, -0.101572], [51.478927, -0.094218], [51.473961, -0.092985], [51.477001, -0.069961], [51.50559, -0.085901], [51.462074, -0.080956], [51.460364, -0.075413], [51.455883, -0.076322], [51.498428, -0.104499], [51.473827, -0.073839], [51.494103, -0.092865], [51.471898, -0.093359], [51.465998, -0.090006], [51.473917, -0.062891], [51.459171, -0.057613], [51.485604, -0.062684], [51.486063, -0.074187], [51.469268, -0.069999], [51.505883, -0.087329], [51.473387, -0.058017], [51.491209, -0.048185], [51.484737, -0.05379], [51.483515, -0.094315], [51.505987, -0.08819], [51.507074, -0.105293], [51.471894, -0.093071], [51.493058, -0.100544], [51.497873, -0.08147], [51.483515, -0.094315], [51.473538, -0.089115], [51.456834, -0.090532], [51.473945, -0.064618], [51.487207, -0.061751], [51.431046, -0.080818], [51.492304, -0.098414], [51.467461, -0.0695], [51.49033, -0.054849], [51.499813, -0.095652], [51.472797, -0.093322], [51.491232, -0.060428], [51.502151, -0.101174], [51.489556, -0.067846], [51.473844, -0.063902], [51.485397, -0.093948], [51.473844, -0.063902], [51.506079, -0.08833], [51.473413, -0.08696], [51.423777, -0.076232], [51.482723, -0.089883], [51.449707, -0.056288], [51.449993, -0.057283], [51.448772, -0.054169], [51.478449, -0.054202], [51.456629, -0.045342], [51.431997, -0.073009], [51.449799, -0.056428], [51.449801, -0.056572], [51.477976, -0.052782], [51.477791, -0.052502], [51.421284, -0.077775], [51.421196, -0.077923], [51.451299, -0.076514], [51.478927, -0.094218], [51.490233, -0.076172], [51.484576, -0.076699], [51.473045, -0.069984], [51.495574, -0.100439], [51.499579, -0.054022], [51.467914, -0.091654], [51.494006, -0.092437], [51.496904, -0.082663], [51.488867, -0.091643], [51.496227, -0.101853], [51.473433, -0.071695], [51.473243, -0.071127], [51.437668, -0.078814], [51.489566, -0.07937], [51.488551, -0.077828], [51.505036, -0.085059], [51.454241, -0.069482], [51.494034, -0.094164], [51.473963, -0.093129], [51.473804, -0.066928], [51.49294, -0.09882], [51.50362, -0.08094], [51.506216, -0.102302], [51.461324, -0.079116], [51.49727, -0.099648], [51.473588, -0.059305], [51.462204, -0.066986], [51.454013, -0.088491], [51.495019, -0.099454], [51.490034, -0.097068], [51.473722, -0.089395], [51.491708, -0.100456], [51.482259, -0.094511], [51.461064, -0.079703], [51.480612, -0.059871], [51.480706, -0.060155], [51.459552, -0.058893], [51.486641, -0.054717], [51.427718, -0.08628], [51.497286, -0.089562], [51.460274, -0.075417], [51.462291, -0.066839], [51.479952, -0.068972], [51.48374, -0.086096], [51.506169, -0.088326], [51.506261, -0.088466], [51.490236, -0.103974], [51.435971, -0.090539], [51.464655, -0.09035], [51.488554, -0.105629], [51.471984, -0.093068], [51.491475, -0.10277], [51.490326, -0.103971], [51.490946, -0.103369], [51.469096, -0.092468], [51.491215, -0.103357], [51.491388, -0.102918], [51.427801, -0.085845], [51.435971, -0.090539], [51.462153, -0.091318], [51.427884, -0.08541], [51.499055, -0.054909], [51.498693, -0.1042], [51.497805, -0.066345], [51.455261, -0.07678], [51.454331, -0.069478], [51.495406, -0.101166], [51.489306, -0.096522], [51.453302, -0.078013], [51.472584, -0.096787], [51.495582, -0.051599], [51.46503, -0.063843], [51.491123, -0.103217], [51.50706, -0.104429], [51.493006, -0.048108], [51.475975, -0.078645], [51.484917, -0.053783], [51.505033, -0.035922], [51.491743, -0.102615], [51.48777, -0.057694], [51.501039, -0.104679], [51.493917, -0.065068], [51.47352, -0.099052], [51.482486, -0.091909], [51.473956, -0.092697], [51.500859, -0.104686], [51.489488, -0.096659], [51.494867, -0.101189], [51.472344, -0.065694], [51.461089, -0.092226], [51.492481, -0.065273], [51.436222, -0.089378], [51.499775, -0.076779], [51.441804, -0.084252], [51.485984, -0.102422], [51.494728, -0.098169], [51.473831, -0.090543], [51.466595, -0.066081], [51.496538, -0.104433], [51.464126, -0.080006], [51.488864, -0.091499], [51.504624, -0.092858], [51.458988, -0.079214], [51.503951, -0.046487], [51.47509, -0.096106], [51.464826, -0.062412], [51.490245, -0.05514], [51.506171, -0.08847], [51.492692, -0.08356], [51.489808, -0.055879], [51.473789, -0.066064], [51.484051, -0.066638], [51.459281, -0.075171], [51.473787, -0.06592], [51.441799, -0.083965], [51.494624, -0.097309], [51.48985, -0.096788], [51.441863, -0.065975], [51.489752, -0.079794], [51.458382, -0.075209], [51.478535, -0.059383], [51.490769, -0.08148], [51.469147, -0.068133], [51.484048, -0.066494], [51.473922, -0.063179], [51.473555, -0.08465], [51.453081, -0.091984], [51.504622, -0.092714], [51.502696, -0.095964], [51.478148, -0.068616], [51.494338, -0.096313], [51.494683, -0.100908], [51.48901, -0.078385], [51.473572, -0.069242], [51.447764, -0.063854], [51.485557, -0.070752], [51.50016, -0.072873], [51.429566, -0.078291], [51.487582, -0.095586], [51.496249, -0.070156], [51.504744, -0.094726], [51.482745, -0.063813], [51.453839, -0.072377], [51.491776, -0.044415], [51.490503, -0.092727], [51.491455, -0.046734], [51.473844, -0.063902], [51.493242, -0.100824], [51.464536, -0.0666], [51.489135, -0.075066], [51.494865, -0.084477], [51.466395, -0.053995], [51.501234, -0.050782], [51.499025, -0.096982], [51.485368, -0.097695], [51.48761, -0.075275], [51.494699, -0.085349], [51.496226, -0.052436], [51.464796, -0.066013], [51.460364, -0.075413], [51.490769, -0.08148], [51.494683, -0.100908], [51.48108, -0.061003], [51.463188, -0.066657], [51.501668, -0.104652], [51.497086, -0.099368], [51.473879, -0.060589], [51.484893, -0.068619], [51.486217, -0.072596], [51.498143, -0.098027], [51.494823, -0.098453], [51.487207, -0.061751], [51.452931, -0.077309], [51.47363, -0.089255], [51.500714, -0.073714], [51.498748, -0.058092], [51.485768, -0.072615], [51.505208, -0.095571], [51.49346, -0.048377], [51.492279, -0.091356], [51.473826, -0.090255], [51.473933, -0.063898], [51.475837, -0.097803], [51.450535, -0.08475], [51.480765, -0.102207], [51.482743, -0.063669], [51.460631, -0.075258], [51.490839, -0.052954], [51.49618, -0.065981], [51.443516, -0.068063], [51.482416, -0.065699], [51.475733, -0.063966], [51.500599, -0.094179], [51.453021, -0.077306], [51.477886, -0.052786], [51.433261, -0.089789], [51.487672, -0.095582], [51.473825, -0.068223], [51.500262, -0.073589], [51.494593, -0.100912], [51.490668, -0.053538], [51.498338, -0.104502], [51.473268, -0.056295], [51.474053, -0.093125], [51.441042, -0.087162], [51.474251, -0.094269], [51.483569, -0.05384], [51.442994, -0.069093], [51.504629, -0.093146], [51.484945, -0.093823], [51.489488, -0.096659], [51.487759, -0.067922], [51.48734, -0.075286], [51.466061, -0.066391], [51.436059, -0.090392], [51.506931, -0.107604], [51.486593, -0.073589], [51.480639, -0.094435], [51.481114, -0.073964], [51.505027, -0.084483], [51.499255, -0.094523], [51.504401, -0.095749], [51.475183, -0.096246], [51.473617, -0.08292], [51.489396, -0.096519], [51.470422, -0.069087], [51.474248, -0.077565], [51.494037, -0.088834], [51.506436, -0.088171], [51.467085, -0.063036], [51.494726, -0.098025], [51.493827, -0.065072], [51.464859, -0.058955], [51.479626, -0.065529], [51.469067, -0.052441], [51.497421, -0.103388], [51.48976, -0.096791], [51.501597, -0.094713], [51.475815, -0.058058], [51.448824, -0.090147], [51.485643, -0.054184], [51.454858, -0.063266], [51.487582, -0.095586], [51.475682, -0.093777], [51.48565, -0.070892], [51.481088, -0.094416], [51.494953, -0.08433], [51.460908, -0.075678], [51.497576, -0.079753], [51.498608, -0.055072], [51.473675, -0.059157], [51.494338, -0.096313], [51.494641, -0.098317], [51.459457, -0.058609], [51.468147, -0.067455], [51.460364, -0.075413], [51.487901, -0.076559], [51.502216, -0.077541], [51.443516, -0.068063], [51.480891, -0.060435], [51.50498, -0.048893], [51.481268, -0.094409], [51.501786, -0.095282], [51.481532, -0.08302], [51.501036, -0.09344], [51.501236, -0.078158], [51.499829, -0.06914], [51.471354, -0.093094], [51.470873, -0.080155], [51.456455, -0.051107], [51.460972, -0.074092], [51.462074, -0.080956], [51.42591, -0.074704], [51.445179, -0.070727], [51.494041, -0.094596], [51.462048, -0.068432], [51.496447, -0.08225], [51.492396, -0.098554], [51.478927, -0.094218], [51.503502, -0.095787], [51.498714, -0.056076], [51.49077, -0.04345], [51.473243, -0.071127], [51.485812, -0.05893], [51.47414, -0.092978], [51.480279, -0.09445], [51.502286, -0.049152], [51.452839, -0.0717], [51.480357, -0.082637], [51.49059, -0.081487], [51.481206, -0.074104], [51.474039, -0.092262], [51.474158, -0.077569], [51.499028, -0.097126], [51.475743, -0.097519], [51.506403, -0.102727], [51.495531, -0.103322], [51.496663, -0.051697], [51.478927, -0.094218], [51.474225, -0.076126], [51.498766, -0.042963], [51.445919, -0.071991], [51.506256, -0.088178], [51.495388, -0.100015], [51.50076, -0.104114], [51.423866, -0.076228], [51.46188, -0.069159], [51.493153, -0.100828], [51.495672, -0.078825], [51.441863, -0.065975], [51.489054, -0.086593], [51.492777, -0.066845], [51.50165, -0.098025], [51.50293, -0.077223], [51.461045, -0.062141], [51.466775, -0.066073], [51.500075, -0.07864], [51.505214, -0.084908], [51.462133, -0.068141], [51.465701, -0.066406], [51.456864, -0.070379], [51.49534, -0.10261], [51.473824, -0.090111], [51.442182, -0.079919], [51.47422, -0.075838], [51.499992, -0.06265], [51.495049, -0.101325], [51.446643, -0.072249], [51.488081, -0.076551], [51.471782, -0.069749], [51.477081, -0.069381], [51.50525, -0.098163], [51.489939, -0.085692], [51.473827, -0.068367], [51.493422, -0.100817], [51.494103, -0.092865], [51.445084, -0.070444], [51.441721, -0.084687], [51.479017, -0.094214], [51.500075, -0.07864], [51.445177, -0.070584], [51.473682, -0.059589], [51.482187, -0.062685], [51.480049, -0.058455], [51.493451, -0.047801], [51.466056, -0.077046], [51.498767, -0.048438], [51.488918, -0.078244], [51.485557, -0.070752], [51.453293, -0.077438], [51.47363, -0.089255], [51.473783, -0.093137], [51.464122, -0.068777], [51.487038, -0.09532], [51.474339, -0.094121], [51.488034, -0.095711], [51.496313, -0.052289], [51.498797, -0.088491], [51.432264, -0.078321], [51.473875, -0.071245], [51.492051, -0.06097], [51.465614, -0.066554], [51.505981, -0.104473], [51.48749, -0.095446], [51.455646, -0.083817], [51.50266, -0.077234], [51.491601, -0.04471], [51.485117, -0.082293], [51.49272, -0.06339], [51.504629, -0.093146], [51.490955, -0.04373], [51.480639, -0.094435], [51.494017, -0.093157], [51.495298, -0.061552], [51.473924, -0.068795], [51.502386, -0.082433], [51.473844, -0.063902], [51.451489, -0.071613], [51.487413, -0.085222], [51.473268, -0.056295], [51.480648, -0.067502], [51.480616, -0.060159], [51.487806, -0.076275], [51.502395, -0.077533], [51.472149, -0.092197], [51.451372, -0.086442], [51.420839, -0.078081], [51.479294, -0.056326], [51.465816, -0.057043], [51.505157, -0.098023], [51.494921, -0.04428], [51.473905, -0.067643], [51.505112, -0.089667], [51.498246, -0.104362], [51.492214, -0.065429], [51.473603, -0.06564], [51.454459, -0.077245], [51.491715, -0.084321], [51.447646, -0.07307], [51.487345, -0.075574], [51.505727, -0.088777], [51.490971, -0.050067], [51.473737, -0.068371], [51.500967, -0.105834], [51.491217, -0.103501], [51.485733, -0.05418], [51.441721, -0.084687], [51.506171, -0.08847], [51.490127, -0.042613], [51.498524, -0.066314], [51.489668, -0.096651], [51.499059, -0.055197], [51.473735, -0.073699], [51.473231, -0.070408], [51.482187, -0.062685], [51.462289, -0.066695], [51.473387, -0.058017], [51.507062, -0.104573], [51.494962, -0.101473], [51.488617, -0.098424], [51.472812, -0.083241], [51.494934, -0.099745], [51.490503, -0.092727], [51.490032, -0.096924], [51.492093, -0.063561], [51.501236, -0.078158], [51.487854, -0.095719], [51.443973, -0.068476], [51.505211, -0.084764], [51.453372, -0.087798], [51.479394, -0.067843], [51.428435, -0.08064], [51.49557, -0.100151], [51.457486, -0.075391], [51.495406, -0.101166], [51.501236, -0.078158], [51.480614, -0.060015], [51.443606, -0.06806], [51.489289, -0.078949], [51.497219, -0.107574], [51.473631, -0.083783], [51.488581, -0.057804], [51.49879, -0.104628], [51.494036, -0.094308], [51.481925, -0.074074], [51.487959, -0.058263], [51.458031, -0.053919], [51.502625, -0.09712], [51.498207, -0.063446], [51.442996, -0.069236], [51.495718, -0.103747], [51.472166, -0.093204], [51.477114, -0.065924], [51.488551, -0.077828], [51.499025, -0.096982], [51.479017, -0.094214], [51.497899, -0.066629], [51.495492, -0.100875], [51.487251, -0.07529], [51.460489, -0.061156], [51.474147, -0.076849], [51.468144, -0.067311], [51.46656, -0.069394], [51.497695, -0.103665], [51.473948, -0.064762], [51.481617, -0.071782], [51.479454, -0.071441], [51.493056, -0.1004], [51.503877, -0.09116], [51.487186, -0.08235], [51.481989, -0.094523], [51.491689, -0.082738], [51.485716, -0.080396], [51.498243, -0.071081], [51.473933, -0.063898], [51.483864, -0.066214], [51.494269, -0.086519], [51.507871, -0.104539], [51.484316, -0.093849], [51.494017, -0.093157], [51.448428, -0.071454], [51.473801, -0.066784], [51.503645, -0.10457], [51.49548, -0.100155], [51.476224, -0.093899], [51.474058, -0.093413], [51.497086, -0.099368], [51.484429, -0.067775], [51.493242, -0.100824], [51.474116, -0.074979], [51.492396, -0.098554], [51.473664, -0.080326], [51.494924, -0.09917], [51.481813, -0.061836], [51.494084, -0.091713], [51.507078, -0.105581], [51.502793, -0.096393], [51.456909, -0.067642], [51.493517, -0.084534], [51.453581, -0.062169], [51.486215, -0.072452], [51.503017, -0.077075], [51.473929, -0.06361], [51.464254, -0.060421], [51.466775, -0.066073], [51.456431, -0.049669], [51.473967, -0.071385], [51.49781, -0.066632], [51.497219, -0.107574], [51.494527, -0.096881], [51.500075, -0.07864], [51.489568, -0.079514], [51.489979, -0.06077], [51.498697, -0.104488], [51.494498, -0.100628], [51.466326, -0.066092], [51.494138, -0.095024], [51.482167, -0.094371], [51.47363, -0.089255], [51.497183, -0.050523], [51.48892, -0.078388], [51.48892, -0.078388], [51.492228, -0.066292], [51.494867, -0.101189], [51.476719, -0.058308], [51.474918, -0.069041], [51.46973, -0.09273], [51.473676, -0.081045], [51.494513, -0.084924], [51.493448, -0.047657], [51.459733, -0.075296], [51.498123, -0.10235], [51.452108, -0.065542], [51.489488, -0.096659], [51.464126, -0.080006], [51.473685, -0.059733], [51.490124, -0.097064], [51.499757, -0.092197], [51.497802, -0.066201], [51.424221, -0.075926], [51.481989, -0.094523], [51.473081, -0.05587], [51.486688, -0.073873], [51.427071, -0.074224], [51.491341, -0.045298], [51.481631, -0.0617], [51.473709, -0.08306], [51.495743, -0.083144], [51.482256, -0.094367], [51.502308, -0.077681], [51.477365, -0.070233], [51.505022, -0.089671], [51.442991, -0.068949], [51.505981, -0.104473], [51.478306, -0.067313], [51.48749, -0.095446], [51.474142, -0.076562], [51.490333, -0.054992], [51.505739, -0.100593], [51.487251, -0.07529], [51.500511, -0.094326], [51.478823, -0.05505], [51.488918, -0.078244], [51.474376, -0.06892], [51.428662, -0.078041], [51.46656, -0.069394], [51.454331, -0.069478], [51.460664, -0.066331], [51.489578, -0.096655], [51.504839, -0.09501], [51.480246, -0.075873], [51.481884, -0.066154], [51.498707, -0.105063], [51.503645, -0.10457], [51.491743, -0.102615], [51.484339, -0.067778], [51.483303, -0.064942], [51.481262, -0.061139], [51.49416, -0.090846], [51.481815, -0.06198], [51.492681, -0.093933], [51.488175, -0.076835], [51.471782, -0.069749], [51.473621, -0.088679], [51.485038, -0.093963], [51.458506, -0.055482], [51.424666, -0.075619], [51.476398, -0.099076], [51.494237, -0.095597], [51.488641, -0.077824], [51.50525, -0.098163], [51.487184, -0.065786], [51.502117, -0.104634], [51.503598, -0.036128], [51.474339, -0.094121], [51.449474, -0.074864], [51.491745, -0.102759], [51.481078, -0.060859], [51.485366, -0.07004], [51.462901, -0.082073], [51.479756, -0.067972], [51.427796, -0.085558], [51.471531, -0.06544], [51.464796, -0.066013], [51.478523, -0.086026], [51.466001, -0.09015], [51.4936, -0.100665], [51.474322, -0.093114], [51.473692, -0.065636], [51.473403, -0.086385], [51.495208, -0.100022], [51.500465, -0.10816], [51.462199, -0.066698], [51.46545, -0.056627], [51.500336, -0.094622], [51.454402, -0.062854], [51.490677, -0.08134], [51.463391, -0.062617], [51.476994, -0.080474], [51.460392, -0.066199], [51.49033, -0.054849], [51.494036, -0.094308], [51.447316, -0.085892], [51.427579, -0.083265], [51.473841, -0.063758], [51.471083, -0.092961], [51.500499, -0.104701], [51.475837, -0.097803], [51.501563, -0.098173], [51.479661, -0.067688], [51.480283, -0.061757], [51.498202, -0.079583], [51.496551, -0.099678], [51.473824, -0.090111], [51.500679, -0.104693], [51.443525, -0.085044], [51.497578, -0.079897], [51.481394, -0.085618], [51.471898, -0.093359], [51.48499, -0.069047], [51.493242, -0.100824], [51.499611, -0.099839], [51.462204, -0.066986], [51.489696, -0.098379], [51.457398, -0.075538], [51.466635, -0.090411], [51.482745, -0.063813], [51.477333, -0.057418], [51.494138, -0.095024], [51.468864, -0.072752], [51.495118, -0.100026], [51.473176, -0.056154], [51.443625, -0.063742], [51.433351, -0.089785], [51.498391, -0.069201], [51.462291, -0.066839], [51.473948, -0.064762], [51.443975, -0.06862], [51.473408, -0.086672], [51.491341, -0.045298], [51.485557, -0.070752], [51.497879, -0.103945], [51.495954, -0.052304], [51.494915, -0.076551], [51.45936, -0.058181], [51.485143, -0.100441], [51.467248, -0.062022], [51.477001, -0.069961], [51.483337, -0.094466], [51.497476, -0.079181], [51.507064, -0.104717], [51.495839, -0.10014], [51.47363, -0.089255], [51.490032, -0.096924], [51.479672, -0.057462], [51.493876, -0.046342], [51.489668, -0.096651], [51.482169, -0.094515], [51.484431, -0.084338], [51.49364, -0.048369], [51.498036, -0.064029], [51.496223, -0.052292], [51.503735, -0.104567], [51.496357, -0.082254], [51.463651, -0.06203], [51.486215, -0.072452], [51.451701, -0.06268], [51.494141, -0.100787], [51.459643, -0.0753], [51.487094, -0.065789], [51.494029, -0.093876], [51.47329, -0.05759], [51.436423, -0.090664], [51.472344, -0.065694], [51.495487, -0.100587], [51.478146, -0.068472], [51.500068, -0.072732], [51.473317, -0.070116], [51.493545, -0.048085], [51.462525, -0.064669], [51.500937, -0.092868], [51.473905, -0.067643], [51.464124, -0.068921], [51.49316, -0.073744], [51.487207, -0.061751], [51.449284, -0.085234], [51.480049, -0.058455], [51.474423, -0.066326], [51.490323, -0.103827], [51.50437, -0.082782], [51.443883, -0.06848], [51.498588, -0.070201], [51.473287, -0.057446], [51.499638, -0.095948], [51.494029, -0.093876], [51.461326, -0.07926], [51.49758, -0.080041], [51.495241, -0.102038], [51.487161, -0.075293], [51.45318, -0.092556], [51.505058, -0.097451], [51.473317, -0.070116], [51.49539, -0.083591], [51.490769, -0.08148], [51.486063, -0.074187], [51.473725, -0.089539], [51.472773, -0.069851], [51.504766, -0.090546], [51.498622, -0.105355], [51.497802, -0.066201], [51.491477, -0.075256], [51.458815, -0.079653], [51.488088, -0.076983], [51.49577, -0.101439], [51.505639, -0.088925], [51.456629, -0.045342], [51.473844, -0.063902], [51.473711, -0.083204], [51.440796, -0.088611], [51.497956, -0.064609], [51.473319, -0.07026], [51.492112, -0.064713], [51.505135, -0.091107], [51.488126, -0.095851], [51.480853, -0.085497], [51.45742, -0.049627], [51.505225, -0.091104], [51.443973, -0.068476], [51.489686, -0.059342], [51.506497, -0.103011], [51.453581, -0.067638], [51.467561, -0.053801], [51.488915, -0.0781], [51.497879, -0.103945], [51.454244, -0.069626], [51.46695, -0.065778], [51.441719, -0.084544], [51.479803, -0.059905], [51.491743, -0.102615], [51.467704, -0.089791], [51.478636, -0.054626], [51.473664, -0.080326], [51.48502, -0.065445], [51.498894, -0.056069], [51.471624, -0.093083], [51.49586, -0.101436], [51.506261, -0.088466], [51.498894, -0.056069], [51.495747, -0.1], [51.495208, -0.100022], [51.505109, -0.089523], [51.474058, -0.093413], [51.482259, -0.094511], [51.494867, -0.101189], [51.491437, -0.051056], [51.475837, -0.097803], [51.454331, -0.069478], [51.466853, -0.06535], [51.464256, -0.060565], [51.4886, -0.086324], [51.462469, -0.066687], [51.48209, -0.062257], [51.49557, -0.100151], [51.485557, -0.070752], [51.495121, -0.050899], [51.50661, -0.104447], [51.474158, -0.077569], [51.497578, -0.079897], [51.483954, -0.06621], [51.492214, -0.098418], [51.498336, -0.104358], [51.500078, -0.078784], [51.441719, -0.084544], [51.47384, -0.091118], [51.49618, -0.065981], [51.49557, -0.100151], [51.471625, -0.098698], [51.503048, -0.078947], [51.487747, -0.050925], [51.470889, -0.053804], [51.488644, -0.105625], [51.495435, -0.064428], [51.453173, -0.092125], [51.504844, -0.089823], [51.492209, -0.065141], [51.473958, -0.092841], [51.476497, -0.061198], [51.505027, -0.084483], [51.498875, -0.054917], [51.501036, -0.09344], [51.490323, -0.103827], [51.49482, -0.098309], [51.456909, -0.067642], [51.482247, -0.093792], [51.504626, -0.093002], [51.474738, -0.069048], [51.491785, -0.044991], [51.464796, -0.066013], [51.462707, -0.064805], [51.461, -0.075819], [51.498391, -0.069201], [51.47581, -0.090604], [51.474116, -0.074979], [51.485579, -0.094085], [51.47363, -0.089255], [51.498979, -0.055777], [51.498785, -0.054921], [51.474341, -0.094265], [51.49033, -0.054849], [51.505989, -0.088334], [51.452855, -0.100198], [51.473336, -0.071268], [51.483861, -0.06607], [51.441771, -0.065835], [51.473791, -0.060736], [51.489942, -0.096928], [51.474132, -0.075986], [51.494593, -0.100912], [51.474083, -0.078436], [51.476767, -0.066658], [51.475837, -0.097803], [51.494031, -0.09402], [51.498622, -0.055936], [51.501147, -0.05093], [51.503432, -0.091467], [51.490767, -0.081336], [51.491552, -0.047162], [51.440796, -0.088611], [51.450427, -0.094686], [51.474158, -0.077569], [51.484463, -0.053514], [51.493053, -0.100256], [51.469176, -0.053589], [51.454331, -0.069478], [51.490677, -0.08134], [51.449015, -0.074308], [51.456834, -0.090532], [51.473905, -0.067643], [51.483956, -0.066354], [51.452872, -0.068244], [51.482, -0.06226], [51.44333, -0.067639], [51.473939, -0.07513], [51.478641, -0.054914], [51.475837, -0.097803], [51.50525, -0.098163], [51.466529, -0.072994], [51.501861, -0.077844], [51.482131, -0.053901], [51.458385, -0.075353], [51.475733, -0.069438], [51.492093, -0.102024], [51.486917, -0.065941], [51.441716, -0.0844], [51.478842, -0.09451], [51.490677, -0.08134], [51.485555, -0.070608], [51.494726, -0.098025], [51.483956, -0.066354], [51.501757, -0.049751], [51.469732, -0.092874], [51.489159, -0.065558], [51.47363, -0.089255], [51.471894, -0.093071], [51.473319, -0.07026], [51.488761, -0.057796], [51.496311, -0.052145], [51.462289, -0.066695], [51.473754, -0.063906], [51.468327, -0.067447], [51.464911, -0.084004], [51.486285, -0.098809], [51.478725, -0.065424], [51.504556, -0.083206], [51.473747, -0.068946], [51.505987, -0.08819], [51.487128, -0.095317], [51.462443, -0.081516], [51.49618, -0.065981], [51.501163, -0.106835], [51.503195, -0.076923], [51.505107, -0.089379], [51.461478, -0.066585], [51.473801, -0.066784], [51.474227, -0.07627], [51.490503, -0.092727], [51.503257, -0.091762], [51.485647, -0.070748], [51.505214, -0.084908], [51.431816, -0.089418], [51.458262, -0.051606], [51.494106, -0.049357], [51.494017, -0.093157], [51.489728, -0.100394], [51.491779, -0.082734], [51.484774, -0.083316], [51.483956, -0.066354], [51.445643, -0.071571], [51.466976, -0.061889], [51.498985, -0.100009], [51.495584, -0.101015], [51.500422, -0.088855], [51.500761, -0.098638], [51.4874, -0.095449], [51.503786, -0.096639], [51.484992, -0.069191], [51.46407, -0.082024], [51.478048, -0.084462], [51.467448, -0.090665], [51.485647, -0.070748], [51.464911, -0.084004], [51.506882, -0.10458], [51.496239, -0.08053], [51.497819, -0.100202], [51.424666, -0.075619], [51.50525, -0.098163], [51.449107, -0.074448], [51.489755, -0.079938], [51.504733, -0.044869], [51.496708, -0.081663], [51.474594, -0.093247], [51.491668, -0.098009], [51.49504, -0.084182], [51.479954, -0.058171], [51.503133, -0.073179], [51.493432, -0.084825], [51.487991, -0.076555], [51.473958, -0.092841], [51.499757, -0.092197], [51.494147, -0.0956], [51.482839, -0.102553], [51.489197, -0.078809], [51.476812, -0.074865], [51.490668, -0.053538], [51.449748, -0.07514], [51.480639, -0.094435], [51.494676, -0.100476], [51.473838, -0.090974], [51.499062, -0.055341], [51.475837, -0.097803], [51.473829, -0.090399], [51.463277, -0.066653], [51.485557, -0.070752], [51.498714, -0.056076], [51.479289, -0.094347], [51.497578, -0.063473], [51.504464, -0.083066], [51.453008, -0.087526], [51.491457, -0.090526], [51.484897, -0.068907], [51.500517, -0.089139], [51.487852, -0.095575], [51.434368, -0.086002], [51.480526, -0.060163], [51.502398, -0.077677], [51.42582, -0.074708], [51.485686, -0.056775], [51.424401, -0.081384], [51.481305, -0.085622], [51.492032, -0.065292], [51.494867, -0.101189], [51.453948, -0.062585], [51.498673, -0.097429], [51.504853, -0.095874], [51.448412, -0.064978], [51.449799, -0.056428], [51.47826, -0.053634], [51.490217, -0.042609], [51.426073, -0.07369], [51.477978, -0.052926], [51.477884, -0.052642], [51.477886, -0.052786], [51.478071, -0.053066], [51.420484, -0.078384], [51.425113, -0.075457], [51.424046, -0.076221], [51.420035, -0.078403], [51.469601, -0.068401], [51.503864, -0.095916], [51.494015, -0.093013], [51.500075, -0.07864], [51.500165, -0.078636], [51.467914, -0.091654], [51.495102, -0.076976], [51.494624, -0.097309], [51.474237, -0.076846], [51.487113, -0.061467], [51.490973, -0.050211], [51.501034, -0.093296], [51.473747, -0.068946], [51.484316, -0.093849], [51.494728, -0.098169], [51.472356, -0.099388], [51.473444, -0.072415], [51.461461, -0.076519], [51.481532, -0.08302], [51.501236, -0.078158], [51.428527, -0.086246], [51.471495, -0.063282], [51.486444, -0.080941], [51.453113, -0.077446], [51.453888, -0.086337], [51.505523, -0.087345], [51.456724, -0.045626], [51.497879, -0.103945], [51.489942, -0.096928], [51.494162, -0.09099], [51.492212, -0.065285], [51.481451, -0.083599], [51.484048, -0.066494], [51.485806, -0.096956], [51.451805, -0.085417], [51.489396, -0.096519], [51.462204, -0.066986], [51.485119, -0.082437], [51.473229, -0.070264], [51.501149, -0.078306], [51.505175, -0.104651], [51.476315, -0.061061], [51.492987, -0.046956], [51.472023, -0.068011], [51.50208, -0.08576], [51.504937, -0.084487], [51.452737, -0.098476], [51.501653, -0.098169], [51.4949, -0.059264]],\n",
       "                {\n",
       "  &quot;minOpacity&quot;: 0.5,\n",
       "  &quot;maxZoom&quot;: 18,\n",
       "  &quot;radius&quot;: 8,\n",
       "  &quot;blur&quot;: 15,\n",
       "}\n",
       "            );\n",
       "        \n",
       "    \n",
       "            heat_map_a643a9fe1a223d204bdd9d45095fe738.addTo(map_dd0e00b674a9395c6804daeafd4135b2);\n",
       "        \n",
       "&lt;/script&gt;\n",
       "&lt;/html&gt;\" style=\"position:absolute;width:100%;height:100%;left:0;top:0;border:none !important;\" allowfullscreen webkitallowfullscreen mozallowfullscreen></iframe></div></div>"
      ],
      "text/plain": [
       "<folium.folium.Map at 0x21ab8ea0950>"
      ]
     },
     "execution_count": 86,
     "metadata": {},
     "output_type": "execute_result"
    }
   ],
   "source": [
    "southwark_df = df[df[\"District Area\"] == \"Southwark\"]\n",
    "\n",
    "light_conditions = southwark_df[\"Light_Conditions\"].value_counts()\n",
    "print(\"Accidents in Southwark by Light Conditions:\\n\", light_conditions)\n",
    "\n",
    "coords = southwark_df[[\"Latitude\", \"Longitude\"]].dropna().values.tolist()\n",
    "m = folium.Map(location=[southwark_df[\"Latitude\"].mean(), southwark_df[\"Longitude\"].mean()], zoom_start=12)\n",
    "HeatMap(coords, radius=8).add_to(m)\n",
    "m"
   ]
  },
  {
   "cell_type": "code",
   "execution_count": null,
   "id": "976cdf7f-baf0-429a-94f6-917804368e26",
   "metadata": {},
   "outputs": [],
   "source": []
  },
  {
   "cell_type": "markdown",
   "id": "a3c0ac25-ebf8-43c4-85cc-4be90408ad86",
   "metadata": {},
   "source": [
    "<h2>District 4: Greenwich - Vehicle Types involved in Accidents</h2>"
   ]
  },
  {
   "cell_type": "markdown",
   "id": "90654447-ee42-4b12-8998-134e1638b955",
   "metadata": {},
   "source": [
    "<h3>Insight 29: In Greenwich, most accidents occur in good weather. This shows that weather is less important than traffic and driving behavior.</h3>"
   ]
  },
  {
   "cell_type": "code",
   "execution_count": 93,
   "id": "b56087f9-ecd6-4307-88ad-d40269cc7bab",
   "metadata": {},
   "outputs": [
    {
     "name": "stdout",
     "output_type": "stream",
     "text": [
      "Vehicle Types involved in Accidents in Greenwich:\n",
      " Vehicle_Type\n",
      "Car                                      2152\n",
      "Van / Goods 3.5 tonnes mgw or under       161\n",
      "Motorcycle over 500cc                     153\n",
      "Bus or coach (17 or more pass seats)      112\n",
      "Motorcycle 125cc and under                 90\n",
      "Goods 7.5 tonnes mgw and over              69\n",
      "Taxi/Private hire car                      42\n",
      "Motorcycle over 125cc and up to 500cc      37\n",
      "Goods over 3.5t. and under 7.5t            33\n",
      "Other vehicle                              24\n",
      "Motorcycle 50cc and under                  24\n",
      "Minibus (8 - 16 passenger seats)            4\n",
      "Agricultural vehicle                        1\n",
      "Name: count, dtype: int64\n"
     ]
    },
    {
     "data": {
      "text/html": [
       "<div style=\"width:100%;\"><div style=\"position:relative;width:100%;height:0;padding-bottom:60%;\"><span style=\"color:#565656\">Make this Notebook Trusted to load map: File -> Trust Notebook</span><iframe srcdoc=\"&lt;!DOCTYPE html&gt;\n",
       "&lt;html&gt;\n",
       "&lt;head&gt;\n",
       "    \n",
       "    &lt;meta http-equiv=&quot;content-type&quot; content=&quot;text/html; charset=UTF-8&quot; /&gt;\n",
       "    &lt;script src=&quot;https://cdn.jsdelivr.net/npm/leaflet@1.9.3/dist/leaflet.js&quot;&gt;&lt;/script&gt;\n",
       "    &lt;script src=&quot;https://code.jquery.com/jquery-3.7.1.min.js&quot;&gt;&lt;/script&gt;\n",
       "    &lt;script src=&quot;https://cdn.jsdelivr.net/npm/bootstrap@5.2.2/dist/js/bootstrap.bundle.min.js&quot;&gt;&lt;/script&gt;\n",
       "    &lt;script src=&quot;https://cdnjs.cloudflare.com/ajax/libs/Leaflet.awesome-markers/2.0.2/leaflet.awesome-markers.js&quot;&gt;&lt;/script&gt;\n",
       "    &lt;link rel=&quot;stylesheet&quot; href=&quot;https://cdn.jsdelivr.net/npm/leaflet@1.9.3/dist/leaflet.css&quot;/&gt;\n",
       "    &lt;link rel=&quot;stylesheet&quot; href=&quot;https://cdn.jsdelivr.net/npm/bootstrap@5.2.2/dist/css/bootstrap.min.css&quot;/&gt;\n",
       "    &lt;link rel=&quot;stylesheet&quot; href=&quot;https://netdna.bootstrapcdn.com/bootstrap/3.0.0/css/bootstrap-glyphicons.css&quot;/&gt;\n",
       "    &lt;link rel=&quot;stylesheet&quot; href=&quot;https://cdn.jsdelivr.net/npm/@fortawesome/fontawesome-free@6.2.0/css/all.min.css&quot;/&gt;\n",
       "    &lt;link rel=&quot;stylesheet&quot; href=&quot;https://cdnjs.cloudflare.com/ajax/libs/Leaflet.awesome-markers/2.0.2/leaflet.awesome-markers.css&quot;/&gt;\n",
       "    &lt;link rel=&quot;stylesheet&quot; href=&quot;https://cdn.jsdelivr.net/gh/python-visualization/folium/folium/templates/leaflet.awesome.rotate.min.css&quot;/&gt;\n",
       "    \n",
       "            &lt;meta name=&quot;viewport&quot; content=&quot;width=device-width,\n",
       "                initial-scale=1.0, maximum-scale=1.0, user-scalable=no&quot; /&gt;\n",
       "            &lt;style&gt;\n",
       "                #map_abb1b81532ffc486aec19bd4d2e44877 {\n",
       "                    position: relative;\n",
       "                    width: 100.0%;\n",
       "                    height: 100.0%;\n",
       "                    left: 0.0%;\n",
       "                    top: 0.0%;\n",
       "                }\n",
       "                .leaflet-container { font-size: 1rem; }\n",
       "            &lt;/style&gt;\n",
       "\n",
       "            &lt;style&gt;html, body {\n",
       "                width: 100%;\n",
       "                height: 100%;\n",
       "                margin: 0;\n",
       "                padding: 0;\n",
       "            }\n",
       "            &lt;/style&gt;\n",
       "\n",
       "            &lt;style&gt;#map {\n",
       "                position:absolute;\n",
       "                top:0;\n",
       "                bottom:0;\n",
       "                right:0;\n",
       "                left:0;\n",
       "                }\n",
       "            &lt;/style&gt;\n",
       "\n",
       "            &lt;script&gt;\n",
       "                L_NO_TOUCH = false;\n",
       "                L_DISABLE_3D = false;\n",
       "            &lt;/script&gt;\n",
       "\n",
       "        \n",
       "    &lt;script src=&quot;https://cdn.jsdelivr.net/gh/python-visualization/folium@main/folium/templates/leaflet_heat.min.js&quot;&gt;&lt;/script&gt;\n",
       "&lt;/head&gt;\n",
       "&lt;body&gt;\n",
       "    \n",
       "    \n",
       "            &lt;div class=&quot;folium-map&quot; id=&quot;map_abb1b81532ffc486aec19bd4d2e44877&quot; &gt;&lt;/div&gt;\n",
       "        \n",
       "&lt;/body&gt;\n",
       "&lt;script&gt;\n",
       "    \n",
       "    \n",
       "            var map_abb1b81532ffc486aec19bd4d2e44877 = L.map(\n",
       "                &quot;map_abb1b81532ffc486aec19bd4d2e44877&quot;,\n",
       "                {\n",
       "                    center: [51.475231241557545, 0.047418286354238455],\n",
       "                    crs: L.CRS.EPSG3857,\n",
       "                    ...{\n",
       "  &quot;zoom&quot;: 12,\n",
       "  &quot;zoomControl&quot;: true,\n",
       "  &quot;preferCanvas&quot;: false,\n",
       "}\n",
       "\n",
       "                }\n",
       "            );\n",
       "\n",
       "            \n",
       "\n",
       "        \n",
       "    \n",
       "            var tile_layer_df63e89a5f86e1fa053e88b3fc870092 = L.tileLayer(\n",
       "                &quot;https://tile.openstreetmap.org/{z}/{x}/{y}.png&quot;,\n",
       "                {\n",
       "  &quot;minZoom&quot;: 0,\n",
       "  &quot;maxZoom&quot;: 19,\n",
       "  &quot;maxNativeZoom&quot;: 19,\n",
       "  &quot;noWrap&quot;: false,\n",
       "  &quot;attribution&quot;: &quot;\\u0026copy; \\u003ca href=\\&quot;https://www.openstreetmap.org/copyright\\&quot;\\u003eOpenStreetMap\\u003c/a\\u003e contributors&quot;,\n",
       "  &quot;subdomains&quot;: &quot;abc&quot;,\n",
       "  &quot;detectRetina&quot;: false,\n",
       "  &quot;tms&quot;: false,\n",
       "  &quot;opacity&quot;: 1,\n",
       "}\n",
       "\n",
       "            );\n",
       "        \n",
       "    \n",
       "            tile_layer_df63e89a5f86e1fa053e88b3fc870092.addTo(map_abb1b81532ffc486aec19bd4d2e44877);\n",
       "        \n",
       "    \n",
       "            var heat_map_465e365099459d08b9306942241491ca = L.heatLayer(\n",
       "                [[51.501546, 9.4e-05], [51.496475, 0.002177], [51.471408, -0.015047], [51.472168, 0.003704], [51.472936, -0.014981], [51.455137, 0.016201], [51.473021, 0.011661], [51.456102, 0.012357], [51.456005, 0.012784], [51.455526, 0.014491], [51.481307, -0.02614], [51.470861, -0.014639], [51.455638, 0.0132], [51.474123, -0.02141], [51.455721, 0.013635], [51.455045, 0.016341], [51.47168, -0.01518], [51.456003, 0.012928], [51.480946, -0.020682], [51.425515, 0.064669], [51.475027, 0.010022], [51.464921, 0.032901], [51.486783, 0.063258], [51.484161, 0.001781], [51.461843, 0.07509], [51.438423, 0.051725], [51.476356, 0.073157], [51.478558, 0.019106], [51.49346, 0.061975], [51.483476, 0.062101], [51.455451, 0.05508], [51.474091, 0.043389], [51.482717, -0.003178], [51.499496, 0.101871], [51.473491, 0.015714], [51.483644, 0.000462], [51.471524, 0.051338], [51.485368, 0.102373], [51.487599, 0.016336], [51.481215, -0.010013], [51.492045, 0.050387], [51.474767, 0.025131], [51.490066, 0.019326], [51.45685, 0.041899], [51.442324, 0.080393], [51.458982, 0.022704], [51.472414, 0.026034], [51.481093, -0.008146], [51.484849, 0.019384], [51.499101, 0.001139], [51.458013, 0.078083], [51.483999, 0.108504], [51.433601, 0.049782], [51.448635, 0.064272], [51.4561, 0.012501], [51.434891, 0.063365], [51.462731, 0.029493], [51.493468, 0.061543], [51.47459, 0.024979], [51.454149, 0.021339], [51.474126, 0.020638], [51.487787, 0.031469], [51.489847, 0.073048], [51.486955, 0.094092], [51.481208, -0.01491], [51.48832, 0.062752], [51.445835, 0.039249], [51.434711, 0.063357], [51.49613, 0.119005], [51.490931, 0.072809], [51.485778, 0.007181], [51.489894, 0.024072], [51.486498, 0.017584], [51.490303, 0.067595], [51.492379, 0.051842], [51.50021, 0.117177], [51.497815, 0.090267], [51.473183, 0.012677], [51.481125, -0.010017], [51.490931, 0.072809], [51.438256, 0.071431], [51.450231, 0.029514], [51.490627, 0.018055], [51.490836, 0.073093], [51.480214, 0.088886], [51.490743, 0.068191], [51.490447, 0.018047], [51.489962, 0.066571], [51.483779, 0.00839], [51.492603, 0.054445], [51.492837, 0.066701], [51.490836, 0.073093], [51.448198, 0.063533], [51.506384, 0.108961], [51.47193, 0.028029], [51.484413, 0.00813], [51.453348, 0.026054], [51.469505, 0.063919], [51.507884, 0.115515], [51.480342, 0.035603], [51.48118, -0.007998], [51.494012, 0.06128], [51.489138, 0.067398], [51.435253, 0.063237], [51.483494, 0.024941], [51.451469, 0.066703], [51.464286, 0.027978], [51.48717, 0.015165], [51.493163, 0.063547], [51.472495, 0.047206], [51.475245, -0.013297], [51.487248, 0.092809], [51.479336, 0.036567], [51.483517, 0.034016], [51.474396, 0.036203], [51.498916, 0.10415], [51.491056, 0.070798], [51.456928, 0.042622], [51.468594, 0.069637], [51.49069, 0.040386], [51.492165, 0.048663], [51.474425, 0.024107], [51.485882, 0.098796], [51.48258, 0.061916], [51.492765, 0.055461], [51.489934, 0.021769], [51.481339, -0.012024], [51.489293, 0.011946], [51.491551, 0.042585], [51.504809, 0.111482], [51.487905, 0.055675], [51.486324, 0.017288], [51.484192, 0.107793], [51.450233, 0.02937], [51.48695, 0.09438], [51.437522, 0.072261], [51.49076, 0.082453], [51.47469, 0.024407], [51.451371, 0.07735], [51.488316, 0.118498], [51.488786, 0.06695], [51.452552, 0.035662], [51.486893, 0.107629], [51.481753, 0.073113], [51.490047, 0.066863], [51.486249, 0.016421], [51.451338, 0.048562], [51.482301, 0.01063], [51.487395, 0.028139], [51.484161, 0.001781], [51.494772, 0.012331], [51.489443, 0.065395], [51.485014, 0.086945], [51.493458, 0.082432], [51.491249, 0.070087], [51.486329, 0.017], [51.4871, 0.111096], [51.468805, 0.067919], [51.48118, -0.007998], [51.461069, 0.057779], [51.482722, 0.043487], [51.487955, 0.032197], [51.479567, 0.049107], [51.478664, 0.05958], [51.481322, -0.011016], [51.485938, 0.080505], [51.471014, 0.054771], [51.487133, 0.038066], [51.490457, 0.017471], [51.49117, 0.012604], [51.497392, 0.088807], [51.499584, 0.102019], [51.472298, 0.048205], [51.481263, -0.007562], [51.479505, 0.031966], [51.490016, 0.06859], [51.478621, -0.010846], [51.489882, 0.029978], [51.475047, 0.024567], [51.471212, 0.053772], [51.500458, 0.000622], [51.487258, 0.056654], [51.449509, 0.029626], [51.4749, 0.033057], [51.451031, 0.050707], [51.452552, 0.035662], [51.487792, 0.031182], [51.47678, 0.012691], [51.484287, 0.107509], [51.47365, -0.01999], [51.489809, 0.023781], [51.450059, 0.029074], [51.4797, 0.087422], [51.473491, 0.015714], [51.435382, 0.066121], [51.489728, 0.084855], [51.501335, 0.001957], [51.454346, 0.02034], [51.452839, 0.034667], [51.479438, 0.086978], [51.492745, 0.066841], [51.45626, 0.085633], [51.473961, 0.024951], [51.429574, 0.063989], [51.487166, 0.025824], [51.43866, 0.074039], [51.472578, -0.009813], [51.450792, 0.059188], [51.479443, 0.030379], [51.450373, 0.082918], [51.480878, 0.035771], [51.438441, 0.071151], [51.485571, 0.101086], [51.434349, 0.063484], [51.424993, 0.058603], [51.474808, 0.033197], [51.478417, 0.022124], [51.489269, 0.115518], [51.491039, 0.071806], [51.483844, 0.066727], [51.463707, 0.030256], [51.483053, 0.091032], [51.479593, 0.032113], [51.485687, 0.099651], [51.494723, 0.004693], [51.484449, 0.083318], [51.472293, 0.048493], [51.462699, 0.057133], [51.449969, 0.02907], [51.439691, 0.051206], [51.466778, 0.029528], [51.452542, 0.036237], [51.473081, -0.018287], [51.437687, 0.062915], [51.491161, 0.069939], [51.489961, 0.020186], [51.479338, 0.026053], [51.451302, 0.065976], [51.457615, 0.080224], [51.477841, -0.012608], [51.486022, 0.075756], [51.45493, 0.048867], [51.471477, 0.022969], [51.465275, 0.028022], [51.465789, 0.045034], [51.484941, 0.019244], [51.481921, -0.009262], [51.504405, 0.118957], [51.483309, -0.000992], [51.48197, 0.070963], [51.450714, 0.053428], [51.447436, 0.081201], [51.444994, 0.081953], [51.451973, 0.068741], [51.47947, 0.05976], [51.475901, -0.009524], [51.450646, 0.052129], [51.451822, 0.072189], [51.490698, 0.075824], [51.451856, 0.034336], [51.490667, 0.062281], [51.489181, 0.115369], [51.485338, 0.006586], [51.481802, 0.029187], [51.471012, 0.054915], [51.492977, 0.10935], [51.49666, 0.001897], [51.494664, 0.008148], [51.493455, 0.046848], [51.483999, 0.108504], [51.475095, 0.027017], [51.489407, 0.06741], [51.48696, 0.06341], [51.469997, 0.061493], [51.492747, 0.056469], [51.465969, 0.029492], [51.481634, 0.11502], [51.487312, 0.017332], [51.484117, 0.020072], [51.490365, 0.017611], [51.450619, 0.053711], [51.47167, 0.068624], [51.486123, 0.034132], [51.494265, 0.112724], [51.47971, 0.086847], [51.481943, 0.072546], [51.491726, 0.068524], [51.491317, 0.009298], [51.485977, 0.098512], [51.434709, 0.063501], [51.480665, 0.048004], [51.487802, 0.030606], [51.503599, 0.118775], [51.450598, 0.054862], [51.474298, -0.021114], [51.473881, 0.019187], [51.486004, 0.071722], [51.488959, 0.107724], [51.481884, 0.039993], [51.458692, 0.049755], [51.461159, 0.057783], [51.479116, 0.059456], [51.450629, 0.053136], [51.472963, 0.025483], [51.466001, 0.032805], [51.490788, 0.085912], [51.486634, 0.020183], [51.497479, 0.088955], [51.486094, 0.071726], [51.473827, -0.01451], [51.473018, 0.011805], [51.472894, 0.003304], [51.486509, 0.022194], [51.450705, 0.05904], [51.450112, 0.051817], [51.482802, -0.002886], [51.449959, 0.029646], [51.482324, 0.101657], [51.459369, 0.02632], [51.438892, 0.050595], [51.451028, 0.050851], [51.491081, 0.0126], [51.490547, 0.064005], [51.451965, 0.043552], [51.487098, 0.024525], [51.480788, 0.035767], [51.490293, 0.083441], [51.490634, 0.064153], [51.486089, 0.05156], [51.491838, 0.082503], [51.469031, 0.044747], [51.481986, 0.070099], [51.452867, 0.033085], [51.433718, 0.0636], [51.473713, 0.002764], [51.474203, 0.021362], [51.472894, 0.003304], [51.474024, -0.020838], [51.473366, -0.019139], [51.479482, 0.048815], [51.445323, 0.037643], [51.486805, 0.107481], [51.486034, 0.013242], [51.481008, -0.008438], [51.464921, 0.032901], [51.457597, 0.040349], [51.474903, 0.073955], [51.434896, 0.063077], [51.485016, 0.004411], [51.486094, 0.071726], [51.47616, 0.038153], [51.460322, 0.049108], [51.449509, 0.029626], [51.487742, 0.039246], [51.453164, 0.036697], [51.463485, 0.037876], [51.450787, 0.059476], [51.487887, 0.030898], [51.492672, 0.060787], [51.493661, 0.065874], [51.447377, 0.043635], [51.48278, 0.040177], [51.492046, 0.08597], [51.472316, -0.015584], [51.472488, 0.047637], [51.486421, 0.016861], [51.485953, 0.007477], [51.475243, -0.013153], [51.490751, 0.072801], [51.452717, 0.036533], [51.479908, 0.085848], [51.48047, 0.06427], [51.487056, 0.09352], [51.47235, -0.012271], [51.455132, 0.016488], [51.486679, 0.022778], [51.432182, 0.074177], [51.459621, 0.05829], [51.491226, 0.071382], [51.482083, 0.069672], [51.482485, 0.0622], [51.497815, 0.090267], [51.492789, 0.007345], [51.452717, 0.036533], [51.502654, 0.116282], [51.481853, 0.072542], [51.457477, 0.026524], [51.485775, 0.007325], [51.467804, 0.053187], [51.493876, 0.063867], [51.451965, 0.043552], [51.486681, 0.017448], [51.45842, 0.049887], [51.450512, 0.085227], [51.450326, 0.02923], [51.498552, 0.001691], [51.506455, 0.109973], [51.491661, 0.082351], [51.495127, 0.012635], [51.490139, 0.066723], [51.448014, 0.022507], [51.492832, 0.010085], [51.472168, 0.003704], [51.450634, 0.052848], [51.485605, 0.006742], [51.450148, 0.029078], [51.453445, 0.051535], [51.468597, 0.069493], [51.450059, 0.029074], [51.434963, 0.064375], [51.479341, 0.087406], [51.464957, 0.051475], [51.454379, 0.034016], [51.482703, 0.008199], [51.447759, 0.062938], [51.481754, 0.047476], [51.472705, 0.045487], [51.454641, 0.018914], [51.454149, 0.021339], [51.492675, 0.085998], [51.481007, 0.069479], [51.445604, 0.052479], [51.490838, 0.072949], [51.478327, 0.006422], [51.451079, 0.078632], [51.468217, 0.044998], [51.470909, 0.05563], [51.473881, 0.019187], [51.452827, 0.035386], [51.489817, 0.038906], [51.452645, 0.035522], [51.471853, 0.001098], [51.491006, 0.078719], [51.465974, 0.029205], [51.439607, 0.076384], [51.478067, 0.093253], [51.492098, 0.083091], [51.493381, 0.009532], [51.460077, 0.047658], [51.47947, 0.007913], [51.448393, 0.062678], [51.481256, -0.017788], [51.489945, 0.062393], [51.473479, 0.042354], [51.482717, -0.003178], [51.440858, 0.041042], [51.453251, 0.036845], [51.487261, 0.05651], [51.482083, 0.069672], [51.486047, 0.007193], [51.472783, 0.009779], [51.48696, 0.06341], [51.487319, 0.063427], [51.486063, 0.073453], [51.474331, 0.024391], [51.48548, 0.05038], [51.487546, 0.091238], [51.469405, 0.06449], [51.445468, 0.039664], [51.487165, 0.107498], [51.49274, 0.010225], [51.485865, 0.007329], [51.490583, 0.01013], [51.476769, 0.008082], [51.444453, 0.082073], [51.450825, 0.031555], [51.453438, 0.026058], [51.485482, 0.090999], [51.460628, 0.052145], [51.481755, 0.072969], [51.503738, 0.116044], [51.452827, 0.055969], [51.485212, 0.090987], [51.500703, 0.119793], [51.482149, 0.06593], [51.481758, 0.072825], [51.488541, 0.034672], [51.482081, 0.069816], [51.464957, 0.051475], [51.453253, 0.026337], [51.499407, 0.101867], [51.500975, 0.001942], [51.479047, 0.103811], [51.499525, 0.115272], [51.506371, 0.109681], [51.470922, 0.054911], [51.458782, 0.049759], [51.490248, 0.039934], [51.483397, -0.000844], [51.450646, 0.052129], [51.490431, 0.039798], [51.454356, 0.019765], [51.452635, 0.036098], [51.451274, 0.04712], [51.486072, 0.098229], [51.485063, 0.104376], [51.478081, 0.051776], [51.449689, 0.029634], [51.470509, 0.057916], [51.501776, 0.120131], [51.485666, 0.100803], [51.448106, 0.022367], [51.486853, 0.094807], [51.487615, 0.03103], [51.471191, 0.054923], [51.481225, 0.031322], [51.493664, 0.06573], [51.483289, 0.047113], [51.455162, 0.051036], [51.478167, 0.020961], [51.478348, 0.051932], [51.487303, 0.007393], [51.4653, 0.031766], [51.482805, -0.00303], [51.449871, 0.029498], [51.467686, 0.075211], [51.445967, 0.062569], [51.470402, 0.058919], [51.490324, 0.066443], [51.483754, 0.025529], [51.450736, 0.052133], [51.469026, 0.0243], [51.486051, 0.074173], [51.503879, 0.118212], [51.470099, 0.060778], [51.452844, 0.03438], [51.478634, 0.101776], [51.490455, 0.017615], [51.451168, 0.05316], [51.451031, 0.050707], [51.486853, 0.094807], [51.499404, 0.102011], [51.497833, 0.08926], [51.448106, 0.022367], [51.499899, 0.00175], [51.490852, 0.082314], [51.490669, 0.062137], [51.446292, 0.038838], [51.479952, 0.032129], [51.495554, 0.003433], [51.497559, 0.089535], [51.461249, 0.057787], [51.480106, 0.084848], [51.480213, 0.083845], [51.47317, 0.044644], [51.487229, 0.063423], [51.472897, 0.00316], [51.503121, -0.002574], [51.479438, 0.030666], [51.449491, 0.061576], [51.472748, -0.009229], [51.493794, 0.063431], [51.503956, 0.001208], [51.486124, 0.018432], [51.481635, -0.008266], [51.479468, 0.023755], [51.472378, 0.048784], [51.480814, 0.080416], [51.485975, 0.098656], [51.490818, 0.074101], [51.487045, 0.063702], [51.504821, 0.115806], [51.456663, 0.042323], [51.50331, -0.003142], [51.481905, 0.054252], [51.478955, 0.103951], [51.436789, 0.057695], [51.486004, 0.071722], [51.490431, 0.039798], [51.450601, 0.080193], [51.445303, 0.084846], [51.48127, -0.007994], [51.475691, 0.023732], [51.456355, 0.085349], [51.450645, 0.057311], [51.48298, 0.110185], [51.486444, 0.097525], [51.48241, 0.045921], [51.4868, 0.107769], [51.433014, 0.05249], [51.432894, 0.054211], [51.48617, 0.010512], [51.493936, 0.080869], [51.452984, 0.036689], [51.485353, 0.005722], [51.452269, 0.051914], [51.492675, 0.085998], [51.499353, 0.099847], [51.47478, 0.024411], [51.455142, 0.052187], [51.493678, 0.059824], [51.494295, 0.096013], [51.493102, 0.010096], [51.487317, 0.063571], [51.472843, -0.014841], [51.472654, -0.014273], [51.469099, 0.066492], [51.474111, 0.021502], [51.476422, 0.023044], [51.48118, -0.007998], [51.487497, 0.017052], [51.486153, 0.073457], [51.481387, 0.058118], [51.490273, 0.017751], [51.485356, 0.098052], [51.477366, 0.102293], [51.489233, 0.067114], [51.450634, 0.052848], [51.486278, 0.096798], [51.46071, 0.031994], [51.468409, 0.049471], [51.473721, 0.018028], [51.491684, 0.008882], [51.461867, 0.063574], [51.450304, 0.081763], [51.45684, 0.042475], [51.499206, 0.10301], [51.498918, 0.001275], [51.476494, 0.018871], [51.453446, 0.025626], [51.490027, 0.073057], [51.485018, 0.004267], [51.472894, 0.003304], [51.434884, 0.063796], [51.485036, 0.01896], [51.489848, 0.047407], [51.489633, 0.085139], [51.438985, 0.050455], [51.482352, 0.064643], [51.436482, 0.070055], [51.455141, 0.026421], [51.476956, 0.018171], [51.489459, 0.059346], [51.436631, 0.046177], [51.437871, 0.072852], [51.473472, -0.014814], [51.467086, 0.07864], [51.500764, 0.121381], [51.492492, 0.045364], [51.48832, 0.062752], [51.480986, 0.115998], [51.468592, 0.028601], [51.474208, -0.021118], [51.494167, 0.005677], [51.479017, 0.085375], [51.480524, 0.091637], [51.496082, 0.009363], [51.469135, 0.054255], [51.493577, 0.110963], [51.472488, 0.047637], [51.452645, 0.035522], [51.485682, 0.099939], [51.488314, 0.068225], [51.490688, 0.066172], [51.47503, 0.009878], [51.486962, 0.073494], [51.455499, 0.047165], [51.492638, 0.05243], [51.490755, 0.082741], [51.457023, 0.042339], [51.450321, 0.029518], [51.455701, 0.05106], [51.472801, 0.055427], [51.490365, 0.069182], [51.472955, 0.025914], [51.492591, 0.085706], [51.47303, -0.015265], [51.499676, 0.101879], [51.451673, 0.044835], [51.449774, 0.029925], [51.473813, 0.017888], [51.488827, 0.012933], [51.460489, 0.044653], [51.493547, 0.062123], [51.470089, 0.061353], [51.492215, 0.061199], [51.43726, 0.071817], [51.479633, -0.006913], [51.474047, 0.086732], [51.487478, 0.028575], [51.464516, 0.030292], [51.450601, 0.080193], [51.488619, 0.101659], [51.45258, 0.039262], [51.475898, -0.00938], [51.487495, 0.058537], [51.459009, 0.026304], [51.449964, 0.029358], [51.482462, -0.004053], [51.505108, 0.119854], [51.477015, 0.051008], [51.486586, 0.017732], [51.452824, 0.030349], [51.474201, 0.021505], [51.50257, 0.11599], [51.473118, -0.015117], [51.472724, 0.00272], [51.497808, 0.0031], [51.487558, 0.029155], [51.449966, 0.029214], [51.497905, 0.090271], [51.472651, -0.01413], [51.472591, 0.026186], [51.493574, 0.116149], [51.476654, -0.016836], [51.486172, 0.097657], [51.477023, 0.01947], [51.485018, 0.004267], [51.484766, 0.003248], [51.474076, 0.039068], [51.472885, 0.045495], [51.471498, 0.032186], [51.463795, 0.035587], [51.492927, 0.056477], [51.470851, 0.033165], [51.480339, 0.035747], [51.475606, 0.02344], [51.480816, 0.080272], [51.486763, 0.094803], [51.434799, 0.063505], [51.476562, -0.000855], [51.487181, 0.024961], [51.473491, 0.015714], [51.488726, 0.008319], [51.491578, 0.061602], [51.496016, 0.002733], [51.471007, 0.055203], [51.478282, -0.0015], [51.499229, 0.101715], [51.455125, 0.01692], [51.488351, 0.121525], [51.500854, 0.121385], [51.492312, 0.121277], [51.459451, 0.078149], [51.493123, 0.121171], [51.478873, 0.118493], [51.481408, 0.122499], [51.48617, 0.010512], [51.433718, 0.0636], [51.433626, 0.06374], [51.483242, 0.034292], [51.441956, 0.024398], [51.452819, 0.035818], [51.473566, 0.016581], [51.485692, 0.099363], [51.503028, -0.002434], [51.470951, -0.014635], [51.472338, -0.011551], [51.473403, 0.015566], [51.480946, -0.020682], [51.455227, 0.016205], [51.455426, 0.015062], [51.474121, -0.021266], [51.473491, 0.015714], [51.471772, -0.01532], [51.473051, 0.015119], [51.473491, 0.015714], [51.45582, 0.013064], [51.472716, 0.00848], [51.473491, 0.015714], [51.472943, -0.015413], [51.472943, -0.015413], [51.455137, 0.016201], [51.472763, -0.015421], [51.472606, 0.009627], [51.480853, -0.020542], [51.433573, 0.051364], [51.474443, 0.0231], [51.458455, 0.078535], [51.480943, -0.020538], [51.486575, 0.090185], [51.49086, 0.07684], [51.439443, 0.075513], [51.480727, 0.09035], [51.456411, 0.041304], [51.481974, 0.039997], [51.446506, 0.062593], [51.4715, 0.032042], [51.490321, 0.066587], [51.480863, -0.021118], [51.482081, 0.044178], [51.490878, 0.065604], [51.434711, 0.063357], [51.440653, 0.078302], [51.49076, 0.082453], [51.475095, 0.027017], [51.452852, 0.033948], [51.496388, 0.002029], [51.486165, 0.067696], [51.450736, 0.052133], [51.482371, 0.068676], [51.438166, 0.071427], [51.449969, 0.02907], [51.469047, 0.054107], [51.500705, 0.119649], [51.49027, 0.017895], [51.454641, 0.018914], [51.490488, 0.082585], [51.478326, 0.063453], [51.473876, 0.024659], [51.45078, 0.059907], [51.486001, 0.015114], [51.468934, 0.02444], [51.487941, 0.01736], [51.453348, 0.026054], [51.479891, 0.014844], [51.449784, 0.02935], [51.477749, -0.012468], [51.480431, 0.035607], [51.478786, 0.118345], [51.485775, 0.007325], [51.493663, 0.060688], [51.451096, 0.052149], [51.485198, 0.106831], [51.49017, 0.018467], [51.458063, 0.059947], [51.474773, 0.009146], [51.451976, 0.068597], [51.466069, 0.028921], [51.479275, 0.024466], [51.445171, 0.030872], [51.486766, 0.01774], [51.481853, 0.072542], [51.485458, 0.102378], [51.486855, 0.094663], [51.482083, 0.069672], [51.4827, 0.008343], [51.488584, 0.073279], [51.49216, 0.048951], [51.484392, 0.071361], [51.492217, 0.061055], [51.430742, 0.053827], [51.486004, 0.01497], [51.490298, 0.067883], [51.492591, 0.085706], [51.500079, 0.001758], [51.449491, 0.061576], [51.473821, 0.043377], [51.476442, 0.09361], [51.460766, 0.049416], [51.487541, 0.091526], [51.474089, 0.038349], [51.485955, 0.007333], [51.434616, 0.06364], [51.499093, 0.001571], [51.490669, 0.062137], [51.443485, 0.080877], [51.481153, 0.101747], [51.490389, 0.072929], [51.451336, 0.048706], [51.48798, 0.030758], [51.503879, 0.118212], [51.481695, 0.101628], [51.473368, -0.019282], [51.481968, 0.071107], [51.473518, 0.086132], [51.48841, 0.062756], [51.473079, -0.018143], [51.474825, -0.020371], [51.491786, 0.060027], [51.481234, 0.122203], [51.473759, -0.021137], [51.453235, 0.063472], [51.487263, 0.056366], [51.482086, 0.069528], [51.450053, 0.060306], [51.487699, 0.015765], [51.452844, 0.03438], [51.458113, 0.077512], [51.501692, 0.002117], [51.487546, 0.091238], [51.485669, 0.100659], [51.462776, 0.026903], [51.450634, 0.052848], [51.502506, 0.114546], [51.448531, 0.023825], [51.478955, 0.103951], [51.490641, 0.073949], [51.48617, 0.010512], [51.450651, 0.051842], [51.481213, -0.015198], [51.472168, 0.003704], [51.4604, 0.044649], [51.493954, 0.094989], [51.450061, 0.028931], [51.488541, 0.034672], [51.489567, 0.037743], [51.487391, 0.028427], [51.484812, 0.113295], [51.492628, 0.053006], [51.486036, 0.013098], [51.435213, 0.065538], [51.448945, 0.025859], [51.4797, 0.102545], [51.487456, 0.091234], [51.486568, 0.01874], [51.507285, 0.108858], [51.492842, 0.056185], [51.483312, 0.101703], [51.450841, 0.051274], [51.450872, 0.028823], [51.450642, 0.062636], [51.485692, 0.099363], [51.448011, 0.022651], [51.454938, 0.043253], [51.479203, 0.059604], [51.451096, 0.052149], [51.4784, 0.104789], [51.49296, 0.080105], [51.484664, 0.106518], [51.486564, 0.019027], [51.484589, 0.003096], [51.468187, 0.072354], [51.490139, 0.066723], [51.452712, 0.036821], [51.450636, 0.052704], [51.434711, 0.063357], [51.490166, 0.039498], [51.486051, 0.012235], [51.451583, 0.044831], [51.450634, 0.052848], [51.450642, 0.062636], [51.489375, 0.074323], [51.481017, 0.08417], [51.441488, 0.051287], [51.476555, 0.010089], [51.460402, 0.044505], [51.473809, 0.038912], [51.450233, 0.02937], [51.494964, 0.011619], [51.452179, 0.05191], [51.492582, 0.045369], [51.450505, 0.060183], [51.480946, -0.020682], [51.471012, 0.054915], [51.478764, 0.022859], [51.486989, 0.066869], [51.490634, 0.064153], [51.47294, -0.015269], [51.472798, 0.008916], [51.489764, 0.021186], [51.476926, 0.019898], [51.472748, 0.022305], [51.448099, 0.022799], [51.478876, 0.118349], [51.458386, 0.031171], [51.47294, -0.015269], [51.484008, 0.026404], [51.485829, 0.050972], [51.4885, 0.06276], [51.480946, -0.020682], [51.479532, -0.016855], [51.453348, 0.026054], [51.490722, 0.048887], [51.497378, 0.001928], [51.480344, 0.035459], [51.486566, 0.018884], [51.486094, 0.071726], [51.509437, 0.11919], [51.480485, 0.047996], [51.490672, 0.061993], [51.457746, 0.026536], [51.490933, 0.072666], [51.477936, 0.105632], [51.477972, 0.083455], [51.454543, 0.019341], [51.435804, 0.067723], [51.440221, 0.077275], [51.453643, 0.024627], [51.470402, 0.058919], [51.492593, 0.06525], [51.452179, 0.05191], [51.451342, 0.032873], [51.486004, 0.01497], [51.491836, 0.082647], [51.482032, 0.07255], [51.48595, 0.007621], [51.481322, -0.011016], [51.48748, 0.028431], [51.477499, -0.013631], [51.481178, -0.007854], [51.450342, 0.05413], [51.450059, 0.029074], [51.48215, 0.070971], [51.480861, -0.020974], [51.440859, 0.051259], [51.484161, 0.001781], [51.485885, 0.098652], [51.487957, 0.037239], [51.486063, 0.073453], [51.453251, 0.036845], [51.488503, 0.062616], [51.489582, 0.021322], [51.493574, 0.065726], [51.485458, 0.102378], [51.463573, 0.038024], [51.481331, -0.011592], [51.480809, 0.090786], [51.451263, 0.047695], [51.439374, 0.048746], [51.492226, 0.085978], [51.446326, 0.062585], [51.439377, 0.048602], [51.483519, 0.11021], [51.485253, 0.083643], [51.484506, 0.002661], [51.486227, 0.007201], [51.486086, 0.015405], [51.477924, -0.012172], [51.455329, 0.01549], [51.48839, 0.01738], [51.487885, 0.031042], [51.450138, 0.029654], [51.448863, 0.025423], [51.45503, 0.048295], [51.483206, 0.020752], [51.454641, 0.018914], [51.487248, 0.092809], [51.506804, 0.110566], [51.491019, 0.078], [51.450415, 0.060179], [51.473581, 0.015718], [51.451269, 0.047407], [51.474038, 0.02049], [51.472357, 0.055119], [51.490493, 0.082297], [51.486875, 0.108637], [51.478645, 0.014069], [51.509299, 0.116878], [51.495277, 0.003853], [51.481021, -0.014486], [51.485482, 0.050236], [51.455747, 0.032925], [51.485091, 0.005279], [51.482081, 0.069816], [51.441848, 0.051303], [51.454054, 0.021623], [51.475219, 0.030191], [51.443448, 0.052382], [51.479892, 0.030398], [51.448446, 0.023534], [51.490024, 0.068159], [51.431377, 0.063782], [51.489448, 0.085419], [51.475047, 0.024567], [51.48696, 0.06341], [51.481366, 0.054228], [51.461303, 0.049584], [51.49276, 0.009073], [51.478894, 0.087242], [51.489818, 0.084859], [51.435368, 0.061804], [51.490937, 0.082606], [51.471048, 0.068164], [51.500213, 0.086919], [51.459282, 0.026172], [51.489854, 0.026375], [51.474121, -0.021266], [51.481033, -0.009877], [51.476272, 0.108147], [51.488927, 0.064075], [51.482315, 0.061616], [51.486004, 0.071722], [51.487395, 0.028139], [51.450054, 0.0806], [51.509293, 0.117166], [51.495654, 0.002861], [51.485566, 0.101374], [51.479417, 0.103252], [51.459955, 0.049524], [51.462819, 0.02964], [51.485666, 0.100803], [51.47905, 0.103667], [51.469296, 0.024312], [51.478759, 0.043886], [51.490079, 0.105471], [51.481712, 0.008299], [51.455017, 0.049015], [51.496018, 0.002589], [51.496837, 0.002048], [51.48994, 0.010966], [51.495277, 0.003853], [51.45498, 0.051172], [51.467183, 0.052727], [51.490846, 0.072517], [51.488525, 0.06132], [51.445245, 0.052463], [51.481755, 0.072969], [51.491249, 0.070087], [51.497563, 0.001648], [51.486475, 0.090757], [51.451274, 0.04712], [51.478423, 0.063025], [51.453079, 0.036405], [51.48748, 0.028431], [51.491159, 0.070083], [51.48908, 0.008623], [51.49518, 0.004281], [51.460923, 0.050719], [51.490847, 0.082602], [51.437435, 0.072113], [51.482201, 0.03727], [51.4548, 0.051164], [51.481366, -0.013607], [51.488673, 0.088553], [51.450231, 0.029514], [51.451327, 0.028555], [51.452645, 0.035522], [51.489839, 0.068438], [51.48205, 0.111871], [51.451336, 0.048706], [51.450049, 0.02965], [51.458298, 0.077232], [51.45732, 0.081651], [51.460826, 0.051146], [51.458298, 0.077232], [51.497378, 0.001928], [51.456935, 0.026644], [51.474922, -0.010143], [51.496395, 0.079109], [51.450736, 0.052133], [51.47983, 0.007928], [51.487541, 0.091526], [51.49302, 0.009661], [51.481948, 0.072258], [51.48608, 0.010508], [51.452984, 0.036689], [51.490652, 0.063145], [51.451051, 0.064957], [51.454913, 0.049873], [51.475322, 0.029475], [51.47877, 0.10423], [51.48696, 0.06341], [51.48617, 0.010512], [51.492652, 0.066981], [51.490923, 0.052785], [51.483479, -0.000408], [51.490047, 0.066863], [51.480788, 0.035767], [51.439877, 0.076396], [51.476142, 0.018423], [51.474615, 0.02354], [51.454641, 0.018914], [51.48223, 0.061325], [51.486416, 0.017148], [51.490746, 0.073089], [51.488786, 0.092303], [51.457023, 0.042339], [51.48608, 0.097797], [51.471012, 0.054915], [51.482847, 0.062073], [51.46077, 0.054311], [51.492403, 0.08613], [51.45247, 0.040408], [51.489821, 0.023061], [51.482149, 0.06593], [51.485863, 0.007473], [51.448096, 0.022943], [51.454152, 0.021195], [51.496747, 0.002045], [51.486742, 0.090913], [51.495464, 0.003429], [51.48215, 0.070971], [51.479453, 0.029803], [51.489889, 0.008659], [51.490667, 0.062281], [51.487993, 0.116467], [51.492245, 0.018126], [51.49293, 0.056333], [51.484482, 0.0198], [51.47509, 0.027305], [51.471565, 0.023117], [51.483224, -0.001283], [51.453251, 0.036845], [51.469997, 0.061493], [51.489577, 0.067994], [51.460363, 0.036442], [51.450767, 0.060626], [51.474216, 0.092356], [51.481674, 0.036527], [51.472496, -0.010248], [51.477093, 0.015441], [51.479248, 0.036419], [51.481544, 0.069647], [51.501995, 0.112937], [51.48991, 0.08472], [51.487264, 0.014881], [51.473338, 0.014123], [51.487229, 0.063423], [51.440769, 0.051255], [51.467982, 0.053339], [51.469927, 0.024196], [51.471271, 0.065726], [51.434709, 0.063501], [51.483227, -0.001427], [51.490668, 0.082593], [51.486581, 0.01802], [51.47971, 0.086847], [51.489179, 0.085407], [51.480013, 0.084988], [51.47934, 0.025909], [51.477841, 0.105916], [51.481298, -0.014906], [51.486416, 0.017148], [51.489907, 0.03891], [51.481247, -0.017213], [51.486683, 0.017304], [51.472293, 0.048493], [51.438985, 0.050455], [51.445084, 0.081957], [51.4548, 0.051164], [51.471012, 0.054915], [51.452717, 0.031351], [51.493551, 0.010116], [51.485028, 0.019392], [51.497468, 0.001932], [51.486616, 0.02119], [51.475217, 0.030335], [51.48832, 0.062752], [51.478661, 0.059723], [51.455214, 0.053198], [51.489667, 0.067998], [51.453166, 0.036553], [51.482963, 0.091028], [51.484846, 0.003828], [51.47561, 0.089828], [51.454047, 0.022054], [51.48065, 0.089626], [51.486805, 0.107481], [51.469225, 0.054259], [51.491716, 0.043457], [51.487641, 0.065602], [51.486616, 0.02119], [51.486953, 0.094236], [51.462557, 0.029197], [51.485436, 0.032229], [51.453734, 0.065798], [51.481327, -0.011304], [51.48498, 0.063465], [51.47365, -0.014662], [51.489443, 0.065395], [51.473682, 0.087004], [51.472258, -0.012131], [51.472396, 0.047777], [51.481874, 0.040568], [51.480431, 0.035607], [51.487391, 0.028427], [51.487546, 0.091238], [51.474423, 0.024251], [51.450469, 0.051977], [51.489817, 0.038906], [51.49399, 0.005525], [51.467876, 0.028425], [51.49086, 0.081882], [51.490903, 0.079435], [51.469485, 0.044479], [51.494564, 0.121093], [51.491836, 0.082647], [51.458991, 0.078704], [51.450049, 0.02965], [51.484249, 0.001929], [51.481534, -0.002366], [51.450236, 0.029226], [51.480121, 0.083985], [51.487251, 0.092665], [51.473594, 0.025367], [51.451469, 0.066703], [51.488227, 0.068077], [51.478009, -0.011881], [51.471012, 0.054915], [51.499183, 0.001575], [51.490929, 0.077995], [51.471012, 0.054915], [51.472894, 0.003304], [51.471009, 0.055059], [51.433718, 0.0636], [51.48779, 0.031326], [51.452894, 0.036685], [51.498734, 0.089157], [51.476312, 0.060338], [51.460679, 0.049268], [51.486835, 0.115837], [51.487082, 0.015017], [51.490219, 0.067303], [51.472871, 0.009927], [51.479392, 0.048811], [51.448271, 0.023238], [51.48782, 0.080879], [51.469511, 0.02749], [51.481634, 0.11502], [51.491183, 0.053373], [51.482118, -0.004933], [51.487391, 0.028427], [51.451079, 0.078632], [51.503791, 0.118064], [51.45301, 0.066053], [51.481976, 0.070675], [51.506455, 0.109973], [51.479932, 0.069286], [51.451274, 0.04712], [51.487641, 0.090954], [51.474685, 0.008999], [51.450629, 0.053136], [51.491751, 0.082355], [51.479482, 0.048815], [51.47944, 0.030522], [51.492134, 0.065805], [51.49348, 0.060824], [51.492805, 0.053158], [51.483696, 0.034024], [51.479248, 0.036419], [51.479605, 0.102828], [51.472841, -0.014697], [51.489356, 0.085559], [51.460102, 0.046219], [51.434796, 0.063648], [51.461733, 0.030024], [51.486348, 0.052148], [51.486881, 0.031861], [51.437224, 0.07383], [51.4803, 0.05346], [51.475105, 0.087933], [51.458013, 0.078083], [51.474688, 0.024551], [51.481234, 0.122203], [51.495182, 0.004137], [51.482805, -0.00303], [51.454149, 0.021339], [51.486416, 0.017148], [51.481874, 0.101637], [51.498023, 0.088692], [51.455986, 0.045027], [51.46638, 0.082927], [51.4813, -0.01505], [51.493388, 0.060964], [51.445281, 0.040088], [51.476423, 0.033413], [51.447642, 0.02321], [51.480459, 0.05462], [51.492378, 0.067257], [51.500492, 0.121513], [51.474942, 0.025426], [51.473827, -0.019839], [51.489213, 0.113642], [51.450233, 0.02937], [51.487263, 0.056366], [51.454224, 0.083813], [51.483838, 0.025821], [51.487789, 0.015769], [51.450059, 0.029074], [51.480819, 0.080128], [51.475633, 0.088533], [51.48272, -0.003322], [51.440356, 0.044041], [51.474298, 0.03663], [51.459861, 0.03426], [51.472234, 0.026026], [51.490788, 0.085912], [51.455369, 0.054644], [51.44933, 0.080855], [51.474777, 0.024555], [51.466183, 0.027486], [51.491589, 0.009165], [51.434029, 0.066348], [51.482149, 0.06593], [51.487927, 0.007708], [51.486439, 0.08773], [51.480943, -0.020538], [51.475217, 0.030335], [51.489552, 0.069434], [51.488696, 0.066946], [51.46086, 0.054315], [51.497479, 0.088955], [51.492882, 0.007205], [51.450328, 0.029086], [51.452917, 0.03539], [51.450736, 0.052133], [51.496113, 0.002305], [51.480658, 0.022511], [51.491836, 0.082647], [51.494167, 0.005677], [51.454551, 0.01891], [51.489899, 0.023785], [51.469102, 0.066348], [51.456445, 0.085353], [51.488322, 0.067793], [51.451006, 0.052145], [51.479047, 0.103811], [51.439702, 0.076101], [51.48197, 0.070963], [51.483474, 0.031278], [51.472943, -0.015413], [51.475179, 0.027309], [51.450653, 0.056879], [51.452647, 0.035378], [51.498328, 0.004275], [51.489245, 0.101831], [51.480172, 0.076066], [51.486339, 0.016425], [51.474952, 0.024851], [51.47759, 0.023096], [51.48272, -0.003322], [51.483649, 0.000174], [51.460222, 0.04968], [51.506371, 0.109681], [51.472486, 0.006166], [51.47486, 0.024991], [51.481157, 0.076255], [51.458827, 0.036805], [51.486946, 0.109648], [51.481331, -0.011592], [51.479705, 0.087135], [51.47334, 0.055452], [51.485778, 0.007181], [51.493561, 0.00954], [51.434801, 0.063361], [51.486132, 0.018], [51.48197, 0.070963], [51.48832, 0.062752], [51.453346, 0.026197], [51.450736, 0.052133], [51.474503, 0.035199], [51.472391, 0.048065], [51.448485, 0.062539], [51.452585, 0.054375], [51.463888, 0.050852], [51.493665, 0.003494], [51.469047, 0.054107], [51.461174, 0.041516], [51.490095, 0.08444], [51.479418, 0.098211], [51.499892, 0.084743], [51.487501, 0.073518], [51.493104, 0.009952], [51.496295, 0.002169], [51.4824, 0.061908], [51.489841, 0.021909], [51.479353, 0.02519], [51.465999, 0.032949], [51.492265, 0.048091], [51.469599, 0.063635], [51.461456, 0.030444], [51.471614, 0.051342], [51.454438, 0.051292], [51.481852, 0.036679], [51.482672, 0.046365], [51.444725, 0.081941], [51.490867, 0.076408], [51.48073, 0.090206], [51.48056, 0.089622], [51.480814, 0.080416], [51.449911, 0.058141], [51.452602, 0.027604], [51.460489, 0.044653], [51.480214, 0.088886], [51.466503, 0.029804], [51.473827, -0.01451], [51.462946, 0.027487], [51.477281, 0.107042], [51.43605, 0.048597], [51.441486, 0.051431], [51.487123, 0.007385], [51.440949, 0.051263], [51.477434, -0.015074], [51.45255, 0.035806], [51.432947, 0.061407], [51.485751, 0.101095], [51.486151, 0.073601], [51.436457, 0.045882], [51.501933, 0.116392], [51.47952, 0.031102], [51.477049, 0.023216], [51.433932, 0.066775], [51.478639, 0.101488], [51.492937, 0.055901], [51.487896, 0.061292], [51.482397, 0.062052], [51.467171, 0.078931], [51.463416, 0.057309], [51.470834, 0.054763], [51.453076, 0.036549], [51.495085, 0.004565], [51.455139, 0.052331], [51.492098, 0.083091], [51.472491, 0.005878], [51.481689, 0.061444], [51.436883, 0.072807], [51.484865, 0.105375], [51.473531, 0.0029], [51.487638, 0.091098], [51.496358, 0.121321], [51.475273, 0.108677], [51.492764, 0.121154], [51.495999, 0.121304], [51.48861, 0.122113], [51.493123, 0.121171], [51.488523, 0.121965], [51.481234, 0.122203], [51.458256, 0.074495], [51.481231, 0.122347], [51.499064, 0.12087], [51.466473, 0.082787], [51.456922, 0.083792], [51.480858, -0.02083], [51.455137, 0.016201], [51.455137, 0.016201], [51.472338, -0.011551], [51.447554, 0.023063], [51.471858, 0.000811], [51.473491, 0.015714], [51.455037, 0.016772], [51.450782, 0.059764], [51.434791, 0.063936], [51.480319, 0.082986], [51.468597, 0.069493], [51.450732, 0.06264], [51.486626, 0.020615], [51.481853, 0.072542], [51.487751, 0.084765], [51.473931, 0.021494], [51.458633, 0.03766], [51.48561, 0.083803], [51.481171, -0.01808], [51.482892, -0.002882], [51.489881, 0.024792], [51.473961, 0.035319], [51.489794, 0.02983], [51.481397, -0.010149], [51.488301, 0.017376], [51.480339, 0.101998], [51.463348, 0.03024], [51.432094, 0.058779], [51.443268, 0.052374], [51.490749, 0.072945], [51.474598, 0.034915], [51.487543, 0.091382], [51.434134, 0.065489], [51.487699, 0.015765], [51.45533, 0.046581], [51.472943, -0.015413], [51.45712, 0.082793], [51.498195, 0.001532], [51.449042, 0.025431], [51.46193, 0.075238], [51.478843, 0.044178], [51.449584, 0.061437], [51.461735, 0.02988], [51.486414, 0.017292], [51.453256, 0.026193], [51.481457, -0.008418], [51.450658, 0.056592], [51.492764, 0.121154], [51.474503, 0.024831], [51.479846, 0.048543], [51.450643, 0.057454], [51.450796, 0.064082], [51.499528, 0.115128], [51.452842, 0.034523], [51.449871, 0.029498], [51.461161, 0.05764], [51.490719, 0.064445], [51.492165, 0.048663], [51.456192, 0.012361], [51.438333, 0.051721], [51.451276, 0.046976], [51.491083, 0.012457], [51.485263, 0.005719], [51.45489, 0.051168], [51.439077, 0.050315], [51.472488, 0.047637], [51.450749, 0.051414], [51.469202, 0.065777], [51.47554, 0.016812], [51.456656, 0.042754], [51.488495, 0.063048], [51.49267, 0.086286], [51.480866, -0.021262], [51.484161, 0.001781], [51.477669, -0.013047], [51.449459, 0.027321], [51.490851, 0.07223], [51.491222, 0.066484], [51.478653, 0.018822], [51.460581, 0.049696], [51.477077, -0.015233], [51.496388, 0.002029], [51.483753, 0.020344], [51.49783, 0.001804], [51.486631, 0.020327], [51.458476, 0.031175], [51.485368, 0.102373], [51.475962, -0.01845], [51.474888, -0.013456], [51.472611, 0.009339], [51.481179, -0.018512], [51.48696, 0.06341], [51.471012, 0.054915], [51.469937, 0.044355], [51.486061, 0.011659], [51.492317, 0.045069], [51.473798, 0.018752], [51.481868, 0.061452], [51.481155, 0.076399], [51.451006, 0.052145], [51.478954, 0.032661], [51.488408, 0.0629], [51.503879, 0.118212], [51.457195, 0.042778], [51.482109, 0.000827], [51.472987, 0.003164], [51.472943, -0.015413], [51.457372, 0.04293], [51.483339, 0.110202], [51.489902, 0.039198], [51.483432, 0.110062], [51.487619, 0.071939], [51.481258, 0.065457], [51.481178, -0.007854], [51.44342, 0.064181], [51.481258, 0.065457], [51.492379, 0.051842], [51.451583, 0.044831], [51.497468, 0.001932], [51.471904, 0.045019], [51.49829, 0.088848], [51.48617, 0.010512], [51.480986, 0.090938], [51.489989, 0.105467], [51.491147, 0.008714], [51.488018, 0.089963], [51.471009, 0.055059], [51.474738, -0.020519], [51.488213, 0.017228], [51.478617, 0.067354], [51.450545, 0.083357], [51.485518, 0.006594], [51.483819, 0.000758], [51.490414, 0.066448], [51.487261, 0.05651], [51.488625, 0.12125], [51.47294, -0.015269], [51.476524, 0.022328], [51.487258, 0.056654], [51.491836, 0.082647], [51.480772, 0.072637], [51.486803, 0.107625], [51.453265, 0.051527], [51.462639, 0.029632], [51.493709, 0.063139], [51.466183, 0.027486], [51.474598, 0.034915], [51.496141, 0.118429], [51.487099, 0.091073], [51.486004, 0.071722], [51.460102, 0.046219], [51.474203, 0.021362], [51.487009, 0.091069], [51.481438, -0.007267], [51.491019, 0.078], [51.486316, 0.01772], [51.495931, 0.002441], [51.486309, 0.018152], [51.475599, 0.023871], [51.490703, 0.075536], [51.485999, 0.051556], [51.48272, -0.003322], [51.453528, 0.026062], [51.452849, 0.034092], [51.499758, 0.102315], [51.488213, 0.017228], [51.49226, 0.048379], [51.486091, 0.015117], [51.493668, 0.0604], [51.485436, 0.006158], [51.493964, 0.0486], [51.472168, 0.003704], [51.489158, 0.086558], [51.473652, -0.020134], [51.487098, 0.024525], [51.493663, 0.060688], [51.482006, 0.038126], [51.503287, 0.111123], [51.48958, 0.06785], [51.476072, 0.089129], [51.429664, 0.063993], [51.479106, 0.023883], [51.477501, 0.023092], [51.482805, -0.00303], [51.48858, 0.06334], [51.4885, 0.06276], [51.506802, 0.11071], [51.491716, 0.043457], [51.472708, 0.008912], [51.490746, 0.073089], [51.47948, 0.02822], [51.479885, 0.036015], [51.462993, 0.029936], [51.484844, 0.019672], [51.509293, 0.117166], [51.471614, 0.051342], [51.479026, 0.059452], [51.438046, 0.062932], [51.498064, 0.091431], [51.493573, 0.121191], [51.470807, 0.056346], [51.451274, 0.04712], [51.452857, 0.03366], [51.491117, 0.082614], [51.452645, 0.035522], [51.483193, 0.073035], [51.482106, -0.014871], [51.455217, 0.047872], [51.45703, 0.041907], [51.451779, 0.074634], [51.451234, 0.028695], [51.458356, 0.03808], [51.451271, 0.047263], [51.473504, 0.025363], [51.491207, 0.082618], [51.480307, 0.053029], [51.496295, 0.002169], [51.478887, 0.010479], [51.474501, 0.035343], [51.452298, 0.034787], [51.484002, 0.10836], [51.490929, 0.077995], [51.439077, 0.050315], [51.493455, 0.062263], [51.486177, 0.097369], [51.494908, 0.004413], [51.493575, 0.06054], [51.499263, 0.114828], [51.493656, 0.009256], [51.487549, 0.091094], [51.490683, 0.08173], [51.477233, 0.022936], [51.450734, 0.052277], [51.481848, 0.07283], [51.476943, 0.018891], [51.453246, 0.026769], [51.466643, 0.026931], [51.474042, 0.09206], [51.447761, 0.062794], [51.455626, 0.013919], [51.480946, -0.020682], [51.438458, 0.049712], [51.474399, 0.08718], [51.48577, 0.007613], [51.500131, 0.086483], [51.475319, 0.029619], [51.478764, 0.022859], [51.450795, 0.059044], [51.47808, 0.102614], [51.48705, 0.063415], [51.481366, -0.013607], [51.489992, 0.105323], [51.447938, 0.062946], [51.456125, 0.052519], [51.48595, 0.007621], [51.469502, 0.064062], [51.43735, 0.071821], [51.4751, 0.026729], [51.45386, 0.022478], [51.485441, 0.098344], [51.481331, -0.011592], [51.433538, 0.063592], [51.493664, 0.06573], [51.479251, 0.036275], [51.437435, 0.072113], [51.440478, 0.078007], [51.486041, 0.012811], [51.472851, -0.015273], [51.473479, 0.042354], [51.454538, 0.019629], [51.485863, 0.007473], [51.472093, 0.002837], [51.488433, 0.121961], [51.478438, 0.051936], [51.453436, 0.026201], [51.47934, 0.025909], [51.452804, 0.036681], [51.493298, 0.06096], [51.482406, 0.097052], [51.476956, 0.090033], [51.487534, 0.071647], [51.487235, 0.016608], [51.472333, -0.011263], [51.47739, 0.019054], [51.490786, 0.065744], [51.480624, 0.080983], [51.493298, 0.06096], [51.461161, 0.05764], [51.493293, 0.061247], [51.475412, 0.029479], [51.488927, 0.064075], [51.48498, 0.063465], [51.485949, 0.018136], [51.453747, 0.023768], [51.49084, 0.057535], [51.482078, 0.069959], [51.456076, 0.045031], [51.455986, 0.045027], [51.452179, 0.05191], [51.476858, 0.013414], [51.485518, 0.083943], [51.491078, 0.012744], [51.496644, 0.080272], [51.48135, -0.007414], [51.448948, 0.025715], [51.481818, 0.002111], [51.48561, 0.083803], [51.482081, 0.069816], [51.457336, 0.050126], [51.490636, 0.064009], [51.471818, 0.055095], [51.48696, 0.06341], [51.455153, 0.07709], [51.472853, -0.015417], [51.471782, 0.046886], [51.45471, 0.05116], [51.489839, 0.068438], [51.473481, 0.047394], [51.467981, 0.073785], [51.483312, 0.101703], [51.478575, 0.012914], [51.47494, 0.009874], [51.45473, 0.018918], [51.442376, 0.036505], [51.481016, -0.019527], [51.493465, 0.061687], [51.492038, 0.061047], [51.437435, 0.072113], [51.486423, 0.016717], [51.438897, 0.050307], [51.487928, 0.089959], [51.505108, 0.119854], [51.462953, 0.027055], [51.485412, 0.084803], [51.452742, 0.029913], [51.462776, 0.026903], [51.490847, 0.082602], [51.452917, 0.03539], [51.459282, 0.026172], [51.469047, 0.054107], [51.495926, 0.002729], [51.486244, 0.016709], [51.445266, 0.081822], [51.462776, 0.026903], [51.487428, 0.11284], [51.481234, 0.122203], [51.475412, 0.029479], [51.451141, 0.049561], [51.487142, 0.016748], [51.485569, 0.10123], [51.4747, 0.0342], [51.474898, 0.033201], [51.480793, -0.022273], [51.481759, 0.036819], [51.459865, 0.04952], [51.490087, 0.084872], [51.486183, 0.009792], [51.485948, 0.007765], [51.481958, 0.061456], [51.482006, -0.00897], [51.490942, 0.082318], [51.492492, 0.045364], [51.498374, 0.00154], [51.490212, 0.010834], [51.456456, 0.043897], [51.46654, 0.027646], [51.453256, 0.036557], [51.453254, 0.036701], [51.49275, 0.056325], [51.473512, 0.024931], [51.437522, 0.072261], [51.4813, -0.01505], [51.456586, 0.041599], [51.486416, 0.017148], [51.476767, 0.008226], [51.475, -0.020076], [51.468462, 0.046449], [51.479503, 0.032109], [51.470919, 0.055055], [51.45683, 0.083931], [51.474438, 0.023388], [51.483306, 0.071743], [51.487266, 0.056222], [51.485183, 0.005139], [51.472391, 0.048065], [51.453446, 0.025626], [51.480876, 0.056511], [51.500975, 0.001942], [51.475818, 0.026761], [51.488113, 0.089679], [51.437561, 0.054708], [51.453538, 0.025486], [51.48137, 0.074392], [51.488626, 0.034964], [51.450136, 0.029797], [51.482483, 0.097776], [51.437617, 0.071977], [51.459442, 0.058282], [51.437417, 0.062903], [51.462014, 0.050048], [51.489889, 0.008659], [51.44587, 0.083288], [51.477957, 0.069053], [51.484048, 0.008402], [51.486316, 0.01772], [51.438533, 0.071011], [51.486404, 0.017868], [51.470399, 0.059063], [51.463353, 0.029952], [51.464608, 0.030152], [51.455217, 0.047872], [51.489931, 0.068298], [51.447853, 0.052436], [51.477775, 0.022816], [51.492563, 0.066977], [51.471099, 0.055063], [51.487414, 0.016616], [51.450936, 0.050991], [51.497831, 0.089403], [51.484115, 0.020216], [51.497127, 0.088507], [51.491024, 0.077712], [51.473661, 0.016298], [51.434796, 0.063648], [51.459987, 0.047654], [51.443178, 0.05237], [51.490066, 0.029698], [51.450872, 0.028823], [51.459987, 0.047654], [51.490766, 0.009994], [51.47294, -0.015269], [51.431466, 0.063786], [51.456558, 0.043182], [51.48276, 0.046513], [51.479338, 0.026053], [51.481179, -0.018512], [51.460134, 0.049532], [51.468108, 0.030595], [51.486166, 0.015985], [51.452717, 0.036533], [51.474697, 0.023976], [51.475613, 0.017824], [51.482009, -0.009114], [51.450136, 0.029797], [51.486061, 0.073597], [51.489353, 0.085703], [51.481257, 0.075683], [51.485937, 0.003155], [51.491168, 0.012748], [51.440049, 0.076836], [51.437946, 0.053286], [51.450236, 0.029226], [51.487089, 0.05607], [51.48832, 0.062752], [51.473278, -0.019286], [51.493574, 0.065726], [51.486591, 0.017444], [51.491838, 0.082503], [51.466826, 0.052567], [51.454349, 0.020196], [51.473366, -0.019139], [51.451637, 0.05203], [51.490778, 0.081446], [51.450601, 0.080193], [51.487316, 0.027559], [51.501244, 0.119674], [51.480703, -0.022277], [51.493918, 0.086919], [51.48935, 0.008635], [51.478878, 0.01624], [51.483675, 0.071184], [51.484674, 0.003388], [51.489159, 0.111623], [51.473491, 0.015714], [51.452827, 0.035386], [51.432762, 0.071901], [51.498734, 0.001555], [51.48779, 0.031326], [51.47914, 0.021868], [51.483904, 0.108788], [51.451274, 0.04712], [51.450736, 0.052133], [51.461828, 0.075953], [51.501002, 0.000358], [51.482059, 0.065926], [51.475285, 0.010753], [51.487638, 0.091098], [51.482152, 0.065786], [51.499101, 0.001139], [51.481866, 0.041], [51.487031, 0.038782], [51.451135, 0.065249], [51.486475, 0.095798], [51.436916, 0.070938], [51.48957, 0.011526], [51.496929, 0.084464], [51.491838, 0.082503], [51.490656, 0.073085], [51.438441, 0.071151], [51.474036, 0.020634], [51.457594, 0.040493], [51.489934, 0.021769], [51.492765, 0.055461], [51.482056, 0.045618], [51.450644, 0.062492], [51.479293, 0.059608], [51.460555, 0.03573], [51.482975, -0.002447], [51.489834, 0.068726], [51.492851, 0.060795], [51.491688, 0.050226], [51.438089, 0.045091], [51.441845, 0.051447], [51.449965, 0.080596], [51.472333, -0.011263], [51.445266, 0.081822], [51.437651, 0.054712], [51.493564, 0.009396], [51.48009, 0.095794], [51.502503, 0.002009], [51.492408, 0.085842], [51.475447, -0.014584], [51.472781, 0.025619], [51.468602, 0.028025], [51.441227, 0.040483], [51.487705, 0.031034], [51.485605, 0.084091], [51.455899, 0.04488], [51.450231, 0.029514], [51.480573, -0.009321], [51.493617, 0.063279], [51.486115, 0.008493], [51.498538, 0.105141], [51.450049, 0.02965], [51.454636, 0.019201], [51.474028, 0.021066], [51.478889, 0.010335], [51.484334, 0.002221], [51.479859, 0.006201], [51.472335, -0.011407], [51.456825, 0.084219], [51.480218, 0.053024], [51.47947, 0.05976], [51.47905, 0.103667], [51.462948, 0.027343], [51.451275, 0.052157], [51.48696, 0.06341], [51.457112, 0.042343], [51.492036, 0.056005], [51.490931, 0.072809], [51.479338, 0.036423], [51.452335, 0.058394], [51.451074, 0.07892], [51.439702, 0.076101], [51.472391, 0.048065], [51.452827, 0.035386], [51.461545, 0.0614], [51.44372, 0.05225], [51.481234, 0.122203], [51.473568, 0.016437], [51.489911, 0.023065], [51.497304, 0.088659], [51.497019, 0.001912], [51.474111, 0.021502], [51.493203, 0.061243], [51.455986, 0.045027], [51.488451, 0.034668], [51.478863, 0.10409], [51.487236, 0.02698], [51.467183, 0.052727], [51.454155, 0.026233], [51.488871, 0.087553], [51.457625, 0.06439], [51.473989, 0.03892], [51.476332, 0.02304], [51.482193, 0.068524], [51.462731, 0.029493], [51.478853, 0.022863], [51.48552, 0.083799], [51.506971, 0.111294], [51.450646, 0.052129], [51.480556, 0.069602], [51.469102, 0.066348], [51.489111, 0.053568], [51.476937, 0.04006], [51.484896, 0.083483], [51.469047, 0.054107], [51.452208, 0.034783], [51.491861, 0.116358], [51.453069, 0.026617], [51.475217, 0.030335], [51.489163, 0.08627], [51.505958, 0.107644], [51.493537, 0.062699], [51.497808, 0.0031], [51.451076, 0.078776], [51.448011, 0.022651], [51.48748, 0.028431], [51.475177, 0.027453], [51.482313, 0.06176], [51.450501, 0.080765], [51.489198, 0.012229], [51.479636, -0.007057], [51.487478, 0.028575], [51.4982, 0.088844], [51.472783, 0.046211], [51.485091, 0.005279], [51.479636, -0.007057], [51.497801, 0.003531], [51.454908, 0.050161], [51.451327, 0.028555], [51.481178, -0.007854], [51.474498, 0.035487], [51.472894, 0.003304], [51.450238, 0.029082], [51.438531, 0.071155], [51.486681, 0.017448], [51.490665, 0.082737], [51.47294, -0.015269], [51.46891, 0.067059], [51.501157, 0.119526], [51.488355, 0.014209], [51.462819, 0.02964], [51.452462, 0.035658], [51.481333, 0.101756], [51.491838, 0.082503], [51.489819, 0.038762], [51.495559, 0.003145], [51.48118, -0.007998], [51.463618, 0.030252], [51.452179, 0.05191], [51.482141, 0.045909], [51.433547, 0.068196], [51.495111, 0.100661], [51.487976, 0.061872], [51.484849, 0.019384], [51.485348, 0.00601], [51.47618, -0.015416], [51.491602, 0.065349], [51.448516, 0.02987], [51.483339, 0.110202], [51.490768, 0.00985], [51.458599, 0.049895], [51.492403, 0.08613], [51.480218, 0.053024], [51.478319, 0.0587], [51.472391, 0.048065], [51.451573, 0.045406], [51.493709, 0.063139], [51.44904, 0.025575], [51.47294, -0.015269], [51.437525, 0.072117], [51.478279, 0.076268], [51.479147, 0.052544], [51.437435, 0.072113], [51.452462, 0.035658], [51.475217, 0.030335], [51.493372, 0.010108], [51.445844, 0.084726], [51.458242, 0.049735], [51.474808, 0.033197], [51.462101, 0.050196], [51.451642, 0.067143], [51.494654, 0.121098], [51.481234, 0.122203], [51.459176, 0.078424], [51.456545, 0.084782], [51.456735, 0.084215], [51.443724, 0.082615], [51.481234, 0.122203], [51.493034, 0.121166], [51.491721, 0.043169], [51.470097, 0.060921], [51.493123, 0.121171], [51.477841, -0.012608], [51.471012, 0.054915], [51.486681, 0.017448], [51.454249, 0.020768], [51.500689, 0.120513], [51.488063, 0.06202], [51.484161, 0.001781], [51.48857, 0.09431], [51.487225, 0.017184], [51.498824, 0.089161], [51.472226, 0.026458], [51.435395, 0.065402], [51.473787, 0.040207], [51.479248, 0.036419], [51.49086, 0.081882], [51.473493, 0.01557], [51.481178, -0.007854], [51.485405, 0.069966], [51.495792, 0.087725], [51.473406, 0.015422], [51.48926, 0.008631], [51.482062, 0.065782], [51.481045, 0.077546], [51.503416, 0.118911], [51.485453, 0.102665], [51.452113, 0.035067], [51.474938, 0.010018], [51.48586, 0.007617], [51.481245, 0.101608], [51.486239, 0.016997], [51.481106, -0.024852], [51.481307, -0.02614], [51.455137, 0.016201], [51.472763, -0.015421], [51.472498, -0.010392], [51.472871, 0.009927], [51.461161, 0.05764], [51.488227, 0.068077], [51.493455, 0.062263], [51.500785, 0.12023], [51.490035, 0.062397], [51.478359, -0.011289], [51.493712, 0.062995], [51.498428, 0.106288], [51.492546, 0.05257], [51.48561, 0.083803], [51.479681, 0.052856], [51.486061, 0.011659], [51.437849, 0.053714], [51.474121, 0.020926], [51.472783, 0.046211], [51.487093, 0.024813], [51.458439, 0.079398], [51.493117, 0.11656], [51.485395, 0.050088], [51.480016, 0.084844], [51.461161, 0.05764], [51.484161, 0.001781], [51.481303, -0.015194], [51.489839, 0.068438], [51.474805, 0.033341], [51.488154, 0.117483], [51.494295, 0.096013], [51.48788, 0.03133], [51.49374, 0.061412], [51.468389, 0.071068], [51.474917, 0.068051], [51.502803, 0.103032], [51.486038, 0.074892], [51.481544, 0.069647], [51.461161, 0.05764], [51.43391, 0.073104], [51.452807, 0.036537], [51.4603, 0.04522], [51.454149, 0.021339], [51.48094, -0.009737], [51.486146, 0.07893], [51.488696, 0.066946], [51.46384, 0.027814], [51.473555, -0.019706], [51.480307, 0.053029], [51.488737, 0.012929], [51.496929, 0.001908], [51.486316, 0.01772], [51.493246, 0.006933], [51.488133, 0.073403], [51.487235, 0.016608], [51.48959, 0.067275], [51.48879, 0.122122], [51.482635, -0.003614], [51.450136, 0.029797], [51.460077, 0.047658], [51.455448, 0.039821], [51.480727, 0.080268], [51.47187, 0.026298], [51.487998, 0.065762], [51.452704, 0.037252], [51.461161, 0.05764], [51.496125, 0.119293], [51.486591, 0.017444], [51.453351, 0.02591], [51.490749, 0.072945], [51.487796, 0.015337], [51.492501, 0.085702], [51.487312, 0.017332], [51.473933, 0.016166], [51.453615, 0.026209], [51.478327, 0.006422], [51.49017, 0.085308], [51.473209, 0.047526], [51.43565, 0.061097], [51.470662, 0.028549], [51.452422, 0.027596], [51.481176, -0.00771], [51.431696, 0.071134], [51.449407, 0.061285], [51.486346, 0.052291], [51.496112, 0.120013], [51.473958, 0.06124], [51.479325, 0.098351], [51.484664, 0.106518], [51.474196, 0.037346], [51.491044, 0.071518], [51.474198, 0.021649], [51.486246, 0.016565], [51.486755, 0.095235], [51.477671, -0.013191], [51.450051, 0.06045], [51.485692, 0.099363], [51.449891, 0.028347], [51.455331, 0.015346], [51.486166, 0.015985], [51.451081, 0.078488], [51.459107, 0.036242], [51.472793, 0.009203], [51.481634, 0.11502], [51.493665, 0.060544], [51.480663, -0.009317], [51.482148, 0.071115], [51.480218, 0.053024], [51.487993, 0.116467], [51.485687, 0.099651], [51.473651, 0.016873], [51.494039, 0.013163], [51.486406, 0.017724], [51.486761, 0.023213], [51.490803, 0.064737], [51.482191, 0.068668], [51.492937, 0.086442], [51.494775, 0.012187], [51.47923, 0.098635], [51.483201, 0.046965], [51.481312, -0.010441], [51.481948, 0.072258], [51.476931, 0.01961], [51.477671, -0.013191], [51.449836, 0.047055], [51.483753, 0.020344], [51.474203, 0.021362], [51.485136, 0.007874], [51.480727, 0.09035], [51.479515, 0.03139], [51.433149, 0.070336], [51.451274, 0.04712], [51.486004, 0.071722], [51.463485, 0.02751], [51.450644, 0.052273], [51.479458, 0.075746], [51.450609, 0.054286], [51.488288, 0.069665], [51.479612, -0.010947], [51.498839, 0.103426], [51.458253, 0.038795], [51.488644, 0.013069], [51.493388, 0.060964], [51.486503, 0.017296], [51.486175, 0.097513], [51.479307, 0.048519], [51.455134, 0.052618], [51.463353, 0.029952], [51.449961, 0.029502], [51.487048, 0.083869], [51.474798, 0.033772], [51.492493, 0.086134], [51.49046, 0.017327], [51.4906, 0.040382], [51.493669, 0.065442], [51.474198, 0.04757], [51.449549, 0.027325], [51.492751, 0.014835], [51.474498, 0.035487], [51.486068, 0.011227], [51.47714, 0.064407], [51.460082, 0.04737], [51.486529, 0.021043], [51.490014, 0.068734], [51.478796, -0.01055], [51.47509, 0.027305], [51.489996, 0.028543], [51.480521, 0.101862], [51.482413, 0.101661], [51.491479, 0.082486], [51.48695, 0.09438], [51.476275, 0.031534], [51.487171, 0.056506], [51.50564, 0.105324], [51.488726, 0.008319], [51.45258, 0.039262], [51.487566, 0.105211], [51.473989, 0.03892], [51.490399, 0.01041], [51.481319, -0.010872], [51.490695, 0.075968], [51.472022, 0.038257], [51.481309, -0.010297], [51.479248, 0.036419], [51.46803, 0.024688], [51.479047, 0.103811], [51.483305, -0.000704], [51.493007, 0.057057], [51.477911, 0.086909], [51.450165, 0.02289], [51.451274, 0.04712], [51.498187, 0.104692], [51.470909, 0.05563], [51.448191, 0.022659], [51.477657, -0.012328], [51.488455, 0.013637], [51.474703, 0.034056], [51.491836, 0.082647], [51.481334, -0.011736], [51.473174, -0.018427], [51.492748, 0.014979], [51.450736, 0.052133], [51.453079, 0.036405], [51.452839, 0.029486], [51.457447, 0.038615], [51.49076, 0.082453], [51.457015, 0.04277], [51.504336, 0.117801], [51.493485, 0.060536], [51.505261, 0.111359], [51.491838, 0.082503], [51.490878, 0.065604], [51.493465, 0.061687], [51.450651, 0.051842], [51.43908, 0.050172], [51.487638, 0.091098], [51.461159, 0.057783], [51.486941, 0.038778], [51.492497, 0.045077], [51.445925, 0.039253], [51.490722, 0.048887], [51.450826, 0.052137], [51.461156, 0.057927], [51.452924, 0.045322], [51.474406, 0.035627], [51.451085, 0.032142], [51.475027, 0.010022], [51.489926, 0.068586], [51.473055, 0.009647], [51.478909, 0.086378], [51.474905, 0.032769], [51.440769, 0.051255], [51.49518, 0.004281], [51.481125, -0.010017], [51.483208, 0.015422], [51.486853, 0.094807], [51.489989, 0.039346], [51.47486, 0.024991], [51.485885, 0.098652], [51.450059, 0.029074], [51.49338, 0.061395], [51.456753, 0.02678], [51.45643, 0.050517], [51.489376, 0.084407], [51.482315, 0.061616], [51.493617, 0.063279], [51.489947, 0.057207], [51.474233, -0.022557], [51.469047, 0.054107], [51.469485, 0.044479], [51.452832, 0.029917], [51.489879, 0.024936], [51.478865, 0.103946], [51.493933, 0.008836], [51.480829, 0.079553], [51.493298, 0.06096], [51.460579, 0.049839], [51.451875, 0.043548], [51.485973, 0.073449], [51.490887, 0.11055], [51.491031, 0.072238], [51.496475, 0.002177], [51.493622, 0.062991], [51.453265, 0.051527], [51.49139, 0.051798], [51.434794, 0.063792], [51.443243, 0.064029], [51.43614, 0.069033], [51.48196, 0.071538], [51.47661, 0.109315], [51.492316, 0.085982], [51.475115, 0.010169], [51.43725, 0.072392], [51.48281, -0.003318], [51.456645, 0.084211], [51.488786, 0.06695], [51.486077, 0.097941], [51.435464, 0.066556], [51.483444, 0.02782], [51.453525, 0.026205], [51.481435, 0.06561], [51.472263, -0.012418], [51.485672, 0.018556], [51.473625, 0.064825], [51.447926, 0.022359], [51.489085, 0.110755], [51.468907, 0.067203], [51.49348, 0.060824], [51.451079, 0.078632], [51.492591, 0.085706], [51.493208, 0.060955], [51.445508, 0.083416], [51.472561, 0.069097], [51.449874, 0.029354], [51.490876, 0.08606], [51.486244, 0.016709], [51.493209, 0.065998], [51.490949, 0.071802], [51.475948, 0.060609], [51.486175, 0.010224], [51.472415, -0.010828], [51.480218, 0.053024], [51.481366, -0.013607], [51.485436, 0.006158], [51.450559, 0.051981], [51.491431, 0.069951], [51.481734, 0.114449], [51.499668, 0.102311], [51.499407, 0.101867], [51.480727, 0.09035], [51.4874, 0.01748], [51.492583, 0.086138], [51.477852, 0.095259], [51.452191, 0.056373], [51.482093, 0.069096], [51.45625, 0.050509], [51.489486, 0.118409], [51.489574, 0.068138], [51.434132, 0.065633], [51.461161, 0.05764], [51.483362, 0.027384], [51.491368, 0.053093], [51.474033, 0.020778], [51.475792, -0.019033], [51.485936, 0.080649], [51.474123, -0.02141], [51.447824, 0.043799], [51.490783, 0.065888], [51.486593, 0.0173], [51.481901, 0.069807], [51.450661, 0.056448], [51.460414, 0.048968], [51.490785, 0.075972], [51.490878, 0.065604], [51.458356, 0.03808], [51.479512, 0.102968], [51.489682, 0.067135], [51.491471, 0.062606], [51.474945, 0.025283], [51.456455, 0.064481], [51.472318, 0.005439], [51.489528, 0.065687], [51.499884, 0.105347], [51.484786, 0.08463], [51.486986, 0.102448], [51.462864, 0.027051], [51.485564, 0.101518], [51.482081, 0.069816], [51.482807, -0.003174], [51.490661, 0.072797], [51.479593, 0.032113], [51.450629, 0.053136], [51.475319, 0.029619], [51.450233, 0.060315], [51.453076, 0.036549], [51.489405, 0.067554], [51.447795, 0.081217], [51.484577, 0.10637], [51.489158, 0.086558], [51.472894, 0.003304], [51.497721, 0.002952], [51.482225, 0.061612], [51.492847, 0.055897], [51.485363, 0.102661], [51.489664, 0.068142], [51.481399, -0.010293], [51.481541, 0.11516], [51.472894, 0.003304], [51.492785, 0.079809], [51.487613, 0.031174], [51.493479, 0.06601], [51.489136, 0.107877], [51.487096, 0.024669], [51.472663, 0.047933], [51.489158, 0.086558], [51.479647, 0.059912], [51.500529, 0.001778], [51.460721, 0.052005], [51.458717, 0.078979], [51.486061, 0.011659], [51.472022, 0.038257], [51.489856, 0.021046], [51.472746, -0.014413], [51.451135, 0.065249], [51.486173, 0.010368], [51.501144, 0.120246], [51.479248, 0.036419], [51.485611, 0.032525], [51.493471, 0.009536], [51.472509, 0.025751], [51.49765, 0.001796], [51.449241, 0.080851], [51.454786, 0.082543], [51.466368, 0.027206], [51.479574, 0.048675], [51.493118, 0.060951], [51.487251, 0.092665], [51.483817, 0.000902], [51.488226, 0.118494], [51.489592, 0.067131], [51.451279, 0.07749], [51.48232, 0.045917], [51.500096, 0.000751], [51.490762, 0.061998], [51.479705, 0.087135], [51.454923, 0.049298], [51.498921, 0.103862], [51.48861, 0.122113], [51.498367, 0.084529], [51.452186, 0.05666], [51.458488, 0.040821], [51.490949, 0.071802], [51.455139, 0.052331], [51.482778, 0.065958], [51.44085, 0.041473], [51.482076, 0.070103], [51.441037, 0.04105], [51.451079, 0.078632], [51.491341, 0.069947], [51.473886, 0.0189], [51.488351, 0.121525], [51.434896, 0.063077], [51.456486, 0.026624], [51.49363, 0.082872], [51.460305, 0.03975], [51.491175, 0.012317], [51.490788, 0.085912], [51.481234, 0.122203], [51.480946, -0.020682], [51.474121, 0.020926], [51.492842, 0.056185], [51.489356, 0.085559], [51.474695, 0.034488], [51.43725, 0.072392], [51.48595, 0.007621], [51.452834, 0.029773], [51.472894, 0.003304], [51.487736, 0.09067], [51.490855, 0.08217], [51.472253, -0.011843], [51.450631, 0.052992], [51.489546, 0.084991], [51.479665, -0.008784], [51.451583, 0.044831], [51.481758, 0.072825], [51.472073, 0.003988], [51.460494, 0.044365], [51.487892, 0.03061], [51.457392, 0.041779], [51.48832, 0.062752], [51.481263, -0.007562], [51.490782, 0.076116], [51.480663, -0.009317], [51.491431, 0.069951], [51.492631, 0.052862], [51.492403, 0.08613], [51.49117, 0.012604], [51.457115, 0.042199], [51.47494, 0.009874], [51.450289, 0.051969], [51.47768, 0.0231], [51.490857, 0.082026], [51.447851, 0.062798], [51.48117, 0.008419], [51.48648, 0.065117], [51.491019, 0.078], [51.492854, 0.121158], [51.474213, -0.021406], [51.491249, 0.070087], [51.489228, 0.067402], [51.471609, 0.05163], [51.485295, 0.071113], [51.48981, 0.085291], [51.487519, 0.015757], [51.488113, 0.089679], [51.450136, 0.029797], [51.499499, 0.101727], [51.472258, -0.012131], [51.505195, 0.105015], [51.462864, 0.027051], [51.463618, 0.030252], [51.493789, 0.063719], [51.433946, 0.076127], [51.498826, 0.104145], [51.486314, 0.017864], [51.449901, 0.058716], [51.481307, -0.010153], [51.493661, 0.065874], [51.429574, 0.063989], [51.461825, 0.029884], [51.486066, 0.011371], [51.471565, 0.023117], [51.481215, -0.010013], [51.493203, 0.061243], [51.437435, 0.072113], [51.497201, 0.001776], [51.501457, 9e-05], [51.497304, 0.088659], [51.469199, 0.065921], [51.483229, -0.001571], [51.486396, 0.0183], [51.490924, 0.078283], [51.450059, 0.029074], [51.498374, 0.00154], [51.488642, 0.054699], [51.487923, 0.090247], [51.435232, 0.074603], [51.443222, 0.034384], [51.489823, 0.017731], [51.492586, 0.085994], [51.450061, 0.028931], [51.490782, 0.076116], [51.490762, 0.061998], [51.472177, 0.055111], [51.486146, 0.001436], [51.477136, 0.023363], [51.472938, -0.015125], [51.480118, 0.084129], [51.481592, 0.036091], [51.472894, 0.003304], [51.439209, 0.063272], [51.504247, -7.5e-05], [51.450639, 0.052561], [51.434711, 0.063357], [51.481965, 0.071251], [51.482717, -0.003178], [51.480751, -0.009169], [51.472396, 0.047777], [51.481307, -0.015482], [51.480946, -0.020682], [51.490573, 0.082877], [51.439515, 0.076524], [51.437351, 0.056425], [51.483064, -0.002443], [51.486141, 0.079218], [51.485031, 0.019248], [51.486881, 0.031861], [51.461458, 0.0303], [51.480815, -0.023568], [51.474287, 0.016469], [51.48452, 0.033197], [51.44342, 0.064181], [51.464923, 0.032757], [51.48757, 0.059405], [51.448099, 0.022799], [51.449422, 0.029478], [51.483477, -0.000264], [51.484973, 0.104372], [51.480218, 0.053024], [51.461556, 0.029872], [51.48926, 0.008631], [51.487634, 0.060848], [51.493552, 0.061835], [51.470922, 0.054911], [51.453615, 0.026209], [51.493465, 0.061687], [51.452692, 0.037971], [51.466382, 0.052259], [51.486215, 0.075044], [51.450796, 0.079339], [51.449871, 0.029498], [51.491549, 0.058143], [51.493627, 0.062703], [51.456543, 0.044045], [51.472967, -0.016852], [51.460202, 0.045648], [51.458242, 0.049735], [51.487326, 0.026984], [51.487264, 0.111968], [51.499668, 0.102311], [51.480696, 0.092077], [51.483204, 0.097665], [51.491554, 0.042441], [51.494115, 0.0087], [51.45833, 0.049883], [51.474211, -0.021262], [51.489818, 0.084859], [51.485263, 0.005719], [51.496464, 0.080264], [51.461161, 0.05764], [51.492745, 0.066841], [51.472793, 0.009203], [51.450657, 0.061773], [51.486546, 0.020035], [51.453084, 0.036118], [51.474196, 0.037346], [51.490665, 0.082737], [51.481091, -0.008002], [51.490901, 0.079579], [51.452547, 0.03595], [51.470922, 0.054911], [51.479238, -0.010099], [51.487237, 0.016464], [51.480864, 0.015751], [51.469507, 0.063775], [51.504711, -0.00092], [51.490926, 0.078139], [51.474201, 0.021505], [51.459728, 0.026336], [51.453081, 0.036261], [51.491246, 0.070231], [51.472943, -0.015413], [51.450231, 0.029514], [51.501002, 0.000358], [51.451912, 0.072193], [51.491241, 0.070519], [51.443902, 0.052115], [51.450396, 0.086661], [51.493388, 0.060964], [51.456935, 0.026644], [51.472039, 0.047617], [51.498632, 0.002271], [51.462244, 0.026448], [51.478348, 0.051932], [51.481971, 0.040141], [51.499099, 0.00647], [51.451079, 0.078632], [51.472971, 0.009355], [51.450642, 0.062636], [51.483492, 0.066279], [51.50555, 0.10532], [51.452552, 0.035662], [51.486401, 0.018012], [51.470922, 0.054911], [51.461823, 0.030028], [51.435271, 0.062231], [51.466183, 0.027486], [51.450651, 0.051842], [51.492495, 0.045221], [51.497471, 0.001788], [51.476582, 0.019019], [51.464921, 0.032901], [51.441622, 0.038486], [51.437527, 0.071973], [51.486001, 0.051412], [51.486272, 0.097085], [51.472883, 0.045639], [51.490603, 0.040238], [51.479323, 0.098495], [51.489277, 0.059482], [51.481474, 0.083759], [51.487549, 0.091094], [51.491681, 0.009025], [51.460013, 0.046215], [51.483492, 0.066279], [51.481305, -0.015338], [51.480037, -0.009488], [51.503195, 0.111263], [51.466481, 0.082356], [51.432177, 0.074465], [51.500502, 0.120937], [51.493034, 0.121166], [51.478786, 0.118345], [51.493665, 0.121052], [51.489421, 0.122007], [51.481324, 0.122207], [51.49115, 0.00857], [51.44598, 0.030908], [51.472894, 0.003304], [51.492262, 0.048235], [51.480788, -0.021985], [51.501179, 0.113331], [51.460155, 0.048381], [51.434796, 0.063648], [51.488486, 0.088976], [51.481174, -0.018224], [51.488629, 0.03482], [51.459217, 0.040277], [51.487326, 0.057953], [51.439077, 0.050315], [51.478383, -0.0074], [51.477203, 0.019478], [51.472851, -0.015273], [51.503464, 0.111276], [51.482206, 0.067805], [51.484117, 0.020072], [51.480943, -0.020538], [51.474288, 0.037206], [51.474194, 0.03749], [51.470329, 0.02695], [51.472683, 0.026046], [51.443268, 0.052374], [51.469105, 0.066204], [51.471592, 0.026718], [51.433927, 0.067062], [51.48923, 0.067258], [51.505542, 0.105752], [51.448948, 0.025715], [51.441368, 0.073442], [51.48121, -0.025712], [51.450606, 0.05443], [51.47294, -0.015269]],\n",
       "                {\n",
       "  &quot;minOpacity&quot;: 0.5,\n",
       "  &quot;maxZoom&quot;: 18,\n",
       "  &quot;radius&quot;: 8,\n",
       "  &quot;blur&quot;: 15,\n",
       "}\n",
       "            );\n",
       "        \n",
       "    \n",
       "            heat_map_465e365099459d08b9306942241491ca.addTo(map_abb1b81532ffc486aec19bd4d2e44877);\n",
       "        \n",
       "&lt;/script&gt;\n",
       "&lt;/html&gt;\" style=\"position:absolute;width:100%;height:100%;left:0;top:0;border:none !important;\" allowfullscreen webkitallowfullscreen mozallowfullscreen></iframe></div></div>"
      ],
      "text/plain": [
       "<folium.folium.Map at 0x21ab1101850>"
      ]
     },
     "execution_count": 93,
     "metadata": {},
     "output_type": "execute_result"
    }
   ],
   "source": [
    "greenwich_df = df[df[\"District Area\"] == \"Greenwich\"]\n",
    "\n",
    "vehicles = greenwich_df[\"Vehicle_Type\"].value_counts()\n",
    "print(\"Vehicle Types involved in Accidents in Greenwich:\\n\", vehicles)\n",
    "\n",
    "coords = greenwich_df[[\"Latitude\", \"Longitude\"]].dropna().values.tolist()\n",
    "m = folium.Map(location=[greenwich_df[\"Latitude\"].mean(), greenwich_df[\"Longitude\"].mean()], zoom_start=12)\n",
    "HeatMap(coords, radius=8).add_to(m)\n",
    "m"
   ]
  },
  {
   "cell_type": "code",
   "execution_count": null,
   "id": "4f143cb1-8ef4-4a88-8040-c76363acb659",
   "metadata": {},
   "outputs": [],
   "source": []
  },
  {
   "cell_type": "markdown",
   "id": "6a6a1bd1-f27d-4078-b33f-bc2813158704",
   "metadata": {},
   "source": [
    "<h2>District 5: Ealing - Accidents by Weather Conditions </h2>"
   ]
  },
  {
   "cell_type": "markdown",
   "id": "7199e389-4c0e-4eaa-876e-70c30535e698",
   "metadata": {},
   "source": [
    "<h3>Insight 30: In Ealing, accidents are more common on dry roads than on wet or icy roads. This happens because more vehicles are on the road in normal conditions.</h3>"
   ]
  },
  {
   "cell_type": "code",
   "execution_count": 94,
   "id": "e93bcf6f-4d85-4c36-8af3-10145fe9a9bb",
   "metadata": {},
   "outputs": [
    {
     "name": "stdout",
     "output_type": "stream",
     "text": [
      "Accidents by Weather Conditions in Ealing:\n",
      " Weather_Conditions\n",
      "Fine no high winds       3008\n",
      "Raining no high winds     359\n",
      "Other                      66\n",
      "Fine + high winds          23\n",
      "Snowing no high winds      14\n",
      "Raining + high winds       11\n",
      "Fog or mist                11\n",
      "Snowing + high winds        4\n",
      "Name: count, dtype: int64\n"
     ]
    },
    {
     "data": {
      "text/html": [
       "<div style=\"width:100%;\"><div style=\"position:relative;width:100%;height:0;padding-bottom:60%;\"><span style=\"color:#565656\">Make this Notebook Trusted to load map: File -> Trust Notebook</span><iframe srcdoc=\"&lt;!DOCTYPE html&gt;\n",
       "&lt;html&gt;\n",
       "&lt;head&gt;\n",
       "    \n",
       "    &lt;meta http-equiv=&quot;content-type&quot; content=&quot;text/html; charset=UTF-8&quot; /&gt;\n",
       "    &lt;script src=&quot;https://cdn.jsdelivr.net/npm/leaflet@1.9.3/dist/leaflet.js&quot;&gt;&lt;/script&gt;\n",
       "    &lt;script src=&quot;https://code.jquery.com/jquery-3.7.1.min.js&quot;&gt;&lt;/script&gt;\n",
       "    &lt;script src=&quot;https://cdn.jsdelivr.net/npm/bootstrap@5.2.2/dist/js/bootstrap.bundle.min.js&quot;&gt;&lt;/script&gt;\n",
       "    &lt;script src=&quot;https://cdnjs.cloudflare.com/ajax/libs/Leaflet.awesome-markers/2.0.2/leaflet.awesome-markers.js&quot;&gt;&lt;/script&gt;\n",
       "    &lt;link rel=&quot;stylesheet&quot; href=&quot;https://cdn.jsdelivr.net/npm/leaflet@1.9.3/dist/leaflet.css&quot;/&gt;\n",
       "    &lt;link rel=&quot;stylesheet&quot; href=&quot;https://cdn.jsdelivr.net/npm/bootstrap@5.2.2/dist/css/bootstrap.min.css&quot;/&gt;\n",
       "    &lt;link rel=&quot;stylesheet&quot; href=&quot;https://netdna.bootstrapcdn.com/bootstrap/3.0.0/css/bootstrap-glyphicons.css&quot;/&gt;\n",
       "    &lt;link rel=&quot;stylesheet&quot; href=&quot;https://cdn.jsdelivr.net/npm/@fortawesome/fontawesome-free@6.2.0/css/all.min.css&quot;/&gt;\n",
       "    &lt;link rel=&quot;stylesheet&quot; href=&quot;https://cdnjs.cloudflare.com/ajax/libs/Leaflet.awesome-markers/2.0.2/leaflet.awesome-markers.css&quot;/&gt;\n",
       "    &lt;link rel=&quot;stylesheet&quot; href=&quot;https://cdn.jsdelivr.net/gh/python-visualization/folium/folium/templates/leaflet.awesome.rotate.min.css&quot;/&gt;\n",
       "    \n",
       "            &lt;meta name=&quot;viewport&quot; content=&quot;width=device-width,\n",
       "                initial-scale=1.0, maximum-scale=1.0, user-scalable=no&quot; /&gt;\n",
       "            &lt;style&gt;\n",
       "                #map_ad0c1ad00f7391ca6ebf157202662e4b {\n",
       "                    position: relative;\n",
       "                    width: 100.0%;\n",
       "                    height: 100.0%;\n",
       "                    left: 0.0%;\n",
       "                    top: 0.0%;\n",
       "                }\n",
       "                .leaflet-container { font-size: 1rem; }\n",
       "            &lt;/style&gt;\n",
       "\n",
       "            &lt;style&gt;html, body {\n",
       "                width: 100%;\n",
       "                height: 100%;\n",
       "                margin: 0;\n",
       "                padding: 0;\n",
       "            }\n",
       "            &lt;/style&gt;\n",
       "\n",
       "            &lt;style&gt;#map {\n",
       "                position:absolute;\n",
       "                top:0;\n",
       "                bottom:0;\n",
       "                right:0;\n",
       "                left:0;\n",
       "                }\n",
       "            &lt;/style&gt;\n",
       "\n",
       "            &lt;script&gt;\n",
       "                L_NO_TOUCH = false;\n",
       "                L_DISABLE_3D = false;\n",
       "            &lt;/script&gt;\n",
       "\n",
       "        \n",
       "    &lt;script src=&quot;https://cdn.jsdelivr.net/gh/python-visualization/folium@main/folium/templates/leaflet_heat.min.js&quot;&gt;&lt;/script&gt;\n",
       "&lt;/head&gt;\n",
       "&lt;body&gt;\n",
       "    \n",
       "    \n",
       "            &lt;div class=&quot;folium-map&quot; id=&quot;map_ad0c1ad00f7391ca6ebf157202662e4b&quot; &gt;&lt;/div&gt;\n",
       "        \n",
       "&lt;/body&gt;\n",
       "&lt;script&gt;\n",
       "    \n",
       "    \n",
       "            var map_ad0c1ad00f7391ca6ebf157202662e4b = L.map(\n",
       "                &quot;map_ad0c1ad00f7391ca6ebf157202662e4b&quot;,\n",
       "                {\n",
       "                    center: [51.521124865428575, -0.32852971628571426],\n",
       "                    crs: L.CRS.EPSG3857,\n",
       "                    ...{\n",
       "  &quot;zoom&quot;: 12,\n",
       "  &quot;zoomControl&quot;: true,\n",
       "  &quot;preferCanvas&quot;: false,\n",
       "}\n",
       "\n",
       "                }\n",
       "            );\n",
       "\n",
       "            \n",
       "\n",
       "        \n",
       "    \n",
       "            var tile_layer_bcbd3a3cbe302781be95f315ae96d12e = L.tileLayer(\n",
       "                &quot;https://tile.openstreetmap.org/{z}/{x}/{y}.png&quot;,\n",
       "                {\n",
       "  &quot;minZoom&quot;: 0,\n",
       "  &quot;maxZoom&quot;: 19,\n",
       "  &quot;maxNativeZoom&quot;: 19,\n",
       "  &quot;noWrap&quot;: false,\n",
       "  &quot;attribution&quot;: &quot;\\u0026copy; \\u003ca href=\\&quot;https://www.openstreetmap.org/copyright\\&quot;\\u003eOpenStreetMap\\u003c/a\\u003e contributors&quot;,\n",
       "  &quot;subdomains&quot;: &quot;abc&quot;,\n",
       "  &quot;detectRetina&quot;: false,\n",
       "  &quot;tms&quot;: false,\n",
       "  &quot;opacity&quot;: 1,\n",
       "}\n",
       "\n",
       "            );\n",
       "        \n",
       "    \n",
       "            tile_layer_bcbd3a3cbe302781be95f315ae96d12e.addTo(map_ad0c1ad00f7391ca6ebf157202662e4b);\n",
       "        \n",
       "    \n",
       "            var heat_map_97a85abf13cf72860afb0e404fb0d642 = L.heatLayer(\n",
       "                [[51.515068, -0.249378], [51.516787, -0.250032], [51.557168, -0.362448], [51.557076, -0.362307], [51.531373, -0.294024], [51.534537, -0.289003], [51.534379, -0.259883], [51.540063, -0.367532], [51.52452, -0.268188], [51.529542, -0.249111], [51.517459, -0.252889], [51.511563, -0.380945], [51.547006, -0.36887], [51.49911, -0.301569], [51.521783, -0.340077], [51.506586, -0.253449], [51.5442, -0.374018], [51.527732, -0.353845], [51.542809, -0.377529], [51.510149, -0.376239], [51.505319, -0.246869], [51.500979, -0.382905], [51.511381, -0.292033], [51.500848, -0.285079], [51.506689, -0.315841], [51.499624, -0.299821], [51.501097, -0.289824], [51.501981, -0.282587], [51.512443, -0.386102], [51.511569, -0.292602], [51.519383, -0.367695], [51.512852, -0.306678], [51.551036, -0.361225], [51.533372, -0.404105], [51.506483, -0.264693], [51.510114, -0.360821], [51.518029, -0.322773], [51.510147, -0.376095], [51.535252, -0.345066], [51.520492, -0.34416], [51.528245, -0.276841], [51.530961, -0.385591], [51.511379, -0.291889], [51.529916, -0.292781], [51.510878, -0.319433], [51.502846, -0.286445], [51.528707, -0.327427], [51.511166, -0.371736], [51.508884, -0.281174], [51.503817, -0.386551], [51.536447, -0.346898], [51.522669, -0.264654], [51.550168, -0.318995], [51.534833, -0.3409], [51.50094, -0.285219], [51.497399, -0.326412], [51.511415, -0.376771], [51.499309, -0.327927], [51.501371, -0.283906], [51.51949, -0.262469], [51.523435, -0.374614], [51.513854, -0.320044], [51.539054, -0.359637], [51.532226, -0.260254], [51.542785, -0.349985], [51.503192, -0.380377], [51.511281, -0.291316], [51.511188, -0.366835], [51.508746, -0.346604], [51.510894, -0.365116], [51.506054, -0.278255], [51.511453, -0.315665], [51.533823, -0.295519], [51.519971, -0.264613], [51.530602, -0.259883], [51.521962, -0.340071], [51.51063, -0.372043], [51.505166, -0.279009], [51.510732, -0.372904], [51.51846, -0.265823], [51.498302, -0.397551], [51.518029, -0.322773], [51.505757, -0.319766], [51.51113, -0.375628], [51.557578, -0.346853], [51.52055, -0.354681], [51.542816, -0.345802], [51.527352, -0.352417], [51.510702, -0.370743], [51.509439, -0.257808], [51.539363, -0.36251], [51.507687, -0.273149], [51.513928, -0.269455], [51.498019, -0.376959], [51.515002, -0.257019], [51.519763, -0.262747], [51.543511, -0.376206], [51.508634, -0.338682], [51.540988, -0.343705], [51.511074, -0.36511], [51.531398, -0.289554], [51.511291, -0.292036], [51.542048, -0.374527], [51.509614, -0.376547], [51.511759, -0.382091], [51.517889, -0.338201], [51.528815, -0.360582], [51.505168, -0.279153], [51.526133, -0.292346], [51.536163, -0.391175], [51.532801, -0.318193], [51.509081, -0.332181], [51.511761, -0.382235], [51.505294, -0.376268], [51.549991, -0.363715], [51.517972, -0.281553], [51.548628, -0.375591], [51.513372, -0.324097], [51.50872, -0.338391], [51.531772, -0.366243], [51.537627, -0.354065], [51.540175, -0.369114], [51.533722, -0.33229], [51.508265, -0.275722], [51.533466, -0.32062], [51.537629, -0.354209], [51.514584, -0.314541], [51.511271, -0.37937], [51.515848, -0.302387], [51.498966, -0.380383], [51.517927, -0.266276], [51.516654, -0.308411], [51.501191, -0.265615], [51.535021, -0.34147], [51.506364, -0.26268], [51.513812, -0.24957], [51.495846, -0.262936], [51.5049, -0.279307], [51.512361, -0.310011], [51.529062, -0.327126], [51.502686, -0.300139], [51.529827, -0.292784], [51.513467, -0.375545], [51.543938, -0.342444], [51.524984, -0.318626], [51.538187, -0.349142], [51.551404, -0.36828], [51.508716, -0.338102], [51.550797, -0.331521], [51.513001, -0.304511], [51.508665, -0.334502], [51.530488, -0.364414], [51.50855, -0.339117], [51.547809, -0.368409], [51.520198, -0.261721], [51.537837, -0.35622], [51.521396, -0.263694], [51.498184, -0.305925], [51.504976, -0.379305], [51.500942, -0.285363], [51.532757, -0.378895], [51.504622, -0.334793], [51.522797, -0.29175], [51.513264, -0.304069], [51.512773, -0.307402], [51.541224, -0.373403], [51.52945, -0.291645], [51.506364, -0.26268], [51.509439, -0.257808], [51.508456, -0.345173], [51.534721, -0.390937], [51.513649, -0.337202], [51.51627, -0.319235], [51.513055, -0.308256], [51.508644, -0.283201], [51.508256, -0.275145], [51.506612, -0.267282], [51.533022, -0.321069], [51.506032, -0.320188], [51.509179, -0.339094], [51.498489, -0.378383], [51.529841, -0.293793], [51.539569, -0.364377], [51.518029, -0.322773], [51.529467, -0.292798], [51.499481, -0.385119], [51.502325, -0.382713], [51.515511, -0.267088], [51.513804, -0.248994], [51.535803, -0.345912], [51.510628, -0.371899], [51.522789, -0.354023], [51.515904, -0.331355], [51.529008, -0.355096], [51.508626, -0.338106], [51.50094, -0.285219], [51.516941, -0.29096], [51.522483, -0.25212], [51.50606, -0.266438], [51.510808, -0.371893], [51.509821, -0.359102], [51.534189, -0.295937], [51.53831, -0.357933], [51.534683, -0.394687], [51.522399, -0.326505], [51.515973, -0.304833], [51.536075, -0.391322], [51.508523, -0.281044], [51.512687, -0.307693], [51.549298, -0.365615], [51.550642, -0.339604], [51.518917, -0.272436], [51.511642, -0.291447], [51.508156, -0.343022], [51.508354, -0.251364], [51.530027, -0.294219], [51.513923, -0.299865], [51.51119, -0.366979], [51.511204, -0.317115], [51.528564, -0.330027], [51.522789, -0.354023], [51.511264, -0.378794], [51.51381, -0.249426], [51.547016, -0.369591], [51.508185, -0.276445], [51.506548, -0.256909], [51.533319, -0.348309], [51.51104, -0.375631], [51.519037, -0.375203], [51.539316, -0.308436], [51.506456, -0.256769], [51.498585, -0.308792], [51.521543, -0.323221], [51.521487, -0.319331], [51.509851, -0.291946], [51.512144, -0.383951], [51.511339, -0.377782], [51.507337, -0.355157], [51.515293, -0.252396], [51.500171, -0.306572], [51.530386, -0.350722], [51.511528, -0.314654], [51.536187, -0.347628], [51.50696, -0.291045], [51.515672, -0.37244], [51.534819, -0.339891], [51.50302, -0.400555], [51.51234, -0.385097], [51.510049, -0.305629], [51.546309, -0.370481], [51.535734, -0.392632], [51.512144, -0.383951], [51.509716, -0.326249], [51.511116, -0.317263], [51.511114, -0.367991], [51.521488, -0.263834], [51.512505, -0.252358], [51.551387, -0.360636], [51.550567, -0.372781], [51.511663, -0.381662], [51.508689, -0.33623], [51.536359, -0.347045], [51.507031, -0.378368], [51.502629, -0.308642], [51.508428, -0.388405], [51.498574, -0.314267], [51.536163, -0.391175], [51.534281, -0.296078], [51.513736, -0.375535], [51.506629, -0.268434], [51.511003, -0.29075], [51.510382, -0.322478], [51.517356, -0.252028], [51.556079, -0.361765], [51.509481, -0.328708], [51.54089, -0.381779], [51.526707, -0.325914], [51.513015, -0.305519], [51.521859, -0.37121], [51.499277, -0.383397], [51.51345, -0.304494], [51.537685, -0.345411], [51.544024, -0.374313], [51.521273, -0.323231], [51.512741, -0.388109], [51.552282, -0.360315], [51.509716, -0.326249], [51.512443, -0.386102], [51.541738, -0.384633], [51.511563, -0.29217], [51.537718, -0.316138], [51.517061, -0.25031], [51.55077, -0.361523], [51.502753, -0.381113], [51.529354, -0.291216], [51.51113, -0.375628], [51.511206, -0.317259], [51.512603, -0.308129], [51.511569, -0.381377], [51.508233, -0.323133], [51.527352, -0.352417], [51.51285, -0.306534], [51.506376, -0.263544], [51.533532, -0.331576], [51.497389, -0.313158], [51.51113, -0.375628], [51.510972, -0.377219], [51.528045, -0.251187], [51.507427, -0.374463], [51.514027, -0.30087], [51.529791, -0.372513], [51.511204, -0.317115], [51.501254, -0.30682], [51.528692, -0.351792], [51.529195, -0.292664], [51.540277, -0.382954], [51.531672, -0.308431], [51.534137, -0.336167], [51.532571, -0.371981], [51.521486, -0.26369], [51.533335, -0.324085], [51.513933, -0.300585], [51.539493, -0.384857], [51.543478, -0.341739], [51.498153, -0.393234], [51.542328, -0.343079], [51.528247, -0.326723], [51.508944, -0.347893], [51.553787, -0.339489], [51.535981, -0.371427], [51.509119, -0.35394], [51.501807, -0.283025], [51.53084, -0.300676], [51.498964, -0.380239], [51.5271, -0.284669], [51.512484, -0.306115], [51.510147, -0.376095], [51.506853, -0.378518], [51.515533, -0.268529], [51.52862, -0.359435], [51.508805, -0.251491], [51.495184, -0.386568], [51.521396, -0.263694], [51.493587, -0.368617], [51.499211, -0.31482], [51.539579, -0.384565], [51.51372, -0.374383], [51.529749, -0.293652], [51.550164, -0.318707], [51.496126, -0.32545], [51.505783, -0.321638], [51.533286, -0.371667], [51.542915, -0.378679], [51.509215, -0.354368], [51.512606, -0.295878], [51.521194, -0.311414], [51.518772, -0.3755], [51.511591, -0.281793], [51.52166, -0.376262], [51.512144, -0.383951], [51.53421, -0.3477], [51.551342, -0.331934], [51.516142, -0.297908], [51.498815, -0.306046], [51.515895, -0.375603], [51.511291, -0.292036], [51.49773, -0.395122], [51.50908, -0.376998], [51.526713, -0.282809], [51.527372, -0.373176], [51.516307, -0.321828], [51.518117, -0.291493], [51.513217, -0.376995], [51.502399, -0.381558], [51.54384, -0.38052], [51.532906, -0.319199], [51.502929, -0.380819], [51.549298, -0.365615], [51.508319, -0.291715], [51.541237, -0.380901], [51.527728, -0.353557], [51.508799, -0.263164], [51.508433, -0.281047], [51.500703, -0.318511], [51.509798, -0.32567], [51.50662, -0.267858], [51.492796, -0.369941], [51.511573, -0.29289], [51.542328, -0.343079], [51.506381, -0.263832], [51.510434, -0.288754], [51.532109, -0.29515], [51.525085, -0.344714], [51.508634, -0.338682], [51.535343, -0.31983], [51.520761, -0.263286], [51.534537, -0.339037], [51.512507, -0.313897], [51.501431, -0.376549], [51.520657, -0.286785], [51.514911, -0.337445], [51.504059, -0.289425], [51.521804, -0.354347], [51.556181, -0.349789], [51.549232, -0.316434], [51.530725, -0.292751], [51.520007, -0.291566], [51.509438, -0.376841], [51.511329, -0.377062], [51.521306, -0.263697], [51.537731, -0.394003], [51.518029, -0.322773], [51.532713, -0.382213], [51.53224, -0.310428], [51.513467, -0.375545], [51.552984, -0.327258], [51.50885, -0.347609], [51.521032, -0.263419], [51.517153, -0.280863], [51.503295, -0.317407], [51.531231, -0.247748], [51.52659, -0.311502], [51.539751, -0.397105], [51.508454, -0.345029], [51.507211, -0.378361], [51.509411, -0.355514], [51.509975, -0.319178], [51.521396, -0.263694], [51.536836, -0.317324], [51.504222, -0.306854], [51.540452, -0.38266], [51.500233, -0.387542], [51.512783, -0.308122], [51.515895, -0.375603], [51.532384, -0.246695], [51.546043, -0.370779], [51.507929, -0.271267], [51.51015, -0.287756], [51.530529, -0.297804], [51.512443, -0.386102], [51.497552, -0.305805], [51.50166, -0.37366], [51.53163, -0.349667], [51.516015, -0.301516], [51.530627, -0.298377], [51.497117, -0.313024], [51.538882, -0.36022], [51.492796, -0.369941], [51.497552, -0.305805], [51.526054, -0.274617], [51.541603, -0.374832], [51.531177, -0.292878], [51.546662, -0.370036], [51.52735, -0.352273], [51.508412, -0.279607], [51.533194, -0.365038], [51.508916, -0.333196], [51.534001, -0.320312], [51.519037, -0.375203], [51.529553, -0.292506], [51.551179, -0.333094], [51.543558, -0.379665], [51.504265, -0.379907], [51.508342, -0.274854], [51.517799, -0.338204], [51.533944, -0.260909], [51.51268, -0.270222], [51.531772, -0.366243], [51.531375, -0.294168], [51.526029, -0.254724], [51.548671, -0.340108], [51.503766, -0.376322], [51.537363, -0.39344], [51.526815, -0.352581], [51.535501, -0.343615], [51.505689, -0.378848], [51.550567, -0.372781], [51.503435, -0.391463], [51.510149, -0.376239], [51.525095, -0.270617], [51.506603, -0.266706], [51.495259, -0.372447], [51.525425, -0.368921], [51.516947, -0.291392], [51.513804, -0.248994], [51.541781, -0.374681], [51.549472, -0.365176], [51.51113, -0.375628], [51.511968, -0.384245], [51.527352, -0.352417], [51.520454, -0.31], [51.509885, -0.319182], [51.533286, -0.320627], [51.547281, -0.369293], [51.509946, -0.355207], [51.508891, -0.281606], [51.529653, -0.293223], [51.505086, -0.335785], [51.513091, -0.304507], [51.533577, -0.328402], [51.513804, -0.248994], [51.546662, -0.370036], [51.535278, -0.34694], [51.534827, -0.340468], [51.511479, -0.292606], [51.498104, -0.306649], [51.53898, -0.360793], [51.522009, -0.343384], [51.507929, -0.271267], [51.5016, -0.382307], [51.512443, -0.386102], [51.539956, -0.315478], [51.515557, -0.258007], [51.551536, -0.339283], [51.529534, -0.291209], [51.544373, -0.373579], [51.515931, -0.259001], [51.542328, -0.343079], [51.550282, -0.339617], [51.514983, -0.368141], [51.549991, -0.363715], [51.515194, -0.363953], [51.502782, -0.331834], [51.516239, -0.267637], [51.512911, -0.304514], [51.510547, -0.321463], [51.507508, -0.335408], [51.500235, -0.387686], [51.531586, -0.308722], [51.511371, -0.380087], [51.516582, -0.260418], [51.513636, -0.298722], [51.499367, -0.383394], [51.497665, -0.364437], [51.532463, -0.370688], [51.513948, -0.301593], [51.516933, -0.327858], [51.506738, -0.269727], [51.510465, -0.322042], [51.514674, -0.314537], [51.50588, -0.360252], [51.553234, -0.332153], [51.529295, -0.362727], [51.540369, -0.370117], [51.509125, -0.354372], [51.513417, -0.277545], [51.517064, -0.375561], [51.541537, -0.370075], [51.535127, -0.34262], [51.526466, -0.278206], [51.512835, -0.388394], [51.503117, -0.280383], [51.498012, -0.306508], [51.534032, -0.34785], [51.510303, -0.37436], [51.501518, -0.293987], [51.503295, -0.280232], [51.531469, -0.294453], [51.521697, -0.340369], [51.512443, -0.386102], [51.506729, -0.382557], [51.50866, -0.346895], [51.50366, -0.317826], [51.521102, -0.374985], [51.528106, -0.354841], [51.533304, -0.29078], [51.515423, -0.291738], [51.549127, -0.366198], [51.542172, -0.376974], [51.528604, -0.351939], [51.508254, -0.275001], [51.510628, -0.371899], [51.536151, -0.39031], [51.522122, -0.264099], [51.545955, -0.370927], [51.510428, -0.31945], [51.532786, -0.34876], [51.511823, -0.380215], [51.533691, -0.330128], [51.508282, -0.276874], [51.532663, -0.372122], [51.549145, -0.367495], [51.508047, -0.291581], [51.50694, -0.277357], [51.522038, -0.339059], [51.510199, -0.334878], [51.499047, -0.399398], [51.498847, -0.314545], [51.517121, -0.266451], [51.50085, -0.285223], [51.506103, -0.337765], [51.517416, -0.280421], [51.538303, -0.370335], [51.532593, -0.373566], [51.54203, -0.379719], [51.535083, -0.308016], [51.538696, -0.359794], [51.527246, -0.351267], [51.520816, -0.291536], [51.497371, -0.305667], [51.510128, -0.32364], [51.516357, -0.306548], [51.556181, -0.349789], [51.491985, -0.369826], [51.500262, -0.376591], [51.503021, -0.317129], [51.500746, -0.296609], [51.521487, -0.319331], [51.510518, -0.319446], [51.521931, -0.269439], [51.541024, -0.371968], [51.516132, -0.303386], [51.546309, -0.370481], [51.506667, -0.246818], [51.526801, -0.282662], [51.533372, -0.295391], [51.553336, -0.333015], [51.526624, -0.282813], [51.536754, -0.394903], [51.499477, -0.384831], [51.507479, -0.378208], [51.508552, -0.339261], [51.51063, -0.372043], [51.533012, -0.384365], [51.502319, -0.262834], [51.538933, -0.344645], [51.507597, -0.273153], [51.49982, -0.39015], [51.512363, -0.310155], [51.510299, -0.354762], [51.546225, -0.370917], [51.503605, -0.289154], [51.527644, -0.353992], [51.526611, -0.281948], [51.537214, -0.389119], [51.511665, -0.293031], [51.500977, -0.382761], [51.529747, -0.293508], [51.52824, -0.288807], [51.504573, -0.376149], [51.504333, -0.289703], [51.509309, -0.354653], [51.516451, -0.37025], [51.51084, -0.374197], [51.52994, -0.363857], [51.536867, -0.351208], [51.523224, -0.265642], [51.497101, -0.305677], [51.536337, -0.390736], [51.542737, -0.36585], [51.537566, -0.38853], [51.54876, -0.340105], [51.50941, -0.336348], [51.522686, -0.340333], [51.504605, -0.289837], [51.534653, -0.347251], [51.542556, -0.378691], [51.508431, -0.280903], [51.516303, -0.259852], [51.512771, -0.307258], [51.507121, -0.378364], [51.495996, -0.373717], [51.515081, -0.336718], [51.543339, -0.376789], [51.508724, -0.338679], [51.52994, -0.363857], [51.503062, -0.288886], [51.528397, -0.356416], [51.528219, -0.287366], [51.534772, -0.394684], [51.509438, -0.376841], [51.510039, -0.323643], [51.52721, -0.342331], [51.506584, -0.253305], [51.524756, -0.353231], [51.50977, -0.355501], [51.54045, -0.382515], [51.511233, -0.275754], [51.526078, -0.313395], [51.50712, -0.271298], [51.508723, -0.319657], [51.506733, -0.269439], [51.51596, -0.291573], [51.528568, -0.330315], [51.515342, -0.304712], [51.511291, -0.292036], [51.539583, -0.365386], [51.53588, -0.390175], [51.555897, -0.361628], [51.501501, -0.292835], [51.539679, -0.365815], [51.509716, -0.326249], [51.543165, -0.377228], [51.533922, -0.333724], [51.510158, -0.25778], [51.522753, -0.258164], [51.51464, -0.268995], [51.512146, -0.384095], [51.5194, -0.262472], [51.510788, -0.363967], [51.516939, -0.290816], [51.537517, -0.283701], [51.49869, -0.303601], [51.541654, -0.346276], [51.511329, -0.377062], [51.51327, -0.292106], [51.506577, -0.246821], [51.541077, -0.324666], [51.514079, -0.292076], [51.518213, -0.354765], [51.529756, -0.300284], [51.530791, -0.37983], [51.541601, -0.374687], [51.51053, -0.289183], [51.514584, -0.314541], [51.49566, -0.262511], [51.546662, -0.370036], [51.536597, -0.390006], [51.534743, -0.347248], [51.509407, -0.355226], [51.518662, -0.354749], [51.553745, -0.336462], [51.552858, -0.343706], [51.529553, -0.292506], [51.499158, -0.381241], [51.547443, -0.329624], [51.506268, -0.2745], [51.499994, -0.383228], [51.536151, -0.39031], [51.527352, -0.352417], [51.533852, -0.347857], [51.515068, -0.249378], [51.529457, -0.292077], [51.521306, -0.263697], [51.502591, -0.281267], [51.526066, -0.337759], [51.526463, -0.366], [51.511149, -0.319567], [51.542644, -0.378544], [51.531772, -0.366243], [51.494378, -0.267026], [51.496582, -0.325866], [51.527098, -0.284525], [51.506046, -0.378691], [51.526911, -0.259592], [51.527262, -0.35242], [51.552508, -0.350787], [51.514983, -0.368141], [51.547281, -0.369293], [51.532669, -0.379043], [51.497667, -0.364581], [51.531112, -0.390055], [51.506764, -0.378521], [51.516964, -0.368358], [51.51113, -0.375628], [51.506738, -0.269727], [51.513932, -0.312979], [51.542712, -0.376955], [51.52424, -0.374297], [51.51234, -0.385097], [51.504974, -0.379161], [51.538698, -0.359938], [51.495259, -0.372447], [51.521396, -0.263694], [51.504303, -0.376159], [51.538504, -0.358936], [51.518426, -0.376522], [51.503194, -0.380521], [51.524308, -0.353392], [51.528403, -0.356848], [51.521468, -0.274646], [51.517972, -0.281553], [51.513849, -0.252019], [51.526619, -0.282525], [51.530386, -0.350722], [51.510099, -0.272049], [51.498773, -0.303166], [51.532805, -0.375866], [51.506989, -0.311651], [51.506722, -0.299412], [51.508249, -0.388412], [51.51113, -0.375628], [51.53328, -0.29525], [51.509097, -0.352355], [51.507023, -0.377792], [51.52994, -0.363857], [51.541889, -0.375975], [51.551079, -0.332376], [51.551118, -0.373627], [51.508084, -0.337981], [51.532757, -0.378895], [51.535785, -0.376769], [51.530249, -0.297094], [51.508634, -0.338682], [51.498015, -0.376671], [51.510099, -0.272049], [51.500702, -0.287389], [51.524592, -0.316334], [51.531892, -0.33005], [51.543341, -0.376933], [51.530004, -0.292634], [51.527352, -0.352417], [51.511034, -0.305304], [51.512507, -0.313897], [51.535722, -0.346491], [51.509165, -0.331745], [51.516447, -0.306545], [51.543465, -0.353566], [51.510031, -0.291939], [51.526029, -0.254724], [51.512637, -0.387104], [51.509147, -0.305374], [51.527394, -0.292443], [51.507568, -0.378204], [51.501825, -0.265879], [51.513952, -0.301881], [51.515895, -0.375603], [51.510312, -0.362111], [51.532165, -0.31144], [51.551477, -0.360633], [51.542803, -0.377096], [51.551477, -0.360633], [51.520533, -0.366357], [51.538447, -0.387201], [51.515312, -0.2903], [51.528293, -0.355411], [51.54236, -0.377545], [51.512028, -0.311897], [51.511039, -0.31813], [51.533424, -0.330282], [51.533852, -0.347857], [51.496763, -0.326003], [51.506334, -0.260664], [51.528611, -0.326998], [51.527228, -0.349971], [51.498815, -0.306046], [51.521486, -0.26369], [51.528293, -0.355411], [51.528205, -0.292557], [51.535734, -0.392632], [51.513716, -0.249141], [51.501436, -0.294566], [51.550473, -0.372496], [51.521861, -0.371354], [51.510382, -0.322478], [51.524136, -0.341145], [51.499277, -0.383397], [51.520332, -0.339265], [51.541413, -0.374117], [51.500623, -0.306699], [51.51922, -0.262479], [51.516393, -0.296602], [51.513262, -0.297727], [51.54876, -0.340105], [51.49802, -0.313279], [51.516307, -0.321828], [51.509521, -0.356951], [51.511857, -0.382664], [51.502837, -0.316847], [51.527352, -0.352417], [51.508513, -0.274271], [51.541781, -0.374681], [51.536347, -0.34618], [51.546397, -0.370334], [51.528014, -0.3547], [51.533276, -0.397044], [51.54876, -0.340105], [51.516947, -0.291392], [51.503701, -0.333242], [51.516941, -0.29096], [51.541748, -0.346561], [51.503817, -0.380067], [51.521306, -0.263697], [51.525153, -0.305357], [51.503117, -0.280383], [51.510055, -0.287471], [51.542292, -0.379133], [51.507976, -0.305274], [51.52972, -0.24896], [51.533446, -0.396317], [51.512435, -0.385526], [51.539313, -0.346073], [51.530386, -0.350722], [51.540846, -0.372119], [51.501034, -0.285504], [51.531177, -0.292878], [51.521306, -0.263697], [51.497772, -0.308534], [51.549991, -0.363715], [51.498387, -0.371039], [51.499624, -0.299821], [51.525565, -0.265842], [51.533012, -0.384365], [51.527444, -0.352558], [51.533775, -0.38751], [51.515895, -0.375603], [51.500685, -0.381186], [51.532587, -0.373134], [51.548817, -0.344141], [51.49869, -0.303601], [51.523651, -0.364227], [51.551387, -0.360636], [51.509336, -0.331163], [51.529557, -0.292794], [51.524767, -0.341266], [51.527442, -0.352414], [51.526672, -0.292326], [51.493532, -0.313877], [51.528746, -0.292681], [51.534158, -0.40898], [51.513836, -0.251154], [51.536081, -0.391754], [51.536077, -0.391466], [51.551024, -0.373342], [51.528679, -0.28807], [51.515071, -0.249522], [51.519671, -0.250498], [51.515704, -0.249786], [51.515071, -0.249522], [51.52804, -0.250898], [51.515156, -0.24923], [51.557343, -0.362153], [51.556349, -0.336222], [51.534471, -0.260024], [51.501981, -0.282587], [51.501436, -0.294566], [51.491021, -0.371589], [51.503832, -0.355283], [51.499534, -0.299824], [51.50076, -0.285226], [51.50085, -0.285223], [51.536057, -0.390025], [51.524413, -0.260984], [51.53381, -0.332142], [51.513896, -0.249134], [51.528884, -0.289792], [51.515614, -0.355435], [51.507991, -0.275444], [51.537685, -0.345411], [51.548953, -0.366637], [51.533012, -0.384365], [51.533554, -0.314273], [51.553865, -0.377135], [51.522571, -0.251973], [51.530052, -0.295948], [51.536858, -0.38942], [51.527188, -0.284522], [51.532757, -0.378895], [51.527266, -0.302251], [51.515985, -0.375599], [51.521997, -0.374665], [51.554878, -0.359501], [51.500699, -0.2567], [51.51113, -0.375628], [51.523754, -0.265046], [51.533693, -0.323928], [51.547279, -0.369149], [51.544203, -0.380796], [51.544114, -0.374309], [51.53665, -0.367798], [51.532575, -0.372269], [51.540441, -0.317912], [51.544024, -0.374313], [51.53804, -0.345109], [51.509971, -0.37639], [51.524073, -0.317794], [51.53345, -0.325811], [51.510816, -0.372469], [51.509346, -0.319201], [51.523686, -0.26649], [51.535063, -0.357185], [51.532873, -0.374277], [51.51888, -0.344651], [51.533489, -0.386367], [51.531973, -0.310582], [51.5109, -0.296086], [51.530838, -0.300532], [51.522488, -0.258463], [51.50205, -0.382291], [51.553279, -0.341672], [51.547797, -0.393649], [51.513943, -0.252303], [51.539862, -0.315193], [51.528746, -0.292681], [51.51113, -0.375628], [51.528067, -0.352103], [51.497658, -0.396421], [51.528514, -0.351943], [51.502929, -0.380819], [51.546043, -0.370779], [51.547369, -0.369145], [51.535608, -0.390041], [51.516626, -0.281748], [51.528255, -0.365504], [51.527082, -0.352427], [51.539543, -0.311744], [51.510961, -0.300263], [51.503372, -0.380371], [51.51113, -0.375628], [51.499377, -0.384114], [51.521949, -0.371207], [51.509376, -0.271789], [51.51103, -0.374911], [51.511381, -0.292033], [51.542328, -0.343079], [51.492706, -0.369945], [51.524356, -0.257094], [51.529457, -0.292077], [51.5194, -0.262472], [51.549298, -0.365615], [51.506688, -0.290912], [51.52914, -0.351632], [51.497748, -0.376824], [51.511003, -0.29075], [51.509165, -0.331745], [51.508523, -0.281044], [51.500166, -0.369679], [51.543267, -0.378089], [51.50866, -0.346895], [51.512767, -0.319508], [51.528746, -0.292681], [51.515255, -0.355448], [51.515672, -0.37244], [51.51079, -0.319581], [51.528429, -0.32686], [51.547104, -0.369443], [51.515435, -0.355441], [51.512443, -0.386102], [51.513176, -0.304216], [51.513174, -0.304072], [51.504134, -0.307001], [51.529756, -0.294085], [51.547104, -0.369443], [51.537505, -0.345417], [51.506268, -0.2745], [51.506609, -0.248981], [51.52754, -0.352987], [51.529756, -0.294085], [51.524643, -0.36448], [51.531219, -0.365253], [51.508225, -0.341579], [51.51113, -0.375628], [51.539493, -0.384857], [51.524063, -0.374447], [51.547279, -0.369149], [51.530638, -0.299098], [51.533923, -0.290036], [51.520546, -0.273096], [51.508658, -0.346751], [51.520381, -0.311156], [51.499833, -0.264946], [51.502018, -0.316157], [51.503752, -0.317966], [51.528293, -0.355411], [51.5174, -0.285466], [51.510734, -0.373048], [51.54045, -0.382515], [51.497747, -0.396418], [51.527352, -0.352417], [51.535903, -0.391905], [51.500431, -0.388832], [51.549049, -0.380047], [51.503124, -0.388448], [51.508665, -0.334502], [51.533319, -0.348309], [51.506609, -0.248981], [51.535885, -0.345332], [51.513262, -0.297727], [51.54863, -0.375735], [51.50949, -0.329284], [51.506458, -0.256913], [51.536771, -0.370101], [51.541499, -0.373826], [51.538361, -0.387492], [51.529651, -0.293079], [51.50416, -0.333945], [51.512208, -0.37559], [51.538982, -0.360937], [51.507595, -0.273009], [51.540988, -0.343705], [51.512207, -0.336967], [51.508875, -0.274402], [51.551342, -0.350973], [51.528885, -0.271482], [51.531493, -0.37202], [51.516763, -0.266609], [51.527432, -0.32632], [51.530057, -0.296236], [51.510614, -0.370891], [51.519226, -0.250804], [51.498363, -0.305919], [51.529749, -0.293652], [51.534001, -0.320312], [51.529444, -0.291213], [51.52546, -0.365027], [51.518205, -0.291345], [51.509186, -0.352352], [51.542995, -0.377955], [51.499128, -0.265981], [51.535228, -0.35617], [51.54384, -0.38052], [51.508006, -0.276452], [51.53177, -0.309004], [51.535905, -0.392049], [51.528436, -0.259389], [51.548955, -0.366781], [51.509969, -0.325087], [51.49562, -0.31524], [51.555683, -0.359183], [51.552731, -0.360299], [51.540446, -0.324545], [51.501126, -0.285645], [51.512637, -0.387104], [51.536337, -0.390736], [51.521717, -0.291646], [51.512296, -0.336963], [51.55461, -0.346816], [51.513174, -0.304072], [51.535732, -0.392488], [51.501682, -0.330434], [51.513864, -0.302029], [51.529843, -0.293937], [51.553411, -0.376863], [51.510463, -0.321898], [51.541197, -0.32048], [51.537257, -0.353357], [51.520291, -0.311159], [51.511684, -0.300524], [51.535985, -0.391325], [51.532447, -0.369535], [51.504724, -0.267354], [51.509336, -0.331163], [51.536249, -0.390883], [51.532069, -0.311011], [51.549991, -0.363715], [51.505374, -0.356236], [51.535388, -0.393653], [51.536095, -0.347487], [51.535021, -0.34147], [51.527352, -0.352417], [51.510908, -0.290465], [51.552398, -0.349348], [51.51381, -0.249426], [51.508665, -0.334502], [51.533599, -0.329987], [51.502355, -0.358938], [51.501632, -0.28332], [51.524154, -0.292276], [51.536345, -0.346036], [51.531672, -0.308431], [51.499022, -0.301716], [51.506622, -0.268002], [51.532807, -0.37601], [51.533869, -0.387795], [51.51293, -0.305811], [51.527262, -0.35242], [51.536371, -0.34791], [51.528043, -0.251042], [51.530575, -0.294775], [51.494804, -0.372031], [51.504284, -0.355411], [51.553275, -0.341383], [51.52985, -0.294369], [51.53697, -0.345725], [51.504622, -0.334793], [51.517669, -0.279258], [51.508658, -0.346751], [51.514169, -0.292073], [51.533171, -0.402526], [51.514842, -0.252269], [51.501285, -0.284198], [51.526556, -0.278202], [51.497696, -0.309545], [51.530002, -0.387788], [51.532533, -0.375731], [51.511128, -0.375484], [51.515672, -0.37244], [51.520294, -0.375014], [51.52994, -0.363857], [51.527475, -0.285664], [51.524152, -0.292132], [51.508754, -0.334498], [51.526611, -0.281948], [51.513806, -0.249138], [51.508515, -0.274415], [51.543734, -0.37937], [51.54245, -0.377541], [51.502228, -0.287188], [51.503834, -0.355427], [51.50597, -0.266442], [51.522795, -0.291606], [51.517854, -0.323068], [51.543177, -0.378092], [51.498725, -0.306049], [51.53695, -0.389561], [51.512682, -0.270366], [51.515306, -0.302263], [51.52721, -0.342331], [51.512741, -0.388109], [51.53311, -0.384938], [51.527794, -0.326451], [51.5332, -0.398056], [51.526286, -0.259904], [51.533736, -0.326954], [51.504222, -0.306854], [51.543513, -0.37635], [51.53451, -0.388638], [51.496916, -0.311591], [51.508954, -0.273678], [51.506667, -0.246818], [51.500015, -0.27733], [51.50721, -0.271294], [51.508425, -0.305257], [51.508515, -0.274415], [51.522631, -0.262061], [51.509605, -0.356516], [51.497608, -0.309692], [51.507121, -0.378364], [51.531217, -0.365109], [51.530046, -0.295515], [51.531897, -0.349513], [51.514021, -0.300437], [51.517129, -0.260973], [51.508284, -0.277018], [51.533603, -0.323931], [51.536359, -0.347045], [51.508412, -0.279607], [51.505062, -0.379014], [51.508181, -0.276157], [51.509209, -0.353936], [51.53249, -0.315321], [51.509851, -0.291946], [51.52113, -0.377002], [51.508726, -0.338823], [51.536173, -0.346619], [51.508174, -0.337978], [51.523113, -0.36439], [51.545435, -0.385367], [51.512443, -0.386102], [51.510628, -0.371899], [51.530424, -0.296799], [51.534959, -0.349835], [51.534024, -0.334585], [51.513262, -0.297727], [51.511949, -0.31262], [51.51097, -0.377075], [51.520763, -0.369952], [51.509743, -0.347144], [51.537535, -0.353924], [51.495259, -0.372447], [51.54876, -0.340105], [51.532753, -0.378607], [51.512932, -0.305955], [51.524869, -0.304358], [51.507257, -0.375189], [51.524392, -0.308701], [51.519284, -0.341465], [51.529334, -0.32726], [51.542382, -0.37913], [51.513872, -0.265709], [51.510612, -0.370747], [51.553207, -0.330279], [51.511667, -0.293175], [51.527094, -0.284237], [51.551477, -0.360633], [51.532757, -0.378895], [51.533182, -0.396759], [51.535103, -0.347235], [51.520968, -0.339674], [51.533577, -0.328402], [51.547098, -0.369011], [51.501373, -0.28405], [51.508309, -0.278746], [51.50017, -0.37645], [51.532603, -0.316903], [51.531317, -0.352995], [51.521306, -0.263697], [51.506364, -0.26268], [51.536763, -0.350203], [51.500471, -0.277745], [51.519203, -0.367702], [51.526671, -0.34235], [51.526049, -0.274329], [51.506603, -0.266706], [51.512192, -0.292147], [51.499289, -0.264678], [51.506733, -0.269439], [51.499087, -0.30618], [51.511714, -0.385407], [51.502906, -0.385718], [51.519153, -0.270121], [51.495532, -0.315388], [51.535614, -0.390473], [51.506601, -0.248405], [51.499582, -0.328205], [51.509033, -0.354231], [51.502663, -0.381116], [51.511075, -0.271148], [51.524244, -0.292272], [51.532753, -0.372119], [51.540069, -0.367964], [51.512537, -0.386387], [51.510871, -0.319001], [51.52566, -0.315573], [51.50511, -0.375986], [51.537359, -0.393151], [51.530688, -0.372337], [51.502878, -0.357767], [51.500431, -0.388832], [51.514621, -0.255592], [51.52211, -0.306335], [51.517642, -0.283583], [51.515372, -0.376774], [51.533286, -0.320627], [51.53907, -0.36079], [51.514169, -0.292073], [51.496318, -0.270554], [51.511757, -0.381947], [51.512242, -0.384524], [51.547191, -0.369296], [51.519062, -0.357617], [51.545955, -0.370927], [51.523651, -0.364227], [51.537355, -0.35393], [51.527242, -0.350979], [51.506625, -0.24999], [51.542056, -0.375104], [51.526646, -0.278199], [51.509117, -0.353795], [51.552504, -0.350499], [51.521396, -0.263694], [51.506631, -0.250422], [51.511005, -0.290894], [51.515072, -0.304722], [51.541599, -0.374543], [51.525864, -0.292356], [51.509477, -0.32842], [51.533816, -0.282686], [51.528907, -0.360723], [51.507337, -0.355157], [51.533286, -0.371667], [51.528629, -0.328295], [51.50875, -0.346892], [51.55065, -0.340181], [51.528393, -0.356128], [51.511381, -0.292033], [51.50866, -0.346895], [51.521363, -0.323227], [51.547162, -0.373624], [51.519959, -0.319387], [51.533789, -0.330701], [51.511262, -0.37865], [51.506046, -0.378691], [51.521717, -0.291646], [51.549298, -0.365615], [51.512435, -0.385526], [51.522633, -0.262205], [51.522102, -0.262802], [51.511291, -0.292036], [51.530443, -0.298096], [51.508716, -0.338102], [51.508156, -0.274429], [51.507597, -0.273153], [51.538978, -0.360649], [51.538755, -0.344795], [51.508254, -0.275001], [51.529553, -0.292506], [51.523215, -0.33325], [51.516857, -0.291396], [51.508665, -0.334502], [51.494804, -0.3085], [51.532751, -0.371975], [51.513176, -0.304216], [51.509467, -0.327699], [51.541853, -0.37987], [51.509099, -0.295865], [51.529105, -0.292667], [51.510434, -0.288754], [51.556442, -0.362041], [51.528293, -0.355411], [51.508401, -0.266638], [51.528293, -0.355411], [51.549039, -0.366345], [51.509551, -0.327264], [51.513699, -0.303044], [51.541683, -0.374108], [51.534709, -0.28842], [51.506252, -0.304185], [51.512242, -0.384524], [51.535517, -0.344768], [51.553227, -0.376581], [51.514079, -0.292076], [51.51285, -0.306534], [51.534929, -0.341329], [51.517064, -0.369075], [51.5029, -0.314972], [51.515255, -0.355448], [51.549298, -0.365615], [51.533182, -0.396759], [51.512955, -0.276697], [51.504453, -0.279468], [51.510988, -0.371886], [51.52665, -0.278487], [51.496036, -0.38308], [51.536008, -0.34129], [51.515895, -0.375603], [51.53324, -0.33], [51.51041, -0.362684], [51.506624, -0.268146], [51.508646, -0.283345], [51.497772, -0.308534], [51.536871, -0.351496], [51.518105, -0.266125], [51.544637, -0.373137], [51.535607, -0.344765], [51.508174, -0.337978], [51.519037, -0.375203], [51.543284, -0.315499], [51.533077, -0.402241], [51.52359, -0.340732], [51.507499, -0.27258], [51.553322, -0.338352], [51.508326, -0.267649], [51.495846, -0.262936], [51.499878, -0.349086], [51.528043, -0.251042], [51.514807, -0.355608], [51.555897, -0.361628], [51.533217, -0.290927], [51.51195, -0.382949], [51.528335, -0.351949], [51.519199, -0.354585], [51.521537, -0.291653], [51.516558, -0.307982], [51.511132, -0.375772], [51.509716, -0.326249], [51.510099, -0.272049], [51.542452, -0.377686], [51.545528, -0.379018], [51.524827, -0.320217], [51.511938, -0.256559], [51.51113, -0.375628], [51.54045, -0.382515], [51.501692, -0.382447], [51.529555, -0.29265], [51.542554, -0.378547], [51.506332, -0.26052], [51.509403, -0.354938], [51.529833, -0.293217], [51.521484, -0.263546], [51.537627, -0.354065], [51.511783, -0.313635], [51.508433, -0.281047], [51.508554, -0.339405], [51.537566, -0.38853], [51.508814, -0.338675], [51.508415, -0.267646], [51.546043, -0.370779], [51.528815, -0.360582], [51.504692, -0.289689], [51.510875, -0.319289], [51.538845, -0.344792], [51.503062, -0.288886], [51.506469, -0.257633], [51.512342, -0.385241], [51.514408, -0.302297], [51.556261, -0.361903], [51.506347, -0.261528], [51.532621, -0.369096], [51.527352, -0.352417], [51.510938, -0.37477], [51.508286, -0.277162], [51.527124, -0.342622], [51.550155, -0.330679], [51.546842, -0.344357], [51.513806, -0.249138], [51.507878, -0.273863], [51.550966, -0.349833], [51.52898, -0.290221], [51.507121, -0.378364], [51.508437, -0.281335], [51.543267, -0.378089], [51.509467, -0.327699], [51.510948, -0.305596], [51.550081, -0.319143], [51.516211, -0.302662], [51.531772, -0.309148], [51.509415, -0.355802], [51.509147, -0.305374], [51.540189, -0.383102], [51.528604, -0.351939], [51.52689, -0.357912], [51.500262, -0.376591], [51.551626, -0.33928], [51.521236, -0.320638], [51.513091, -0.304507], [51.508634, -0.338682], [51.50742, -0.273304], [51.544689, -0.383375], [51.510459, -0.32161], [51.535317, -0.343334], [51.508468, -0.339697], [51.506565, -0.252009], [51.512144, -0.383951], [51.500514, -0.274573], [51.543171, -0.37766], [51.516943, -0.266602], [51.503582, -0.306157], [51.499369, -0.383538], [51.518029, -0.322773], [51.508744, -0.34646], [51.512559, -0.323839], [51.533182, -0.396759], [51.511383, -0.292177], [51.513802, -0.24885], [51.499754, -0.315088], [51.517914, -0.3591], [51.532683, -0.380051], [51.537126, -0.389266], [51.51937, -0.360344], [51.51084, -0.374197], [51.500907, -0.258565], [51.532261, -0.369109], [51.502991, -0.378799], [51.521533, -0.341528], [51.528293, -0.355411], [51.52898, -0.290221], [51.536409, -0.318926], [51.536075, -0.391322], [51.51234, -0.385097], [51.499862, -0.38669], [51.509432, -0.382894], [51.524758, -0.353376], [51.543091, -0.378384], [51.500689, -0.381474], [51.52176, -0.307068], [51.536251, -0.391027], [51.542096, -0.371497], [51.542013, -0.346263], [51.536001, -0.347202], [51.51079, -0.319581], [51.507271, -0.25717], [51.548777, -0.366932], [51.511176, -0.296508], [51.500262, -0.376591], [51.543514, -0.376494], [51.502282, -0.353754], [51.511857, -0.382664], [51.508499, -0.291708], [51.543682, -0.375623], [51.536802, -0.391873], [51.501373, -0.28405], [51.532751, -0.371975], [51.499764, -0.386118], [51.536393, -0.324117], [51.536239, -0.390163], [51.546309, -0.370481], [51.549991, -0.363715], [51.510622, -0.289323], [51.508309, -0.278746], [51.540988, -0.343705], [51.514799, -0.249388], [51.499171, -0.382249], [51.505433, -0.278854], [51.533054, -0.348607], [51.506458, -0.256913], [51.512934, -0.306099], [51.494118, -0.374504], [51.501197, -0.284345], [51.537126, -0.389266], [51.527236, -0.350547], [51.543514, -0.376494], [51.534709, -0.338454], [51.527238, -0.350691], [51.503883, -0.333379], [51.496756, -0.306698], [51.502048, -0.382147], [51.526041, -0.273753], [51.506334, -0.260664], [51.529482, -0.269297], [51.530238, -0.296373], [51.501281, -0.265611], [51.50665, -0.251718], [51.522488, -0.258463], [51.514674, -0.314537], [51.523345, -0.374617], [51.506674, -0.378524], [51.556349, -0.336222], [51.492796, -0.369941], [51.529185, -0.291943], [51.501247, -0.382751], [51.548252, -0.36796], [51.511291, -0.292036], [51.527352, -0.352417], [51.526156, -0.337756], [51.530831, -0.350417], [51.509657, -0.328413], [51.510275, -0.271755], [51.508323, -0.32313], [51.512269, -0.285082], [51.512835, -0.388394], [51.527822, -0.353842], [51.514017, -0.300149], [51.53927, -0.362225], [51.499375, -0.38397], [51.529645, -0.292647], [51.512386, -0.33696], [51.512637, -0.387104], [51.528293, -0.355411], [51.530943, -0.301537], [51.52226, -0.273463], [51.510298, -0.322913], [51.505374, -0.356236], [51.510728, -0.372616], [51.495994, -0.373573], [51.533358, -0.32567], [51.521396, -0.263694], [51.549556, -0.377721], [51.51204, -0.382946], [51.51234, -0.385097], [51.537269, -0.309954], [51.528293, -0.355411], [51.543852, -0.374896], [51.54271, -0.376811], [51.548689, -0.367079], [51.513051, -0.25277], [51.503198, -0.285855], [51.518048, -0.368752], [51.506268, -0.2745], [51.513797, -0.248562], [51.507597, -0.273153], [51.506483, -0.264693], [51.554046, -0.326065], [51.531977, -0.310871], [51.531204, -0.294751], [51.512677, -0.319511], [51.508292, -0.277594], [51.508665, -0.334502], [51.530757, -0.294912], [51.516307, -0.321828], [51.509634, -0.326829], [51.512395, -0.306119], [51.525203, -0.353071], [51.506364, -0.26268], [51.524846, -0.353228], [51.526857, -0.255989], [51.506494, -0.265413], [51.498767, -0.39206], [51.500401, -0.386671], [51.523032, -0.32677], [51.500352, -0.376588], [51.508667, -0.334646], [51.511761, -0.382235], [51.543177, -0.378092], [51.533286, -0.320627], [51.513804, -0.248994], [51.513262, -0.297727], [51.55064, -0.33946], [51.510031, -0.291939], [51.512693, -0.308125], [51.4999, -0.306438], [51.50374, -0.279927], [51.522682, -0.30862], [51.502464, -0.353891], [51.536075, -0.391322], [51.511329, -0.377062], [51.504187, -0.279766], [51.531453, -0.2933], [51.499838, -0.398073], [51.502684, -0.389184], [51.512852, -0.306678], [51.536643, -0.348044], [51.500977, -0.382761], [51.512932, -0.305955], [51.536395, -0.324261], [51.544112, -0.380655], [51.51078, -0.325201], [51.500938, -0.285075], [51.502426, -0.263983], [51.543854, -0.37504], [51.50721, -0.271294], [51.527542, -0.353131], [51.551078, -0.370744], [51.514769, -0.302427], [51.525251, -0.32467], [51.542644, -0.378544], [51.500885, -0.38262], [51.528436, -0.259389], [51.500727, -0.384211], [51.508265, -0.275722], [51.54761, -0.393079], [51.547369, -0.369145], [51.505512, -0.290379], [51.53477, -0.39454], [51.501981, -0.282587], [51.510628, -0.371899], [51.512934, -0.306099], [51.535975, -0.345329], [51.513925, -0.300009], [51.5203, -0.330618], [51.529756, -0.294085], [51.511201, -0.29204], [51.511329, -0.377062], [51.50094, -0.285219], [51.541235, -0.380757], [51.521196, -0.311558], [51.535392, -0.393942], [51.501858, -0.394545], [51.513923, -0.299865], [51.544689, -0.383375], [51.521306, -0.263697], [51.555723, -0.349228], [51.516668, -0.315617], [51.508671, -0.334934], [51.51062, -0.289179], [51.507842, -0.352689], [51.51234, -0.385097], [51.553753, -0.356223], [51.508665, -0.334502], [51.498503, -0.392501], [51.541875, -0.374966], [51.51113, -0.375628], [51.507746, -0.371569], [51.535987, -0.391469], [51.528606, -0.352083], [51.511759, -0.382091], [51.532841, -0.371972], [51.545058, -0.384083], [51.516404, -0.360451], [51.513804, -0.248994], [51.513804, -0.248994], [51.514799, -0.249388], [51.514347, -0.249261], [51.513806, -0.249138], [51.514437, -0.249258], [51.506663, -0.24653], [51.513808, -0.249282], [51.556972, -0.335767], [51.534471, -0.260024], [51.534379, -0.259883], [51.510718, -0.371896], [51.511783, -0.313635], [51.51051, -0.363401], [51.537566, -0.38853], [51.533695, -0.324072], [51.529467, -0.292798], [51.533317, -0.322788], [51.549987, -0.363427], [51.533202, -0.3982], [51.513095, -0.304796], [51.511236, -0.251686], [51.542466, -0.378695], [51.536295, -0.348922], [51.536345, -0.391313], [51.503228, -0.376485], [51.510463, -0.321898], [51.539142, -0.385446], [51.511471, -0.29203], [51.511132, -0.375772], [51.496402, -0.325873], [51.541505, -0.380748], [51.514333, -0.254306], [51.530778, -0.372334], [51.508525, -0.281188], [51.528481, -0.250305], [51.508219, -0.341147], [51.526727, -0.352728], [51.51771, -0.338207], [51.500938, -0.285075], [51.501981, -0.282587], [51.5392, -0.344491], [51.547528, -0.393658], [51.526711, -0.282665], [51.511343, -0.37807], [51.510196, -0.360242], [51.520833, -0.374995], [51.513716, -0.249141], [51.513896, -0.249134], [51.521394, -0.26355], [51.495532, -0.315388], [51.502435, -0.264559], [51.511944, -0.382517], [51.51113, -0.375628], [51.542622, -0.376958], [51.529747, -0.293508], [51.535805, -0.346056], [51.508703, -0.337238], [51.533092, -0.396762], [51.513217, -0.270058], [51.510628, -0.371899], [51.508144, -0.342158], [51.510698, -0.36397], [51.510728, -0.372616], [51.513636, -0.298722], [51.513937, -0.300873], [51.498017, -0.376815], [51.50868, -0.354676], [51.546133, -0.370776], [51.507215, -0.271582], [51.528746, -0.292681], [51.515895, -0.375603], [51.529839, -0.293649], [51.518638, -0.265673], [51.515435, -0.355441], [51.509501, -0.355511], [51.509007, -0.352358], [51.511859, -0.312624], [51.511329, -0.377062], [51.510696, -0.363826], [51.53203, -0.371856], [51.507143, -0.334989], [51.529343, -0.372673], [51.526692, -0.281369], [51.531772, -0.366243], [51.528815, -0.360582], [51.500792, -0.287386], [51.549991, -0.363715], [51.533536, -0.32552], [51.541325, -0.380754], [51.527161, -0.326186], [51.520151, -0.264606], [51.535944, -0.324134], [51.510873, -0.319145], [51.529454, -0.291933], [51.529751, -0.293796], [51.539677, -0.365671], [51.535328, -0.344054], [51.499363, -0.300407], [51.511661, -0.381518], [51.524226, -0.341142], [51.503844, -0.318107], [51.527444, -0.352558], [51.512044, -0.383234], [51.527614, -0.326458], [51.515792, -0.355284], [51.547191, -0.369296], [51.508809, -0.263884], [51.526144, -0.274614], [51.539142, -0.385446], [51.527661, -0.28609], [51.513876, -0.372648], [51.512236, -0.384092], [51.515895, -0.375603], [51.523129, -0.265358], [51.541077, -0.324666], [51.541507, -0.374402], [51.497363, -0.256107], [51.537656, -0.324359], [51.524244, -0.292272], [51.529753, -0.29394], [51.513933, -0.300585], [51.547104, -0.369443], [51.532557, -0.370973], [51.515191, -0.257588], [51.508644, -0.283201], [51.533643, -0.320469], [51.550457, -0.320283], [51.514794, -0.310353], [51.508725, -0.377299], [51.528485, -0.356269], [51.524519, -0.323832], [51.51079, -0.319581], [51.530349, -0.297811], [51.506597, -0.248117], [51.508468, -0.339697], [51.533924, -0.333868], [51.513176, -0.304216], [51.513819, -0.250002], [51.528423, -0.351802], [51.549039, -0.366345], [51.549554, -0.351759], [51.533835, -0.333871], [51.532707, -0.317908], [51.52375, -0.339285], [51.546309, -0.370481], [51.51605, -0.303965], [51.515536, -0.375615], [51.528023, -0.267911], [51.537102, -0.387537], [51.514637, -0.375647], [51.533624, -0.325372], [51.530057, -0.296236], [51.538998, -0.388047], [51.509636, -0.326973], [51.545488, -0.369645], [51.510093, -0.265565], [51.526127, -0.342082], [51.51614, -0.297764], [51.554798, -0.360225], [51.535734, -0.392632], [51.532441, -0.369102], [51.528865, -0.288495], [51.494582, -0.369013], [51.499363, -0.300407], [51.549388, -0.339938], [51.531114, -0.294755], [51.50721, -0.271294], [51.509209, -0.353936], [51.54045, -0.382515], [51.511381, -0.292033], [51.49649, -0.325725], [51.510139, -0.362549], [51.504832, -0.305535], [51.547279, -0.369149], [51.542238, -0.343082], [51.530751, -0.300679], [51.52013, -0.306264], [51.516063, -0.267932], [51.533012, -0.384365], [51.513826, -0.375532], [51.545506, -0.345271], [51.552431, -0.338962], [51.510624, -0.371611], [51.499119, -0.314679], [51.526233, -0.27461], [51.507121, -0.378364], [51.500887, -0.382764], [51.515895, -0.375603], [51.511345, -0.378214], [51.496276, -0.374427], [51.539543, -0.311744], [51.531716, -0.292858], [51.536982, -0.391867], [51.508137, -0.341726], [51.516427, -0.280458], [51.546419, -0.37192], [51.522218, -0.258473], [51.550642, -0.339604], [51.513305, -0.26991], [51.551402, -0.368136], [51.512764, -0.306825], [51.519201, -0.354729], [51.514912, -0.382556], [51.52348, -0.264768], [51.527843, -0.292426], [51.51035, -0.313976], [51.498351, -0.274223], [51.541879, -0.375254], [51.513847, -0.300876], [51.508309, -0.278746], [51.519605, -0.338715], [51.511273, -0.379514], [51.526207, -0.254573], [51.513125, -0.282168], [51.543766, -0.375187], [51.506483, -0.264693], [51.518237, -0.299704], [51.506806, -0.305173], [51.517856, -0.323212], [51.510534, -0.384584], [51.532718, -0.318629], [51.552702, -0.35179], [51.520761, -0.263286], [51.528203, -0.267904], [51.510125, -0.374511], [51.51113, -0.375628], [51.54989, -0.318429], [51.50085, -0.285223], [51.544689, -0.383375], [51.53237, -0.313163], [51.509798, -0.32567], [51.513802, -0.24885], [51.54045, -0.382515], [51.513806, -0.249138], [51.528436, -0.259389], [51.504443, -0.379756], [51.524898, -0.300177], [51.518115, -0.291349], [51.509211, -0.35408], [51.506334, -0.260664], [51.517601, -0.375398], [51.519466, -0.266938], [51.537392, -0.388969], [51.516857, -0.291396], [51.532577, -0.372414], [51.536465, -0.348195], [51.53084, -0.300676], [51.511381, -0.292033], [51.530701, -0.366858], [51.531455, -0.293444], [51.512777, -0.320228], [51.510626, -0.32074], [51.538361, -0.387492], [51.542644, -0.378544], [51.514437, -0.249258], [51.513636, -0.298722], [51.495081, -0.366114], [51.535967, -0.344752], [51.507595, -0.273009], [51.509405, -0.355082], [51.528969, -0.271047], [51.549991, -0.363715], [51.509625, -0.357956], [51.531229, -0.247604], [51.508954, -0.273678], [51.549991, -0.363715], [51.505255, -0.279005], [51.532481, -0.371984], [51.555634, -0.336537], [51.555723, -0.349228], [51.509885, -0.319182], [51.525862, -0.292212], [51.513808, -0.249282], [51.498273, -0.305922], [51.507595, -0.273009], [51.532902, -0.318911], [51.532586, -0.26024], [51.533092, -0.396762], [51.50551, -0.290235], [51.543075, -0.377231], [51.547896, -0.368261], [51.512839, -0.388682], [51.546309, -0.370481], [51.512281, -0.310735], [51.535049, -0.324455], [51.511291, -0.292036], [51.543253, -0.37708], [51.533587, -0.329122], [51.514637, -0.375647], [51.507337, -0.355157], [51.506629, -0.268434], [51.553943, -0.337753], [51.51084, -0.374197], [51.512603, -0.308129], [51.553324, -0.33215], [51.518115, -0.291349], [51.532926, -0.32064], [51.528718, -0.372984], [51.500262, -0.376591], [51.526233, -0.27461], [51.533142, -0.348459], [51.52379, -0.292001], [51.51659, -0.29155], [51.511075, -0.271148], [51.531457, -0.293588], [51.536869, -0.351352], [51.536873, -0.351641], [51.509758, -0.316592], [51.534476, -0.347402], [51.556532, -0.349199], [51.529553, -0.292506], [51.509257, -0.251618], [51.496916, -0.311591], [51.543558, -0.379665], [51.518659, -0.360947], [51.50236, -0.26557], [51.503295, -0.280232], [51.542204, -0.379281], [51.504876, -0.289971], [51.51081, -0.296089], [51.499379, -0.264675], [51.514904, -0.256446], [51.513217, -0.270058], [51.547279, -0.369149], [51.528247, -0.352096], [51.506607, -0.266994], [51.500638, -0.35194], [51.506494, -0.253309], [51.521896, -0.29164], [51.526519, -0.281808], [51.507652, -0.276897], [51.521244, -0.365755], [51.512741, -0.388109], [51.536163, -0.345899], [51.508468, -0.339697], [51.526024, -0.373224], [51.509147, -0.305374], [51.539873, -0.366818], [51.536581, -0.350065], [51.515353, -0.268536], [51.509859, -0.374809], [51.526942, -0.292316], [51.513262, -0.297727], [51.530153, -0.296665], [51.515071, -0.249522], [51.527172, -0.352423], [51.506587, -0.327517], [51.533392, -0.290632], [51.499395, -0.340315], [51.532481, -0.371984], [51.534047, -0.329826], [51.507571, -0.320852], [51.5014, -0.285922], [51.518861, -0.375497], [51.506287, -0.257496], [51.5049, -0.279307], [51.511266, -0.378938], [51.541675, -0.380021], [51.537063, -0.352355], [51.511567, -0.381233], [51.514349, -0.292066], [51.500897, -0.383484], [51.553213, -0.330711], [51.527124, -0.342622], [51.509476, -0.366608], [51.499022, -0.301716], [51.509147, -0.305374], [51.509498, -0.32986], [51.516307, -0.321828], [51.529444, -0.291213], [51.53486, -0.394537], [51.499277, -0.383397], [51.534862, -0.394681], [51.502228, -0.287188], [51.542915, -0.378679], [51.535309, -0.342757], [51.528811, -0.360294], [51.511339, -0.377782], [51.495788, -0.384673], [51.529457, -0.292077], [51.508716, -0.338102], [51.510869, -0.318857], [51.506494, -0.265413], [51.498589, -0.39221], [51.503435, -0.391463], [51.510152, -0.2879], [51.499989, -0.306435], [51.512835, -0.388394], [51.519515, -0.338718], [51.508284, -0.277018], [51.549991, -0.363715], [51.538451, -0.387489], [51.513215, -0.269914], [51.528293, -0.267901], [51.514571, -0.383865], [51.538882, -0.36022], [51.531233, -0.290569], [51.519284, -0.341465], [51.506334, -0.260664], [51.505086, -0.335785], [51.50205, -0.324657], [51.50829, -0.27745], [51.528161, -0.277277], [51.533388, -0.290344], [51.554349, -0.360241], [51.515708, -0.268234], [51.501151, -0.362872], [51.533962, -0.38808], [51.542238, -0.343082], [51.519561, -0.354716], [51.502942, -0.280677], [51.498767, -0.39206], [51.500433, -0.388976], [51.511783, -0.313635], [51.528514, -0.351943], [51.527124, -0.342622], [51.544202, -0.374162], [51.507337, -0.355157], [51.533691, -0.330128], [51.515162, -0.304719], [51.504745, -0.305682], [51.535409, -0.343475], [51.541942, -0.379867], [51.525855, -0.273327], [51.506584, -0.253305], [51.506633, -0.250566], [51.534045, -0.329682], [51.49902, -0.301572], [51.524154, -0.292276], [51.531772, -0.366243], [51.544691, -0.383519], [51.518962, -0.306307], [51.527352, -0.352417], [51.503834, -0.355427], [51.508405, -0.279175], [51.507024, -0.270869], [51.521183, -0.323234], [51.51113, -0.375628], [51.532439, -0.368958], [51.512521, -0.314905], [51.533484, -0.321917], [51.513262, -0.297727], [51.50303, -0.28053], [51.508256, -0.275145], [51.527124, -0.342622], [51.529653, -0.293223], [51.514584, -0.314541], [51.535034, -0.394098], [51.515284, -0.36395], [51.531772, -0.366243], [51.50634, -0.261096], [51.506655, -0.252006], [51.511269, -0.379226], [51.521394, -0.26355], [51.505966, -0.278402], [51.541313, -0.3734], [51.532667, -0.378899], [51.526238, -0.274898], [51.51079, -0.319581], [51.503834, -0.355427], [51.512435, -0.385526], [51.508248, -0.274569], [51.510528, -0.289039], [51.495083, -0.366258], [51.552504, -0.350499], [51.531453, -0.2933], [51.503385, -0.280228], [51.510936, -0.374626], [51.511614, -0.314362], [51.504453, -0.279468], [51.526121, -0.254864], [51.508062, -0.274144], [51.50103, -0.285216], [51.546123, -0.383035], [51.534563, -0.347254], [51.532696, -0.348764], [51.550743, -0.372486], [51.524488, -0.353385], [51.509716, -0.326249], [51.516395, -0.259992], [51.511371, -0.380087], [51.50873, -0.264608], [51.51104, -0.375631], [51.522841, -0.264071], [51.511373, -0.380231], [51.554798, -0.360225], [51.510523, -0.377235], [51.510254, -0.264262], [51.497308, -0.364594], [51.508336, -0.30526], [51.552641, -0.360302], [51.517812, -0.358238], [51.526801, -0.282662], [51.518205, -0.291345], [51.527352, -0.352417], [51.537447, -0.354071], [51.527683, -0.350387], [51.544461, -0.373432], [51.501067, -0.382758], [51.549991, -0.363715], [51.502242, -0.282001], [51.540846, -0.372119], [51.500442, -0.383068], [51.509376, -0.271789], [51.531985, -0.349366], [51.544637, -0.373137], [51.497835, -0.376677], [51.509975, -0.319178], [51.506652, -0.251862], [51.52013, -0.306264], [51.553324, -0.33215], [51.547991, -0.394652], [51.550819, -0.339453], [51.52363, -0.262744], [51.534831, -0.3471], [51.525474, -0.2719], [51.503295, -0.280232], [51.509348, -0.376844], [51.509929, -0.328547], [51.513636, -0.298722], [51.502325, -0.382713], [51.535328, -0.344054], [51.532623, -0.293401], [51.534234, -0.324052], [51.532759, -0.379039], [51.503793, -0.333383], [51.51021, -0.291933], [51.531655, -0.288679], [51.556442, -0.362041], [51.51641, -0.291557], [51.533135, -0.322651], [51.533497, -0.348158], [51.521762, -0.264112], [51.496916, -0.311591], [51.515743, -0.258432], [51.536363, -0.347333], [51.539652, -0.313038], [51.533282, -0.295395], [51.555248, -0.360208], [51.536888, -0.327271], [51.546043, -0.370779], [51.500771, -0.285946], [51.532357, -0.369538], [51.511463, -0.380228], [51.507597, -0.273153], [51.524154, -0.292276], [51.529749, -0.293652], [51.528127, -0.287225], [51.526146, -0.274758], [51.553943, -0.337753], [51.530725, -0.292751], [51.534737, -0.340471], [51.508634, -0.338682], [51.548601, -0.367226], [51.500107, -0.391436], [51.536555, -0.348191], [51.516897, -0.337949], [51.517836, -0.278387], [51.553136, -0.37644], [51.5103, -0.323057], [51.531095, -0.349975], [51.516763, -0.266609], [51.498606, -0.304037], [51.547281, -0.369293], [51.500852, -0.285367], [51.502784, -0.28832], [51.506655, -0.252006], [51.522797, -0.29175], [51.505689, -0.378848], [51.526466, -0.278206], [51.506548, -0.256909], [51.498815, -0.306046], [51.548437, -0.330021], [51.499277, -0.383397], [51.533841, -0.334304], [51.532443, -0.369246], [51.551761, -0.374614], [51.504622, -0.334793], [51.506364, -0.26268], [51.547367, -0.369001], [51.529741, -0.268567], [51.539334, -0.309733], [51.532671, -0.379187], [51.552504, -0.350499], [51.536191, -0.347916], [51.530038, -0.294939], [51.515837, -0.258717], [51.510011, -0.272197], [51.546043, -0.370779], [51.502929, -0.279813], [51.535968, -0.319519], [51.515703, -0.304843], [51.498964, -0.380239], [51.556349, -0.336222], [51.533695, -0.324072], [51.541887, -0.375831], [51.509047, -0.261714], [51.510457, -0.321466], [51.549991, -0.363715], [51.535801, -0.371433], [51.510199, -0.334878], [51.5543, -0.337595], [51.514298, -0.282412], [51.554131, -0.357508], [51.542148, -0.375245], [51.508954, -0.273678], [51.506624, -0.268146], [51.529461, -0.292366], [51.533091, -0.332168], [51.541693, -0.374828], [51.545435, -0.385367], [51.50875, -0.346892], [51.52245, -0.305025], [51.49773, -0.395122], [51.516023, -0.302092], [51.525214, -0.260377], [51.516252, -0.355988], [51.530728, -0.299094], [51.510216, -0.361682], [51.51079, -0.319581], [51.533288, -0.320771], [51.507976, -0.305274], [51.536247, -0.390739], [51.517676, -0.354928], [51.511324, -0.37663], [51.554001, -0.354628], [51.509117, -0.353795], [51.512207, -0.336967], [51.552326, -0.350649], [51.53709, -0.360717], [51.541077, -0.324666], [51.539973, -0.367535], [51.510712, -0.320448], [51.529643, -0.292503], [51.552345, -0.339253], [51.528293, -0.355411], [51.525584, -0.341813], [51.526818, -0.327352], [51.499644, -0.390444], [51.550642, -0.339604], [51.529939, -0.294366], [51.528862, -0.251732], [51.52222, -0.258617], [51.501501, -0.292835], [51.52907, -0.290218], [51.519402, -0.262617], [51.517264, -0.263995], [51.526144, -0.274614], [51.526278, -0.352744], [51.529845, -0.294081], [51.506531, -0.255757], [51.506614, -0.249269], [51.54045, -0.382515], [51.546309, -0.370481], [51.511059, -0.319571], [51.513268, -0.304357], [51.506584, -0.253305], [51.511373, -0.380231], [51.541971, -0.375395], [51.515895, -0.375603], [51.529651, -0.293079], [51.504974, -0.379161], [51.498632, -0.362818], [51.513616, -0.373378], [51.507217, -0.378793], [51.51926, -0.265216], [51.506609, -0.248981], [51.498098, -0.306217], [51.515837, -0.258717], [51.506507, -0.266277], [51.509929, -0.328547], [51.528526, -0.259386], [51.5442, -0.374018], [51.506458, -0.256913], [51.506338, -0.260952], [51.513476, -0.382751], [51.520726, -0.303936], [51.500977, -0.382761], [51.501858, -0.394545], [51.492077, -0.369967], [51.530347, -0.297667], [51.52656, -0.27849], [51.501807, -0.283025], [51.528791, -0.326991], [51.545779, -0.371221], [51.536597, -0.390006], [51.527442, -0.352414], [51.549504, -0.373973], [51.512144, -0.383951], [51.515423, -0.291738], [51.506652, -0.251862], [51.547369, -0.369145], [51.541835, -0.346414], [51.524986, -0.31877], [51.518029, -0.322773], [51.533726, -0.326234], [51.510182, -0.314847], [51.513379, -0.274952], [51.498329, -0.39294], [51.514854, -0.314531], [51.525812, -0.364438], [51.513576, -0.364011], [51.532288, -0.313743], [51.544689, -0.383375], [51.534653, -0.347251], [51.551113, -0.322134], [51.510626, -0.371755], [51.512685, -0.307549], [51.510432, -0.28861], [51.501074, -0.306827], [51.513178, -0.30436], [51.504443, -0.379756], [51.528396, -0.287215], [51.536059, -0.390169], [51.507783, -0.273578], [51.546724, -0.368015], [51.532063, -0.29198], [51.508565, -0.265623], [51.510312, -0.362111], [51.539381, -0.357318], [51.526583, -0.292329], [51.513127, -0.376998], [51.50374, -0.355142], [51.533587, -0.348155], [51.514859, -0.302424], [51.510528, -0.289039], [51.509605, -0.356516], [51.545779, -0.371221], [51.497025, -0.312883], [51.513262, -0.297727], [51.514584, -0.314541], [51.522887, -0.291747], [51.51081, -0.296089], [51.532805, -0.375866], [51.546662, -0.370036], [51.527751, -0.286086], [51.527442, -0.352414], [51.540988, -0.343705], [51.509603, -0.356372], [51.511369, -0.316101], [51.539493, -0.384857], [51.540069, -0.367964], [51.534683, -0.394687], [51.516763, -0.266609], [51.51084, -0.374197], [51.508952, -0.34847], [51.506584, -0.253305], [51.508677, -0.335366], [51.518423, -0.306327], [51.529853, -0.351173], [51.535319, -0.343478], [51.53392, -0.33358], [51.545426, -0.371667], [51.527352, -0.352417], [51.532786, -0.34876], [51.500218, -0.373423], [51.510875, -0.319289], [51.526062, -0.337471], [51.532593, -0.373566], [51.51119, -0.366979], [51.512809, -0.2486], [51.537359, -0.393151], [51.512541, -0.386675], [51.553743, -0.336317], [51.513262, -0.297727], [51.547984, -0.368114], [51.551152, -0.350259], [51.539299, -0.307283], [51.513217, -0.270058], [51.549984, -0.318714], [51.534016, -0.334009], [51.506618, -0.249557], [51.553207, -0.330279], [51.513831, -0.299724], [51.529651, -0.293079], [51.511948, -0.382805], [51.53371, -0.331425], [51.526493, -0.292332], [51.531582, -0.308434], [51.527228, -0.349971], [51.543666, -0.342309], [51.508665, -0.334502], [51.506652, -0.251862], [51.536163, -0.391175], [51.533597, -0.329843], [51.536871, -0.351496], [51.532611, -0.330023], [51.512936, -0.389255], [51.528247, -0.352096], [51.495259, -0.372447], [51.503997, -0.38006], [51.508433, -0.281047], [51.522615, -0.291613], [51.511228, -0.376201], [51.529737, -0.292788], [51.530094, -0.29263], [51.5194, -0.262472], [51.497316, -0.39773], [51.535409, -0.343475], [51.508433, -0.281047], [51.519053, -0.363383], [51.50678, -0.291052], [51.507337, -0.355157], [51.53392, -0.33358], [51.539144, -0.38559], [51.549624, -0.343968], [51.535905, -0.392049], [51.534991, -0.390928], [51.539489, -0.384568], [51.525214, -0.260377], [51.531628, -0.293005], [51.539751, -0.397105], [51.521859, -0.37121], [51.528568, -0.330315], [51.51071, -0.320304], [51.552606, -0.35136], [51.516562, -0.30827], [51.512193, -0.310882], [51.509405, -0.323378], [51.502942, -0.280677], [51.509119, -0.35394], [51.521396, -0.263694], [51.540988, -0.343705], [51.514567, -0.319586], [51.515904, -0.331355], [51.524936, -0.353225], [51.51668, -0.267044], [51.524154, -0.292276], [51.520833, -0.374995], [51.500799, -0.382911], [51.511191, -0.29132], [51.526025, -0.266545], [51.519973, -0.264757], [51.517974, -0.281697], [51.510246, -0.288184], [51.507121, -0.378364], [51.528707, -0.327427], [51.508716, -0.338102], [51.534274, -0.289446], [51.520198, -0.261721], [51.509946, -0.355207], [51.512934, -0.306099], [51.516307, -0.321828], [51.527206, -0.267365], [51.524997, -0.270044], [51.537265, -0.392866], [51.497772, -0.308534], [51.528815, -0.360582], [51.514429, -0.254735], [51.511287, -0.291748], [51.507315, -0.272299], [51.536961, -0.351493], [51.529553, -0.292506], [51.50155, -0.271652], [51.532084, -0.330908], [51.514019, -0.300293], [51.55309, -0.353795], [51.515672, -0.37244], [51.51126, -0.378506], [51.536249, -0.390883], [51.511383, -0.292177], [51.521396, -0.263694], [51.515611, -0.304702], [51.553875, -0.339342], [51.530487, -0.294922], [51.515493, -0.334108], [51.511949, -0.31262], [51.508399, -0.278743], [51.531584, -0.308578], [51.522682, -0.30862], [51.511279, -0.366976], [51.500938, -0.285075], [51.512639, -0.387248], [51.503194, -0.380521], [51.543511, -0.376206], [51.512687, -0.320231], [51.511471, -0.380804], [51.516013, -0.301372], [51.540996, -0.36995], [51.515783, -0.291724], [51.512424, -0.252938], [51.511238, -0.25183], [51.519693, -0.264047], [51.511258, -0.378362], [51.516769, -0.291543], [51.527569, -0.285949], [51.510377, -0.32219], [51.526146, -0.274758], [51.528986, -0.37283], [51.52723, -0.350115], [51.529452, -0.291789], [51.533027, -0.321357], [51.512764, -0.306825], [51.532159, -0.292409], [51.549127, -0.366198], [51.536618, -0.391591], [51.510528, -0.289039], [51.535905, -0.392049], [51.526399, -0.342216], [51.511463, -0.380228], [51.534154, -0.408692], [51.513806, -0.249138], [51.513804, -0.248994], [51.513804, -0.248994], [51.513735, -0.250438], [51.513804, -0.248994], [51.555803, -0.361343], [51.529737, -0.268278], [51.529572, -0.269294], [51.532743, -0.246681], [51.500846, -0.284935], [51.515704, -0.249786], [51.532751, -0.371975], [51.514396, -0.332851], [51.542642, -0.3784], [51.52744, -0.35227], [51.52719, -0.284666], [51.501032, -0.28536], [51.547797, -0.393649], [51.506609, -0.248981], [51.510244, -0.28804], [51.516335, -0.249906], [51.533192, -0.320342], [51.532387, -0.371699], [51.531536, -0.292865], [51.506458, -0.256913], [51.515356, -0.375622], [51.542548, -0.345955], [51.528393, -0.356128], [51.531467, -0.294309], [51.529525, -0.372811], [51.527824, -0.353986], [51.523167, -0.323594], [51.52249, -0.264661], [51.519402, -0.262617], [51.510696, -0.370311], [51.523041, -0.333689], [51.554349, -0.360241], [51.528719, -0.360153], [51.544012, -0.379938], [51.550081, -0.319143], [51.515672, -0.37244], [51.533014, -0.384509], [51.51857, -0.354608], [51.51015, -0.287756], [51.526487, -0.279646], [51.542336, -0.375815], [51.538722, -0.310909], [51.50223, -0.287332], [51.5007, -0.287245], [51.494997, -0.260231], [51.491977, -0.312061], [51.499883, -0.29909], [51.501979, -0.282443], [51.498964, -0.380239], [51.506928, -0.27044], [51.495077, -0.372309], [51.519037, -0.375203], [51.514086, -0.35549], [51.521394, -0.26355], [51.528701, -0.326995], [51.521718, -0.316584], [51.529074, -0.290506], [51.515895, -0.375603], [51.52416, -0.323846], [51.528773, -0.288355], [51.526753, -0.354601], [51.516013, -0.301372], [51.548691, -0.367223], [51.530531, -0.297948], [51.54876, -0.340105], [51.51219, -0.387264], [51.533243, -0.323944], [51.530546, -0.298957], [51.535815, -0.392052], [51.530038, -0.294939], [51.502663, -0.381116], [51.52424, -0.267478], [51.51079, -0.319581], [51.506019, -0.269754], [51.506584, -0.253305], [51.555191, -0.336986], [51.512957, -0.252485], [51.526802, -0.358059], [51.51698, -0.32483], [51.506911, -0.37621], [51.515895, -0.375603], [51.519883, -0.26476], [51.496937, -0.313031], [51.516679, -0.291546], [51.514169, -0.292073], [51.553234, -0.332153], [51.515883, -0.304836], [51.550656, -0.340613], [51.534655, -0.347395], [51.528656, -0.292684], [51.507591, -0.272721], [51.531894, -0.292707], [51.511007, -0.291038], [51.533691, -0.330128], [51.51079, -0.319581], [51.506637, -0.26901], [51.532805, -0.375866], [51.495268, -0.260365], [51.51659, -0.29155], [51.524136, -0.341145], [51.534093, -0.397592], [51.506334, -0.260664], [51.532367, -0.313019], [51.515743, -0.258432], [51.510792, -0.319725], [51.524202, -0.252775], [51.526455, -0.352594], [51.49773, -0.395122], [51.521306, -0.263697], [51.512691, -0.307981], [51.508217, -0.366653], [51.507427, -0.374463], [51.52753, -0.352266], [51.535881, -0.345044], [51.526052, -0.274473], [51.51088, -0.319577], [51.510718, -0.371896], [51.527352, -0.352417], [51.514969, -0.316256], [51.55286, -0.376017], [51.504768, -0.27643], [51.506481, -0.264549], [51.514911, -0.337445], [51.506624, -0.268146], [51.511046, -0.257026], [51.516694, -0.330029], [51.519201, -0.354729], [51.499438, -0.388578], [51.52973, -0.292355], [51.516142, -0.291711], [51.543293, -0.379963], [51.51113, -0.375628], [51.549298, -0.365615], [51.536597, -0.390006], [51.532243, -0.367812], [51.533442, -0.350611], [51.51122, -0.375625], [51.526455, -0.352594], [51.511266, -0.378938], [51.499481, -0.385119], [51.513001, -0.304511], [51.5098, -0.325814], [51.499912, -0.383807], [51.513945, -0.252447], [51.503423, -0.332676], [51.518119, -0.32277], [51.526464, -0.278061], [51.545955, -0.370927], [51.531872, -0.36696], [51.507315, -0.272299], [51.513636, -0.298722], [51.526146, -0.274758], [51.509475, -0.328275], [51.511293, -0.29218], [51.526031, -0.254868], [51.550831, -0.321279], [51.532236, -0.31014], [51.52684, -0.266947], [51.508354, -0.344312], [51.529428, -0.327545], [51.506961, -0.254444], [51.529653, -0.293223], [51.511353, -0.378791], [51.508237, -0.387547], [51.52973, -0.292355], [51.536323, -0.319217], [51.508668, -0.347471], [51.536335, -0.390592], [51.526658, -0.266809], [51.5306, -0.372484], [51.50712, -0.271298], [51.552552, -0.360305], [51.533748, -0.321475], [51.502745, -0.316707], [51.526493, -0.292332], [51.539363, -0.36251], [51.523679, -0.266058], [51.552057, -0.350659], [51.521758, -0.263824], [51.510869, -0.318857], [51.51302, -0.305807], [51.509819, -0.358958], [51.498269, -0.305634], [51.511268, -0.379082], [51.506389, -0.258356], [51.501429, -0.257393], [51.536871, -0.351496], [51.519772, -0.37633], [51.535305, -0.342469], [51.51088, -0.319577], [51.537564, -0.324218], [51.53657, -0.317622], [51.520454, -0.285207], [51.516753, -0.327865], [51.532998, -0.31934], [51.514857, -0.321016], [51.552341, -0.338965], [51.501155, -0.257115], [51.508412, -0.279607], [51.512545, -0.386963], [51.513158, -0.259972], [51.509215, -0.354368], [51.496999, -0.342563], [51.535893, -0.345908], [51.497373, -0.305811], [51.517576, -0.291369], [51.51072, -0.289896], [51.512283, -0.310879], [51.509467, -0.327699], [51.537988, -0.309927], [51.503883, -0.333379], [51.527394, -0.292443], [51.521183, -0.323234], [51.535993, -0.346626], [51.510875, -0.319289], [51.508716, -0.338102], [51.502306, -0.255918], [51.547831, -0.344322], [51.512693, -0.308125], [51.534097, -0.295797], [51.536303, -0.32412], [51.500623, -0.306699], [51.517601, -0.362426], [51.547191, -0.369296], [51.514567, -0.319586], [51.501396, -0.29183], [51.510457, -0.321466], [51.50959, -0.355508], [51.513181, -0.304504], [51.513856, -0.320188], [51.529138, -0.351487], [51.531966, -0.31015], [51.523863, -0.353696], [51.545164, -0.372253], [51.552807, -0.327408], [51.510608, -0.363974], [51.495872, -0.371272], [51.52929, -0.268439], [51.507506, -0.297654], [51.511518, -0.270699], [51.515001, -0.337441], [51.512367, -0.291852], [51.531802, -0.330053], [51.51131, -0.305726], [51.530474, -0.350574], [51.53675, -0.317615], [51.518516, -0.281821], [51.506584, -0.247253], [51.529827, -0.292784], [51.532481, -0.371984], [51.533957, -0.407401], [51.518792, -0.338456], [51.510298, -0.322913], [51.529467, -0.292798], [51.498722, -0.362815], [51.507221, -0.379081], [51.536861, -0.350776], [51.535801, -0.371433], [51.509018, -0.284195], [51.547367, -0.369001], [51.513937, -0.300873], [51.513269, -0.38074], [51.510788, -0.319437], [51.507345, -0.305153], [51.510147, -0.287612], [51.506584, -0.247253], [51.497488, -0.364588], [51.535702, -0.390326], [51.512593, -0.252211], [51.523795, -0.298488], [51.514525, -0.261217], [51.510057, -0.376099], [51.506366, -0.262824], [51.509376, -0.271789], [51.54675, -0.369889], [51.535817, -0.392196], [51.508109, -0.27126], [51.535503, -0.34376], [51.511375, -0.380375], [51.513287, -0.375551], [51.51124, -0.377065], [51.524797, -0.256501], [51.553136, -0.37644], [51.549991, -0.363715], [51.514349, -0.292066], [51.513714, -0.248997], [51.527252, -0.3517], [51.535466, -0.392785], [51.51659, -0.29155], [51.53138, -0.294456], [51.525473, -0.353061], [51.52897, -0.326985], [51.51832, -0.375372], [51.513725, -0.249717], [51.508431, -0.280903], [51.513894, -0.24899], [51.540656, -0.371404], [51.511612, -0.314218], [51.533276, -0.397044], [51.549991, -0.363715], [51.552609, -0.338811], [51.508665, -0.334502], [51.511287, -0.291748], [51.510628, -0.371899], [51.507595, -0.273009], [51.520465, -0.361458], [51.500619, -0.382918], [51.50725, -0.355304], [51.539316, -0.308436], [51.50836, -0.344744], [51.55381, -0.36026], [51.493348, -0.313595], [51.534371, -0.296075], [51.50471, -0.379603], [51.530448, -0.374508], [51.528227, -0.350655], [51.525839, -0.260065], [51.550843, -0.373204], [51.497004, -0.311444], [51.501067, -0.382758], [51.524136, -0.341145], [51.50531, -0.326267], [51.50165, -0.359972], [51.542799, -0.350994], [51.503885, -0.333523], [51.532805, -0.375866], [51.524324, -0.260988], [51.516329, -0.267634], [51.504306, -0.306419], [51.506849, -0.339611], [51.511614, -0.314362], [51.51113, -0.375628], [51.511849, -0.375602], [51.49777, -0.30839], [51.511757, -0.381947], [51.51015, -0.287756], [51.545779, -0.371221], [51.553234, -0.332153], [51.521306, -0.263697], [51.507778, -0.291591], [51.517024, -0.309118], [51.511256, -0.378218], [51.513215, -0.269914], [51.507778, -0.291591], [51.530575, -0.294775], [51.511328, -0.376918], [51.508488, -0.26649], [51.530997, -0.292885], [51.518934, -0.310633], [51.530926, -0.300385], [51.546628, -0.329222], [51.512848, -0.30639], [51.506522, -0.249129], [51.513017, -0.305663], [51.522575, -0.338895], [51.529032, -0.300023], [51.504187, -0.279766], [51.515074, -0.304866], [51.531099, -0.382559], [51.531294, -0.294748], [51.527232, -0.350259], [51.526541, -0.277194], [51.511152, -0.370727], [51.50319, -0.380233], [51.519388, -0.310904], [51.50652, -0.255037], [51.521944, -0.26425], [51.531294, -0.294748], [51.534755, -0.360945], [51.551679, -0.323988], [51.54516, -0.384944], [51.533608, -0.293075], [51.500623, -0.306699], [51.514637, -0.375647], [51.50712, -0.271298], [51.532927, -0.37168], [51.511375, -0.261048], [51.502137, -0.268749], [51.53051, -0.372487], [51.518015, -0.266129], [51.544691, -0.383519], [51.535805, -0.346056], [51.539652, -0.313038], [51.511076, -0.365254], [51.511252, -0.37793], [51.508248, -0.274569], [51.534001, -0.320312], [51.541883, -0.343384], [51.502279, -0.385885], [51.53265, -0.295274], [51.555803, -0.361343], [51.51794, -0.322777], [51.516947, -0.291392], [51.520376, -0.26157], [51.509483, -0.328852], [51.514134, -0.302019], [51.529197, -0.362154], [51.522213, -0.364278], [51.51204, -0.382946], [51.514169, -0.304467], [51.509798, -0.32567], [51.512148, -0.384239], [51.498555, -0.376652], [51.547189, -0.369152], [51.508179, -0.276013], [51.498817, -0.30619], [51.5278, -0.352257], [51.544026, -0.380947], [51.535216, -0.394236], [51.530627, -0.298377], [51.508662, -0.334358], [51.535308, -0.355446], [51.508756, -0.334642], [51.543269, -0.378233], [51.527055, -0.344066], [51.511522, -0.314221], [51.522755, -0.258308], [51.512773, -0.307402], [51.511383, -0.292177], [51.539949, -0.385273], [51.509208, -0.33477], [51.536163, -0.391175], [51.508807, -0.26374], [51.539929, -0.383832], [51.522618, -0.291757], [51.506344, -0.261384], [51.544247, -0.370988], [51.49649, -0.325725], [51.526942, -0.342485], [51.51072, -0.37204], [51.535912, -0.347205], [51.509683, -0.28662], [51.539738, -0.344327], [51.513093, -0.304651], [51.52712, -0.342334], [51.509336, -0.281301], [51.51224, -0.38438], [51.532282, -0.390158], [51.537916, -0.394429], [51.550291, -0.372358], [51.50875, -0.33421], [51.498729, -0.275505], [51.511383, -0.292177], [51.514299, -0.31974], [51.514585, -0.320882], [51.54208, -0.376833], [51.512505, -0.252358], [51.537214, -0.389119], [51.507345, -0.305153], [51.543511, -0.376206], [51.508054, -0.342161], [51.535327, -0.363232], [51.511186, -0.366691], [51.512531, -0.385955], [51.534858, -0.394393], [51.511387, -0.292465], [51.509258, -0.376847], [51.527514, -0.338427], [51.531453, -0.2933], [51.509775, -0.286761], [51.511465, -0.380372], [51.526666, -0.291893], [51.51044, -0.289186], [51.500623, -0.306699], [51.497732, -0.305798], [51.550831, -0.321279], [51.531772, -0.309148], [51.532655, -0.371546], [51.506633, -0.250566], [51.509234, -0.336643], [51.498725, -0.306049], [51.545162, -0.372109], [51.531185, -0.349972], [51.497898, -0.394252], [51.507121, -0.378364], [51.510868, -0.257177], [51.527569, -0.285949], [51.547984, -0.368114], [51.53291, -0.319487], [51.499393, -0.378783], [51.513438, -0.30363], [51.540988, -0.343705], [51.526466, -0.278206], [51.541693, -0.374828], [51.512642, -0.35511], [51.545058, -0.384083], [51.527636, -0.353416], [51.527352, -0.352417], [51.533777, -0.329836], [51.509507, -0.355943], [51.503451, -0.266393], [51.506629, -0.268434], [51.50481, -0.27931], [51.526204, -0.266538], [51.517748, -0.266283], [51.521931, -0.325225], [51.499457, -0.383391], [51.499286, -0.276637], [51.496371, -0.374856], [51.549298, -0.365615], [51.504972, -0.379017], [51.530757, -0.294912], [51.503113, -0.280095], [51.528746, -0.292681], [51.52762, -0.352263], [51.503377, -0.354867], [51.535532, -0.391053], [51.511759, -0.382091], [51.536672, -0.305938], [51.504194, -0.355414], [51.533397, -0.328408], [51.521256, -0.373106], [51.551184, -0.371894], [51.535398, -0.355443], [51.50908, -0.376998], [51.505957, -0.378694], [51.506618, -0.249557], [51.521013, -0.374988], [51.553181, -0.360283], [51.502223, -0.381852], [51.524799, -0.256645], [51.553873, -0.339198], [51.526466, -0.278206], [51.526519, -0.281808], [51.551258, -0.351409], [51.536967, -0.371248], [51.539284, -0.306274], [51.512533, -0.386099], [51.528885, -0.271482], [51.523215, -0.33325], [51.512936, -0.306243], [51.506635, -0.268866], [51.536371, -0.34791], [51.531292, -0.294604], [51.51234, -0.385097], [51.52896, -0.351638], [51.528815, -0.360582], [51.537566, -0.38853], [51.509467, -0.327699], [51.510149, -0.376239], [51.527228, -0.349971], [51.513028, -0.389396], [51.508675, -0.335222], [51.509127, -0.354516], [51.49976, -0.38583], [51.516947, -0.291392], [51.541146, -0.323221], [51.509625, -0.357956], [51.51081, -0.271446], [51.511132, -0.375772], [51.50875, -0.346892], [51.513266, -0.304213], [51.509945, -0.292231], [51.510532, -0.289327], [51.508667, -0.334646], [51.512693, -0.308125], [51.539956, -0.315478], [51.50223, -0.287332], [51.514413, -0.271886], [51.506667, -0.246818], [51.528395, -0.356272], [51.535396, -0.355299], [51.511761, -0.382235], [51.509771, -0.286473], [51.508414, -0.279751], [51.515284, -0.36395], [51.537269, -0.309954], [51.526432, -0.2759], [51.529457, -0.292077], [51.520007, -0.291566], [51.509411, -0.355514], [51.495233, -0.270163], [51.51079, -0.319581], [51.519582, -0.26261], [51.528293, -0.355411], [51.504726, -0.380755], [51.508744, -0.333778], [51.511222, -0.375769], [51.504677, -0.270237], [51.509467, -0.327699], [51.532807, -0.37601], [51.511567, -0.381233], [51.507212, -0.271438], [51.509376, -0.271789], [51.549989, -0.363571], [51.508523, -0.281044], [51.553589, -0.338198], [51.527567, -0.285805], [51.506368, -0.256916], [51.500322, -0.367944], [51.508632, -0.338538], [51.536507, -0.390009], [51.504455, -0.279612], [51.507503, -0.272868], [51.497435, -0.310131], [51.529444, -0.291213], [51.51084, -0.374197], [51.5016, -0.382307], [51.506633, -0.250566], [51.521751, -0.263392], [51.499923, -0.277189], [51.507299, -0.378214], [51.511565, -0.336125], [51.510866, -0.382555], [51.499275, -0.383253], [51.496849, -0.313178], [51.512909, -0.249316], [51.506618, -0.249557], [51.516939, -0.334632], [51.539338, -0.310021], [51.506494, -0.265413], [51.550619, -0.338018], [51.512637, -0.387104], [51.509436, -0.376697], [51.534094, -0.289453], [51.517804, -0.357662], [51.527334, -0.35112], [51.504214, -0.306278], [51.500938, -0.285075], [51.516853, -0.266605], [51.523608, -0.291864], [51.511003, -0.29075], [51.51926, -0.265216], [51.505893, -0.38057], [51.533741, -0.289898], [51.512932, -0.388967], [51.513181, -0.304504], [51.511458, -0.291165], [51.512928, -0.305666], [51.496133, -0.264078], [51.534551, -0.404785], [51.50094, -0.285219], [51.515493, -0.334108], [51.553947, -0.338041], [51.509119, -0.35394], [51.535499, -0.343471], [51.530932, -0.300817], [51.498392, -0.31413], [51.506603, -0.266706], [51.513736, -0.375535], [51.507687, -0.273149], [51.502157, -0.307075], [51.497263, -0.310714], [51.517816, -0.283144], [51.514406, -0.302153], [51.506599, -0.290915], [51.547721, -0.368556], [51.556353, -0.362044], [51.515985, -0.375599], [51.509117, -0.284768], [51.502681, -0.281264], [51.545867, -0.371074], [51.531684, -0.36639], [51.509773, -0.286617], [51.533741, -0.289898], [51.498677, -0.392063], [51.522931, -0.258013], [51.508754, -0.334498], [51.526286, -0.259904], [51.529791, -0.372513], [51.511477, -0.381236], [51.532591, -0.373422], [51.53348, -0.290485], [51.515495, -0.334253], [51.527084, -0.253098], [51.506485, -0.264837], [51.527288, -0.341463], [51.512397, -0.306263], [51.511322, -0.376486], [51.537727, -0.354782], [51.527726, -0.353413], [51.527302, -0.292302], [51.551347, -0.319673], [51.517316, -0.285901], [51.50866, -0.346895], [51.523345, -0.374617], [51.498815, -0.306046], [51.545779, -0.371221], [51.503205, -0.280235], [51.52424, -0.374297], [51.509467, -0.327699], [51.513181, -0.304504], [51.545779, -0.371221], [51.511401, -0.256724], [51.506524, -0.249273], [51.51088, -0.364108], [51.51072, -0.37204], [51.513804, -0.248994], [51.511857, -0.382664], [51.52195, -0.339206], [51.506586, -0.352878], [51.496937, -0.313031], [51.505421, -0.379001], [51.540629, -0.318482], [51.533182, -0.396759], [51.514855, -0.308333], [51.534655, -0.347395], [51.546019, -0.38203], [51.528091, -0.37315], [51.507811, -0.337703], [51.529827, -0.292784], [51.516655, -0.327292], [51.50842, -0.280183], [51.548957, -0.366925], [51.526062, -0.337471], [51.510792, -0.319725], [51.513305, -0.26991], [51.549938, -0.353476], [51.548514, -0.367374], [51.508309, -0.278746], [51.512541, -0.386675], [51.508653, -0.271528], [51.532947, -0.260371], [51.536148, -0.370556], [51.499363, -0.376623], [51.542338, -0.375959], [51.533182, -0.396759], [51.512072, -0.38525], [51.508473, -0.271535], [51.508799, -0.263164], [51.501958, -0.38215], [51.50949, -0.329284], [51.519674, -0.26275], [51.528474, -0.292547], [51.508523, -0.281044], [51.506511, -0.266565], [51.522986, -0.37463], [51.510465, -0.322042], [51.52963, -0.248963], [51.545604, -0.371516], [51.49764, -0.305657], [51.545074, -0.372256], [51.512232, -0.383803], [51.554438, -0.353746], [51.529555, -0.29265], [51.509348, -0.376844], [51.537833, -0.324208], [51.547279, -0.369149], [51.531256, -0.32964], [51.511242, -0.377209], [51.51285, -0.306534], [51.513093, -0.304651], [51.543576, -0.342313], [51.542212, -0.386347], [51.523962, -0.266912], [51.513354, -0.297868], [51.508725, -0.377299], [51.542464, -0.37855], [51.521717, -0.291646], [51.544249, -0.371132], [51.509879, -0.32509], [51.504453, -0.279468], [51.514132, -0.301875], [51.518859, -0.330526], [51.514677, -0.302287], [51.508142, -0.342014], [51.506046, -0.378691], [51.53295, -0.399506], [51.499786, -0.361768], [51.537149, -0.352063], [51.508658, -0.346751], [51.509085, -0.33881], [51.511281, -0.38009], [51.500729, -0.384355], [51.530234, -0.296085], [51.516851, -0.328438], [51.526911, -0.259592], [51.512843, -0.38897], [51.531141, -0.247752], [51.502854, -0.280825], [51.531204, -0.294751], [51.510239, -0.376236], [51.529703, -0.37266], [51.517504, -0.280273], [51.532288, -0.313743], [51.499861, -0.316237], [51.509879, -0.376249], [51.512693, -0.308125], [51.513438, -0.30363], [51.509944, -0.355063], [51.531204, -0.294751], [51.509619, -0.357524], [51.538575, -0.344802], [51.507652, -0.276897], [51.507211, -0.378361], [51.49465, -0.373909], [51.527034, -0.342625], [51.51285, -0.306534], [51.502141, -0.382432], [51.542418, -0.343076], [51.50646, -0.257057], [51.535103, -0.347235], [51.547367, -0.369001], [51.533697, -0.324216], [51.533832, -0.333727], [51.515239, -0.322588], [51.508062, -0.274144], [51.552296, -0.348487], [51.52821, -0.28679], [51.53544, -0.390912], [51.50267, -0.280544], [51.515097, -0.257304], [51.537593, -0.34527], [51.539569, -0.364377], [51.511258, -0.378362], [51.552909, -0.360148], [51.531538, -0.293009], [51.523256, -0.261749], [51.533186, -0.319909], [51.496861, -0.364754], [51.516122, -0.302665], [51.531572, -0.307714], [51.505242, -0.379008], [51.508301, -0.27817], [51.528245, -0.351952], [51.512639, -0.387248], [51.547041, -0.390935], [51.517056, -0.368499], [51.524178, -0.257245], [51.516262, -0.363195], [51.508529, -0.281476], [51.547809, -0.368409], [51.515645, -0.319546], [51.544637, -0.373137], [51.510692, -0.363538], [51.547898, -0.368405], [51.542418, -0.343076], [51.524811, -0.269618], [51.513804, -0.248994], [51.509475, -0.328275], [51.547898, -0.368405], [51.506509, -0.266421], [51.506374, -0.2634], [51.498939, -0.314686], [51.513935, -0.300729], [51.53775, -0.337333], [51.517632, -0.358245], [51.510457, -0.321466], [51.521124, -0.26356], [51.509963, -0.324655], [51.519828, -0.341734], [51.548953, -0.366637], [51.519573, -0.317528], [51.515794, -0.249782], [51.506618, -0.267714], [51.502503, -0.281414], [51.511954, -0.383237], [51.531672, -0.308431], [51.509767, -0.323509], [51.535055, -0.356609], [51.494731, -0.26658], [51.524705, -0.324258], [51.508381, -0.247184], [51.509967, -0.376102], [51.508269, -0.27601], [51.509524, -0.37655], [51.511293, -0.29218], [51.497749, -0.383451], [51.540904, -0.369809], [51.514635, -0.375503], [51.541889, -0.375975], [51.507595, -0.273009], [51.537265, -0.392866], [51.547899, -0.394511]],\n",
       "                {\n",
       "  &quot;minOpacity&quot;: 0.5,\n",
       "  &quot;maxZoom&quot;: 18,\n",
       "  &quot;radius&quot;: 8,\n",
       "  &quot;blur&quot;: 15,\n",
       "}\n",
       "            );\n",
       "        \n",
       "    \n",
       "            heat_map_97a85abf13cf72860afb0e404fb0d642.addTo(map_ad0c1ad00f7391ca6ebf157202662e4b);\n",
       "        \n",
       "&lt;/script&gt;\n",
       "&lt;/html&gt;\" style=\"position:absolute;width:100%;height:100%;left:0;top:0;border:none !important;\" allowfullscreen webkitallowfullscreen mozallowfullscreen></iframe></div></div>"
      ],
      "text/plain": [
       "<folium.folium.Map at 0x21ab1103920>"
      ]
     },
     "execution_count": 94,
     "metadata": {},
     "output_type": "execute_result"
    }
   ],
   "source": [
    "ealing_df = df[df[\"District Area\"] == \"Ealing\"]\n",
    "\n",
    "weather = ealing_df[\"Weather_Conditions\"].value_counts()\n",
    "print(\"Accidents by Weather Conditions in Ealing:\\n\", weather)\n",
    "\n",
    "coords = ealing_df[[\"Latitude\", \"Longitude\"]].dropna().values.tolist()\n",
    "m = folium.Map(location=[ealing_df[\"Latitude\"].mean(), ealing_df[\"Longitude\"].mean()], zoom_start=12)\n",
    "HeatMap(coords, radius=8).add_to(m)\n",
    "m"
   ]
  },
  {
   "cell_type": "code",
   "execution_count": null,
   "id": "a38f7e1b-6e31-4eb0-af3c-55677a90874c",
   "metadata": {},
   "outputs": [],
   "source": []
  },
  {
   "cell_type": "markdown",
   "id": "45d49892-4f2b-40ec-8f10-a70e99a113f8",
   "metadata": {},
   "source": [
    "<h2>District 6: Newham - Accidents by Road Surface Condition</h2>"
   ]
  },
  {
   "cell_type": "markdown",
   "id": "14702ce6-a878-4ad0-86fb-16806d5084d8",
   "metadata": {},
   "source": [
    "<H3>Insight 31: In Newham, most accidents involve cars, but bicycles and motorcycles are also affected. This means road safety should include all types of users.</H3>"
   ]
  },
  {
   "cell_type": "code",
   "execution_count": 92,
   "id": "a2c1377e-a58f-415b-8777-f1c20fcabd37",
   "metadata": {},
   "outputs": [
    {
     "name": "stdout",
     "output_type": "stream",
     "text": [
      "Accidents by Road Surface Condition in Newham:\n",
      " Road_Surface_Conditions\n",
      "Dry                     2561\n",
      "Wet or damp              562\n",
      "Frost or ice              43\n",
      "Snow                       9\n",
      "Flood over 3cm. deep       2\n",
      "Name: count, dtype: int64\n"
     ]
    },
    {
     "data": {
      "text/html": [
       "<div style=\"width:100%;\"><div style=\"position:relative;width:100%;height:0;padding-bottom:60%;\"><span style=\"color:#565656\">Make this Notebook Trusted to load map: File -> Trust Notebook</span><iframe srcdoc=\"&lt;!DOCTYPE html&gt;\n",
       "&lt;html&gt;\n",
       "&lt;head&gt;\n",
       "    \n",
       "    &lt;meta http-equiv=&quot;content-type&quot; content=&quot;text/html; charset=UTF-8&quot; /&gt;\n",
       "    &lt;script src=&quot;https://cdn.jsdelivr.net/npm/leaflet@1.9.3/dist/leaflet.js&quot;&gt;&lt;/script&gt;\n",
       "    &lt;script src=&quot;https://code.jquery.com/jquery-3.7.1.min.js&quot;&gt;&lt;/script&gt;\n",
       "    &lt;script src=&quot;https://cdn.jsdelivr.net/npm/bootstrap@5.2.2/dist/js/bootstrap.bundle.min.js&quot;&gt;&lt;/script&gt;\n",
       "    &lt;script src=&quot;https://cdnjs.cloudflare.com/ajax/libs/Leaflet.awesome-markers/2.0.2/leaflet.awesome-markers.js&quot;&gt;&lt;/script&gt;\n",
       "    &lt;link rel=&quot;stylesheet&quot; href=&quot;https://cdn.jsdelivr.net/npm/leaflet@1.9.3/dist/leaflet.css&quot;/&gt;\n",
       "    &lt;link rel=&quot;stylesheet&quot; href=&quot;https://cdn.jsdelivr.net/npm/bootstrap@5.2.2/dist/css/bootstrap.min.css&quot;/&gt;\n",
       "    &lt;link rel=&quot;stylesheet&quot; href=&quot;https://netdna.bootstrapcdn.com/bootstrap/3.0.0/css/bootstrap-glyphicons.css&quot;/&gt;\n",
       "    &lt;link rel=&quot;stylesheet&quot; href=&quot;https://cdn.jsdelivr.net/npm/@fortawesome/fontawesome-free@6.2.0/css/all.min.css&quot;/&gt;\n",
       "    &lt;link rel=&quot;stylesheet&quot; href=&quot;https://cdnjs.cloudflare.com/ajax/libs/Leaflet.awesome-markers/2.0.2/leaflet.awesome-markers.css&quot;/&gt;\n",
       "    &lt;link rel=&quot;stylesheet&quot; href=&quot;https://cdn.jsdelivr.net/gh/python-visualization/folium/folium/templates/leaflet.awesome.rotate.min.css&quot;/&gt;\n",
       "    \n",
       "            &lt;meta name=&quot;viewport&quot; content=&quot;width=device-width,\n",
       "                initial-scale=1.0, maximum-scale=1.0, user-scalable=no&quot; /&gt;\n",
       "            &lt;style&gt;\n",
       "                #map_1365127033139c6bb7b4bae738c841e6 {\n",
       "                    position: relative;\n",
       "                    width: 100.0%;\n",
       "                    height: 100.0%;\n",
       "                    left: 0.0%;\n",
       "                    top: 0.0%;\n",
       "                }\n",
       "                .leaflet-container { font-size: 1rem; }\n",
       "            &lt;/style&gt;\n",
       "\n",
       "            &lt;style&gt;html, body {\n",
       "                width: 100%;\n",
       "                height: 100%;\n",
       "                margin: 0;\n",
       "                padding: 0;\n",
       "            }\n",
       "            &lt;/style&gt;\n",
       "\n",
       "            &lt;style&gt;#map {\n",
       "                position:absolute;\n",
       "                top:0;\n",
       "                bottom:0;\n",
       "                right:0;\n",
       "                left:0;\n",
       "                }\n",
       "            &lt;/style&gt;\n",
       "\n",
       "            &lt;script&gt;\n",
       "                L_NO_TOUCH = false;\n",
       "                L_DISABLE_3D = false;\n",
       "            &lt;/script&gt;\n",
       "\n",
       "        \n",
       "    &lt;script src=&quot;https://cdn.jsdelivr.net/gh/python-visualization/folium@main/folium/templates/leaflet_heat.min.js&quot;&gt;&lt;/script&gt;\n",
       "&lt;/head&gt;\n",
       "&lt;body&gt;\n",
       "    \n",
       "    \n",
       "            &lt;div class=&quot;folium-map&quot; id=&quot;map_1365127033139c6bb7b4bae738c841e6&quot; &gt;&lt;/div&gt;\n",
       "        \n",
       "&lt;/body&gt;\n",
       "&lt;script&gt;\n",
       "    \n",
       "    \n",
       "            var map_1365127033139c6bb7b4bae738c841e6 = L.map(\n",
       "                &quot;map_1365127033139c6bb7b4bae738c841e6&quot;,\n",
       "                {\n",
       "                    center: [51.5327529222537, 0.03444914258734655],\n",
       "                    crs: L.CRS.EPSG3857,\n",
       "                    ...{\n",
       "  &quot;zoom&quot;: 12,\n",
       "  &quot;zoomControl&quot;: true,\n",
       "  &quot;preferCanvas&quot;: false,\n",
       "}\n",
       "\n",
       "                }\n",
       "            );\n",
       "\n",
       "            \n",
       "\n",
       "        \n",
       "    \n",
       "            var tile_layer_90282e7295fd8cb27c22e8e3b6bca9f7 = L.tileLayer(\n",
       "                &quot;https://tile.openstreetmap.org/{z}/{x}/{y}.png&quot;,\n",
       "                {\n",
       "  &quot;minZoom&quot;: 0,\n",
       "  &quot;maxZoom&quot;: 19,\n",
       "  &quot;maxNativeZoom&quot;: 19,\n",
       "  &quot;noWrap&quot;: false,\n",
       "  &quot;attribution&quot;: &quot;\\u0026copy; \\u003ca href=\\&quot;https://www.openstreetmap.org/copyright\\&quot;\\u003eOpenStreetMap\\u003c/a\\u003e contributors&quot;,\n",
       "  &quot;subdomains&quot;: &quot;abc&quot;,\n",
       "  &quot;detectRetina&quot;: false,\n",
       "  &quot;tms&quot;: false,\n",
       "  &quot;opacity&quot;: 1,\n",
       "}\n",
       "\n",
       "            );\n",
       "        \n",
       "    \n",
       "            tile_layer_90282e7295fd8cb27c22e8e3b6bca9f7.addTo(map_1365127033139c6bb7b4bae738c841e6);\n",
       "        \n",
       "    \n",
       "            var heat_map_6c07d9dcbcaffd8a701fc694fd8e36c4 = L.heatLayer(\n",
       "                [[51.51478, 0.004565], [51.552024, -0.012117], [51.551796, -0.014579], [51.553482, 0.023577], [51.547399, 0.005999], [51.533227, 0.071126], [51.549198, 0.068101], [51.529785, 0.072556], [51.529547, 0.024389], [51.542582, 0.008959], [51.541741, 0.026517], [51.533407, 0.071134], [51.540206, 0.000635], [51.548559, 0.058408], [51.540162, 0.003229], [51.545029, 0.049451], [51.539528, 0.003489], [51.51218, 0.06628], [51.553807, 0.056625], [51.520054, 0.058275], [51.525603, 0.028828], [51.516318, 0.009245], [51.522541, 0.065163], [51.520628, 0.004389], [51.549891, -0.008315], [51.525164, 0.074508], [51.517007, 0.031905], [51.50063, 0.068495], [51.543097, 0.010424], [51.547427, 0.035712], [51.520768, 0.058596], [51.541956, -0.001739], [51.545624, 0.020343], [51.527533, 0.072742], [51.499889, 0.064571], [51.540898, 0.002251], [51.514583, 0.031653], [51.547517, 0.035716], [51.542948, 0.019071], [51.548714, 0.059857], [51.499915, 0.063131], [51.547084, 0.01911], [51.521133, 0.058324], [51.544754, 0.00819], [51.533137, 0.055838], [51.520779, 0.0733], [51.548063, 0.024923], [51.539585, 0.010702], [51.52177, 0.052731], [51.540731, 0.001523], [51.546296, 0.028306], [51.546074, 0.041132], [51.554652, 0.059693], [51.532005, 0.048577], [51.526055, 0.074981], [51.523492, 0.072414], [51.536426, -0.004433], [51.498919, 0.063518], [51.554652, 0.059693], [51.514895, 0.008317], [51.540206, 0.000635], [51.53274, 0.052792], [51.520818, 0.024723], [51.536835, 0.018945], [51.529411, 0.04774], [51.544638, 0.004435], [51.517358, 0.006264], [51.525573, 0.030556], [51.550287, 0.005404], [51.54995, 0.025007], [51.525776, 0.029268], [51.539251, 0.00391], [51.524773, 0.071175], [51.546788, 0.031068], [51.517082, 0.032773], [51.538421, 0.026081], [51.508055, 0.070704], [51.528274, 0.056195], [51.525571, 0.0307], [51.51682, 0.032329], [51.521255, 0.020273], [51.545729, 0.029867], [51.520219, 0.059148], [51.534571, -0.006389], [51.546606, 0.031204], [51.514164, 0.009006], [51.546788, 0.031068], [51.534393, -0.00654], [51.545542, 0.019907], [51.539115, 0.032745], [51.528139, 0.032977], [51.526677, 0.023974], [51.522872, 0.004632], [51.50949, 0.070914], [51.516722, 0.037946], [51.543815, 0.03656], [51.541794, 0.002435], [51.54666, 0.028034], [51.517439, 0.012033], [51.53271, 0.054521], [51.515744, 0.032137], [51.523561, 0.068525], [51.515791, 0.008501], [51.532234, 0.050895], [51.523552, 0.053676], [51.516835, 0.010565], [51.514945, 0.005437], [51.546428, 0.02586], [51.53426, 0.053293], [51.5467, 0.036112], [51.536246, -0.004441], [51.549618, -0.002846], [51.541775, 0.003588], [51.548977, -0.002153], [51.532111, -0.009812], [51.525658, 0.004754], [51.537093, 0.00915], [51.549327, -0.00156], [51.522208, 0.022334], [51.547754, 0.037602], [51.523977, 0.070418], [51.526019, 0.071952], [51.526772, 0.028879], [51.515919, 0.011533], [51.528579, 0.033573], [51.540544, 0.001947], [51.555252, 0.025242], [51.520478, 0.059736], [51.515364, 0.007185], [51.5452, 0.018882], [51.533685, 0.060476], [51.5363, -0.007611], [51.553377, 0.055452], [51.531925, 0.047997], [51.537256, 0.051697], [51.531496, -0.010704], [51.533849, 0.061349], [51.537912, -0.001916], [51.538934, 0.048312], [51.552005, 0.05164], [51.532649, 0.04255], [51.522678, 0.057385], [51.529072, 0.004904], [51.54628, 0.04994], [51.54217, 0.006778], [51.528098, 0.050853], [51.536851, 0.054275], [51.539344, 0.003769], [51.544939, 0.049447], [51.544007, 0.004551], [51.550638, 0.047539], [51.550529, 0.05893], [51.525866, 0.029272], [51.519261, 0.026383], [51.551637, 0.06749], [51.525955, 0.075553], [51.529749, 0.023101], [51.545289, 0.018886], [51.520496, 0.058728], [51.542497, 0.008667], [51.543548, 0.02602], [51.531402, -0.01042], [51.50982, 0.026253], [51.537302, -0.003097], [51.545037, 0.017865], [51.521774, 0.02145], [51.525739, 0.072516], [51.546433, 0.025571], [51.537811, -0.006535], [51.533608, 0.033942], [51.515659, 0.031845], [51.533647, 0.062638], [51.531232, -0.011004], [51.514862, 0.005001], [51.537105, 0.03453], [51.53984, 0.04792], [51.557712, 0.044106], [51.531182, 0.044215], [51.525384, 0.072212], [51.547606, 0.03572], [51.551067, 0.048713], [51.551909, 0.046875], [51.546878, 0.031072], [51.520406, 0.058724], [51.511922, 0.045082], [51.543042, 0.049938], [51.554797, 0.046283], [51.550939, 0.02505], [51.554313, 0.058524], [51.521859, 0.021742], [51.549144, 0.024826], [51.533224, 0.055986], [51.537572, 0.033542], [51.554904, 0.060714], [51.517063, 0.018214], [51.533408, 0.019514], [51.546655, 0.028322], [51.522504, 0.072369], [51.53274, 0.052792], [51.543589, 0.002658], [51.523327, 0.030456], [51.519523, 0.032017], [51.522835, 0.022506], [51.525958, 0.029132], [51.549671, 0.009849], [51.530852, 0.04247], [51.547078, -0.001515], [51.55329, 0.055304], [51.5378, 0.051433], [51.55744, 0.044238], [51.540728, 0.001667], [51.540991, 0.002111], [51.513053, 0.031729], [51.543342, 0.011877], [51.539157, 0.004194], [51.545335, 0.031869], [51.554063, 0.057358], [51.538129, 0.037749], [51.526635, 0.077747], [51.53694, 0.023275], [51.538882, 0.00447], [51.524301, 0.072451], [51.50046, 0.067911], [51.531952, 0.072077], [51.539621, 0.003349], [51.517683, 0.060186], [51.545757, 0.007369], [51.5269, 0.078047], [51.524593, 0.03008], [51.514493, 0.042026], [51.530363, 0.039564], [51.530024, 0.028015], [51.53988, 0.050806], [51.526985, 0.078339], [51.523327, 0.030456], [51.548639, 0.00187], [51.537547, 0.029791], [51.54688, 0.030928], [51.542717, 0.037665], [51.522782, 0.004628], [51.530995, 0.054876], [51.547334, 0.035852], [51.522034, 0.022038], [51.509688, 0.033885], [51.519587, 0.059263], [51.525092, 0.037599], [51.532892, 0.054385], [51.536613, -0.004857], [51.515854, 0.056789], [51.523374, 0.02253], [51.554652, 0.059693], [51.526215, 0.029864], [51.531929, -0.009676], [51.526302, 0.030012], [51.525519, 0.028535], [51.545539, 0.020051], [51.546749, 0.048807], [51.5379, -0.006531], [51.528251, 0.042065], [51.542757, 0.009256], [51.520903, 0.019825], [51.539925, 0.048212], [51.517777, 0.059902], [51.546391, 0.007108], [51.535383, 0.035319], [51.548782, 0.019762], [51.551092, 0.047271], [51.524867, 0.029804], [51.535383, 0.035319], [51.509825, 0.025965], [51.532803, 0.054381], [51.548325, 0.056378], [51.515199, 0.006313], [51.550376, 0.047095], [51.509447, 0.06313], [51.537017, 0.013617], [51.545083, 0.041232], [51.542572, 0.009536], [51.546875, 0.031216], [51.551926, 0.051059], [51.545529, 0.041396], [51.537091, 0.009294], [51.52113, 0.058468], [51.549457, 0.063641], [51.524269, 0.079369], [51.53307, 0.054537], [51.541233, -0.012154], [51.532982, 0.054389], [51.545629, 0.020055], [51.517783, 0.023435], [51.542185, 0.005913], [51.521326, 0.062657], [51.538331, 0.005167], [51.513413, 0.031745], [51.522675, 0.057529], [51.522473, 0.033013], [51.546208, 0.022965], [51.532085, 0.049158], [51.557435, 0.044526], [51.545437, 0.02596], [51.544728, 0.004439], [51.542627, 0.032469], [51.548907, -0.00331], [51.536322, 0.053674], [51.543391, 0.029907], [51.523948, 0.025727], [51.544443, 0.01582], [51.542817, 0.000461], [51.520311, 0.059008], [51.527485, 0.03439], [51.520314, 0.058864], [51.533213, 0.02037], [51.525562, 0.072364], [51.51742, 0.013185], [51.499999, 0.063423], [51.541161, 0.002696], [51.545954, 0.022089], [51.545629, 0.020055], [51.50351, 0.042688], [51.522835, 0.022506], [51.545253, 0.036625], [51.549487, -0.000399], [51.537112, 0.013333], [51.523987, 0.069842], [51.517172, 0.032777], [51.551121, 0.055927], [51.529482, 0.028135], [51.54226, 0.006782], [51.538092, 0.050149], [51.512147, 0.032121], [51.53307, 0.054537], [51.542018, 0.026096], [51.530211, 0.037972], [51.516947, 0.024983], [51.550377, 0.005408], [51.532414, 0.050903], [51.520473, 0.018653], [51.525439, 0.074232], [51.522234, 0.031273], [51.515317, 0.066854], [51.545447, 0.00447], [51.534081, 0.011757], [51.551145, 0.049437], [51.536423, -0.004289], [51.54412, 0.055179], [51.526377, 0.03607], [51.533337, -0.007884], [51.524935, 0.072191], [51.538579, 0.063438], [51.550119, 0.046362], [51.546523, 0.025575], [51.515036, 0.072607], [51.527283, 0.056295], [51.551979, 0.022067], [51.530775, 0.041746], [51.530239, 0.036387], [51.522324, 0.072361], [51.529661, -0.013812], [51.54087, -0.001354], [51.553465, 0.0556], [51.541763, 0.02522], [51.543477, 0.003951], [51.524522, 0.039303], [51.52057, 0.018225], [51.535019, 0.066449], [51.501524, 0.063636], [51.525445, 0.017143], [51.523224, 0.067212], [51.550631, 0.042779], [51.520383, 0.018649], [51.54008, 0.002792], [51.504076, 0.046316], [51.524666, 0.072179], [51.546513, 0.026152], [51.533587, 0.060905], [51.533137, 0.055838], [51.522916, 0.05408], [51.518812, 0.010652], [51.54986, 0.025003], [51.541879, 0.002727], [51.525499, 0.029688], [51.541698, -0.002472], [51.535381, 0.035463], [51.549142, 0.055982], [51.525783, 0.028836], [51.545754, 0.007513], [51.532164, 0.049738], [51.530211, 0.037972], [51.539936, 0.005959], [51.551843, 0.050623], [51.508044, 0.014501], [51.526001, 0.07296], [51.516223, 0.009529], [51.530416, 0.036539], [51.503286, 0.024522], [51.530557, 0.049089], [51.538491, 0.032429], [51.532662, 0.036639], [51.538362, -0.007232], [51.525376, 0.021177], [51.527738, 0.056027], [51.532499, 0.051195], [51.528227, 0.033125], [51.538004, -0.002057], [51.533533, 0.058884], [51.546206, 0.023109], [51.518994, 0.010516], [51.537713, -0.006107], [51.531162, 0.055604], [51.54453, 0.015968], [51.546159, 0.025848], [51.552342, 0.052953], [51.537163, 0.026025], [51.550577, 0.025179], [51.546875, 0.031216], [51.541879, -0.013136], [51.543132, 0.049942], [51.529783, 0.015893], [51.539781, 0.030612], [51.515716, 0.007633], [51.554565, 0.059545], [51.549753, 0.005092], [51.527452, 0.004977], [51.547115, 0.032958], [51.549692, 0.045045], [51.530942, 0.042474], [51.533697, 0.059756], [51.548035, 0.005594], [51.523129, 0.067496], [51.518998, 0.015561], [51.532307, 0.015572], [51.498173, 0.059883], [51.532463, -0.009364], [51.549777, 0.045337], [51.52629, 0.056538], [51.529594, 0.047604], [51.553383, 0.055164], [51.539426, 0.045882], [51.546985, 0.030067], [51.540294, 0.000783], [51.515417, 0.066282], [51.50991, 0.026257], [51.532041, 0.010081], [51.532911, 0.048185], [51.525903, 0.027111], [51.540375, 0.032657], [51.534837, 0.009628], [51.537288, 0.034394], [51.549324, 0.024834], [51.537555, 0.029359], [51.524775, 0.029944], [51.508499, 0.014233], [51.549339, -0.002281], [51.534146, 0.070014], [51.523479, 0.042428], [51.529076, 0.071947], [51.502155, 0.043059], [51.534481, -0.006392], [51.516009, 0.011537], [51.544621, 0.036741], [51.54913, 0.061751], [51.542187, 0.005769], [51.52099, 0.019973], [51.52392, 0.068541], [51.54088, -0.001931], [51.526718, 0.078183], [51.545876, 0.021364], [51.525866, 0.029272], [51.499999, 0.063423], [51.553936, 0.023308], [51.5379, -0.006531], [51.525808, 0.073673], [51.546368, 0.024126], [51.553979, 0.057066], [51.533772, 0.060625], [51.54063, 0.038726], [51.530965, -0.01116], [51.537285, 0.034538], [51.531184, 0.044071], [51.554164, 0.051593], [51.546431, 0.025716], [51.551554, 0.015413], [51.530405, 0.021544], [51.522336, 0.05636], [51.533491, 0.056142], [51.535346, 0.052909], [51.514617, 0.070858], [51.526053, 0.039228], [51.545189, 0.060852], [51.531838, 0.047849], [51.554617, 0.046275], [51.51949, 0.059691], [51.533147, 0.055261], [51.545029, 0.049451], [51.554441, 0.02535], [51.533232, 0.065791], [51.499999, 0.063423], [51.520718, 0.004393], [51.503715, 0.020506], [51.533613, 0.059464], [51.537163, 0.036408], [51.550865, 0.060243], [51.52304, 0.057257], [51.551753, 0.050619], [51.543086, 0.026721], [51.549603, 0.045041], [51.539567, 0.032621], [51.544023, 0.014071], [51.532193, -0.009376], [51.543727, 0.026028], [51.522296, 0.022482], [51.544725, 0.004583], [51.547309, 0.032101], [51.547218, 0.011327], [51.521424, 0.062229], [51.55355, 0.055893], [51.548834, 0.042698], [51.525094, 0.073352], [51.532504, 0.050907], [51.550301, 0.046226], [51.531252, 0.055609], [51.520815, 0.019677], [51.542107, 0.005189], [51.524757, 0.004859], [51.52313, 0.057261], [51.532121, 0.026378], [51.540333, -0.001522], [51.515611, 0.07566], [51.537652, 0.034122], [51.54481, 0.041364], [51.535137, 0.069915], [51.52898, 0.005044], [51.508693, 0.054881], [51.538997, 0.044709], [51.546788, 0.03626], [51.533628, 0.032789], [51.531558, 0.017269], [51.541813, 0.032721], [51.533411, 0.008844], [51.550638, 0.047539], [51.54064, 0.032957], [51.550718, 0.04812], [51.54205, 0.05523], [51.533237, 0.055265], [51.508607, 0.070009], [51.554063, 0.057358], [51.552866, 0.053842], [51.518657, 0.06614], [51.519607, 0.016741], [51.549379, 0.026856], [51.5181, 0.02071], [51.537126, 0.012468], [51.54008, 0.002792], [51.526652, 0.030604], [51.546198, 0.023542], [51.536781, 0.006397], [51.553889, 0.057062], [51.522585, 0.057525], [51.548999, -0.00345], [51.547463, 0.01278], [51.540288, 0.032509], [51.545594, 0.058274], [51.54308, 0.000905], [51.537901, 0.0611], [51.537652, 0.034122], [51.519264, 0.010528], [51.527525, 0.032085], [51.529073, 0.02581], [51.547915, 0.002127], [51.53328, 0.011289], [51.517039, 0.030032], [51.528776, 0.037763], [51.545335, 0.031869], [51.536504, -0.003708], [51.536778, 0.006541], [51.52753, 0.031797], [51.536423, 0.068387], [51.510481, 0.070815], [51.543273, 0.03668], [51.528711, 0.025938], [51.546968, 0.031076], [51.543684, 0.012902], [51.554144, 0.052746], [51.552178, 0.05208], [51.548308, 0.005462], [51.542342, 0.007218], [51.515837, 0.011097], [51.52926, 0.025386], [51.528533, 0.004881], [51.531451, 0.002558], [51.536241, -0.004153], [51.549459, -0.009344], [51.537584, 0.022439], [51.520643, 0.003525], [51.541358, 0.022606], [51.554088, 0.06111], [51.531259, 0.044939], [51.520404, 0.058868], [51.535103, -0.005933], [51.536871, 0.006401], [51.550907, 0.052744], [51.536736, 0.035091], [51.533391, 0.056714], [51.522391, 0.032577], [51.536778, 0.022259], [51.535979, -0.004597], [51.515522, 0.008489], [51.550416, 0.018825], [51.537288, 0.034394], [51.520039, 0.05914], [51.518134, 0.013505], [51.533335, -0.00774], [51.53298, 0.054533], [51.530268, -0.012488], [51.524909, 0.042925], [51.519859, 0.059132], [51.512976, 0.010107], [51.518908, 0.015557], [51.530408, 0.0214], [51.543176, 0.026725], [51.526674, 0.024118], [51.522598, 0.031], [51.550638, 0.047539], [51.530972, 0.040745], [51.509305, 0.060961], [51.536982, 0.015634], [51.543725, 0.026172], [51.551581, 0.050178], [51.533152, 0.054973], [51.542839, 0.009692], [51.508953, 0.070745], [51.541627, 0.012234], [51.552265, 0.052228], [51.533145, 0.050215], [51.533187, 0.027146], [51.536956, 0.006693], [51.533222, 0.05613], [51.554063, 0.057358], [51.504189, 0.019086], [51.553896, 0.056629], [51.528756, 0.033726], [51.525249, 0.0748], [51.518134, 0.013505], [51.507251, 0.07038], [51.544007, 0.004551], [51.550548, 0.047535], [51.532904, 0.022664], [51.532411, 0.051047], [51.517954, 0.013497], [51.549753, 0.005092], [51.548464, 0.048451], [51.554063, 0.057358], [51.504012, 0.039684], [51.529979, 0.035799], [51.50096, 0.054821], [51.546721, 0.008853], [51.522798, 0.065895], [51.519951, 0.017621], [51.552948, 0.054279], [51.547985, 0.003284], [51.54151, 0.003288], [51.509786, 0.01256], [51.53694, 0.023275], [51.550782, 0.028938], [51.532229, 0.071657], [51.550577, 0.025179], [51.546151, 0.031472], [51.551816, 0.052208], [51.53747, -0.002368], [51.515927, 0.011101], [51.523898, 0.069838], [51.508132, 0.071429], [51.536379, 0.034931], [51.536506, 0.006673], [51.540603, -0.00151], [51.539087, 0.044713], [51.525114, 0.056918], [51.510174, 0.06273], [51.54833, 0.025079], [51.544443, 0.01582], [51.527828, 0.056031], [51.547749, 0.063564], [51.521133, 0.058324], [51.54151, 0.003288], [51.543181, 0.026437], [51.540725, 0.038441], [51.522383, 0.02263], [51.530211, 0.037972], [51.539969, 0.05081], [51.544297, 0.008602], [51.543079, 0.032345], [51.530984, 0.019262], [51.518941, 0.024063], [51.533737, 0.062642], [51.532873, 0.014011], [51.538971, -0.000716], [51.5307, 0.040877], [51.533531, 0.053837], [51.522508, 0.030996], [51.533401, 0.056138], [51.53578, 0.033173], [51.519519, 0.016593], [51.519671, 0.05451], [51.548464, 0.048451], [51.543507, 0.002222], [51.5544, 0.058672], [51.544621, 0.036741], [51.524842, 0.067285], [51.528799, 0.072367], [51.526499, 0.060008], [51.528177, 0.056623], [51.541361, 0.038037], [51.522181, 0.023918], [51.546841, 0.048667], [51.521299, 0.069287], [51.532016, 0.022048], [51.531252, 0.055609], [51.543797, 0.032377], [51.533816, 0.063222], [51.504731, 0.039716], [51.515539, 0.007481], [51.532272, 0.048734], [51.514583, 0.031653], [51.54308, 0.000905], [51.529555, 0.023957], [51.53299, 0.053957], [51.523192, 0.022666], [51.522723, 0.023798], [51.553555, 0.055604], [51.504516, 0.041724], [51.553465, 0.0556], [51.545165, 0.026092], [51.517955, 0.060055], [51.553889, 0.057062], [51.540239, 0.050822], [51.54009, 0.049085], [51.543177, 0.011005], [51.553383, 0.055164], [51.544349, 0.031681], [51.517827, 0.062211], [51.517203, 0.020527], [51.542848, 0.003923], [51.530857, 0.042182], [51.542059, 0.002735], [51.532926, 0.047321], [51.536154, -0.004301], [51.538331, 0.005167], [51.530288, 0.038696], [51.53707, 0.036548], [51.5396, -0.000689], [51.517311, 0.019522], [51.554917, 0.059993], [51.517184, 0.026868], [51.519493, 0.033745], [51.510124, 0.070654], [51.542185, 0.005913], [51.536241, -0.004153], [51.521133, 0.058324], [51.553036, 0.054427], [51.546211, 0.022821], [51.537105, 0.03453], [51.528319, 0.032985], [51.523402, 0.07241], [51.515527, 0.008201], [51.531271, 0.044219], [51.527149, 0.079212], [51.540502, 0.066553], [51.547211, 0.068588], [51.527157, 0.07878], [51.528976, 0.072519], [51.527583, 0.080097], [51.520129, 0.059144], [51.522025, 0.063842], [51.525866, 0.029272], [51.539509, 0.066796], [51.543754, 0.019251], [51.525564, 0.07222], [51.525384, 0.072212], [51.527538, 0.072454], [51.508689, 0.070445], [51.519793, 0.032029], [51.545032, 0.018154], [51.52099, 0.019973], [51.547868, 0.015394], [51.539233, -0.000272], [51.529372, 0.024093], [51.548248, 0.04022], [51.515434, 0.008341], [51.547424, 0.035856], [51.501525, 0.048219], [51.529841, 0.02296], [51.522872, 0.004632], [51.532837, 0.005647], [51.551643, -0.016172], [51.532586, 0.015008], [51.531867, 0.014976], [51.508865, 0.055321], [51.552893, -0.010348], [51.552291, -0.011961], [51.551991, 0.067795], [51.552803, -0.010352], [51.548836, 0.068229], [51.532134, 0.071941], [51.52131, 0.058476], [51.532496, 0.071814], [51.531412, 0.072053], [51.54559, 0.05337], [51.533187, 0.011429], [51.515789, 0.008645], [51.548003, 0.038767], [51.521687, 0.021302], [51.546528, 0.025287], [51.537744, 0.033982], [51.53598, 0.052649], [51.53192, 0.048285], [51.550725, 0.047687], [51.538432, 0.051317], [51.527231, 0.038704], [51.533538, 0.058595], [51.545881, 0.021076], [51.521326, 0.062657], [51.516316, 0.009389], [51.522383, 0.02263], [51.533385, 0.051956], [51.517167, 0.033065], [51.541353, 0.022894], [51.5181, 0.036278], [51.548228, 0.056806], [51.547514, 0.03586], [51.553807, 0.056625], [51.538529, -0.001168], [51.518131, 0.013649], [51.52426, 0.06971], [51.536706, 0.021246], [51.515701, 0.075664], [51.519604, 0.016885], [51.540329, 0.050826], [51.521182, 0.060633], [51.514671, 0.031801], [51.552864, 0.053986], [51.517789, 0.012625], [51.547789, 0.025199], [51.541956, -0.001739], [51.542757, 0.009256], [51.503869, 0.021954], [51.535016, 0.035735], [51.542408, 0.050198], [51.516181, 0.011977], [51.540458, 0.006991], [51.539987, 0.002933], [51.518861, 0.059663], [51.543584, 0.049819], [51.523815, 0.069401], [51.525656, 0.056798], [51.536781, 0.022115], [51.521244, 0.062221], [51.508701, 0.012945], [51.498927, 0.0579], [51.529837, 0.023249], [51.521369, 0.070444], [51.53968, 0.046759], [51.52608, 0.073541], [51.527075, 0.078344], [51.545037, 0.017865], [51.516961, 0.060298], [51.526322, 0.02886], [51.529796, 0.004648], [51.541703, -0.00276], [51.544368, 0.004423], [51.536593, 0.068972], [51.531366, 0.017982], [51.502861, 0.023062], [51.536861, -0.003549], [51.543115, 0.004079], [51.548218, 0.005458], [51.551744, 0.004314], [51.514524, 0.070998], [51.546365, 0.013886], [51.534021, 0.051552], [51.527463, 0.056303], [51.522417, 0.072221], [51.533059, 0.055113], [51.529886, 0.004652], [51.534235, 0.028923], [51.507955, 0.014497], [51.533889, 0.01247], [51.535216, 0.05521], [51.538605, 0.004891], [51.538342, 0.051313], [51.531084, 0.01869], [51.553121, 0.054719], [51.544007, 0.004551], [51.519396, 0.054786], [51.552869, 0.053698], [51.545874, 0.021508], [51.533692, 0.060044], [51.536606, 0.02701], [51.5438, 0.032233], [51.533599, -0.00744], [51.53888, 0.004614], [51.537288, 0.034394], [51.521689, 0.021158], [51.508601, 0.070297], [51.548173, -0.002476], [51.537288, 0.034394], [51.501165, 0.05339], [51.517973, 0.022867], [51.543638, 0.026024], [51.515708, 0.059953], [51.532252, 0.049886], [51.517071, 0.022971], [51.521803, 0.071328], [51.532985, 0.054245], [51.545891, 0.056701], [51.542408, 0.050198], [51.532108, 0.058098], [51.554315, 0.058379], [51.553383, 0.055164], [51.536973, 0.036976], [51.540056, -0.001101], [51.532254, 0.049742], [51.527031, 0.045038], [51.522711, 0.065747], [51.537819, 0.029659], [51.530845, 0.037712], [51.545861, 0.04819], [51.514857, 0.005289], [51.518674, 0.023907], [51.526128, 0.029716], [51.540398, 0.03136], [51.530483, 0.03784], [51.516923, 0.015902], [51.50035, 0.058828], [51.539756, 0.037244], [51.548011, 0.038334], [51.53061, 0.040873], [51.537712, 0.041047], [51.522054, 0.031265], [51.51895, 0.049433], [51.535734, 0.046149], [51.51534, 0.008625], [51.534481, -0.006392], [51.508927, 0.067141], [51.529168, 0.025526], [51.516509, 0.060422], [51.554996, 0.060574], [51.533137, 0.055838], [51.533422, -0.007592], [51.545357, 0.004466], [51.546875, 0.031216], [51.525504, 0.0294], [51.541746, 0.026229], [51.517743, 0.036118], [51.514872, 0.004425], [51.520393, 0.059444], [51.526072, 0.058691], [51.504771, 0.02185], [51.550638, 0.047539], [51.554714, 0.045847], [51.540647, 0.032525], [51.515231, 0.071751], [51.531922, 0.048141], [51.532885, 0.029007], [51.527955, 0.053874], [51.515606, 0.060669], [51.502864, 0.022918], [51.515844, 0.057365], [51.532843, 0.052075], [51.53334, -0.008028], [51.541748, 0.026084], [51.531927, 0.047853], [51.535687, 0.059125], [51.519852, 0.033761], [51.509406, 0.039781], [51.517862, 0.060195], [51.546351, 0.025135], [51.533608, 0.059752], [51.516906, 0.01691], [51.553467, 0.055456], [51.541279, 0.006306], [51.528666, 0.033722], [51.533337, -0.007884], [51.5449, 0.041368], [51.52608, 0.073541], [51.524675, 0.035706], [51.52287, 0.030868], [51.526747, 0.03551], [51.542757, 0.009256], [51.513954, 0.031625], [51.548752, 0.042262], [51.51516, 0.008617], [51.524388, 0.072599], [51.51913, 0.059675], [51.532483, 0.010533], [51.527615, 0.032089], [51.523417, 0.04084], [51.522027, 0.063698], [51.550381, 0.046807], [51.516224, 0.05104], [51.532015, 0.048001], [51.533417, 0.013747], [51.542318, 0.050194], [51.538095, 0.003138], [51.534495, 0.06556], [51.54756, 0.001823], [51.517269, 0.032349], [51.512164, 0.067144], [51.520129, 0.059144], [51.550754, 0.020138], [51.502864, 0.022918], [51.510682, 0.033641], [51.545981, 0.004782], [51.527062, 0.079064], [51.524401, 0.071879], [51.528616, 0.026222], [51.524249, 0.070286], [51.544228, 0.012638], [51.528561, 0.029392], [51.533538, 0.058595], [51.538717, 0.003598], [51.531714, 0.03429], [51.529133, 0.037923], [51.552828, 0.056004], [51.523501, 0.00466], [51.532082, 0.049302], [51.538273, 0.0242], [51.543472, 0.004239], [51.537782, 0.00572], [51.520309, 0.059152], [51.544072, 0.032101], [51.521222, 0.058328], [51.533954, -0.007136], [51.553893, 0.046531], [51.546655, 0.028322], [51.551669, 0.050326], [51.549683, 0.02485], [51.524183, 0.074031], [51.53902, 0.033029], [51.546878, 0.031072], [51.508744, 0.046813], [51.515728, 0.058801], [51.530805, 0.019254], [51.525161, 0.074652], [51.533676, 0.040433], [51.546591, 0.026877], [51.528289, 0.024333], [51.54651, 0.057306], [51.50922, 0.070901], [51.541436, 0.007611], [51.548475, 0.058116], [51.533695, 0.0599], [51.537103, 0.034674], [51.547514, 0.03586], [51.532982, 0.054389], [51.517437, 0.012177], [51.544193, 0.014655], [51.551475, 0.025218], [51.536982, 0.015634], [51.544264, 0.041773], [51.526315, 0.024102], [51.524206, 0.026459], [51.508044, 0.014501], [51.551581, 0.050178], [51.530209, 0.038116], [51.517174, 0.027444], [51.530211, 0.037972], [51.541885, 0.028542], [51.550623, 0.012054], [51.542755, 0.0094], [51.552284, 0.025254], [51.526709, 0.042861], [51.549054, 0.024822], [51.553896, 0.056629], [51.523681, 0.004667], [51.533647, 0.062638], [51.51668, 0.040394], [51.52305, 0.066916], [51.546831, 0.049243], [51.545629, 0.020055], [51.543096, 0.026144], [51.53725, 0.026173], [51.518046, 0.013357], [51.543579, 0.003234], [51.517293, 0.020531], [51.531345, 0.055469], [51.545539, 0.020051], [51.543089, 0.010857], [51.552779, 0.053694], [51.533068, 0.04949], [51.542408, 0.050198], [51.516992, 0.032769], [51.548108, 0.027521], [51.508249, 0.013069], [51.517356, 0.032497], [51.551918, 0.051491], [51.542406, 0.050342], [51.531838, 0.047849], [51.52946, 0.024241], [51.529336, 0.072535], [51.513398, 0.011711], [51.519517, 0.016737], [51.537692, 0.005716], [51.542732, 0.026417], [51.533514, -0.007732], [51.517668, 0.035249], [51.54304, 0.050083], [51.536871, 0.006401], [51.5268, 0.063337], [51.533842, 0.061781], [51.531242, 0.025185], [51.517952, 0.049965], [51.530209, 0.038116], [51.531923, 0.006471], [51.523067, 0.024678], [51.532414, 0.06114], [51.547306, 0.016668], [51.533225, 0.07127], [51.525567, 0.072076], [51.520322, 0.053242], [51.534053, 0.03425], [51.54295, 0.050078], [51.550988, -0.004084], [51.548839, 0.04241], [51.530296, 0.038264], [51.553126, 0.054431], [51.516663, 0.010125], [51.538326, 0.041939], [51.542757, 0.009256], [51.513163, 0.066612], [51.523329, 0.025122], [51.517529, 0.012037], [51.523487, 0.057421], [51.542185, 0.005913], [51.545289, 0.018886], [51.553465, 0.0556], [51.53572, 0.06749], [51.536423, -0.004289], [51.546875, 0.031216], [51.528317, 0.033129], [51.536017, 0.035059], [51.538508, 0.057233], [51.537547, 0.029791], [51.532528, 0.054657], [51.527443, 0.031649], [51.546885, 0.025447], [51.541156, 0.002984], [51.51844, 0.032257], [51.510518, 0.011872], [51.523332, 0.024978], [51.528294, 0.024045], [51.521584, 0.0582], [51.515015, 0.006593], [51.500178, 0.058388], [51.5544, 0.058672], [51.551998, 0.052072], [51.548602, 0.045717], [51.500862, 0.055249], [51.540209, 0.000491], [51.531721, 0.028667], [51.543815, 0.03656], [51.538238, 0.005307], [51.527345, 0.042457], [51.532987, 0.054101], [51.530061, 0.036235], [51.541682, 0.050598], [51.515939, 0.010381], [51.526442, 0.073413], [51.526315, 0.024102], [51.532663, 0.052067], [51.535714, -0.004897], [51.541335, 0.002992], [51.54363, 0.042033], [51.527082, 0.072865], [51.533373, 0.057723], [51.533169, 0.007247], [51.530211, 0.037972], [51.546505, 0.057594], [51.533954, -0.007136], [51.517699, 0.012621], [51.516663, 0.010125], [51.538526, -0.001024], [51.550969, 0.007598], [51.547427, 0.035712], [51.530169, 0.055848], [51.510362, 0.026133], [51.530663, 0.037848], [51.552127, 0.065205], [51.533857, 0.019534], [51.547789, 0.025199], [51.519771, 0.048749], [51.519444, 0.05205], [51.518685, 0.012808], [51.517057, 0.034213], [51.54952, 0.044604], [51.545629, 0.020055], [51.532982, 0.054389], [51.518771, 0.059659], [51.539061, 0.051346], [51.525386, 0.056786], [51.525474, 0.056934], [51.516912, 0.032189], [51.521574, -0.003641], [51.536239, -0.004008], [51.539925, 0.048212], [51.552352, 0.052377], [51.535612, 0.058256], [51.542285, 0.026253], [51.555072, 0.025234], [51.533382, 0.0521], [51.54096, 0.05071], [51.501912, 0.046651], [51.550226, -0.006858], [51.519949, 0.059136], [51.547999, 0.054488], [51.541788, -0.002468], [51.536781, 0.006397], [51.517057, 0.034213], [51.551581, 0.050178], [51.545542, 0.019907], [51.525866, 0.029272], [51.543183, 0.036676], [51.523959, 0.03034], [51.540478, 0.01103], [51.546613, 0.025579], [51.537582, -0.003661], [51.546491, 0.006535], [51.542757, 0.009256], [51.522808, 0.02409], [51.531707, 0.055341], [51.536397, 0.054543], [51.550154, 0.002658], [51.537163, 0.026025], [51.550818, 0.047547], [51.548669, 0.005333], [51.548783, 0.014425], [51.511336, 0.011331], [51.530088, -0.012496], [51.534391, -0.006396], [51.552779, 0.053694], [51.534656, -0.006096], [51.510911, 0.02558], [51.522883, 0.066188], [51.541263, 0.001979], [51.535861, 0.069659], [51.533774, -0.007144], [51.551718, -0.015303], [51.555757, 0.063349], [51.51964, 0.056239], [51.533072, 0.054393], [51.547872, 0.015106], [51.526736, 0.004802], [51.515434, 0.008341], [51.533535, 0.058739], [51.541682, 0.050598], [51.540965, -0.001638], [51.523754, 0.057577], [51.530141, 0.036815], [51.537874, 0.00558], [51.546074, 0.041132], [51.53116, 0.055749], [51.537795, 0.051721], [51.542177, 0.006346], [51.546283, 0.023834], [51.528092, 0.056331], [51.525866, 0.029272], [51.504568, 0.01795], [51.531451, 0.002558], [51.50457, 0.017806], [51.537442, 0.030652], [51.551581, 0.050178], [51.515345, 0.008337], [51.537974, 0.041491], [51.528249, 0.026638], [51.533623, 0.058888], [51.545954, 0.006368], [51.547512, 0.036004], [51.548467, 0.058548], [51.538882, 0.00447], [51.554911, 0.060282], [51.543366, 0.026156], [51.522041, 0.057788], [51.521312, 0.058332], [51.542025, 0.004753], [51.545374, 0.019178], [51.533609, 0.054561], [51.543567, 0.003955], [51.54481, 0.041364], [51.525024, 0.056914], [51.542986, 0.032485], [51.554233, 0.057943], [51.528947, 0.017442], [51.539605, 0.051082], [51.499979, 0.064575], [51.514711, 0.008597], [51.546653, 0.028466], [51.546643, 0.029042], [51.550454, 0.027048], [51.532661, 0.052211], [51.508374, 0.062793], [51.50035, 0.058828], [51.543183, 0.036676], [51.532496, 0.051339], [51.515609, 0.075804], [51.518981, 0.032137], [51.521951, 0.021602], [51.511826, 0.07102], [51.533137, 0.035219], [51.547882, 0.050877], [51.521562, 0.023314], [51.54125, 0.0027], [51.547514, 0.03586], [51.554428, 0.057086], [51.52608, 0.073541], [51.516382, 0.041967], [51.539145, -0.00042], [51.538331, 0.005167], [51.538997, 0.044709], [51.514956, 0.072026], [51.545377, 0.019034], [51.52632, 0.029004], [51.542554, 0.026265], [51.555081, 0.060866], [51.554994, 0.060718], [51.516096, 0.053196], [51.551327, 0.049301], [51.54695, 0.032085], [51.520582, 0.012315], [51.516272, 0.048304], [51.535801, 0.052641], [51.507713, 0.06968], [51.51458, 0.042174], [51.533737, 0.062642], [51.517839, 0.061491], [51.513813, 0.070533], [51.537662, 0.033546], [51.535281, 0.066893], [51.536246, -0.004441], [51.517057, 0.034213], [51.536596, 0.006677], [51.528488, 0.017999], [51.538526, -0.001024], [51.549692, 0.045045], [51.521501, 0.062954], [51.533951, -0.006992], [51.530211, 0.037972], [51.536871, 0.006401], [51.526066, 0.064169], [51.524393, 0.072311], [51.547427, 0.025327], [51.526075, 0.073829], [51.554398, 0.058816], [51.517291, 0.020675], [51.545352, 0.041244], [51.533396, 0.056426], [51.553896, 0.056629], [51.520471, 0.018797], [51.52238, 0.048722], [51.530613, 0.040729], [51.536156, -0.004445], [51.519629, 0.05177], [51.524879, 0.039463], [51.55013, 0.025014], [51.535214, 0.008635], [51.53727, 0.035403], [51.539233, -0.000272], [51.538304, 0.063713], [51.520966, 0.031793], [51.553508, 0.05315], [51.51814, 0.023595], [51.521717, 0.024763], [51.525409, 0.029684], [51.530061, 0.036235], [51.505718, 0.070599], [51.533351, 0.033209], [51.530311, 0.021828], [51.525985, 0.073825], [51.503122, 0.049443], [51.542665, 0.009396], [51.546725, 0.029479], [51.551499, 0.049742], [51.514942, 0.005581], [51.530301, 0.037976], [51.517171, 0.006688], [51.539017, 0.022791], [51.528002, 0.056327], [51.533204, 0.036519], [51.510237, 0.022956], [51.516092, 0.011973], [51.5468, 0.03554], [51.546321, 0.005951], [51.532905, 0.053664], [51.55448, 0.059252], [51.538056, 0.005443], [51.539845, 0.047632], [51.524865, 0.029948], [51.530124, 0.037824], [51.532167, 0.049594], [51.536816, -0.000955], [51.528221, 0.017843], [51.54952, 0.044604], [51.536329, -0.004004], [51.519735, 0.055955], [51.550372, 0.067866], [51.533319, 0.035082], [51.537164, 0.051837], [51.518586, 0.059939], [51.540972, 0.029367], [51.546348, 0.025279], [51.545739, 0.034483], [51.519193, 0.004182], [51.522361, 0.065155], [51.518593, 0.012948], [51.516379, 0.047299], [51.517177, 0.032489], [51.533811, 0.06351], [51.550548, 0.047535], [51.535326, 0.033442], [51.520852, 0.012327], [51.53545, 0.05724], [51.546836, 0.048955], [51.543312, 0.049951], [51.536691, 0.022111], [51.518442, 0.032113], [51.502107, 0.045795], [51.545542, 0.019907], [51.552951, 0.054135], [51.528753, 0.07496], [51.523959, 0.03034], [51.554803, 0.025222], [51.533901, 0.011749], [51.534273, 0.011045], [51.514942, 0.005581], [51.554063, 0.057358], [51.538211, 0.022611], [51.522468, 0.022922], [51.53816, 0.051449], [51.522152, 0.071921], [51.550004, 0.047799], [51.544126, 0.049699], [51.526562, 0.056406], [51.547604, 0.035864], [51.545876, 0.021364], [51.543774, 0.012906], [51.546393, 0.006964], [51.518357, 0.03701], [51.502709, 0.037032], [51.522541, 0.065163], [51.520287, 0.065493], [51.516511, 0.013721], [51.517183, 0.01649], [51.520831, 0.024003], [51.545435, 0.026104], [51.520633, 0.061185], [51.538956, 0.010674], [51.531084, 0.01869], [51.542717, 0.032473], [51.526302, 0.030012], [51.541266, 0.022746], [51.522856, 0.01083], [51.544084, 0.026188], [51.546648, 0.028754], [51.536831, 0.034807], [51.515994, 0.053912], [51.511265, 0.015508], [51.546438, 0.025283], [51.540965, -0.001638], [51.524391, 0.072455], [51.522968, 0.06648], [51.512274, 0.029965], [51.546875, 0.031216], [51.536371, 0.045745], [51.554994, 0.060718], [51.525409, 0.029684], [51.543827, 0.020264], [51.553896, 0.056629], [51.533605, 0.059896], [51.518469, 0.025339], [51.555072, 0.025234], [51.550165, -0.003255], [51.532661, 0.052211], [51.538334, 0.051746], [51.524172, 0.069562], [51.541808, 0.03301], [51.53289, 0.054529], [51.548003, 0.038767], [51.539597, -0.000545], [51.550094, 0.047803], [51.528317, 0.033129], [51.521506, 0.062666], [51.547491, 0.005858], [51.515347, 0.008193], [51.516034, 0.010097], [51.533751, 0.036111], [51.543393, 0.008851], [51.547334, 0.035852], [51.545253, 0.036625], [51.524391, 0.072455], [51.547943, 0.005734], [51.542742, -0.000407], [51.515437, 0.008197], [51.540149, 0.050818], [51.523127, 0.06764], [51.527735, 0.056171], [51.548374, 0.048447], [51.518408, 0.013229], [51.557345, 0.044522], [51.542755, 0.0094], [51.525339, 0.007624], [51.547247, 0.025319], [51.539592, -0.000256], [51.516967, 0.034209], [51.515048, 0.071886], [51.530119, 0.038112], [51.553896, 0.056629], [51.528983, 0.025806], [51.518858, 0.059807], [51.551653, 0.025371], [51.543905, 0.036564], [51.553335, 0.057902], [51.531104, 0.04349], [51.542667, 0.009252], [51.523869, 0.030336], [51.517285, 0.052097], [51.514314, 0.031641], [51.517341, 0.022983], [51.538664, 0.053491], [51.51263, 0.061111], [51.523995, 0.069409], [51.543725, 0.026172], [51.53842, 0.005171], [51.527463, 0.056303], [51.51777, 0.060335], [51.53333, -0.007452], [51.53993, 0.047924], [51.517343, 0.022839], [51.50172, 0.047363], [51.521593, 0.062814], [51.542734, 0.026272], [51.542835, 0.00998], [51.500998, 0.052662], [51.540896, 0.002396], [51.522794, 0.003908], [51.522635, 0.02365], [51.515969, 0.008653], [51.533224, 0.055986], [51.540267, 0.002368], [51.533824, 0.06279], [51.539644, 0.022963], [51.537874, 0.00558], [51.5148, 0.008601], [51.516086, 0.053772], [51.555081, 0.060866], [51.544847, 0.049587], [51.538269, 0.029679], [51.540015, 0.048216], [51.543177, 0.011005], [51.539772, 0.062049], [51.54825, 0.040076], [51.512704, 0.010239], [51.535835, 0.035195], [51.522293, 0.022626], [51.542926, 0.030752], [51.531461, 0.017697], [51.51922, 0.059679], [51.510883, 0.068383], [51.537287, 0.039586], [51.548013, 0.03819], [51.524742, 0.005723], [51.535019, 0.035591], [51.517287, 0.051953], [51.515836, 0.031997], [51.546393, 0.006964], [51.532295, 0.037055], [51.526291, 0.076866], [51.532257, 0.049598], [51.51081, 0.062326], [51.517633, 0.032077], [51.530211, 0.037972], [51.546203, 0.023254], [51.546236, 0.005659], [51.545437, 0.02596], [51.553965, 0.052738], [51.526048, 0.029136], [51.515539, 0.007481], [51.536064, -0.004304], [51.546201, 0.023398], [51.535713, 0.052493], [51.521774, 0.02145], [51.540469, 0.001079], [51.537618, 0.051569], [51.520019, 0.044868], [51.550379, 0.046951], [51.537195, 0.034534], [51.532982, 0.054389], [51.549252, -0.002429], [51.543093, 0.026288], [51.515177, 0.007609], [51.540358, 0.028474], [51.554901, 0.060858], [51.53184, 0.047705], [51.555108, 0.064474], [51.524206, 0.072735], [51.55456, 0.059833], [51.544103, 0.014651], [51.546071, 0.036084], [51.519519, 0.016593], [51.529537, 0.055964], [51.523847, 0.072718], [51.52608, 0.073541], [51.541776, -0.001747], [51.546283, 0.023834], [51.522054, 0.031265], [51.538231, 0.042223], [51.522293, 0.022626], [51.530523, -0.011612], [51.517442, 0.011889], [51.527077, 0.078199], [51.5307, 0.040877], [51.541795, 0.023346], [51.541327, -0.001767], [51.530056, 0.036523], [51.532905, 0.053664], [51.538428, 0.025649], [51.54125, 0.0027], [51.518861, 0.03905], [51.527338, 0.037699], [51.524299, 0.072595], [51.530211, 0.037972], [51.530331, -0.010899], [51.542745, -0.000551], [51.517677, 0.003395], [51.511701, 0.011059], [51.555926, 0.063934], [51.539058, -0.000568], [51.546159, 0.025848], [51.538342, 0.051313], [51.517274, 0.032061], [51.546338, 0.025856], [51.522687, 0.046573], [51.545781, 0.04761], [51.525215, 0.014826], [51.545702, 0.031452], [51.536685, 0.068831], [51.533315, 0.071274], [51.527721, 0.072318], [51.538323, 0.067752], [51.536503, 0.068967], [51.551536, -0.015167], [51.545879, 0.02122], [51.551455, 0.067626], [51.538967, 0.066916], [51.526642, 0.072269], [51.526535, 0.073273], [51.520568, 0.05974], [51.548876, 0.060874], [51.549252, -0.002429], [51.548088, 0.039059], [51.531511, 0.04596], [51.524031, 0.026163], [51.537183, 0.035255], [51.521768, 0.06311], [51.515978, 0.008077], [51.533649, 0.062494], [51.53757, 0.033686], [51.515706, 0.060097], [51.522872, 0.004632], [51.547498, 0.062543], [51.533864, -0.00714], [51.514316, 0.031497], [51.531513, 0.045816], [51.526744, 0.030464], [51.547424, 0.035856], [51.543186, 0.036532], [51.545542, 0.019907], [51.515672, 0.010225], [51.547512, 0.051438], [51.542411, 0.050054], [51.546346, 0.025423], [51.519271, 0.025807], [51.532016, -0.009528], [51.546749, 0.048807], [51.543684, 0.012902], [51.542667, 0.009252], [51.536249, 0.057853], [51.52335, 0.054964], [51.538794, 0.05119], [51.521599, 0.021154], [51.533752, 0.05154], [51.520406, 0.058724], [51.541705, 0.023342], [51.55013, 0.025014], [51.543046, 0.054842], [51.522134, 0.031845], [51.543088, 0.042153], [51.54825, 0.040076], [51.537295, 0.007861], [51.525426, 0.028676], [51.539251, 0.00391], [51.52614, 0.028996], [51.509683, 0.034173], [51.520314, 0.058864], [51.51691, 0.032333], [51.547923, 0.038186], [51.517161, 0.022975], [51.508642, 0.057761], [51.520316, 0.05872], [51.53298, 0.054533], [51.515526, 0.060089], [51.552508, 0.058875], [51.503038, 0.049151], [51.523731, 0.038259], [51.54112, 0.010337], [51.540997, 0.022734], [51.508829, 0.047105], [51.527623, 0.072746], [51.527016, 0.056139], [51.517249, 0.033501], [51.537085, 0.025301], [51.554994, 0.060718], [51.525384, 0.072212], [51.530214, 0.037828], [51.549164, -0.002577], [51.542667, 0.009252], [51.525866, 0.029272], [51.554313, 0.058524], [51.542667, 0.009252], [51.538241, 0.005163], [51.549096, 0.043143], [51.510865, 0.012608], [51.519405, 0.059399], [51.54047, 0.032373], [51.552779, 0.053694], [51.5465, 0.005959], [51.546283, 0.023834], [51.550725, 0.047687], [51.525866, 0.029272], [51.542989, 0.032341], [51.516313, 0.009533], [51.520779, 0.0733], [51.525866, 0.029272], [51.537295, 0.007861], [51.526567, 0.030312], [51.5382, 0.002277], [51.543096, 0.026144], [51.5387, 0.004606], [51.508607, 0.070009], [51.54036, 0.038713], [51.542467, 0.026116], [51.516837, 0.031321], [51.525808, 0.073673], [51.528252, 0.026494], [51.542418, 0.013279], [51.540695, -0.00165], [51.533988, 0.053425], [51.52398, 0.070274], [51.52684, 0.050796], [51.551094, 0.031693], [51.525049, 0.029668], [51.550122, 0.046218], [51.536945, 0.017796], [51.527703, 0.027047], [51.522658, 0.058537], [51.548063, 0.024923], [51.527178, 0.031348], [51.54481, 0.041364], [51.533156, 0.023684], [51.53334, -0.008028], [51.536873, 0.006257], [51.534802, 0.053173], [51.5396, -0.000689], [51.530121, 0.037968], [51.516679, 0.01445], [51.540062, 0.05067], [51.517688, 0.059898], [51.522492, 0.04743], [51.536688, 0.037828], [51.529462, 0.024097], [51.508304, 0.071869], [51.541306, 0.056639], [51.549663, 0.005088], [51.515517, 0.008777], [51.512963, 0.031725], [51.539157, 0.004194], [51.528419, 0.05822], [51.498545, 0.059179], [51.550094, 0.047803], [51.515437, 0.008197], [51.522134, 0.031845], [51.537183, 0.009154], [51.53745, 0.040602], [51.519596, 0.053642], [51.535595, 0.007354], [51.554527, 0.046271], [51.540149, 0.050818], [51.54258, 0.009104], [51.517878, 0.023151], [51.547027, 0.03281], [51.516835, 0.010565], [51.532553, 0.032597], [51.544372, 0.035576], [51.514862, 0.005001], [51.514887, 0.060637], [51.54512, 0.028686], [51.515519, 0.008633], [51.545539, 0.020051], [51.531162, 0.055604], [51.533533, 0.058884], [51.544344, 0.031969], [51.516901, 0.017198], [51.517439, 0.012033], [51.521964, 0.031261], [51.503191, 0.024806], [51.546063, 0.005219], [51.532085, 0.049158], [51.524858, 0.071467], [51.519793, 0.032029], [51.546343, 0.025567], [51.516835, 0.036654], [51.546868, 0.052274], [51.554994, 0.060718], [51.53789, 0.051437], [51.517069, 0.023115], [51.525991, 0.073537], [51.547517, 0.035716], [51.536951, 0.038273], [51.516904, 0.017054], [51.552262, 0.052372], [51.540818, 0.001671], [51.5258, 0.058823], [51.521949, 0.057928], [51.524838, 0.072619], [51.539466, 0.022811], [51.51716, 0.054109], [51.531929, -0.009676], [51.547552, 0.064565], [51.543684, 0.012902], [51.54595, 0.001319], [51.534805, 0.053029], [51.536613, -0.004857], [51.553293, 0.05516], [51.552468, 0.061181], [51.539518, 0.050934], [51.501355, 0.063052], [51.53757, 0.033686], [51.553295, 0.055016], [51.543422, 0.00193], [51.516855, 0.035501], [51.548287, 0.048299], [51.535098, -0.005645], [51.536792, 0.016203], [51.545394, 0.049179], [51.533538, 0.058595], [51.523689, 0.030328], [51.531186, 0.017974], [51.54825, 0.040076], [51.543179, 0.010861], [51.515112, 0.006165], [51.538252, -0.000748], [51.534661, -0.006385], [51.532576, 0.051919], [51.51682, 0.032329], [51.515231, 0.071751], [51.537528, 0.051565], [51.554473, 0.064734], [51.548333, 0.040512], [51.527106, 0.056143], [51.512263, 0.061527], [51.527503, 0.038572], [51.54648, 0.048795], [51.526125, 0.02986], [51.541599, -0.001899], [51.53041, 0.021256], [51.541509, -0.001903], [51.532982, 0.054389], [51.546203, 0.023254], [51.531676, 0.046832], [51.554994, 0.060718], [51.517084, 0.022251], [51.540875, -0.001642], [51.532576, 0.051919], [51.546436, 0.025427], [51.525866, 0.029272], [51.530126, 0.037679], [51.5536, 0.05301], [51.539593, 0.046611], [51.519522, 0.021638], [51.537886, 0.041343], [51.540635, 0.022862], [51.549219, 0.041273], [51.519453, 0.03086], [51.53729, 0.03425], [51.532406, 0.051335], [51.532618, 0.054661], [51.531453, 0.002414], [51.521079, 0.061349], [51.539295, 0.032753], [51.546391, 0.007108], [51.554565, 0.059545], [51.53897, 0.066772], [51.552437, 0.052669], [51.520743, 0.023855], [51.526055, 0.039083], [51.546349, -0.00097], [51.508432, 0.069713], [51.533244, 0.008116], [51.520831, 0.024003], [51.550551, 0.047391], [51.5165, 0.024819], [51.504401, 0.04316], [51.525691, 0.028976], [51.53687, 0.022119], [51.543091, 0.042008], [51.53203, 0.015992], [51.507957, 0.014353], [51.52928, 0.034614], [51.541684, 0.050454], [51.50796, 0.014209], [51.544173, 8.8e-05], [51.5496, 0.045185], [51.536055, 0.032897], [51.534024, 0.051408], [51.55209, 0.051932], [51.554655, 0.059549], [51.545447, 0.00447], [51.50796, 0.014209], [51.532219, 0.015424], [51.519825, 0.055959], [51.545757, 0.007369], [51.537181, 0.009298], [51.517002, 0.032193], [51.554655, 0.059549], [51.527454, 0.072161], [51.514949, 0.005149], [51.544021, 0.014215], [51.552093, 0.051788], [51.535262, 0.052617], [51.526566, 0.045882], [51.525074, 0.074504], [51.547315, 0.062679], [51.546715, 0.035248], [51.527417, 0.017519], [51.510731, 0.025572], [51.535896, 0.052357], [51.533825, 0.026598], [51.510729, 0.025717], [51.540513, -0.001514], [51.532002, 0.048721], [51.540901, 0.002107], [51.526711, 0.042717], [51.520071, 0.047033], [51.553036, 0.054427], [51.526463, 0.077307], [51.540728, 0.001667], [51.540816, 0.001815], [51.529452, 0.035054], [51.532813, -0.008772], [51.520314, 0.058864], [51.545459, 0.019471], [51.536491, 0.038829], [51.546785, 0.031212], [51.517062, 0.033925], [51.534041, 0.050399], [51.50787, 0.014205], [51.540152, 0.050674], [51.508854, 0.040477], [51.529834, 0.033774], [51.517777, 0.059902], [51.541416, -0.001763], [51.534181, 0.011185], [51.530755, 0.037708], [51.541795, 0.023346], [51.51811, 0.056314], [51.503909, 0.045588], [51.539251, 0.00391], [51.520386, 0.018505], [51.535077, 0.052897], [51.535685, 0.007358], [51.540991, 0.002111], [51.535268, 0.036756], [51.546244, 0.031332], [51.538233, 0.042079], [51.515703, 0.060241], [51.535034, 0.008627], [51.546878, 0.031072], [51.522596, 0.072229], [51.534289, 0.046517], [51.543905, 0.036564], [51.543085, 0.000617], [51.547201, 0.048683], [51.552194, 0.02525], [51.533864, -0.00714], [51.530124, 0.037824], [51.544968, 0.042669], [51.540241, -0.001382], [51.525866, 0.029272], [51.545986, 0.040984], [51.523666, 0.057429], [51.53334, -0.008028], [51.517241, 0.023555], [51.537562, 0.034118], [51.527735, 0.056171], [51.549459, 0.063497], [51.537655, 0.033978], [51.51983, 0.055671], [51.509835, 0.025389], [51.517748, 0.03583], [51.526215, 0.029864], [51.535715, 0.026537], [51.548228, 0.056806], [51.516904, 0.017054], [51.540728, 0.001667], [51.515703, 0.060241], [51.533409, 0.024705], [51.542537, 0.032465], [51.54043, -0.00195], [51.53192, 0.048285], [51.549683, 0.02485], [51.544783, 0.016989], [51.533224, 0.055986], [51.540963, 0.050566], [51.540827, 0.032533], [51.55355, 0.055893], [51.550638, 0.047539], [51.542017, 0.005185], [51.520471, 0.018797], [51.52278, 0.030864], [51.543135, 0.049798], [51.540152, 0.050674], [51.534805, 0.053029], [51.535625, -0.0049], [51.553293, 0.05516], [51.549683, 0.02485], [51.546423, 0.026148], [51.536926, 0.034522], [51.533461, 0.057871], [51.553377, 0.055452], [51.53807, 0.051445], [51.534753, 0.045673], [51.533296, 0.056998], [51.520296, 0.018501], [51.550898, 0.048128], [51.544823, 0.030259], [51.539528, 0.003489], [51.545845, 0.049055], [51.548328, 0.035608], [51.530627, 0.019102], [51.537128, 0.033234], [51.550939, 0.02505], [51.553921, 0.044946], [51.550708, 0.058938], [51.535625, -0.0049], [51.539052, 0.05697], [51.533224, 0.055986], [51.5243, 0.057169], [51.516999, 0.032337], [51.520628, 0.004389], [51.512528, 0.061827], [51.553293, 0.05516], [51.524237, 0.060771], [51.553891, 0.056918], [51.534183, 0.011041], [51.553994, 0.025186], [51.531271, 0.044219], [51.52099, 0.019973], [51.502854, 0.039056], [51.515896, 0.007641], [51.508802, 0.074197], [51.517777, 0.059902], [51.526507, 0.028579], [51.524845, 0.072187], [51.530273, -0.012776], [51.519823, 0.056103], [51.546433, 0.025571], [51.533757, 0.061489], [51.540816, 0.001815], [51.552374, 0.025258], [51.544896, -0.000168], [51.530121, 0.037968], [51.5229, 0.044709], [51.52224, 0.051599], [51.531182, 0.044215], [51.549953, 0.024862], [51.537735, -0.002068], [51.540818, 0.001671], [51.516725, 0.037802], [51.525866, 0.029272], [51.533342, -0.008172], [51.503814, 0.019934], [51.532987, 0.054101], [51.53061, 0.040873], [51.532573, 0.052063], [51.520424, 0.031913], [51.543905, 0.036564], [51.549663, 0.005088], [51.522293, 0.022626], [51.534091, 0.011181], [51.516222, 0.045995], [51.515347, 0.008193], [51.532813, -0.008772], [51.532908, 0.05352], [51.508601, 0.070297], [51.52928, 0.034614], [51.547868, 0.05679], [51.547781, 0.030824], [51.524518, 0.008308], [51.540559, 0.047952], [51.51792, 0.03627], [51.528176, 0.004721], [51.544434, 0.031973], [51.54115, 0.0138], [51.551327, 0.049301], [51.533376, 0.057579], [51.548944, 0.020779], [51.540903, 0.001963], [51.532982, 0.054389], [51.546196, 0.023686], [51.535372, 0.046277], [51.533753, 0.035967], [51.527645, 0.056167], [51.516724, 0.017046], [51.548852, 0.005197], [51.517439, 0.012033], [51.535869, 0.048751], [51.538233, 0.042079], [51.546878, 0.031072], [51.540903, 0.001963], [51.523561, 0.068525], [51.531591, 0.04654], [51.524253, 0.039291], [51.541513, 0.003144], [51.537091, 0.009294], [51.52125, 0.020562], [51.536054, 0.006797], [51.546438, 0.025283], [51.532085, 0.049158], [51.519677, 0.059267], [51.523012, 0.043416], [51.531673, 0.046976], [51.537158, 0.026313], [51.523417, 0.03046], [51.533157, 0.007968], [51.546226, 0.006235], [51.547027, 0.03281], [51.537036, 0.012464], [51.525906, 0.052773], [51.526717, 0.073137], [51.548035, 0.005594], [51.52389, 0.060034], [51.522874, 0.004488], [51.535278, 0.067037], [51.53298, 0.054533], [51.540152, 0.050674], [51.521443, -0.001196], [51.519517, 0.016737], [51.512433, 0.062111], [51.547751, 0.037746], [51.546641, 0.029186], [51.534569, 0.035571], [51.525883, 0.074541], [51.516385, 0.041823], [51.541958, -0.001883], [51.53274, 0.052792], [51.515429, 0.008629], [51.533337, -0.007884], [51.512234, 0.032269], [51.543098, 0.026], [51.520586, 0.032929], [51.520833, 0.023859], [51.506712, 0.070355], [51.54986, 0.045773], [51.537198, 0.03439], [51.524301, 0.072451], [51.515514, 0.008921], [51.519747, 0.024243], [51.537999, -0.001768], [51.546725, 0.029479], [51.538697, 0.004751], [51.539052, 0.067208], [51.536783, 0.021971], [51.546868, 0.031649], [51.527062, 0.079064], [51.551294, 0.061417], [51.518321, 0.013081], [51.525283, 0.016127], [51.523666, 0.057429], [51.508949, 0.019441], [51.54688, 0.030928], [51.537799, 0.041195], [51.508055, 0.070704], [51.549605, 0.044897], [51.537129, 0.012324], [51.522221, 0.057797], [51.529162, 0.004908], [51.516902, 0.032765], [51.53534, 0.022195], [51.519478, 0.024231], [51.515733, 0.017146], [51.546713, 0.030199], [51.526128, 0.029716], [51.544084, 0.026188], [51.516859, 0.024835], [51.537078, 0.036115], [51.54094, 0.010329], [51.508699, 0.069869], [51.546883, 0.030784], [51.548417, 0.040805], [51.528835, 0.044686], [51.515434, 0.008341], [51.551392, 0.045554], [51.545884, 0.031316], [51.541, 0.001535], [51.525866, 0.029272], [51.516833, 0.010709], [51.52711, 0.045618], [51.521133, 0.058324], [51.518046, 0.013357], [51.517057, 0.034213], [51.531765, 0.046836], [51.544106, 0.014507], [51.533376, 0.057579], [51.525866, 0.029272], [51.533658, 0.025869], [51.54831, 0.005317], [51.536771, 0.027882], [51.530129, 0.037535], [51.533134, 0.055982], [51.52073, 0.019385], [51.550938, 0.045822], [51.539335, 0.05107], [51.537671, 0.048543], [51.54259, 0.050062], [51.530124, 0.037824], [51.52593, 0.056522], [51.542639, 0.036941], [51.523389, 0.068085], [51.532843, 0.052075], [51.532741, 0.063029], [51.509893, 0.032453], [51.515659, 0.031845], [51.534918, -0.005652], [51.530787, 0.020263], [51.517112, 0.031045], [51.540241, -0.001382], [51.552012, 0.025387], [51.525868, 0.075405], [51.52431, 0.004695], [51.516949, 0.024839], [51.523167, 0.039675], [51.540787, 0.055461], [51.548008, 0.038478], [51.50799, 0.06926], [51.535098, -0.005645], [51.546662, 0.048659], [51.554994, 0.060718], [51.546773, 0.037125], [51.534998, 0.047126], [51.523455, 0.07962], [51.543002, 0.010709], [51.500092, 0.063283], [51.502374, 0.040764], [51.533736, 0.026594], [51.538331, 0.005167], [51.533772, 0.060625], [51.541509, -0.001903], [51.541772, 0.003732], [51.524208, 0.026315], [51.551819, 0.046871], [51.55189, 0.063319], [51.537737, -0.002212], [51.530079, 0.055844], [51.522417, 0.072221], [51.531678, 0.046688], [51.526475, 0.056258], [51.50972, 0.021637], [51.539677, 3.5e-05], [51.508772, 0.040041], [51.546493, 0.006391], [51.520628, 0.004389], [51.525117, 0.072055], [51.553121, 0.054719], [51.516181, 0.011977], [51.532573, 0.052063], [51.534918, -0.005652], [51.520628, 0.004389], [51.54621, 0.048783], [51.550688, 0.060091], [51.508774, 0.070737], [51.537618, 0.051569], [51.549459, 0.063497], [51.525996, 0.052777], [51.521424, 0.020858], [51.538529, -0.001168], [51.548466, 0.048307], [51.525766, 0.05565], [51.517201, 0.020671], [51.514988, 0.008177], [51.545253, 0.036625], [51.516722, 0.037946], [51.520473, 0.018653], [51.554313, 0.058524], [51.545542, 0.019907], [51.530942, 0.042474], [51.535034, 0.008627], [51.543337, 0.001637], [51.542995, 0.000613], [51.517348, 0.022551], [51.546346, 0.025423], [51.525866, 0.029272], [51.539595, -0.000401], [51.522504, 0.072369], [51.515879, 0.008649], [51.546228, 0.006091], [51.512522, 0.010375], [51.547067, 0.025311], [51.524301, 0.072451], [51.547699, 0.025195], [51.531354, 0.044655], [51.52431, 0.004695], [51.524206, 0.072735], [51.529625, 0.056112], [51.520473, 0.018653], [51.518134, 0.013505], [51.511186, 0.025304], [51.537655, 0.033978], [51.521687, 0.021302], [51.530982, 0.019406], [51.540818, 0.001671], [51.550644, -0.004965], [51.550554, -0.004968], [51.517763, 0.034965], [51.534839, 0.035583], [51.518134, 0.013505], [51.539926, 0.032637], [51.522723, 0.023798], [51.554652, 0.059693], [51.540903, 0.001963], [51.547528, 0.003696], [51.526018, 0.05667], [51.535187, -0.005641], [51.519501, 0.053926], [51.534573, -0.006533], [51.541, 0.001535], [51.521133, 0.058324], [51.533825, 0.026598], [51.543905, 0.036564], [51.514346, 0.00887], [51.529258, 0.02553], [51.526654, 0.04084], [51.512685, 0.04771], [51.543958, 0.012626], [51.551296, 0.025211], [51.544533, 0.015824], [51.538881, 0.051338], [51.536329, -0.004004], [51.509142, 0.029105], [51.5509, 0.047984], [51.525429, 0.028531], [51.530134, 0.037247], [51.528754, 0.03387], [51.541506, -0.001759], [51.532164, 0.049738], [51.516174, 0.012409], [51.52296, 0.030872], [51.519581, 0.054506], [51.543183, 0.06754], [51.536595, 0.068827], [51.539691, 0.06666], [51.539876, 0.06638], [51.52979, 0.072267], [51.547306, 0.068304], [51.539961, 0.066673], [51.542831, 0.067091], [51.552776, 0.053838], [51.5315, 0.072201], [51.525741, 0.072372], [51.540818, 0.001671], [51.530124, 0.037824], [51.524669, 0.004711], [51.526291, 0.076866], [51.546662, 0.048659], [51.550366, 0.047671], [51.533642, 0.062926], [51.531479, 0.02188], [51.514314, 0.031641], [51.54177, 0.003876], [51.508336, 0.013217], [51.54954, 0.001765], [51.543528, 0.032365], [51.547223, 0.011039], [51.540728, 0.001667], [51.53687, 0.022119], [51.526322, 0.02886], [51.5088, 0.074341], [51.544528, 0.016112], [51.551589, 0.002865], [51.534745, 0.051296], [51.528266, 0.004725], [51.529465, 0.023953], [51.543979, 0.016665], [51.525651, 0.072368], [51.532955, 0.071258], [51.508776, 0.070593], [51.537705, 0.051717], [51.519793, 0.032029], [51.531019, 0.043198], [51.512396, 0.043662], [51.541509, -0.001903], [51.516749, 0.015606], [51.538148, 0.005303], [51.529465, 0.023953], [51.540064, 0.050526], [51.525866, 0.029272], [51.538975, 0.040815], [51.552508, 0.017475], [51.551395, -0.017481], [51.551558, -0.016464], [51.553901, 0.020133], [51.545686, 0.068374], [51.552895, 0.067548], [51.532757, 0.025974], [51.549773, 0.024854], [51.517656, 0.03597], [51.5095, 0.018744], [51.528436, 0.041785], [51.536871, 0.006401], [51.51579, 0.060389], [51.508234, 0.070713], [51.539565, 0.063626], [51.525164, 0.074508], [51.527793, 0.032241], [51.545393, 0.007641], [51.525863, 0.029416], [51.548669, 0.041826], [51.53519, -0.005785], [51.527555, 0.056163], [51.517156, 0.023263], [51.544106, 0.014507], [51.530895, 0.008733], [51.536601, 0.006389], [51.530101, 0.028739], [51.530051, 0.036811], [51.555458, 0.059874], [51.525232, 0.029532], [51.50885, 0.066417], [51.508684, 0.070733], [51.517092, 0.032197], [51.523846, 0.057437], [51.546311, 0.006528], [51.516923, 0.010713], [51.539112, 0.032889], [51.532651, 0.052788], [51.520314, 0.058864], [51.525167, 0.074364], [51.542665, 0.009396], [51.548233, 0.056518], [51.535288, 0.056223], [51.520047, 0.058708], [51.529165, 0.004764], [51.502152, 0.027642], [51.532384, 0.047441], [51.543046, 0.054842], [51.539157, 0.004194], [51.540903, 0.001963], [51.546752, 0.048663], [51.525169, 0.027943], [51.533709, 0.012462], [51.515347, 0.008193], [51.52465, 0.005863], [51.543458, 0.026016], [51.548245, 0.024787], [51.538252, 0.051309], [51.533677, 0.060909], [51.53061, 0.040873], [51.553976, 0.05721], [51.539518, 0.050934], [51.540152, 0.050674], [51.516857, 0.035357], [51.530126, 0.037679], [51.524301, 0.072451], [51.522409, 0.072653], [51.531653, 0.016985], [51.525993, 0.073393], [51.538735, 0.044265], [51.524098, 0.073739], [51.536892, 0.01563], [51.533806, 0.063798], [51.520401, 0.059012], [51.520154, 0.031901], [51.525776, 0.029268], [51.542175, 0.032593], [51.546566, 0.028318], [51.516605, 0.039526], [51.550396, 0.061376], [51.51072, 0.062322], [51.524712, 0.074632], [51.510275, 0.025985], [51.509415, 0.018453], [51.537018, 0.034382], [51.532586, 0.015008], [51.517775, 0.060047], [51.516579, 0.015022], [51.536871, 0.006401], [51.530436, 0.025005], [51.517092, 0.032197], [51.550779, 0.054902], [51.53728, 0.040018], [51.536783, 0.021971], [51.547055, 0.057042], [51.532979, 0.007816], [51.545253, 0.036625], [51.517805, 0.048084], [51.551688, 0.054366], [51.518776, 0.038758], [51.537348, 0.030936], [51.531496, -0.010704], [51.516349, 0.012705], [51.502451, 0.051862], [51.548944, 0.020779], [51.543917, 0.056468], [51.544548, 0.004431], [51.533316, 0.066083], [51.518679, 0.059799], [51.534349, -0.003947], [51.516385, 0.041823], [51.504426, 0.04172], [51.54648, 0.048795], [51.551751, 0.050763], [51.517004, 0.032049], [51.541776, -0.001747], [51.546728, 0.029335], [51.535071, 0.022183], [51.554909, 0.060426], [51.553809, 0.056481], [51.533608, 0.059752], [51.539509, 0.066796], [51.530275, -0.01292], [51.553722, 0.056333], [51.526822, 0.072277], [51.540827, 0.027341], [51.529979, 0.035799], [51.521469, 0.044212], [51.520406, 0.058724], [51.536783, 0.021971], [51.516999, 0.032337], [51.542252, 0.007214], [51.5243, 0.057169], [51.539942, 0.000335], [51.516702, 0.039098], [51.531479, 0.037452], [51.542175, 0.032593], [51.510881, 0.068527], [51.549431, 0.02383], [51.508957, 0.039761], [51.542401, 0.00376], [51.521964, 0.031261], [51.524209, 0.072591], [51.550291, 0.046802], [51.545542, 0.019907], [51.52928, 0.034614], [51.525115, 0.072199], [51.525117, 0.072055], [51.552779, 0.053694], [51.547766, 0.005582], [51.53184, 0.047705], [51.539052, 0.05697], [51.511105, 0.014348], [51.53192, 0.048285], [51.522504, 0.072369], [51.520316, 0.05872], [51.532528, 0.054657], [51.520383, 0.018649], [51.550799, 0.022736], [51.542549, 0.036937], [51.537395, 0.054011], [51.53192, 0.048285], [51.54226, 0.006782], [51.530273, -0.012776], [51.53334, -0.008028], [51.525983, 0.073969], [51.530101, 0.028739], [51.537001, 0.00929], [51.510639, 0.025713], [51.522545, 0.023646], [51.517007, 0.031905], [51.51479, 0.019699], [51.533224, 0.055986], [51.520316, 0.05872], [51.547514, 0.03586], [51.517842, 0.061347], [51.516748, 0.010417], [51.517959, 0.013209], [51.53741, 0.022142], [51.518602, 0.022895], [51.53041, 0.021256], [51.533296, 0.036379], [51.54481, 0.041364], [51.553033, 0.054571], [51.529173, 0.025238], [51.52255, 0.023358], [51.545275, 0.030135], [51.533512, -0.007588], [51.523422, 0.030172], [51.524419, 0.07087], [51.515671, 0.056925], [51.543638, 0.026024], [51.538419, 0.052038], [51.536783, 0.006253], [51.513836, 0.059004], [51.517745, 0.004695], [51.552519, 0.053105], [51.532555, 0.022071], [51.521874, 0.031257], [51.549459, 0.063497], [51.537285, 0.034538], [51.547347, 0.035132], [51.518442, 0.032113], [51.51683, 0.031753], [51.525043, 0.014386], [51.548667, 0.04197], [51.526352, 0.073409], [51.536527, 0.052241], [51.525901, 0.073533], [51.535945, 0.007946], [51.525973, 0.028267], [51.552488, 0.060028], [51.520054, 0.058275], [51.500971, 0.069519], [51.547759, 0.037313], [51.533425, -0.007736], [51.515708, 0.059953], [51.524396, 0.072167], [51.547427, 0.025327], [51.520042, 0.058996], [51.537088, 0.025156], [51.524396, 0.072167], [51.525688, 0.02912], [51.540534, 0.002524], [51.533425, -0.007736], [51.545534, 0.0463], [51.519253, 0.026816], [51.54525, 0.031576], [51.545539, 0.020051], [51.518228, 0.013221], [51.535917, 0.040822], [51.548253, 0.039932], [51.515247, 0.008765], [51.53951, -0.000693], [51.517777, 0.059902], [51.534987, 0.052893], [51.530412, 0.052255], [51.532681, 0.014723], [51.538614, 0.051181], [51.515109, 0.006309], [51.526597, 0.028583], [51.548006, 0.038623], [51.545665, 0.028422], [51.544638, 0.004435], [51.547446, 0.018982], [51.548852, 0.005197], [51.545573, 0.049187], [51.544369, 0.03572], [51.519432, 0.016445], [51.549263, 0.043872], [51.507341, 0.070384], [51.547679, 0.036733], [51.531799, 0.055201], [51.544626, 0.026068], [51.530695, 0.041165], [51.523736, 0.068821], [51.533224, 0.055986], [51.520628, 0.004389], [51.535365, 0.067185], [51.549252, -0.002429], [51.515109, 0.006309], [51.530528, 0.040437], [51.5377, 0.010475], [51.515869, 0.055925], [51.525651, 0.072368], [51.53184, 0.047705], [51.503665, 0.044136], [51.517007, 0.031905], [51.551835, 0.025234], [51.513917, 0.033785], [51.546878, 0.031072], [51.525651, 0.072368], [51.536072, 0.005789], [51.54267, 0.009108], [51.538111, -0.003061], [51.532982, 0.054389], [51.515539, 0.007481], [51.528294, 0.024045], [51.542447, 0.032461], [51.536054, 0.006797], [51.510116, 0.014304], [51.525789, 0.064589], [51.54436, 0.015384], [51.501667, 0.050386], [51.543987, 0.031809], [51.526747, 0.03032], [51.507346, 0.070096], [51.532982, 0.054389], [51.522872, 0.004632], [51.542755, 0.0094], [51.549605, 0.044897], [51.549525, 0.00263], [51.530845, 0.05833], [51.530303, 0.037832], [51.528151, 0.047828], [51.54831, 0.005317], [51.520042, 0.058996], [51.548115, 0.016703], [51.516901, 0.017198], [51.503682, 0.043128], [51.505586, 0.016266], [51.550381, 0.046807], [51.547427, 0.035712], [51.517003, 0.016482], [51.538111, 0.033566], [51.544482, 0.008322], [51.543387, 0.003947], [51.515978, 0.008077], [51.544279, 0.004419], [51.547027, 0.03281], [51.518771, 0.059659], [51.551836, 0.051055], [51.531836, 0.02204], [51.533224, 0.055986], [51.531676, 0.046832], [51.520224, 0.05886], [51.54071, -0.002515], [51.531566, 0.022028], [51.525568, 0.00475], [51.511011, 0.025008], [51.508693, 0.013377], [51.50215, 0.027786], [51.523327, 0.030456], [51.533383, 0.005238], [51.509315, 0.070618], [51.522496, 0.057521], [51.52944, 0.025394], [51.49991, 0.063419], [51.545879, 0.02122], [51.509011, 0.046969], [51.5544, 0.058672], [51.537078, 0.036115], [51.513892, 0.035225], [51.517267, 0.011593], [51.530894, 0.045211], [51.543475, 0.004095], [51.545202, 0.018738], [51.530124, 0.037824], [51.552779, 0.053694], [51.508862, 0.040045], [51.523736, 0.068821], [51.552779, 0.053694], [51.517002, 0.032193], [51.549252, -0.002429], [51.537047, 0.068704], [51.554994, 0.060718], [51.547434, 0.03528], [51.538236, 0.041935], [51.536776, 0.037976], [51.521602, 0.02101], [51.526476, 0.076586], [51.543982, 0.032097], [51.539765, 0.000183], [51.536948, 0.038417], [51.546834, 0.012753], [51.520316, 0.05872], [51.532507, 0.061], [51.530059, 0.036379], [51.537198, 0.03439], [51.538281, 0.023767], [51.547334, 0.035852], [51.523891, 0.039419], [51.547881, 0.025059], [51.537074, 0.051833], [51.533216, 0.056418], [51.541776, -0.001747], [51.533663, 0.035963], [51.509632, 0.06285], [51.546878, 0.031072], [51.544177, 0.026048], [51.550119, 0.046362], [51.525384, 0.072212], [51.533376, 0.057579], [51.537074, 0.051833], [51.554144, 0.026924], [51.508432, 0.069713], [51.541601, 0.05521], [51.508693, 0.013377], [51.530124, 0.037824], [51.52534, 0.049143], [51.515994, 0.053912], [51.541456, 0.032561], [51.51486, 0.005145], [51.502564, 0.035009], [51.528252, 0.026494], [51.543684, 0.012902], [51.530446, 0.040001], [51.521343, 0.071884], [51.522139, 0.072641], [51.548669, 0.041826], [51.54825, 0.040076], [51.521328, 0.031665], [51.532645, 0.022075], [51.542667, 0.009252], [51.520316, 0.05872], [51.549057, 0.024678], [51.516228, 0.009241], [51.517004, 0.032049], [51.540576, 0.010602], [51.533075, -0.008328], [51.538476, 0.033294], [51.529159, 0.046719], [51.520406, 0.058724], [51.525866, 0.029272], [51.546063, 0.005219], [51.549605, 0.044897], [51.545544, 0.019763], [51.531182, 0.044215], [51.532018, 0.021903], [51.54534, 0.03158], [51.516962, 0.029308], [51.542327, 0.008083], [51.527825, 0.056175], [51.53943, 0.050786], [51.520603, 0.00583], [51.515272, 0.007325], [51.532573, 0.052063], [51.536873, 0.006257], [51.520349, 0.056847], [51.536808, 0.02053], [51.533461, 0.057871], [51.518134, 0.013505], [51.520309, 0.059152], [51.554318, 0.058235], [51.508414, 0.070721], [51.542015, 0.005329], [51.527029, 0.034802], [51.520606, 0.031777], [51.541233, 0.060817], [51.532985, 0.054245], [51.508519, 0.013081], [51.515389, 0.031833], [51.539518, 0.050934], [51.541862, 0.003736], [51.536561, 0.034794], [51.549034, 0.005061], [51.511063, 0.021984], [51.549099, 0.022228], [51.548655, 0.027113], [51.553894, 0.056774], [51.515974, 0.008365], [51.518134, 0.013505], [51.549216, 0.025839], [51.54308, 0.000905], [51.536054, 0.006797], [51.537565, 0.033974], [51.536783, 0.006253], [51.530051, 0.036811], [51.533072, -0.008184], [51.554313, 0.058524], [51.529165, 0.004764], [51.517002, 0.032193], [51.538252, 0.051309], [51.540513, -0.001514], [51.517864, 0.013493], [51.555759, 0.063205], [51.530209, 0.038116], [51.510883, 0.068383], [51.549605, 0.044897], [51.525516, 0.028679], [51.536329, -0.004004], [51.539672, 0.01085], [51.515519, 0.008633], [51.535835, 0.035195], [51.52205, 0.072637], [51.525321, 0.029536], [51.527735, 0.056171], [51.509683, 0.034173], [51.541726, 0.032573], [51.533737, 0.062642], [51.517012, 0.031617], [51.508857, 0.040333], [51.525776, 0.029268], [51.510883, 0.068383], [51.542172, 0.006634], [51.548466, 0.048307], [51.546433, 0.025571], [51.553941, 0.02302], [51.548218, 0.005458], [51.522872, 0.004632], [51.533387, 0.051812], [51.517777, 0.059902], [51.520689, 0.073296], [51.516084, 0.012405], [51.508149, 0.013641], [51.525122, 0.071767], [51.540241, -0.001382], [51.512706, 0.036181], [51.535964, 0.068943], [51.530124, 0.037824], [51.525691, 0.028976], [51.541772, 0.003732], [51.544931, 0.055071], [51.524702, 0.039311], [51.531617, 0.055337], [51.525384, 0.072212], [51.538252, 0.051309], [51.537427, 0.031516], [51.528184, 0.056191], [51.531182, 0.044215], [51.525384, 0.072212], [51.538241, 0.005163], [51.532982, 0.054389], [51.525901, 0.073533], [51.541601, 0.05521], [51.540032, 0.000339], [51.556096, 0.064519], [51.516697, 0.039386], [51.526692, 0.028299], [51.515604, 0.008925], [51.508698, 0.013089], [51.522635, 0.02365], [51.516231, 0.009097], [51.537076, 0.051689], [51.520383, 0.018649], [51.554057, 0.052598], [51.542411, 0.050054], [51.530695, 0.041165], [51.543682, 0.018238], [51.537093, 0.00915], [51.516912, 0.032189], [51.528142, 0.032833], [51.533206, 0.036375], [51.549518, 0.039556], [51.525776, 0.029268], [51.520316, 0.05872], [51.538975, 0.040815], [51.536151, -0.004156], [51.536783, 0.006253], [51.533682, 0.060621], [51.517182, 0.011301], [51.542017, 0.005185], [51.533685, 0.060476], [51.533245, -0.007744], [51.531673, 0.046976], [51.544089, 0.0259], [51.516859, 0.003935], [51.518046, 0.013357], [51.550551, 0.047391], [51.519951, 0.048757], [51.546439, -0.000966], [51.53572, 0.06749], [51.515072, 0.008469], [51.507346, 0.070096], [51.533749, 0.061921], [51.500665, 0.056249], [51.540862, 0.066569], [51.531102, 0.043635], [51.525321, 0.029536], [51.521599, 0.021154], [51.547785, 0.014958], [51.532985, 0.054245], [51.530124, 0.037824], [51.540603, 0.05055], [51.543387, 0.003947], [51.525866, 0.029272], [51.515509, 0.009209], [51.520833, 0.023859], [51.533247, -0.007888], [51.525901, 0.073533], [51.554994, 0.060718], [51.535453, 0.067334], [51.547554, 0.064421], [51.538233, 0.042079], [51.531656, 0.022032], [51.530124, 0.037824], [51.522296, 0.022482], [51.508317, 0.014369], [51.554707, 0.046279], [51.535034, 0.008627], [51.532882, 0.034342], [51.536107, 0.035063], [51.540728, 0.001667], [51.525349, 0.027951], [51.521861, 0.021598], [51.516833, 0.010709], [51.515099, 0.017407], [51.546613, 0.025579], [51.523738, 0.068677], [51.525901, 0.073533], [51.525683, 0.029408], [51.530273, -0.012776], [51.546063, 0.005219], [51.524758, 0.072039], [51.522296, 0.022482], [51.516401, 0.009681], [51.546655, 0.028322], [51.547759, 0.026928], [51.534207, 0.035699], [51.542667, 0.009252], [51.533247, 0.007972], [51.527645, 0.056167], [51.515539, 0.007481], [51.530126, 0.037679], [51.525144, 0.055189], [51.52313, 0.057261], [51.52099, 0.019973], [51.523479, 0.068089], [51.522036, 0.021894], [51.508211, 0.072009], [51.534839, 0.035583], [51.534077, 0.048382], [51.511335, 0.042606], [51.542825, 2.9e-05], [51.545629, 0.020055], [51.527867, 0.038299], [51.545253, 0.031432], [51.497626, 0.06029], [51.526654, 0.03046], [51.54847, 0.058404], [51.537308, 0.033242], [51.530124, 0.037824], [51.518472, 0.025195], [51.531182, 0.044215], [51.516056, 0.008801], [51.541795, 0.023346], [51.542572, -0.000991], [51.549603, 0.045041], [51.516429, 0.013285], [51.530777, 0.041601], [51.517614, 0.012329], [51.527645, 0.056167], [51.534465, 0.010332], [51.522705, 0.003904], [51.547912, 0.002271], [51.53979, 0.050802], [51.502112, 0.045507], [51.548086, 0.039203], [51.513685, 0.031613], [51.530126, 0.037679], [51.530615, 0.040585], [51.537565, 0.033974], [51.517002, 0.032193], [51.535595, 0.007354], [51.508678, 0.014241], [51.518139, 0.013217], [51.533951, 0.050395], [51.518228, 0.013221], [51.546061, 0.005363], [51.531244, 0.019851], [51.554719, 0.045559], [51.541078, 0.002259], [51.524438, 0.039011], [51.519519, 0.016593], [51.526899, 0.073001], [51.523769, 0.025719], [51.533624, 0.053697], [51.509469, 0.067022], [51.517126, 0.024991], [51.522296, 0.022482], [51.509304, 0.040497], [51.515422, 0.009061], [51.54958, 0.020374], [51.546311, 0.006528], [51.548466, 0.048307], [51.524021, 0.073015], [51.533738, 0.005542], [51.520558, 0.018945], [51.516999, 0.032337], [51.532837, 0.005647], [51.544548, 0.004431], [51.515159, 0.060505], [51.51973, 0.009539], [51.537076, 0.051689], [51.552265, 0.052228], [51.517022, 0.031041], [51.507251, 0.07038], [51.543443, 0.032073], [51.533496, 0.055854], [51.512897, 0.061268], [51.535774, 0.069511], [51.534205, 0.035843], [51.546036, 0.022525], [51.502851, 0.0392], [51.532, 0.048865], [51.538252, 0.051309], [51.521079, 0.061349], [51.552779, 0.053694], [51.524817, 0.027495], [51.534931, 0.035443], [51.533683, 0.05543], [51.525866, 0.029272], [51.538252, 0.051309], [51.543684, 0.012902], [51.50958, 0.070918], [51.555759, 0.063205], [51.526401, 0.060436], [51.515706, 0.060097], [51.530613, 0.040729], [51.541783, 0.024067], [51.554652, 0.059693], [51.543936, 0.013923], [51.547027, 0.03281], [51.508684, 0.070733], [51.55013, 0.025014], [51.533224, 0.055986], [51.548253, 0.039932], [51.517027, 0.030753], [51.548466, 0.048307], [51.523738, 0.068677], [51.50138, 0.051382], [51.50063, 0.068495], [51.533754, 0.061633], [51.529974, 0.036087], [51.516969, 0.034065], [51.538695, 0.041379], [51.52927, 0.024809], [51.52927, 0.024809], [51.547856, 0.005586], [51.51508, 0.008037], [51.536049, 0.069235], [51.54959, 0.004076], [51.525115, 0.061964], [51.524399, 0.072023], [51.527685, 0.038435], [51.522585, 0.057525], [51.528619, 0.026078], [51.528229, 0.032981], [51.532819, 0.022372], [51.543905, 0.036564], [51.532167, 0.049594], [51.533007, 0.027138], [51.539066, 0.051058], [51.554994, 0.060718], [51.536815, 0.020097], [51.529559, 0.023669], [51.524119, 0.072587], [51.548714, 0.059857], [51.525566, 0.056794], [51.530608, 0.041017], [51.529939, 0.022532], [51.533072, -0.008184], [51.534868, 0.069903], [51.525384, 0.072212], [51.546043, 0.068535], [51.544126, 0.049699], [51.519882, 0.057835], [51.542912, 0.000177], [51.552093, 0.051788], [51.517152, 0.033929], [51.544222, 0.028646], [51.555757, 0.063349], [51.551461, -0.016036], [51.508536, 0.063809], [51.531314, -0.010568], [51.527451, 0.072305], [51.537672, 0.043352], [51.554529, 0.061563], [51.527091, 0.0312], [51.553485, 0.023432], [51.54191, 0.037485], [51.547856, 0.005586], [51.503513, 0.042544], [51.536691, 0.006393], [51.541857, 0.004024], [51.537781, 0.067872], [51.547514, 0.03586], [51.539022, 0.032885], [51.529263, 0.025242], [51.532106, -0.009524], [51.502272, 0.031105], [51.527703, 0.027047], [51.53545, -0.005197], [51.543205, 0.004083]],\n",
       "                {\n",
       "  &quot;minOpacity&quot;: 0.5,\n",
       "  &quot;maxZoom&quot;: 18,\n",
       "  &quot;radius&quot;: 8,\n",
       "  &quot;blur&quot;: 15,\n",
       "}\n",
       "            );\n",
       "        \n",
       "    \n",
       "            heat_map_6c07d9dcbcaffd8a701fc694fd8e36c4.addTo(map_1365127033139c6bb7b4bae738c841e6);\n",
       "        \n",
       "&lt;/script&gt;\n",
       "&lt;/html&gt;\" style=\"position:absolute;width:100%;height:100%;left:0;top:0;border:none !important;\" allowfullscreen webkitallowfullscreen mozallowfullscreen></iframe></div></div>"
      ],
      "text/plain": [
       "<folium.folium.Map at 0x21ab11b6060>"
      ]
     },
     "execution_count": 92,
     "metadata": {},
     "output_type": "execute_result"
    }
   ],
   "source": [
    "newham_df = df[df[\"District Area\"] == \"Newham\"]\n",
    "\n",
    "surface = newham_df[\"Road_Surface_Conditions\"].value_counts()\n",
    "print(\"Accidents by Road Surface Condition in Newham:\\n\", surface)\n",
    "\n",
    "coords = newham_df[[\"Latitude\", \"Longitude\"]].dropna().values.tolist()\n",
    "m = folium.Map(location=[newham_df[\"Latitude\"].mean(), newham_df[\"Longitude\"].mean()], zoom_start=12)\n",
    "HeatMap(coords, radius=8).add_to(m)\n",
    "m"
   ]
  },
  {
   "cell_type": "code",
   "execution_count": null,
   "id": "b6cfb1a4-7d5a-4d12-a5af-a8f28ca7308d",
   "metadata": {},
   "outputs": [],
   "source": []
  }
 ],
 "metadata": {
  "kernelspec": {
   "display_name": "Python 3 (ipykernel)",
   "language": "python",
   "name": "python3"
  },
  "language_info": {
   "codemirror_mode": {
    "name": "ipython",
    "version": 3
   },
   "file_extension": ".py",
   "mimetype": "text/x-python",
   "name": "python",
   "nbconvert_exporter": "python",
   "pygments_lexer": "ipython3",
   "version": "3.12.3"
  }
 },
 "nbformat": 4,
 "nbformat_minor": 5
}
