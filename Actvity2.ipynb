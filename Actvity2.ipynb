{
 "cells": [
  {
   "cell_type": "markdown",
   "id": "3b59e38b-627c-439c-a32d-3d4628da7c81",
   "metadata": {},
   "source": [
    "<h1>Activity 2: UK Road Accident</h1>\n",
    "<h>Analyst: Rodelyn Bacares</h>"
   ]
  },
  {
   "cell_type": "code",
   "execution_count": 1,
   "id": "812f0ae7-617c-4ff9-a742-56deb97faf58",
   "metadata": {},
   "outputs": [],
   "source": [
    "import numpy as np\n",
    "import pandas as pd\n",
    "import warnings\n",
    "warnings.filterwarnings('ignore')"
   ]
  },
  {
   "cell_type": "code",
   "execution_count": 2,
   "id": "3c5365af-6ae9-40ec-b84e-51a61cb9f2bd",
   "metadata": {},
   "outputs": [],
   "source": [
    "accident = pd.read_csv('uk_accident_data.csv')"
   ]
  },
  {
   "cell_type": "code",
   "execution_count": 3,
   "id": "b460125c-ebc5-4f06-90ad-37463645acbe",
   "metadata": {},
   "outputs": [
    {
     "data": {
      "text/html": [
       "<div>\n",
       "<style scoped>\n",
       "    .dataframe tbody tr th:only-of-type {\n",
       "        vertical-align: middle;\n",
       "    }\n",
       "\n",
       "    .dataframe tbody tr th {\n",
       "        vertical-align: top;\n",
       "    }\n",
       "\n",
       "    .dataframe thead th {\n",
       "        text-align: right;\n",
       "    }\n",
       "</style>\n",
       "<table border=\"1\" class=\"dataframe\">\n",
       "  <thead>\n",
       "    <tr style=\"text-align: right;\">\n",
       "      <th></th>\n",
       "      <th>Index</th>\n",
       "      <th>Accident_Severity</th>\n",
       "      <th>Accident Date</th>\n",
       "      <th>Latitude</th>\n",
       "      <th>Light_Conditions</th>\n",
       "      <th>District Area</th>\n",
       "      <th>Longitude</th>\n",
       "      <th>Number_of_Casualties</th>\n",
       "      <th>Number_of_Vehicles</th>\n",
       "      <th>Road_Surface_Conditions</th>\n",
       "      <th>Road_Type</th>\n",
       "      <th>Urban_or_Rural_Area</th>\n",
       "      <th>Weather_Conditions</th>\n",
       "      <th>Vehicle_Type</th>\n",
       "    </tr>\n",
       "  </thead>\n",
       "  <tbody>\n",
       "    <tr>\n",
       "      <th>0</th>\n",
       "      <td>200701BS64157</td>\n",
       "      <td>Serious</td>\n",
       "      <td>05/06/2019</td>\n",
       "      <td>51.506187</td>\n",
       "      <td>Darkness - lights lit</td>\n",
       "      <td>Kensington and Chelsea</td>\n",
       "      <td>-0.209082</td>\n",
       "      <td>1</td>\n",
       "      <td>2</td>\n",
       "      <td>Dry</td>\n",
       "      <td>Single carriageway</td>\n",
       "      <td>Urban</td>\n",
       "      <td>Fine no high winds</td>\n",
       "      <td>Car</td>\n",
       "    </tr>\n",
       "    <tr>\n",
       "      <th>1</th>\n",
       "      <td>200701BS65737</td>\n",
       "      <td>Serious</td>\n",
       "      <td>02/07/2019</td>\n",
       "      <td>51.495029</td>\n",
       "      <td>Daylight</td>\n",
       "      <td>Kensington and Chelsea</td>\n",
       "      <td>-0.173647</td>\n",
       "      <td>1</td>\n",
       "      <td>2</td>\n",
       "      <td>Wet or damp</td>\n",
       "      <td>Single carriageway</td>\n",
       "      <td>Urban</td>\n",
       "      <td>Raining no high winds</td>\n",
       "      <td>Car</td>\n",
       "    </tr>\n",
       "    <tr>\n",
       "      <th>2</th>\n",
       "      <td>200701BS66127</td>\n",
       "      <td>Serious</td>\n",
       "      <td>26/08/2019</td>\n",
       "      <td>51.517715</td>\n",
       "      <td>Darkness - lighting unknown</td>\n",
       "      <td>Kensington and Chelsea</td>\n",
       "      <td>-0.210215</td>\n",
       "      <td>1</td>\n",
       "      <td>3</td>\n",
       "      <td>Dry</td>\n",
       "      <td>NaN</td>\n",
       "      <td>Urban</td>\n",
       "      <td>NaN</td>\n",
       "      <td>Taxi/Private hire car</td>\n",
       "    </tr>\n",
       "    <tr>\n",
       "      <th>3</th>\n",
       "      <td>200701BS66128</td>\n",
       "      <td>Serious</td>\n",
       "      <td>16/08/2019</td>\n",
       "      <td>51.495478</td>\n",
       "      <td>Daylight</td>\n",
       "      <td>Kensington and Chelsea</td>\n",
       "      <td>-0.202731</td>\n",
       "      <td>1</td>\n",
       "      <td>4</td>\n",
       "      <td>Dry</td>\n",
       "      <td>Single carriageway</td>\n",
       "      <td>Urban</td>\n",
       "      <td>Fine no high winds</td>\n",
       "      <td>Bus or coach (17 or more pass seats)</td>\n",
       "    </tr>\n",
       "    <tr>\n",
       "      <th>4</th>\n",
       "      <td>200701BS66837</td>\n",
       "      <td>Slight</td>\n",
       "      <td>03/09/2019</td>\n",
       "      <td>51.488576</td>\n",
       "      <td>Darkness - lights lit</td>\n",
       "      <td>Kensington and Chelsea</td>\n",
       "      <td>-0.192487</td>\n",
       "      <td>1</td>\n",
       "      <td>2</td>\n",
       "      <td>Dry</td>\n",
       "      <td>NaN</td>\n",
       "      <td>Urban</td>\n",
       "      <td>NaN</td>\n",
       "      <td>Other vehicle</td>\n",
       "    </tr>\n",
       "    <tr>\n",
       "      <th>...</th>\n",
       "      <td>...</td>\n",
       "      <td>...</td>\n",
       "      <td>...</td>\n",
       "      <td>...</td>\n",
       "      <td>...</td>\n",
       "      <td>...</td>\n",
       "      <td>...</td>\n",
       "      <td>...</td>\n",
       "      <td>...</td>\n",
       "      <td>...</td>\n",
       "      <td>...</td>\n",
       "      <td>...</td>\n",
       "      <td>...</td>\n",
       "      <td>...</td>\n",
       "    </tr>\n",
       "    <tr>\n",
       "      <th>660674</th>\n",
       "      <td>201091NM01760</td>\n",
       "      <td>Slight</td>\n",
       "      <td>18/02/2022</td>\n",
       "      <td>57.374005</td>\n",
       "      <td>Daylight</td>\n",
       "      <td>Highland</td>\n",
       "      <td>-3.467828</td>\n",
       "      <td>2</td>\n",
       "      <td>1</td>\n",
       "      <td>Dry</td>\n",
       "      <td>Single carriageway</td>\n",
       "      <td>Rural</td>\n",
       "      <td>Fine no high winds</td>\n",
       "      <td>Car</td>\n",
       "    </tr>\n",
       "    <tr>\n",
       "      <th>660675</th>\n",
       "      <td>201091NM01881</td>\n",
       "      <td>Slight</td>\n",
       "      <td>21/02/2022</td>\n",
       "      <td>57.232273</td>\n",
       "      <td>Darkness - no lighting</td>\n",
       "      <td>Highland</td>\n",
       "      <td>-3.809281</td>\n",
       "      <td>1</td>\n",
       "      <td>1</td>\n",
       "      <td>Frost or ice</td>\n",
       "      <td>Single carriageway</td>\n",
       "      <td>Rural</td>\n",
       "      <td>Fine no high winds</td>\n",
       "      <td>Car</td>\n",
       "    </tr>\n",
       "    <tr>\n",
       "      <th>660676</th>\n",
       "      <td>201091NM01935</td>\n",
       "      <td>Slight</td>\n",
       "      <td>23/02/2022</td>\n",
       "      <td>57.585044</td>\n",
       "      <td>Daylight</td>\n",
       "      <td>Highland</td>\n",
       "      <td>-3.862727</td>\n",
       "      <td>1</td>\n",
       "      <td>3</td>\n",
       "      <td>Frost or ice</td>\n",
       "      <td>Single carriageway</td>\n",
       "      <td>Rural</td>\n",
       "      <td>Fine no high winds</td>\n",
       "      <td>Car</td>\n",
       "    </tr>\n",
       "    <tr>\n",
       "      <th>660677</th>\n",
       "      <td>201091NM01964</td>\n",
       "      <td>Serious</td>\n",
       "      <td>23/02/2022</td>\n",
       "      <td>57.214898</td>\n",
       "      <td>Darkness - no lighting</td>\n",
       "      <td>Highland</td>\n",
       "      <td>-3.823997</td>\n",
       "      <td>1</td>\n",
       "      <td>2</td>\n",
       "      <td>Wet or damp</td>\n",
       "      <td>Single carriageway</td>\n",
       "      <td>Rural</td>\n",
       "      <td>Fine no high winds</td>\n",
       "      <td>Motorcycle over 500cc</td>\n",
       "    </tr>\n",
       "    <tr>\n",
       "      <th>660678</th>\n",
       "      <td>201091NM02142</td>\n",
       "      <td>Serious</td>\n",
       "      <td>28/02/2022</td>\n",
       "      <td>57.575210</td>\n",
       "      <td>Daylight</td>\n",
       "      <td>Highland</td>\n",
       "      <td>-3.895673</td>\n",
       "      <td>1</td>\n",
       "      <td>1</td>\n",
       "      <td>Wet or damp</td>\n",
       "      <td>Dual carriageway</td>\n",
       "      <td>Rural</td>\n",
       "      <td>Snowing no high winds</td>\n",
       "      <td>Car</td>\n",
       "    </tr>\n",
       "  </tbody>\n",
       "</table>\n",
       "<p>660679 rows × 14 columns</p>\n",
       "</div>"
      ],
      "text/plain": [
       "                Index Accident_Severity Accident Date   Latitude  \\\n",
       "0       200701BS64157           Serious    05/06/2019  51.506187   \n",
       "1       200701BS65737           Serious    02/07/2019  51.495029   \n",
       "2       200701BS66127           Serious    26/08/2019  51.517715   \n",
       "3       200701BS66128           Serious    16/08/2019  51.495478   \n",
       "4       200701BS66837            Slight    03/09/2019  51.488576   \n",
       "...               ...               ...           ...        ...   \n",
       "660674  201091NM01760            Slight    18/02/2022  57.374005   \n",
       "660675  201091NM01881            Slight    21/02/2022  57.232273   \n",
       "660676  201091NM01935            Slight    23/02/2022  57.585044   \n",
       "660677  201091NM01964           Serious    23/02/2022  57.214898   \n",
       "660678  201091NM02142           Serious    28/02/2022  57.575210   \n",
       "\n",
       "                   Light_Conditions           District Area  Longitude  \\\n",
       "0             Darkness - lights lit  Kensington and Chelsea  -0.209082   \n",
       "1                          Daylight  Kensington and Chelsea  -0.173647   \n",
       "2       Darkness - lighting unknown  Kensington and Chelsea  -0.210215   \n",
       "3                          Daylight  Kensington and Chelsea  -0.202731   \n",
       "4             Darkness - lights lit  Kensington and Chelsea  -0.192487   \n",
       "...                             ...                     ...        ...   \n",
       "660674                     Daylight                Highland  -3.467828   \n",
       "660675       Darkness - no lighting                Highland  -3.809281   \n",
       "660676                     Daylight                Highland  -3.862727   \n",
       "660677       Darkness - no lighting                Highland  -3.823997   \n",
       "660678                     Daylight                Highland  -3.895673   \n",
       "\n",
       "        Number_of_Casualties  Number_of_Vehicles Road_Surface_Conditions  \\\n",
       "0                          1                   2                     Dry   \n",
       "1                          1                   2             Wet or damp   \n",
       "2                          1                   3                     Dry   \n",
       "3                          1                   4                     Dry   \n",
       "4                          1                   2                     Dry   \n",
       "...                      ...                 ...                     ...   \n",
       "660674                     2                   1                     Dry   \n",
       "660675                     1                   1            Frost or ice   \n",
       "660676                     1                   3            Frost or ice   \n",
       "660677                     1                   2             Wet or damp   \n",
       "660678                     1                   1             Wet or damp   \n",
       "\n",
       "                 Road_Type Urban_or_Rural_Area     Weather_Conditions  \\\n",
       "0       Single carriageway               Urban     Fine no high winds   \n",
       "1       Single carriageway               Urban  Raining no high winds   \n",
       "2                      NaN               Urban                    NaN   \n",
       "3       Single carriageway               Urban     Fine no high winds   \n",
       "4                      NaN               Urban                    NaN   \n",
       "...                    ...                 ...                    ...   \n",
       "660674  Single carriageway               Rural     Fine no high winds   \n",
       "660675  Single carriageway               Rural     Fine no high winds   \n",
       "660676  Single carriageway               Rural     Fine no high winds   \n",
       "660677  Single carriageway               Rural     Fine no high winds   \n",
       "660678    Dual carriageway               Rural  Snowing no high winds   \n",
       "\n",
       "                                Vehicle_Type  \n",
       "0                                        Car  \n",
       "1                                        Car  \n",
       "2                      Taxi/Private hire car  \n",
       "3       Bus or coach (17 or more pass seats)  \n",
       "4                              Other vehicle  \n",
       "...                                      ...  \n",
       "660674                                   Car  \n",
       "660675                                   Car  \n",
       "660676                                   Car  \n",
       "660677                 Motorcycle over 500cc  \n",
       "660678                                   Car  \n",
       "\n",
       "[660679 rows x 14 columns]"
      ]
     },
     "execution_count": 3,
     "metadata": {},
     "output_type": "execute_result"
    }
   ],
   "source": [
    "accident"
   ]
  },
  {
   "cell_type": "code",
   "execution_count": 4,
   "id": "5c6bdb90-4c2d-4a8f-8724-d37154017406",
   "metadata": {},
   "outputs": [
    {
     "data": {
      "text/html": [
       "<div>\n",
       "<style scoped>\n",
       "    .dataframe tbody tr th:only-of-type {\n",
       "        vertical-align: middle;\n",
       "    }\n",
       "\n",
       "    .dataframe tbody tr th {\n",
       "        vertical-align: top;\n",
       "    }\n",
       "\n",
       "    .dataframe thead th {\n",
       "        text-align: right;\n",
       "    }\n",
       "</style>\n",
       "<table border=\"1\" class=\"dataframe\">\n",
       "  <thead>\n",
       "    <tr style=\"text-align: right;\">\n",
       "      <th></th>\n",
       "      <th>Latitude</th>\n",
       "      <th>Longitude</th>\n",
       "      <th>Number_of_Casualties</th>\n",
       "      <th>Number_of_Vehicles</th>\n",
       "    </tr>\n",
       "  </thead>\n",
       "  <tbody>\n",
       "    <tr>\n",
       "      <th>count</th>\n",
       "      <td>660654.000000</td>\n",
       "      <td>660653.000000</td>\n",
       "      <td>660679.000000</td>\n",
       "      <td>660679.000000</td>\n",
       "    </tr>\n",
       "    <tr>\n",
       "      <th>mean</th>\n",
       "      <td>52.553866</td>\n",
       "      <td>-1.431210</td>\n",
       "      <td>1.357040</td>\n",
       "      <td>1.831255</td>\n",
       "    </tr>\n",
       "    <tr>\n",
       "      <th>std</th>\n",
       "      <td>1.406922</td>\n",
       "      <td>1.383330</td>\n",
       "      <td>0.824847</td>\n",
       "      <td>0.715269</td>\n",
       "    </tr>\n",
       "    <tr>\n",
       "      <th>min</th>\n",
       "      <td>49.914430</td>\n",
       "      <td>-7.516225</td>\n",
       "      <td>1.000000</td>\n",
       "      <td>1.000000</td>\n",
       "    </tr>\n",
       "    <tr>\n",
       "      <th>25%</th>\n",
       "      <td>51.490690</td>\n",
       "      <td>-2.332291</td>\n",
       "      <td>1.000000</td>\n",
       "      <td>1.000000</td>\n",
       "    </tr>\n",
       "    <tr>\n",
       "      <th>50%</th>\n",
       "      <td>52.315641</td>\n",
       "      <td>-1.411667</td>\n",
       "      <td>1.000000</td>\n",
       "      <td>2.000000</td>\n",
       "    </tr>\n",
       "    <tr>\n",
       "      <th>75%</th>\n",
       "      <td>53.453452</td>\n",
       "      <td>-0.232869</td>\n",
       "      <td>1.000000</td>\n",
       "      <td>2.000000</td>\n",
       "    </tr>\n",
       "    <tr>\n",
       "      <th>max</th>\n",
       "      <td>60.757544</td>\n",
       "      <td>1.762010</td>\n",
       "      <td>68.000000</td>\n",
       "      <td>32.000000</td>\n",
       "    </tr>\n",
       "  </tbody>\n",
       "</table>\n",
       "</div>"
      ],
      "text/plain": [
       "            Latitude      Longitude  Number_of_Casualties  Number_of_Vehicles\n",
       "count  660654.000000  660653.000000         660679.000000       660679.000000\n",
       "mean       52.553866      -1.431210              1.357040            1.831255\n",
       "std         1.406922       1.383330              0.824847            0.715269\n",
       "min        49.914430      -7.516225              1.000000            1.000000\n",
       "25%        51.490690      -2.332291              1.000000            1.000000\n",
       "50%        52.315641      -1.411667              1.000000            2.000000\n",
       "75%        53.453452      -0.232869              1.000000            2.000000\n",
       "max        60.757544       1.762010             68.000000           32.000000"
      ]
     },
     "execution_count": 4,
     "metadata": {},
     "output_type": "execute_result"
    }
   ],
   "source": [
    "accident.describe()"
   ]
  },
  {
   "cell_type": "code",
   "execution_count": 5,
   "id": "37a2e4df-d439-48b5-85de-132fbbf078f3",
   "metadata": {},
   "outputs": [
    {
     "data": {
      "text/html": [
       "<div>\n",
       "<style scoped>\n",
       "    .dataframe tbody tr th:only-of-type {\n",
       "        vertical-align: middle;\n",
       "    }\n",
       "\n",
       "    .dataframe tbody tr th {\n",
       "        vertical-align: top;\n",
       "    }\n",
       "\n",
       "    .dataframe thead th {\n",
       "        text-align: right;\n",
       "    }\n",
       "</style>\n",
       "<table border=\"1\" class=\"dataframe\">\n",
       "  <thead>\n",
       "    <tr style=\"text-align: right;\">\n",
       "      <th></th>\n",
       "      <th>count</th>\n",
       "      <th>mean</th>\n",
       "      <th>std</th>\n",
       "      <th>min</th>\n",
       "      <th>25%</th>\n",
       "      <th>50%</th>\n",
       "      <th>75%</th>\n",
       "      <th>max</th>\n",
       "    </tr>\n",
       "  </thead>\n",
       "  <tbody>\n",
       "    <tr>\n",
       "      <th>Latitude</th>\n",
       "      <td>660654.0</td>\n",
       "      <td>52.553866</td>\n",
       "      <td>1.406922</td>\n",
       "      <td>49.914430</td>\n",
       "      <td>51.490690</td>\n",
       "      <td>52.315641</td>\n",
       "      <td>53.453452</td>\n",
       "      <td>60.757544</td>\n",
       "    </tr>\n",
       "    <tr>\n",
       "      <th>Longitude</th>\n",
       "      <td>660653.0</td>\n",
       "      <td>-1.431210</td>\n",
       "      <td>1.383330</td>\n",
       "      <td>-7.516225</td>\n",
       "      <td>-2.332291</td>\n",
       "      <td>-1.411667</td>\n",
       "      <td>-0.232869</td>\n",
       "      <td>1.762010</td>\n",
       "    </tr>\n",
       "    <tr>\n",
       "      <th>Number_of_Casualties</th>\n",
       "      <td>660679.0</td>\n",
       "      <td>1.357040</td>\n",
       "      <td>0.824847</td>\n",
       "      <td>1.000000</td>\n",
       "      <td>1.000000</td>\n",
       "      <td>1.000000</td>\n",
       "      <td>1.000000</td>\n",
       "      <td>68.000000</td>\n",
       "    </tr>\n",
       "    <tr>\n",
       "      <th>Number_of_Vehicles</th>\n",
       "      <td>660679.0</td>\n",
       "      <td>1.831255</td>\n",
       "      <td>0.715269</td>\n",
       "      <td>1.000000</td>\n",
       "      <td>1.000000</td>\n",
       "      <td>2.000000</td>\n",
       "      <td>2.000000</td>\n",
       "      <td>32.000000</td>\n",
       "    </tr>\n",
       "  </tbody>\n",
       "</table>\n",
       "</div>"
      ],
      "text/plain": [
       "                         count       mean       std        min        25%  \\\n",
       "Latitude              660654.0  52.553866  1.406922  49.914430  51.490690   \n",
       "Longitude             660653.0  -1.431210  1.383330  -7.516225  -2.332291   \n",
       "Number_of_Casualties  660679.0   1.357040  0.824847   1.000000   1.000000   \n",
       "Number_of_Vehicles    660679.0   1.831255  0.715269   1.000000   1.000000   \n",
       "\n",
       "                            50%        75%        max  \n",
       "Latitude              52.315641  53.453452  60.757544  \n",
       "Longitude             -1.411667  -0.232869   1.762010  \n",
       "Number_of_Casualties   1.000000   1.000000  68.000000  \n",
       "Number_of_Vehicles     2.000000   2.000000  32.000000  "
      ]
     },
     "execution_count": 5,
     "metadata": {},
     "output_type": "execute_result"
    }
   ],
   "source": [
    "accident.describe().T"
   ]
  },
  {
   "cell_type": "code",
   "execution_count": 6,
   "id": "8d9be21e-fe25-4e22-80be-7ec5e97a87ab",
   "metadata": {},
   "outputs": [
    {
     "name": "stdout",
     "output_type": "stream",
     "text": [
      "<class 'pandas.core.frame.DataFrame'>\n",
      "RangeIndex: 660679 entries, 0 to 660678\n",
      "Data columns (total 14 columns):\n",
      " #   Column                   Non-Null Count   Dtype  \n",
      "---  ------                   --------------   -----  \n",
      " 0   Index                    660679 non-null  object \n",
      " 1   Accident_Severity        660679 non-null  object \n",
      " 2   Accident Date            660679 non-null  object \n",
      " 3   Latitude                 660654 non-null  float64\n",
      " 4   Light_Conditions         660679 non-null  object \n",
      " 5   District Area            660679 non-null  object \n",
      " 6   Longitude                660653 non-null  float64\n",
      " 7   Number_of_Casualties     660679 non-null  int64  \n",
      " 8   Number_of_Vehicles       660679 non-null  int64  \n",
      " 9   Road_Surface_Conditions  659953 non-null  object \n",
      " 10  Road_Type                656159 non-null  object \n",
      " 11  Urban_or_Rural_Area      660664 non-null  object \n",
      " 12  Weather_Conditions       646551 non-null  object \n",
      " 13  Vehicle_Type             660679 non-null  object \n",
      "dtypes: float64(2), int64(2), object(10)\n",
      "memory usage: 70.6+ MB\n"
     ]
    }
   ],
   "source": [
    "accident.info()"
   ]
  },
  {
   "cell_type": "code",
   "execution_count": 7,
   "id": "3285ab47-3cde-45e9-9f62-7ae64e386da7",
   "metadata": {},
   "outputs": [
    {
     "data": {
      "text/html": [
       "<div>\n",
       "<style scoped>\n",
       "    .dataframe tbody tr th:only-of-type {\n",
       "        vertical-align: middle;\n",
       "    }\n",
       "\n",
       "    .dataframe tbody tr th {\n",
       "        vertical-align: top;\n",
       "    }\n",
       "\n",
       "    .dataframe thead th {\n",
       "        text-align: right;\n",
       "    }\n",
       "</style>\n",
       "<table border=\"1\" class=\"dataframe\">\n",
       "  <thead>\n",
       "    <tr style=\"text-align: right;\">\n",
       "      <th></th>\n",
       "      <th>Index</th>\n",
       "      <th>Accident_Severity</th>\n",
       "      <th>Accident Date</th>\n",
       "      <th>Latitude</th>\n",
       "      <th>Light_Conditions</th>\n",
       "      <th>District Area</th>\n",
       "      <th>Longitude</th>\n",
       "      <th>Number_of_Casualties</th>\n",
       "      <th>Number_of_Vehicles</th>\n",
       "      <th>Road_Surface_Conditions</th>\n",
       "      <th>Road_Type</th>\n",
       "      <th>Urban_or_Rural_Area</th>\n",
       "      <th>Weather_Conditions</th>\n",
       "      <th>Vehicle_Type</th>\n",
       "    </tr>\n",
       "  </thead>\n",
       "  <tbody>\n",
       "    <tr>\n",
       "      <th>0</th>\n",
       "      <td>False</td>\n",
       "      <td>False</td>\n",
       "      <td>False</td>\n",
       "      <td>False</td>\n",
       "      <td>False</td>\n",
       "      <td>False</td>\n",
       "      <td>False</td>\n",
       "      <td>False</td>\n",
       "      <td>False</td>\n",
       "      <td>False</td>\n",
       "      <td>False</td>\n",
       "      <td>False</td>\n",
       "      <td>False</td>\n",
       "      <td>False</td>\n",
       "    </tr>\n",
       "    <tr>\n",
       "      <th>1</th>\n",
       "      <td>False</td>\n",
       "      <td>False</td>\n",
       "      <td>False</td>\n",
       "      <td>False</td>\n",
       "      <td>False</td>\n",
       "      <td>False</td>\n",
       "      <td>False</td>\n",
       "      <td>False</td>\n",
       "      <td>False</td>\n",
       "      <td>False</td>\n",
       "      <td>False</td>\n",
       "      <td>False</td>\n",
       "      <td>False</td>\n",
       "      <td>False</td>\n",
       "    </tr>\n",
       "    <tr>\n",
       "      <th>2</th>\n",
       "      <td>False</td>\n",
       "      <td>False</td>\n",
       "      <td>False</td>\n",
       "      <td>False</td>\n",
       "      <td>False</td>\n",
       "      <td>False</td>\n",
       "      <td>False</td>\n",
       "      <td>False</td>\n",
       "      <td>False</td>\n",
       "      <td>False</td>\n",
       "      <td>True</td>\n",
       "      <td>False</td>\n",
       "      <td>True</td>\n",
       "      <td>False</td>\n",
       "    </tr>\n",
       "    <tr>\n",
       "      <th>3</th>\n",
       "      <td>False</td>\n",
       "      <td>False</td>\n",
       "      <td>False</td>\n",
       "      <td>False</td>\n",
       "      <td>False</td>\n",
       "      <td>False</td>\n",
       "      <td>False</td>\n",
       "      <td>False</td>\n",
       "      <td>False</td>\n",
       "      <td>False</td>\n",
       "      <td>False</td>\n",
       "      <td>False</td>\n",
       "      <td>False</td>\n",
       "      <td>False</td>\n",
       "    </tr>\n",
       "    <tr>\n",
       "      <th>4</th>\n",
       "      <td>False</td>\n",
       "      <td>False</td>\n",
       "      <td>False</td>\n",
       "      <td>False</td>\n",
       "      <td>False</td>\n",
       "      <td>False</td>\n",
       "      <td>False</td>\n",
       "      <td>False</td>\n",
       "      <td>False</td>\n",
       "      <td>False</td>\n",
       "      <td>True</td>\n",
       "      <td>False</td>\n",
       "      <td>True</td>\n",
       "      <td>False</td>\n",
       "    </tr>\n",
       "    <tr>\n",
       "      <th>...</th>\n",
       "      <td>...</td>\n",
       "      <td>...</td>\n",
       "      <td>...</td>\n",
       "      <td>...</td>\n",
       "      <td>...</td>\n",
       "      <td>...</td>\n",
       "      <td>...</td>\n",
       "      <td>...</td>\n",
       "      <td>...</td>\n",
       "      <td>...</td>\n",
       "      <td>...</td>\n",
       "      <td>...</td>\n",
       "      <td>...</td>\n",
       "      <td>...</td>\n",
       "    </tr>\n",
       "    <tr>\n",
       "      <th>660674</th>\n",
       "      <td>False</td>\n",
       "      <td>False</td>\n",
       "      <td>False</td>\n",
       "      <td>False</td>\n",
       "      <td>False</td>\n",
       "      <td>False</td>\n",
       "      <td>False</td>\n",
       "      <td>False</td>\n",
       "      <td>False</td>\n",
       "      <td>False</td>\n",
       "      <td>False</td>\n",
       "      <td>False</td>\n",
       "      <td>False</td>\n",
       "      <td>False</td>\n",
       "    </tr>\n",
       "    <tr>\n",
       "      <th>660675</th>\n",
       "      <td>False</td>\n",
       "      <td>False</td>\n",
       "      <td>False</td>\n",
       "      <td>False</td>\n",
       "      <td>False</td>\n",
       "      <td>False</td>\n",
       "      <td>False</td>\n",
       "      <td>False</td>\n",
       "      <td>False</td>\n",
       "      <td>False</td>\n",
       "      <td>False</td>\n",
       "      <td>False</td>\n",
       "      <td>False</td>\n",
       "      <td>False</td>\n",
       "    </tr>\n",
       "    <tr>\n",
       "      <th>660676</th>\n",
       "      <td>False</td>\n",
       "      <td>False</td>\n",
       "      <td>False</td>\n",
       "      <td>False</td>\n",
       "      <td>False</td>\n",
       "      <td>False</td>\n",
       "      <td>False</td>\n",
       "      <td>False</td>\n",
       "      <td>False</td>\n",
       "      <td>False</td>\n",
       "      <td>False</td>\n",
       "      <td>False</td>\n",
       "      <td>False</td>\n",
       "      <td>False</td>\n",
       "    </tr>\n",
       "    <tr>\n",
       "      <th>660677</th>\n",
       "      <td>False</td>\n",
       "      <td>False</td>\n",
       "      <td>False</td>\n",
       "      <td>False</td>\n",
       "      <td>False</td>\n",
       "      <td>False</td>\n",
       "      <td>False</td>\n",
       "      <td>False</td>\n",
       "      <td>False</td>\n",
       "      <td>False</td>\n",
       "      <td>False</td>\n",
       "      <td>False</td>\n",
       "      <td>False</td>\n",
       "      <td>False</td>\n",
       "    </tr>\n",
       "    <tr>\n",
       "      <th>660678</th>\n",
       "      <td>False</td>\n",
       "      <td>False</td>\n",
       "      <td>False</td>\n",
       "      <td>False</td>\n",
       "      <td>False</td>\n",
       "      <td>False</td>\n",
       "      <td>False</td>\n",
       "      <td>False</td>\n",
       "      <td>False</td>\n",
       "      <td>False</td>\n",
       "      <td>False</td>\n",
       "      <td>False</td>\n",
       "      <td>False</td>\n",
       "      <td>False</td>\n",
       "    </tr>\n",
       "  </tbody>\n",
       "</table>\n",
       "<p>660679 rows × 14 columns</p>\n",
       "</div>"
      ],
      "text/plain": [
       "        Index  Accident_Severity  Accident Date  Latitude  Light_Conditions  \\\n",
       "0       False              False          False     False             False   \n",
       "1       False              False          False     False             False   \n",
       "2       False              False          False     False             False   \n",
       "3       False              False          False     False             False   \n",
       "4       False              False          False     False             False   \n",
       "...       ...                ...            ...       ...               ...   \n",
       "660674  False              False          False     False             False   \n",
       "660675  False              False          False     False             False   \n",
       "660676  False              False          False     False             False   \n",
       "660677  False              False          False     False             False   \n",
       "660678  False              False          False     False             False   \n",
       "\n",
       "        District Area  Longitude  Number_of_Casualties  Number_of_Vehicles  \\\n",
       "0               False      False                 False               False   \n",
       "1               False      False                 False               False   \n",
       "2               False      False                 False               False   \n",
       "3               False      False                 False               False   \n",
       "4               False      False                 False               False   \n",
       "...               ...        ...                   ...                 ...   \n",
       "660674          False      False                 False               False   \n",
       "660675          False      False                 False               False   \n",
       "660676          False      False                 False               False   \n",
       "660677          False      False                 False               False   \n",
       "660678          False      False                 False               False   \n",
       "\n",
       "        Road_Surface_Conditions  Road_Type  Urban_or_Rural_Area  \\\n",
       "0                         False      False                False   \n",
       "1                         False      False                False   \n",
       "2                         False       True                False   \n",
       "3                         False      False                False   \n",
       "4                         False       True                False   \n",
       "...                         ...        ...                  ...   \n",
       "660674                    False      False                False   \n",
       "660675                    False      False                False   \n",
       "660676                    False      False                False   \n",
       "660677                    False      False                False   \n",
       "660678                    False      False                False   \n",
       "\n",
       "        Weather_Conditions  Vehicle_Type  \n",
       "0                    False         False  \n",
       "1                    False         False  \n",
       "2                     True         False  \n",
       "3                    False         False  \n",
       "4                     True         False  \n",
       "...                    ...           ...  \n",
       "660674               False         False  \n",
       "660675               False         False  \n",
       "660676               False         False  \n",
       "660677               False         False  \n",
       "660678               False         False  \n",
       "\n",
       "[660679 rows x 14 columns]"
      ]
     },
     "execution_count": 7,
     "metadata": {},
     "output_type": "execute_result"
    }
   ],
   "source": [
    "accident.isnull()"
   ]
  },
  {
   "cell_type": "code",
   "execution_count": 8,
   "id": "72d8a123-4731-42f8-9dc9-db01e38437cc",
   "metadata": {},
   "outputs": [
    {
     "data": {
      "text/plain": [
       "Index                          0\n",
       "Accident_Severity              0\n",
       "Accident Date                  0\n",
       "Latitude                      25\n",
       "Light_Conditions               0\n",
       "District Area                  0\n",
       "Longitude                     26\n",
       "Number_of_Casualties           0\n",
       "Number_of_Vehicles             0\n",
       "Road_Surface_Conditions      726\n",
       "Road_Type                   4520\n",
       "Urban_or_Rural_Area           15\n",
       "Weather_Conditions         14128\n",
       "Vehicle_Type                   0\n",
       "dtype: int64"
      ]
     },
     "execution_count": 8,
     "metadata": {},
     "output_type": "execute_result"
    }
   ],
   "source": [
    "accident.isnull().sum()"
   ]
  },
  {
   "cell_type": "code",
   "execution_count": 9,
   "id": "f5d90341-3cf7-4dc9-8678-f6e5bcb30732",
   "metadata": {},
   "outputs": [
    {
     "data": {
      "text/plain": [
       "Index          Accident_Severity  Accident Date  Latitude   Light_Conditions        District Area       Longitude  Number_of_Casualties  Number_of_Vehicles  Road_Surface_Conditions  Road_Type           Urban_or_Rural_Area  Weather_Conditions     Vehicle_Type                       \n",
       "2.01E+12       Slight             12/02/2021     51.067126  Darkness - no lighting  Sedgemoor           -3.023829  1                     1                   Dry                      Dual carriageway    Rural                Fine no high winds     Car                                    2\n",
       "                                  22/11/2020     52.624184  Darkness - no lighting  Broadland            1.372570  1                     2                   Snow                     Dual carriageway    Rural                Snowing no high winds  Car                                    2\n",
       "                                  31/10/2020     55.003273  Darkness - no lighting  North Tyneside      -1.490457  1                     2                   Wet or damp              Dual carriageway    Rural                Snowing + high winds   Car                                    2\n",
       "                                  21/12/2021     52.917577  Daylight                East Staffordshire  -1.899281  1                     2                   Wet or damp              Single carriageway  Rural                Fine no high winds     Car                                    2\n",
       "                                  05/04/2020     55.988302  Daylight                East Lothian        -2.527800  1                     1                   Snow                     Dual carriageway    Rural                Other                  Car                                    2\n",
       "                                                                                                                                                                                                                                                                                            ..\n",
       "201091NM00102  Slight             03/01/2022     57.003355  Daylight                Highland            -4.169644  1                     2                   Snow                     Dual carriageway    Rural                Other                  Car                                    1\n",
       "201091NM00140  Slight             05/01/2022     57.248688  Daylight                Highland            -3.798648  1                     2                   Snow                     Single carriageway  Rural                Snowing no high winds  Car                                    1\n",
       "201091NM00296  Slight             08/01/2022     57.293658  Daylight                Highland            -3.630574  1                     2                   Frost or ice             Single carriageway  Rural                Fine no high winds     Van / Goods 3.5 tonnes mgw or under    1\n",
       "201091NM00442  Slight             13/01/2022     57.194499  Daylight                Highland            -3.836563  1                     1                   Frost or ice             Single carriageway  Rural                Fine no high winds     Car                                    1\n",
       "2.01E+100      Slight             05/01/2019     50.965754  Daylight                North Dorset        -2.156472  1                     2                   Wet or damp              Single carriageway  Rural                Fog or mist            Taxi/Private hire car                  1\n",
       "Name: count, Length: 642778, dtype: int64"
      ]
     },
     "execution_count": 9,
     "metadata": {},
     "output_type": "execute_result"
    }
   ],
   "source": [
    "accident.value_counts()"
   ]
  },
  {
   "cell_type": "code",
   "execution_count": 10,
   "id": "3769257d-0392-401a-886f-e3235f411b98",
   "metadata": {},
   "outputs": [],
   "source": [
    "import pandas as pd"
   ]
  },
  {
   "cell_type": "code",
   "execution_count": 11,
   "id": "efa9e221-04c6-49e5-a80a-732515320883",
   "metadata": {},
   "outputs": [],
   "source": [
    "df = pd.read_csv(\"uk_accident_data.csv\")"
   ]
  },
  {
   "cell_type": "code",
   "execution_count": 12,
   "id": "3d8b39ef-5ae5-4ee8-8285-d818aa05f248",
   "metadata": {},
   "outputs": [
    {
     "data": {
      "text/plain": [
       "Index(['Index', 'Accident_Severity', 'Accident Date', 'Latitude',\n",
       "       'Light_Conditions', 'District Area', 'Longitude',\n",
       "       'Number_of_Casualties', 'Number_of_Vehicles', 'Road_Surface_Conditions',\n",
       "       'Road_Type', 'Urban_or_Rural_Area', 'Weather_Conditions',\n",
       "       'Vehicle_Type'],\n",
       "      dtype='object')"
      ]
     },
     "execution_count": 12,
     "metadata": {},
     "output_type": "execute_result"
    }
   ],
   "source": [
    "df.columns"
   ]
  },
  {
   "cell_type": "code",
   "execution_count": 13,
   "id": "cc6bd806-3e5e-48cf-8326-996b27a40f95",
   "metadata": {},
   "outputs": [
    {
     "data": {
      "text/html": [
       "<div>\n",
       "<style scoped>\n",
       "    .dataframe tbody tr th:only-of-type {\n",
       "        vertical-align: middle;\n",
       "    }\n",
       "\n",
       "    .dataframe tbody tr th {\n",
       "        vertical-align: top;\n",
       "    }\n",
       "\n",
       "    .dataframe thead th {\n",
       "        text-align: right;\n",
       "    }\n",
       "</style>\n",
       "<table border=\"1\" class=\"dataframe\">\n",
       "  <thead>\n",
       "    <tr style=\"text-align: right;\">\n",
       "      <th></th>\n",
       "      <th>Index</th>\n",
       "      <th>Accident_Severity</th>\n",
       "      <th>Accident Date</th>\n",
       "      <th>Latitude</th>\n",
       "      <th>Light_Conditions</th>\n",
       "      <th>District Area</th>\n",
       "      <th>Longitude</th>\n",
       "      <th>Number_of_Casualties</th>\n",
       "      <th>Number_of_Vehicles</th>\n",
       "      <th>Road_Surface_Conditions</th>\n",
       "      <th>Road_Type</th>\n",
       "      <th>Urban_or_Rural_Area</th>\n",
       "      <th>Weather_Conditions</th>\n",
       "      <th>Vehicle_Type</th>\n",
       "    </tr>\n",
       "  </thead>\n",
       "  <tbody>\n",
       "    <tr>\n",
       "      <th>0</th>\n",
       "      <td>200701BS64157</td>\n",
       "      <td>Serious</td>\n",
       "      <td>05/06/2019</td>\n",
       "      <td>51.506187</td>\n",
       "      <td>Darkness - lights lit</td>\n",
       "      <td>Kensington and Chelsea</td>\n",
       "      <td>-0.209082</td>\n",
       "      <td>1</td>\n",
       "      <td>2</td>\n",
       "      <td>Dry</td>\n",
       "      <td>Single carriageway</td>\n",
       "      <td>Urban</td>\n",
       "      <td>Fine no high winds</td>\n",
       "      <td>Car</td>\n",
       "    </tr>\n",
       "    <tr>\n",
       "      <th>1</th>\n",
       "      <td>200701BS65737</td>\n",
       "      <td>Serious</td>\n",
       "      <td>02/07/2019</td>\n",
       "      <td>51.495029</td>\n",
       "      <td>Daylight</td>\n",
       "      <td>Kensington and Chelsea</td>\n",
       "      <td>-0.173647</td>\n",
       "      <td>1</td>\n",
       "      <td>2</td>\n",
       "      <td>Wet or damp</td>\n",
       "      <td>Single carriageway</td>\n",
       "      <td>Urban</td>\n",
       "      <td>Raining no high winds</td>\n",
       "      <td>Car</td>\n",
       "    </tr>\n",
       "    <tr>\n",
       "      <th>2</th>\n",
       "      <td>200701BS66127</td>\n",
       "      <td>Serious</td>\n",
       "      <td>26/08/2019</td>\n",
       "      <td>51.517715</td>\n",
       "      <td>Darkness - lighting unknown</td>\n",
       "      <td>Kensington and Chelsea</td>\n",
       "      <td>-0.210215</td>\n",
       "      <td>1</td>\n",
       "      <td>3</td>\n",
       "      <td>Dry</td>\n",
       "      <td>NaN</td>\n",
       "      <td>Urban</td>\n",
       "      <td>NaN</td>\n",
       "      <td>Taxi/Private hire car</td>\n",
       "    </tr>\n",
       "    <tr>\n",
       "      <th>3</th>\n",
       "      <td>200701BS66128</td>\n",
       "      <td>Serious</td>\n",
       "      <td>16/08/2019</td>\n",
       "      <td>51.495478</td>\n",
       "      <td>Daylight</td>\n",
       "      <td>Kensington and Chelsea</td>\n",
       "      <td>-0.202731</td>\n",
       "      <td>1</td>\n",
       "      <td>4</td>\n",
       "      <td>Dry</td>\n",
       "      <td>Single carriageway</td>\n",
       "      <td>Urban</td>\n",
       "      <td>Fine no high winds</td>\n",
       "      <td>Bus or coach (17 or more pass seats)</td>\n",
       "    </tr>\n",
       "    <tr>\n",
       "      <th>4</th>\n",
       "      <td>200701BS66837</td>\n",
       "      <td>Slight</td>\n",
       "      <td>03/09/2019</td>\n",
       "      <td>51.488576</td>\n",
       "      <td>Darkness - lights lit</td>\n",
       "      <td>Kensington and Chelsea</td>\n",
       "      <td>-0.192487</td>\n",
       "      <td>1</td>\n",
       "      <td>2</td>\n",
       "      <td>Dry</td>\n",
       "      <td>NaN</td>\n",
       "      <td>Urban</td>\n",
       "      <td>NaN</td>\n",
       "      <td>Other vehicle</td>\n",
       "    </tr>\n",
       "  </tbody>\n",
       "</table>\n",
       "</div>"
      ],
      "text/plain": [
       "           Index Accident_Severity Accident Date   Latitude  \\\n",
       "0  200701BS64157           Serious    05/06/2019  51.506187   \n",
       "1  200701BS65737           Serious    02/07/2019  51.495029   \n",
       "2  200701BS66127           Serious    26/08/2019  51.517715   \n",
       "3  200701BS66128           Serious    16/08/2019  51.495478   \n",
       "4  200701BS66837            Slight    03/09/2019  51.488576   \n",
       "\n",
       "              Light_Conditions           District Area  Longitude  \\\n",
       "0        Darkness - lights lit  Kensington and Chelsea  -0.209082   \n",
       "1                     Daylight  Kensington and Chelsea  -0.173647   \n",
       "2  Darkness - lighting unknown  Kensington and Chelsea  -0.210215   \n",
       "3                     Daylight  Kensington and Chelsea  -0.202731   \n",
       "4        Darkness - lights lit  Kensington and Chelsea  -0.192487   \n",
       "\n",
       "   Number_of_Casualties  Number_of_Vehicles Road_Surface_Conditions  \\\n",
       "0                     1                   2                     Dry   \n",
       "1                     1                   2             Wet or damp   \n",
       "2                     1                   3                     Dry   \n",
       "3                     1                   4                     Dry   \n",
       "4                     1                   2                     Dry   \n",
       "\n",
       "            Road_Type Urban_or_Rural_Area     Weather_Conditions  \\\n",
       "0  Single carriageway               Urban     Fine no high winds   \n",
       "1  Single carriageway               Urban  Raining no high winds   \n",
       "2                 NaN               Urban                    NaN   \n",
       "3  Single carriageway               Urban     Fine no high winds   \n",
       "4                 NaN               Urban                    NaN   \n",
       "\n",
       "                           Vehicle_Type  \n",
       "0                                   Car  \n",
       "1                                   Car  \n",
       "2                 Taxi/Private hire car  \n",
       "3  Bus or coach (17 or more pass seats)  \n",
       "4                         Other vehicle  "
      ]
     },
     "execution_count": 13,
     "metadata": {},
     "output_type": "execute_result"
    }
   ],
   "source": [
    "df.head()"
   ]
  },
  {
   "cell_type": "code",
   "execution_count": 23,
   "id": "07ff7058-6526-499f-838c-3745d51c2f22",
   "metadata": {},
   "outputs": [
    {
     "data": {
      "text/plain": [
       "Index                       object\n",
       "Accident_Severity           object\n",
       "Accident Date               object\n",
       "Latitude                   float64\n",
       "Light_Conditions            object\n",
       "District Area               object\n",
       "Longitude                  float64\n",
       "Number_of_Casualties         int64\n",
       "Number_of_Vehicles           int64\n",
       "Road_Surface_Conditions     object\n",
       "Road_Type                   object\n",
       "Urban_or_Rural_Area         object\n",
       "Weather_Conditions          object\n",
       "Vehicle_Type                object\n",
       "dtype: object"
      ]
     },
     "execution_count": 23,
     "metadata": {},
     "output_type": "execute_result"
    }
   ],
   "source": [
    "accident.dtypes"
   ]
  },
  {
   "cell_type": "code",
   "execution_count": 46,
   "id": "db660cc2-5001-43d5-9991-e61cc07520ad",
   "metadata": {},
   "outputs": [],
   "source": [
    "accident['Accident Date'] = pd.to_datetime(accident['Accident Date'], errors='coerce')"
   ]
  },
  {
   "cell_type": "markdown",
   "id": "0aad40a6-42d0-4459-9015-a844fb7fa74f",
   "metadata": {},
   "source": [
    "<H1> Extracting date information using pandas date time </H1>"
   ]
  },
  {
   "cell_type": "code",
   "execution_count": 26,
   "id": "19f8d56b-2bd6-4e68-9de1-db263f9a46da",
   "metadata": {},
   "outputs": [],
   "source": [
    "accident['Year'] = accident['Accident Date'].dt.year\n",
    "accident['Month'] = accident['Accident Date'].dt.month\n",
    "accident['Day'] = accident['Accident Date'].dt.day\n",
    "accident['DayOfWeek'] = accident['Accident Date'].dt.dayofweek # Monday = 0, Sunday = 6"
   ]
  },
  {
   "cell_type": "code",
   "execution_count": 27,
   "id": "8c861002-ccbf-4c31-bae3-9c3d5f4e025e",
   "metadata": {},
   "outputs": [],
   "source": [
    "df_2019 = accident[accident['Year'] == 2019]"
   ]
  },
  {
   "cell_type": "code",
   "execution_count": 30,
   "id": "57328e80-8277-46c6-98e0-3723ede7dbf5",
   "metadata": {},
   "outputs": [
    {
     "name": "stdout",
     "output_type": "stream",
     "text": [
      "total number of accident in 2019 is 71867\n"
     ]
    },
    {
     "data": {
      "text/plain": [
       "Light_Conditions\n",
       "Daylight                       52518\n",
       "Darkness - lights lit          14124\n",
       "Darkness - no lighting          4242\n",
       "Darkness - lighting unknown      719\n",
       "Darkness - lights unlit          264\n",
       "Name: count, dtype: int64"
      ]
     },
     "execution_count": 30,
     "metadata": {},
     "output_type": "execute_result"
    }
   ],
   "source": [
    "print(f\"total number of accident in 2019 is {df_2019['Light_Conditions'].value_counts().sum()}\")\n",
    "df_2019['Light_Conditions'].value_counts()"
   ]
  },
  {
   "cell_type": "code",
   "execution_count": 31,
   "id": "8df18a0e-b63e-4113-88e5-760372a7f564",
   "metadata": {},
   "outputs": [
    {
     "data": {
      "text/plain": [
       "Index(['Index', 'Accident_Severity', 'Accident Date', 'Latitude',\n",
       "       'Light_Conditions', 'District Area', 'Longitude',\n",
       "       'Number_of_Casualties', 'Number_of_Vehicles', 'Road_Surface_Conditions',\n",
       "       'Road_Type', 'Urban_or_Rural_Area', 'Weather_Conditions',\n",
       "       'Vehicle_Type', 'Year', 'Month', 'Day', 'DayOfWeek'],\n",
       "      dtype='object')"
      ]
     },
     "execution_count": 31,
     "metadata": {},
     "output_type": "execute_result"
    }
   ],
   "source": [
    "accident.columns"
   ]
  },
  {
   "cell_type": "code",
   "execution_count": 54,
   "id": "ff37d0be-31d0-4141-a8c4-9a17c35fc16f",
   "metadata": {},
   "outputs": [],
   "source": [
    "# Convert Accident Date column into datetime\n",
    "df['Accident Date'] = pd.to_datetime(df['Accident Date'], dayfirst=True, errors='coerce')\n",
    "\n",
    "# Extract Year, Month, Day, DayOfWeek\n",
    "df['Year'] = df['Accident Date'].dt.year\n",
    "df['Month'] = df['Accident Date'].dt.month\n",
    "df['Day'] = df['Accident Date'].dt.day\n",
    "df['DayOfWeek'] = df['Accident Date'].dt.day_name()"
   ]
  },
  {
   "cell_type": "code",
   "execution_count": 102,
   "id": "ddb42bdf-61d1-4cb3-8d2b-662733e25eeb",
   "metadata": {},
   "outputs": [],
   "source": [
    "import calendar\n",
    "df['Month_Name'] = df['Month'].apply(lambda x: calendar.month_abbr[int(x)])"
   ]
  },
  {
   "cell_type": "markdown",
   "id": "31dc9ad6-4b35-42b8-b608-755deae2b85c",
   "metadata": {},
   "source": [
    "<h1>Insights</h1>"
   ]
  },
  {
   "cell_type": "markdown",
   "id": "bc5b8d43-55cb-437f-9f45-33634f4404c1",
   "metadata": {},
   "source": [
    "<h4>1. Which accident severity appears most often?</h4>"
   ]
  },
  {
   "cell_type": "code",
   "execution_count": 34,
   "id": "11776689-2a9b-4e00-a03d-76345e314562",
   "metadata": {},
   "outputs": [
    {
     "data": {
      "text/plain": [
       "Accident_Severity\n",
       "Slight     563801\n",
       "Serious     88217\n",
       "Fatal        8661\n",
       "Name: count, dtype: int64"
      ]
     },
     "execution_count": 34,
     "metadata": {},
     "output_type": "execute_result"
    }
   ],
   "source": [
    "df['Accident_Severity'].value_counts()"
   ]
  },
  {
   "cell_type": "markdown",
   "id": "845d8ddb-682e-467b-b1d5-626c69774bde",
   "metadata": {},
   "source": [
    "<h> Insight 1: Slight accidents are the most common. </h>"
   ]
  },
  {
   "cell_type": "markdown",
   "id": "0efbba39-ca48-4b2d-b060-563c839b9610",
   "metadata": {},
   "source": [
    "<h4>2. Which light condition (daylight vs darkness) has more accidents?</h4>"
   ]
  },
  {
   "cell_type": "code",
   "execution_count": 35,
   "id": "3bde9ba7-d881-4abf-83b2-b2ee4523f9e3",
   "metadata": {},
   "outputs": [
    {
     "data": {
      "text/plain": [
       "Light_Conditions\n",
       "Daylight                       484880\n",
       "Darkness - lights lit          129335\n",
       "Darkness - no lighting          37437\n",
       "Darkness - lighting unknown      6484\n",
       "Darkness - lights unlit          2543\n",
       "Name: count, dtype: int64"
      ]
     },
     "execution_count": 35,
     "metadata": {},
     "output_type": "execute_result"
    }
   ],
   "source": [
    "df['Light_Conditions'].value_counts()"
   ]
  },
  {
   "cell_type": "markdown",
   "id": "73e4ed9b-b845-4ee4-bd38-3a92be14b179",
   "metadata": {},
   "source": [
    "<h>Insight 2: Most accidents happen in daylight</h>"
   ]
  },
  {
   "cell_type": "markdown",
   "id": "81cc55d3-cb04-4608-b407-27d96b27f8a5",
   "metadata": {},
   "source": [
    "<h4>3. Which road surface condition is linked with the highest number of accidents?</h4>"
   ]
  },
  {
   "cell_type": "code",
   "execution_count": 36,
   "id": "5ab9a953-2554-4dc4-b339-0b0d60d38cfb",
   "metadata": {},
   "outputs": [
    {
     "data": {
      "text/plain": [
       "Road_Surface_Conditions\n",
       "Dry                     447821\n",
       "Wet or damp             186708\n",
       "Frost or ice             18517\n",
       "Snow                      5890\n",
       "Flood over 3cm. deep      1017\n",
       "Name: count, dtype: int64"
      ]
     },
     "execution_count": 36,
     "metadata": {},
     "output_type": "execute_result"
    }
   ],
   "source": [
    "df['Road_Surface_Conditions'].value_counts()"
   ]
  },
  {
   "cell_type": "markdown",
   "id": "4ce77bc7-4e74-44b5-972c-abbaba12c3d6",
   "metadata": {},
   "source": [
    "<h>Insight 3: Dry roads have the most accidents compared to wet or icy surfaces."
   ]
  },
  {
   "cell_type": "markdown",
   "id": "9e8ba450-5e14-4a02-9567-f4230a312f33",
   "metadata": {},
   "source": [
    "<h4>4. Do urban or rural areas have more casualties per accident?</h4>"
   ]
  },
  {
   "cell_type": "code",
   "execution_count": 37,
   "id": "22395bd2-3ebe-4432-87bd-5b557245b60b",
   "metadata": {},
   "outputs": [
    {
     "data": {
      "text/plain": [
       "Urban_or_Rural_Area\n",
       "Rural          1.479204\n",
       "Unallocated    1.181818\n",
       "Urban          1.287815\n",
       "Name: Number_of_Casualties, dtype: float64"
      ]
     },
     "execution_count": 37,
     "metadata": {},
     "output_type": "execute_result"
    }
   ],
   "source": [
    "df.groupby('Urban_or_Rural_Area')['Number_of_Casualties'].mean()"
   ]
  },
  {
   "cell_type": "markdown",
   "id": "50195095-a728-4f64-8575-2f570581f8a0",
   "metadata": {},
   "source": [
    "<h> Insight: Rural accidents often result in more casualties per crash.</h>"
   ]
  },
  {
   "cell_type": "markdown",
   "id": "393f1458-169f-45fb-895f-7f7a7dafe921",
   "metadata": {},
   "source": [
    "<h4>5. Is there a correlation between number of vehicles and number of casualties?</h4>"
   ]
  },
  {
   "cell_type": "code",
   "execution_count": 38,
   "id": "18dbb5a8-4cf4-42f6-90d7-a8ee9bdc86bc",
   "metadata": {},
   "outputs": [
    {
     "data": {
      "text/html": [
       "<div>\n",
       "<style scoped>\n",
       "    .dataframe tbody tr th:only-of-type {\n",
       "        vertical-align: middle;\n",
       "    }\n",
       "\n",
       "    .dataframe tbody tr th {\n",
       "        vertical-align: top;\n",
       "    }\n",
       "\n",
       "    .dataframe thead th {\n",
       "        text-align: right;\n",
       "    }\n",
       "</style>\n",
       "<table border=\"1\" class=\"dataframe\">\n",
       "  <thead>\n",
       "    <tr style=\"text-align: right;\">\n",
       "      <th></th>\n",
       "      <th>Number_of_Vehicles</th>\n",
       "      <th>Number_of_Casualties</th>\n",
       "    </tr>\n",
       "  </thead>\n",
       "  <tbody>\n",
       "    <tr>\n",
       "      <th>Number_of_Vehicles</th>\n",
       "      <td>1.000000</td>\n",
       "      <td>0.228889</td>\n",
       "    </tr>\n",
       "    <tr>\n",
       "      <th>Number_of_Casualties</th>\n",
       "      <td>0.228889</td>\n",
       "      <td>1.000000</td>\n",
       "    </tr>\n",
       "  </tbody>\n",
       "</table>\n",
       "</div>"
      ],
      "text/plain": [
       "                      Number_of_Vehicles  Number_of_Casualties\n",
       "Number_of_Vehicles              1.000000              0.228889\n",
       "Number_of_Casualties            0.228889              1.000000"
      ]
     },
     "execution_count": 38,
     "metadata": {},
     "output_type": "execute_result"
    }
   ],
   "source": [
    "df[['Number_of_Vehicles','Number_of_Casualties']].corr()"
   ]
  },
  {
   "cell_type": "markdown",
   "id": "62eac454-c9a2-4751-8ef1-6b2ec70a4c70",
   "metadata": {},
   "source": [
    "<h>Insight 5: More vehicles involved usually means more casualties.</h>"
   ]
  },
  {
   "cell_type": "markdown",
   "id": "a8887369-7b83-4667-a6f0-8c75288f9897",
   "metadata": {},
   "source": [
    "<h4>6. Which road type is most associated with accidents?</h4>"
   ]
  },
  {
   "cell_type": "code",
   "execution_count": 39,
   "id": "420d2580-b32e-45b4-b580-4143ab6ddf96",
   "metadata": {},
   "outputs": [
    {
     "data": {
      "text/plain": [
       "Road_Type\n",
       "Single carriageway    492143\n",
       "Dual carriageway       99424\n",
       "Roundabout             43992\n",
       "One way street         13559\n",
       "Slip road               7041\n",
       "Name: count, dtype: int64"
      ]
     },
     "execution_count": 39,
     "metadata": {},
     "output_type": "execute_result"
    }
   ],
   "source": [
    "df['Road_Type'].value_counts()"
   ]
  },
  {
   "cell_type": "markdown",
   "id": "34a35e21-b380-4580-a748-2885b7c0d4a2",
   "metadata": {},
   "source": [
    "<h>Insight 6: Single carriageways account for most crashes.</h>"
   ]
  },
  {
   "cell_type": "markdown",
   "id": "2550e129-0dac-46be-b1d1-284b95a88d9c",
   "metadata": {},
   "source": [
    "<h4>7. Which weather condition shows the highest accident count?</h4>"
   ]
  },
  {
   "cell_type": "code",
   "execution_count": 40,
   "id": "6d6394c8-5bd3-4d60-aa24-964f071f25ce",
   "metadata": {},
   "outputs": [
    {
     "data": {
      "text/plain": [
       "Weather_Conditions\n",
       "Fine no high winds       520885\n",
       "Raining no high winds     79696\n",
       "Other                     17150\n",
       "Raining + high winds       9615\n",
       "Fine + high winds          8554\n",
       "Snowing no high winds      6238\n",
       "Fog or mist                3528\n",
       "Snowing + high winds        885\n",
       "Name: count, dtype: int64"
      ]
     },
     "execution_count": 40,
     "metadata": {},
     "output_type": "execute_result"
    }
   ],
   "source": [
    "df['Weather_Conditions'].value_counts()"
   ]
  },
  {
   "cell_type": "markdown",
   "id": "96d68275-de66-4961-8be5-534a445bc432",
   "metadata": {},
   "source": [
    "<h> Insight 7: Clear weather has more accidents than rain or fog. </h>"
   ]
  },
  {
   "cell_type": "markdown",
   "id": "2c6c8f57-1d45-47ef-8247-5af5e6458add",
   "metadata": {},
   "source": [
    "<h4>8. Do accidents with severe outcomes involve more vehicles? </h4>"
   ]
  },
  {
   "cell_type": "code",
   "execution_count": 41,
   "id": "d8d3da65-d665-4a94-8759-ecfd4e7cc98a",
   "metadata": {},
   "outputs": [
    {
     "data": {
      "text/plain": [
       "Accident_Severity\n",
       "Fatal      1.786976\n",
       "Serious    1.678327\n",
       "Slight     1.855864\n",
       "Name: Number_of_Vehicles, dtype: float64"
      ]
     },
     "execution_count": 41,
     "metadata": {},
     "output_type": "execute_result"
    }
   ],
   "source": [
    "df.groupby('Accident_Severity')['Number_of_Vehicles'].mean()"
   ]
  },
  {
   "cell_type": "markdown",
   "id": "a4786ee3-9ce1-4214-bd81-3d96fecc9b85",
   "metadata": {},
   "source": [
    "<h> Insight 8: Severe accidents generally involve more vehicles.</h>"
   ]
  },
  {
   "cell_type": "markdown",
   "id": "9057e522-05d2-4a54-a858-d20586e01067",
   "metadata": {},
   "source": [
    "<h4> 9. Which vehicle type is most frequently involved in accidents? </h4>"
   ]
  },
  {
   "cell_type": "code",
   "execution_count": 42,
   "id": "3ea79045-d970-454a-ba94-8afb0e5179b9",
   "metadata": {},
   "outputs": [
    {
     "data": {
      "text/plain": [
       "Vehicle_Type\n",
       "Car                                      497992\n",
       "Van / Goods 3.5 tonnes mgw or under       34160\n",
       "Bus or coach (17 or more pass seats)      25878\n",
       "Motorcycle over 500cc                     25657\n",
       "Goods 7.5 tonnes mgw and over             17307\n",
       "Motorcycle 125cc and under                15269\n",
       "Taxi/Private hire car                     13294\n",
       "Motorcycle over 125cc and up to 500cc      7656\n",
       "Motorcycle 50cc and under                  7603\n",
       "Goods over 3.5t. and under 7.5t            6096\n",
       "Other vehicle                              5637\n",
       "Minibus (8 - 16 passenger seats)           1976\n",
       "Agricultural vehicle                       1947\n",
       "Pedal cycle                                 197\n",
       "Data missing or out of range                  6\n",
       "Ridden horse                                  4\n",
       "Name: count, dtype: int64"
      ]
     },
     "execution_count": 42,
     "metadata": {},
     "output_type": "execute_result"
    }
   ],
   "source": [
    "df['Vehicle_Type'].value_counts()"
   ]
  },
  {
   "cell_type": "markdown",
   "id": "be3f7a2e-6df0-46f6-abec-eee4d9092ed0",
   "metadata": {},
   "source": [
    "<h> Insight 9: Cars are the most common vehicle type in crashes.</h>"
   ]
  },
  {
   "cell_type": "markdown",
   "id": "50e90fd8-129a-428c-92d7-1ded26483cd9",
   "metadata": {},
   "source": [
    "<h4>10. Do Fridays in winter months (Dec–Feb) have more accidents in urban or rural areas?</h4>"
   ]
  },
  {
   "cell_type": "code",
   "execution_count": 56,
   "id": "29d136bb-42bd-4c8b-9c3b-57621e0d6ee2",
   "metadata": {},
   "outputs": [
    {
     "data": {
      "text/plain": [
       "Urban_or_Rural_Area\n",
       "Rural           8282\n",
       "Unallocated        1\n",
       "Urban          14335\n",
       "dtype: int64"
      ]
     },
     "execution_count": 56,
     "metadata": {},
     "output_type": "execute_result"
    }
   ],
   "source": [
    "df[(df['DayOfWeek']=='Friday') & (df['Month'].isin([12,1,2]))].groupby('Urban_or_Rural_Area').size()"
   ]
  },
  {
   "cell_type": "markdown",
   "id": "dbcc24fa-83a8-4fd9-a65d-78e0e7ab5ac2",
   "metadata": {},
   "source": [
    "<h> Insight: Fridays in winter are riskier in cities than in rural areas. <h>"
   ]
  },
  {
   "cell_type": "markdown",
   "id": "092d8707-c598-49bf-8831-c8a797755a20",
   "metadata": {},
   "source": [
    "<h4>11. Which months show the highest average casualties per accident involving buses in rural areas?</h4>"
   ]
  },
  {
   "cell_type": "code",
   "execution_count": 98,
   "id": "fb08ea1a-acba-48a9-b96f-298f2a382c58",
   "metadata": {},
   "outputs": [
    {
     "data": {
      "image/png": "[encoded data removed]",
      "text/plain": [
       "<Figure size 640x480 with 1 Axes>"
      ]
     },
     "metadata": {},
     "output_type": "display_data"
    }
   ],
   "source": [
    "data_q2 = df[(df['Vehicle_Type'].str.contains('Bus', case=False, na=False)) & \n",
    "             (df['Urban_or_Rural_Area']=='Rural')]\\\n",
    "            .groupby('Month')['Number_of_Casualties'].mean()\n",
    "\n",
    "data_q2.plot(kind='line', marker='o')\n",
    "plt.title('Average Casualties per Bus Accident (Rural)')\n",
    "plt.ylabel('Avg Casualties')\n",
    "plt.xlabel('Month')\n",
    "plt.show()\n"
   ]
  },
  {
   "cell_type": "markdown",
   "id": "abd69d01-eb7f-44fa-81a1-04f8e21ebc0a",
   "metadata": {},
   "source": [
    "<h> Months with higher peaks in the line graph (ex. July or December, depende sa dataset) show when rural bus accidents tend to involve more casualties. This may be linked to holiday or peak travel seasons.<h>"
   ]
  },
  {
   "cell_type": "markdown",
   "id": "023999c9-813f-465d-87ac-fcc2103b39fd",
   "metadata": {},
   "source": [
    "<h4>12. Which year and month had the most fatal accidents at night in rural areas?</h4>"
   ]
  },
  {
   "cell_type": "code",
   "execution_count": 59,
   "id": "76f98668-5405-40c6-b787-69fdabfd76f4",
   "metadata": {},
   "outputs": [
    {
     "data": {
      "text/plain": [
       "Year  Month\n",
       "2019  1        90\n",
       "      2        59\n",
       "      3        52\n",
       "      4        31\n",
       "      5        28\n",
       "      6        35\n",
       "      7        27\n",
       "      8        59\n",
       "      9        54\n",
       "      10       73\n",
       "      11       95\n",
       "      12       84\n",
       "2020  1        72\n",
       "      2        55\n",
       "      3        48\n",
       "      4        33\n",
       "      5        44\n",
       "      6        25\n",
       "      7        33\n",
       "      8        37\n",
       "      9        50\n",
       "      10       59\n",
       "      11       82\n",
       "      12       85\n",
       "2021  1        77\n",
       "      2        56\n",
       "      3        40\n",
       "      4        34\n",
       "      5        27\n",
       "      6        23\n",
       "      7        29\n",
       "      8        45\n",
       "      9        31\n",
       "      10       55\n",
       "      11       64\n",
       "      12       57\n",
       "2022  1        35\n",
       "      2        44\n",
       "      3        38\n",
       "      4        22\n",
       "      5        23\n",
       "      6        10\n",
       "      7        20\n",
       "      8        31\n",
       "      9        32\n",
       "      10       42\n",
       "      11       43\n",
       "      12       29\n",
       "dtype: int64"
      ]
     },
     "execution_count": 59,
     "metadata": {},
     "output_type": "execute_result"
    }
   ],
   "source": [
    "df[(df['Accident_Severity']=='Fatal') & \n",
    "   (df['Light_Conditions'].str.contains('Dark',case=False,na=False)) & \n",
    "   (df['Urban_or_Rural_Area']=='Rural')].groupby(['Year','Month']).size()"
   ]
  },
  {
   "cell_type": "markdown",
   "id": "5ccc440f-1ed9-49e6-a6dd-5ed03d99b349",
   "metadata": {},
   "source": [
    "<h> Insight: Fatal night accidents in rural areas were highest in Jan 2019.<h> "
   ]
  },
  {
   "cell_type": "markdown",
   "id": "b38b3b49-13e1-430f-9fa9-0f328b2fde84",
   "metadata": {},
   "source": [
    "<h4> 13. On weekends, do wet road conditions cause more serious accidents compared to dry roads? </h4>"
   ]
  },
  {
   "cell_type": "markdown",
   "id": "042d5da3-cc4f-4b79-be2f-14345dd78982",
   "metadata": {},
   "source": [
    "df[df['DayOfWeek'].isin(['Saturday','Sunday'])].groupby(['Road_Surface_Conditions','Accident_Severity']).size()"
   ]
  },
  {
   "cell_type": "markdown",
   "id": "8b4f437b-f63a-4890-a763-dff435684e2d",
   "metadata": {},
   "source": [
    "<h> Result: Dry Serious = 19,029 | Wet Serious = 6,998 </h>\n",
    "\n",
    "<h>Insight: Serious weekend accidents happen more on dry roads, but wet roads are still a major risk. </h>"
   ]
  },
  {
   "cell_type": "markdown",
   "id": "5e5223d9-32a9-4674-9aae-ef680dba4b0d",
   "metadata": {},
   "source": [
    "<h4>14. Do Mondays or Fridays show more multi-vehicle accidents in foggy weather?</h4>"
   ]
  },
  {
   "cell_type": "code",
   "execution_count": 63,
   "id": "5ab45e54-6037-450e-8414-932f49f67ee2",
   "metadata": {},
   "outputs": [
    {
     "data": {
      "text/plain": [
       "DayOfWeek\n",
       "Friday       1.850917\n",
       "Monday       1.605392\n",
       "Saturday     1.910596\n",
       "Sunday       1.661765\n",
       "Thursday     1.803571\n",
       "Tuesday      1.906504\n",
       "Wednesday    1.853261\n",
       "Name: Number_of_Vehicles, dtype: float64"
      ]
     },
     "execution_count": 63,
     "metadata": {},
     "output_type": "execute_result"
    }
   ],
   "source": [
    "df[df['Weather_Conditions'].str.contains('Fog',case=False,na=False)].groupby('DayOfWeek')['Number_of_Vehicles'].mean()"
   ]
  },
  {
   "cell_type": "markdown",
   "id": "14238b39-3aee-4017-86ee-e07fe2122a8c",
   "metadata": {},
   "source": [
    "<h>Result: Sat = 1.91, Tue = 1.91, Wed =  1.85, Mon = 1.61, Fri = 1.85</h>\n",
    "\n",
    "<h>Insight: Saturdays and Tuesdays had more vehicles per fog accident than Mondays.</h>"
   ]
  },
  {
   "cell_type": "markdown",
   "id": "5013e11b-3071-44b3-9618-f3f830e337d6",
   "metadata": {},
   "source": [
    "<h4>15. Do rural areas in summer months have higher casualties per accident compared to urban areas?</h4>"
   ]
  },
  {
   "cell_type": "code",
   "execution_count": 65,
   "id": "623b78e0-f393-483e-a1df-0731809b08df",
   "metadata": {},
   "outputs": [
    {
     "data": {
      "text/plain": [
       "Urban_or_Rural_Area\n",
       "Rural          1.499383\n",
       "Unallocated    1.000000\n",
       "Urban          1.294619\n",
       "Name: Number_of_Casualties, dtype: float64"
      ]
     },
     "execution_count": 65,
     "metadata": {},
     "output_type": "execute_result"
    }
   ],
   "source": [
    "df[df['Month'].isin([6,7,8])].groupby('Urban_or_Rural_Area')['Number_of_Casualties'].mean()"
   ]
  },
  {
   "cell_type": "markdown",
   "id": "692ca049-1bda-49b8-a9f4-99b1ad525a8d",
   "metadata": {},
   "source": [
    "<h>Insight: Summer rural accidents are deadlier per crash than city accidents.</h>"
   ]
  },
  {
   "cell_type": "markdown",
   "id": "ee800b21-6345-4108-b37f-18d5ae6a9bc1",
   "metadata": {},
   "source": [
    "<h4> 16. For weekends (Sat/Sun), which month + road condition had the most accidents?</h4>"
   ]
  },
  {
   "cell_type": "code",
   "execution_count": 91,
   "id": "5c899fcb-58c6-4210-853b-891b5298de86",
   "metadata": {},
   "outputs": [
    {
     "name": "stdout",
     "output_type": "stream",
     "text": [
      "Accident counts by month and road condition (weekends) - totals per month:\n",
      " Month\n",
      "10    18380\n",
      "11    18001\n",
      "5     17838\n",
      "7     16934\n",
      "6     16621\n",
      "8     16580\n",
      "9     16262\n",
      "3     16257\n",
      "1     15507\n",
      "2     14900\n",
      "4     14579\n",
      "12    14404\n",
      "dtype: int64\n"
     ]
    },
    {
     "data": {
      "image/png": "[encoded data removed]",
      "text/plain": [
       "<Figure size 640x480 with 1 Axes>"
      ]
     },
     "metadata": {},
     "output_type": "display_data"
    }
   ],
   "source": [
    "accident = df[df['DayOfWeek'].isin(['Saturday','Sunday'])].groupby(['Month','Road_Surface_Conditions']).size().unstack(fill_value=0)\n",
    "# Show top month+condition pairs\n",
    "accident_sum = q2.sum(axis=1).sort_values(ascending=False)\n",
    "print(\"Accident counts by month and road condition (weekends) - totals per month:\\n\", q2_sum)\n",
    "# Plot the top 6 months total weekend accidents\n",
    "top_months = q2_sum.head(6).index\n",
    "accident.loc[top_months].sum(axis=1).plot(kind='bar')\n",
    "plt.title(\"Weekend Accidents — Top Months (total across road conditions)\")\n",
    "plt.xlabel(\"Month\")\n",
    "plt.ylabel(\"Number of Accidents\")\n",
    "plt.show()\n"
   ]
  },
  {
   "cell_type": "markdown",
   "id": "606380f8-903b-459f-aa6a-7395a227d154",
   "metadata": {},
   "source": [
    "<h> Insight 16: 1October had the most weekend accidents (18,380), followed closely by November and May. This shows that late autumn and spring months are more risky for weekend driving, possibly because of more travel activities during these times.</h>"
   ]
  },
  {
   "cell_type": "markdown",
   "id": "0180cae5-64e1-494a-ba77-d9a2c20505c9",
   "metadata": {},
   "source": [
    "<h4>17. Which year and month had the most accidents involving more than 4 casualties </h4>"
   ]
  },
  {
   "cell_type": "code",
   "execution_count": 74,
   "id": "8be86237-96c2-41dd-8d24-20f934343d80",
   "metadata": {},
   "outputs": [
    {
     "name": "stdout",
     "output_type": "stream",
     "text": [
      "Year  Month\n",
      "2019  8        207\n",
      "      7        198\n",
      "      5        187\n",
      "      6        186\n",
      "2021  8        183\n",
      "dtype: int64\n"
     ]
    }
   ],
   "source": [
    "accident = df[df['Number_of_Casualties']>4].groupby(['Year','Month']).size().nlargest(5)\n",
    "print(q1)"
   ]
  },
  {
   "cell_type": "markdown",
   "id": "a4364334-8500-4878-995f-531ce29c0477",
   "metadata": {},
   "source": [
    "<h> Insight 17: The highest number of serious accidents (4+ casualties) happened in August 2019 (207 cases).</h>"
   ]
  },
  {
   "cell_type": "markdown",
   "id": "7c91d7a1-d4ee-49df-a3e7-929c53caf542",
   "metadata": {},
   "source": [
    "<h4> 18. Do weekends (Saturday–Sunday) have more accidents than weekdays?</h4>"
   ]
  },
  {
   "cell_type": "code",
   "execution_count": 78,
   "id": "4d5eb200-15d5-4e7f-bd99-0b356df838ba",
   "metadata": {},
   "outputs": [
    {
     "name": "stdout",
     "output_type": "stream",
     "text": [
      "Weekend Accidents: 196480\n",
      "Weekday Accidents: 464199\n"
     ]
    }
   ],
   "source": [
    "weekend = df[df['DayOfWeek'].isin(['Saturday','Sunday'])].shape[0]\n",
    "weekday = df[~df['DayOfWeek'].isin(['Saturday','Sunday'])].shape[0]\n",
    "print(\"Weekend Accidents:\", weekend)\n",
    "print(\"Weekday Accidents:\", weekday)\n"
   ]
  },
  {
   "cell_type": "markdown",
   "id": "a31b3768-60f0-4d94-99c6-4de59346011c",
   "metadata": {},
   "source": [
    "<h> Insight 18: Weekend accidents, daily commuting and rush hours are the bigger risks. </H>"
   ]
  },
  {
   "cell_type": "markdown",
   "id": "640a0b86-af27-4bec-a370-5119b2767ccd",
   "metadata": {},
   "source": [
    "<h4>19. On Mondays, are more accidents recorded in daylight or darkness? </h4>"
   ]
  },
  {
   "cell_type": "code",
   "execution_count": 84,
   "id": "68278602-7786-4331-aa94-29cbd8f7d8c2",
   "metadata": {},
   "outputs": [
    {
     "data": {
      "image/png": "[encoded data removed]",
      "text/plain": [
       "<Figure size 640x480 with 1 Axes>"
      ]
     },
     "metadata": {},
     "output_type": "display_data"
    }
   ],
   "source": [
    "accident = df[df['DayOfWeek']=='Monday']\n",
    "q9.groupby('Light_Conditions').size().plot(kind='pie', autopct='%1.1f%%')\n",
    "plt.title(\"Accidents on Mondays: Daylight vs Darkness\")\n",
    "plt.ylabel(\"\")\n",
    "plt.show()"
   ]
  },
  {
   "cell_type": "markdown",
   "id": "08737569-d8db-4093-b991-bc04fe6ed8f6",
   "metadata": {},
   "source": [
    "<h> Insight 19: If the daylight slice is bigger, accidents mostly happen during rush hours (morning/evening).</h>"
   ]
  },
  {
   "cell_type": "markdown",
   "id": "8acecd62-5b9b-47ee-ae50-5be94f9cf743",
   "metadata": {},
   "source": [
    "<h4> 20. Which district area reports the most accidents in December? </h4>"
   ]
  },
  {
   "cell_type": "code",
   "execution_count": 90,
   "id": "d2f4cf06-be31-4e68-92a5-98eeb55fe58e",
   "metadata": {},
   "outputs": [
    {
     "data": {
      "image/png": "[encoded data removed]",
      "text/plain": [
       "<Figure size 640x480 with 1 Axes>"
      ]
     },
     "metadata": {},
     "output_type": "display_data"
    }
   ],
   "source": [
    "accident = df[df['Month']==12].groupby('District Area').size().nlargest(10)\n",
    "q5.plot(kind='bar', color='green')\n",
    "plt.title(\"Top Districts with Accidents in December\")\n",
    "plt.xlabel(\"District Area\")\n",
    "plt.ylabel(\"Number of Accidents\")\n",
    "plt.show()\n"
   ]
  },
  {
   "cell_type": "markdown",
   "id": "8d2397d7-1192-4084-9070-4e44ce616234",
   "metadata": {},
   "source": [
    "<h> Insight 20: Districts with the highest bars are the ones most affected in December is Birmingham. This could be due to holiday travel, crowded markets, and higher vehicle movement at year-end. </h>"
   ]
  },
  {
   "cell_type": "markdown",
   "id": "3587ad09-8bd4-450a-b373-d87da1736110",
   "metadata": {},
   "source": [
    "<h4> 21. Which months show the highest average casualties per accident involving buses in rural areas?</h4>"
   ]
  },
  {
   "cell_type": "code",
   "execution_count": 117,
   "id": "295c63a7-22a4-48eb-860e-a393650f547d",
   "metadata": {},
   "outputs": [
    {
     "name": "stdout",
     "output_type": "stream",
     "text": [
      "       Number_of_Casualties\n",
      "Month                      \n",
      "Jan                1.446756\n",
      "Feb                1.385694\n",
      "Mar                1.463694\n",
      "Apr                1.476923\n",
      "May                1.455180\n",
      "Jun                1.529621\n",
      "Jul                1.502756\n",
      "Aug                1.567251\n",
      "Sep                1.465668\n",
      "Oct                1.452830\n",
      "Nov                1.452055\n",
      "Dec                1.480670\n"
     ]
    }
   ],
   "source": [
    "import calendar\n",
    "\n",
    "acci_bus = df[\n",
    "    df['Vehicle_Type'].str.contains('Bus', case=False, na=False) &\n",
    "    (df['Urban_or_Rural_Area']=='Rural')\n",
    "].groupby('Month')['Number_of_Casualties'].mean().reset_index()\n",
    "\n",
    "\n",
    "acci_bus['Month'] = acci_bus['Month'].apply(lambda x: calendar.month_abbr[int(x)])\n",
    "\n",
    "acci_bus.set_index('Month', inplace=True)\n",
    "\n",
    "print(acci_bus)\n"
   ]
  },
  {
   "cell_type": "markdown",
   "id": "de66a92c-d55f-4632-b0d4-7e09d7722c81",
   "metadata": {},
   "source": [
    "<h> Insight 21: Rural bus accidents usually have 1–1.5 casualties; April is slightly higher. </h>"
   ]
  },
  {
   "cell_type": "markdown",
   "id": "7bd23c40-4e50-4847-95b8-07307f1847e2",
   "metadata": {},
   "source": [
    "<h4> 22. Do weekdays in winter have more vehicle crashes involving cars or motorcycles?</h4>"
   ]
  },
  {
   "cell_type": "code",
   "execution_count": 120,
   "id": "5a3cfb99-5506-403d-b646-b3f2c171fbaa",
   "metadata": {},
   "outputs": [
    {
     "data": {
      "text/plain": [
       "DayOfWeek  Vehicle_Type                        \n",
       "Friday     Agricultural vehicle                       80\n",
       "           Bus or coach (17 or more pass seats)      847\n",
       "           Car                                     17132\n",
       "           Goods 7.5 tonnes mgw and over             602\n",
       "           Goods over 3.5t. and under 7.5t           217\n",
       "                                                   ...  \n",
       "Wednesday  Other vehicle                             185\n",
       "           Pedal cycle                                 4\n",
       "           Ridden horse                                1\n",
       "           Taxi/Private hire car                     495\n",
       "           Van / Goods 3.5 tonnes mgw or under      1192\n",
       "Length: 101, dtype: int64"
      ]
     },
     "execution_count": 120,
     "metadata": {},
     "output_type": "execute_result"
    }
   ],
   "source": [
    "df[df['Month'].isin([12,1,2])].groupby(['DayOfWeek','Vehicle_Type']).size()"
   ]
  },
  {
   "cell_type": "markdown",
   "id": "69c5470b-c28e-4898-9c87-06aae0c4bc7d",
   "metadata": {},
   "source": [
    "<h> Insight 22: It shows more weekday commuter accidents during winter months. <h>"
   ]
  },
  {
   "cell_type": "markdown",
   "id": "eba42e9d-7809-49cb-aa98-641b215613d2",
   "metadata": {},
   "source": [
    "<H4> 23. Do rural areas have more multi-casualty accidents (3+ casualties) compared to urban areas? </H4>"
   ]
  },
  {
   "cell_type": "code",
   "execution_count": 121,
   "id": "72ce2802-aad5-4f64-8fea-b8b75d853314",
   "metadata": {},
   "outputs": [
    {
     "name": "stdout",
     "output_type": "stream",
     "text": [
      "Urban_or_Rural_Area\n",
      "Rural          24680\n",
      "Unallocated        1\n",
      "Urban          23986\n",
      "dtype: int64\n"
     ]
    }
   ],
   "source": [
    "accident = df[df['Number_of_Casualties']>=3].groupby('Urban_or_Rural_Area').size() \n",
    "print(accident)"
   ]
  },
  {
   "cell_type": "markdown",
   "id": "9fc4d022-09bb-4001-b026-11d2b033ddbc",
   "metadata": {},
   "source": [
    "<h> Insight 23: Crashes in rural areas often involve higher casualties, likely because of higher speeds and fewer nearby hospitals."
   ]
  },
  {
   "cell_type": "markdown",
   "id": "eabf76fb-d00a-4d90-b8ee-b8d84c25b515",
   "metadata": {},
   "source": [
    "<h4> 24. Do wet/damp roads in rural areas produce more casualties in winter months (Dec/Jan/Feb) vs other months? </h4>"
   ]
  },
  {
   "cell_type": "code",
   "execution_count": null,
   "id": "2e338a10-10d9-4433-aa6a-471c47a34e55",
   "metadata": {},
   "outputs": [],
   "source": [
    "import matplotlib.pyplot as plt\n",
    "\n",
    "acci_winter_months = ['Dec', 'Jan', 'Feb']\n",
    "\n",
    "# Create a color list: red for winter, blue for other months\n",
    "colors = ['purple' if month in winter_months else 'pink' for month in acci_result['Month']]\n",
    "\n",
    "acci_result.set_index('Month')['Number_of_Casualties'].plot(\n",
    "    kind='bar', color=colors\n",
    ")\n",
    "plt.title(\"Avg casualties per wet accident in rural areas (by month)\")\n",
    "plt.xlabel(\"Month\")\n",
    "plt.ylabel(\"Avg casualties\")\n",
    "\n",
    "import matplotlib.patches as mpatches\n",
    "red_patch = mpatches.Patch(color='red', label='Winter months')\n",
    "blue_patch = mpatches.Patch(color='blue', label='Other months')\n",
    "plt.legend(handles=[red_patch, blue_patch])\n",
    "plt.show()"
   ]
  },
  {
   "cell_type": "markdown",
   "id": "a874067f-ab66-4bc4-9fb9-e1dc51c19268",
   "metadata": {},
   "source": [
    "<h> Insight 24: Winter months (Dec, Jan, Feb) on wet/damp rural roads show slightly higher average casualties than other months. This indicates that accidents in winter are generally more severe, likely due to slippery conditions and poorer visibility. </h>"
   ]
  },
  {
   "cell_type": "markdown",
   "id": "a6a8b7c2-90fc-40d2-94b0-3783481a6134",
   "metadata": {},
   "source": [
    "<h4>25. Do rural areas in summer months have higher casualties per accident compared to urban areas? </h4>"
   ]
  },
  {
   "cell_type": "code",
   "execution_count": 136,
   "id": "09f78dd7-e8dc-4970-b48c-55a72bfb31ed",
   "metadata": {},
   "outputs": [
    {
     "data": {
      "text/plain": [
       "Urban_or_Rural_Area\n",
       "Rural          1.499383\n",
       "Unallocated    1.000000\n",
       "Urban          1.294619\n",
       "Name: Number_of_Casualties, dtype: float64"
      ]
     },
     "execution_count": 136,
     "metadata": {},
     "output_type": "execute_result"
    }
   ],
   "source": [
    "df[df['Month'].isin([6,7,8])].groupby('Urban_or_Rural_Area')['Number_of_Casualties'].mean()"
   ]
  },
  {
   "cell_type": "markdown",
   "id": "6da2c093-c39d-49ff-9fa9-84b651528d12",
   "metadata": {},
   "source": [
    "<h> Insight 25: Summer rural accidents are deadlier per crash than city accidents.</h>"
   ]
  },
  {
   "cell_type": "code",
   "execution_count": null,
   "id": "aa8003ff-10e1-4252-a655-7e881845f854",
   "metadata": {},
   "outputs": [],
   "source": []
  }
 ],
 "metadata": {
  "kernelspec": {
   "display_name": "Python 3 (ipykernel)",
   "language": "python",
   "name": "python3"
  },
  "language_info": {
   "codemirror_mode": {
    "name": "ipython",
    "version": 3
   },
   "file_extension": ".py",
   "mimetype": "text/x-python",
   "name": "python",
   "nbconvert_exporter": "python",
   "pygments_lexer": "ipython3",
   "version": "3.12.3"
  }
 },
 "nbformat": 4,
 "nbformat_minor": 5
}
